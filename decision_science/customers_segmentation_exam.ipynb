{
 "cells": [
  {
   "cell_type": "markdown",
   "metadata": {},
   "source": [
    "# Customers segmentation"
   ]
  },
  {
   "cell_type": "markdown",
   "metadata": {},
   "source": [
    "**Las Wagones** is a company selling IT equipment , from small consumable items to large printers. Las Wagones has identified 4 customers segments noted _A, B, C and D_. These segments have been identified by the Sales department based on a study of the historical buying behavior of the customers. The Marketing department is very interested in understanding who are the customers inside these segments at an early stage. They ordered you for a study. This study aims at understanding what are these 4 segments."
   ]
  },
  {
   "cell_type": "code",
   "execution_count": 1,
   "metadata": {},
   "outputs": [],
   "source": [
    "# Load the nbresult package to be able to save your results \n",
    "from nbresult import ChallengeResult"
   ]
  },
  {
   "cell_type": "code",
   "execution_count": 2,
   "metadata": {},
   "outputs": [],
   "source": [
    "# Additional imports\n",
    "import numpy as np\n",
    "import pandas as pd\n",
    "\n",
    "import matplotlib.pyplot as plt\n",
    "import matplotlib.ticker as mtick\n",
    "import seaborn as sns\n",
    "\n",
    "import sqlite3\n",
    "\n",
    "from sklearn.preprocessing import OneHotEncoder, StandardScaler\n",
    "from sklearn.cluster import KMeans\n",
    "\n",
    "import statsmodels.formula.api as smf"
   ]
  },
  {
   "cell_type": "markdown",
   "metadata": {},
   "source": [
    "## Data collection (9.5%)"
   ]
  },
  {
   "cell_type": "markdown",
   "metadata": {},
   "source": [
    "### Loading data from the database"
   ]
  },
  {
   "cell_type": "markdown",
   "metadata": {},
   "source": [
    "Download the `customers.sqlite` database from this [URL](https://wagon-public-datasets.s3.amazonaws.com/certification_paris_2021Q1/customers.sqlite) and store it inside the `db` folder:"
   ]
  },
  {
   "cell_type": "code",
   "execution_count": 3,
   "metadata": {},
   "outputs": [
    {
     "name": "stdout",
     "output_type": "stream",
     "text": [
      "  % Total    % Received % Xferd  Average Speed   Time    Time     Time  Current\n",
      "                                 Dload  Upload   Total   Spent    Left  Speed\n",
      "100  608k  100  608k    0     0  1591k      0 --:--:-- --:--:-- --:--:-- 1591k\n"
     ]
    }
   ],
   "source": [
    "!curl https://wagon-public-datasets.s3.amazonaws.com/certification_paris_2021Q1/customers.sqlite >> db/customers.sqlite"
   ]
  },
  {
   "cell_type": "markdown",
   "metadata": {},
   "source": [
    "#### Database schema"
   ]
  },
  {
   "cell_type": "markdown",
   "metadata": {},
   "source": [
    "**📝 Open the `db/customers.sqlite` from your favorite SQL client and draw the database schema on the [schema editor](https://kitt.lewagon.com/db) on Kitt. Save the schema as `customers.xml` in the `db` folder.**"
   ]
  },
  {
   "cell_type": "markdown",
   "metadata": {},
   "source": [
    "#### Querying the data"
   ]
  },
  {
   "cell_type": "markdown",
   "metadata": {},
   "source": [
    "We want to get the following information about **all** the 8068 customers from the database:\n",
    "- `id`: the unique identifier of the customer\n",
    "- `gender`: customer's gender\n",
    "- `married`: whether or not the customer has ever been married\n",
    "- `age`: customer's age\n",
    "- `graduated`: whether or not the customer has a degree\n",
    "- `score`: customer's spending score (first order)\n",
    "- `family_size`: the number of members of the customer's family, including the customer\n",
    "- `profession`: customer's profession\n",
    "- `work_experience`: customer's work experience in years\n",
    "- `segment`: the segment the customer belongs to"
   ]
  },
  {
   "cell_type": "markdown",
   "metadata": {},
   "source": [
    "**📝 Write the SQL query you need to fetch the data. Save it as a `str` in the `query` variable.**"
   ]
  },
  {
   "cell_type": "code",
   "execution_count": 4,
   "metadata": {},
   "outputs": [],
   "source": [
    "query = '''\n",
    "    SELECT \n",
    "        c.*, \n",
    "        COUNT(r.category) + 1 AS family_size, \n",
    "        p.category AS profession, \n",
    "        SUM(e.duration) AS work_experience\n",
    "    FROM customers AS c\n",
    "    LEFT JOIN relatives AS r ON c.id = r.customer_id\n",
    "    LEFT JOIN experiences AS e ON c.id = e.customer_id\n",
    "    LEFT JOIN professions AS p ON e.profession_id = p.id\n",
    "    GROUP BY c.id\n",
    "'''"
   ]
  },
  {
   "cell_type": "markdown",
   "metadata": {},
   "source": [
    "**📝 Connect to the database, execute the query and store the results into a `DataFrame` named `data`. Display the 10 first rows and the shape of the dataset.**"
   ]
  },
  {
   "cell_type": "code",
   "execution_count": 5,
   "metadata": {},
   "outputs": [
    {
     "name": "stdout",
     "output_type": "stream",
     "text": [
      "Shape of the DataFrame: (8068, 9)\n"
     ]
    },
    {
     "data": {
      "text/html": [
       "<div>\n",
       "<style scoped>\n",
       "    .dataframe tbody tr th:only-of-type {\n",
       "        vertical-align: middle;\n",
       "    }\n",
       "\n",
       "    .dataframe tbody tr th {\n",
       "        vertical-align: top;\n",
       "    }\n",
       "\n",
       "    .dataframe thead th {\n",
       "        text-align: right;\n",
       "    }\n",
       "</style>\n",
       "<table border=\"1\" class=\"dataframe\">\n",
       "  <thead>\n",
       "    <tr style=\"text-align: right;\">\n",
       "      <th></th>\n",
       "      <th>gender</th>\n",
       "      <th>married</th>\n",
       "      <th>graduated</th>\n",
       "      <th>age</th>\n",
       "      <th>score</th>\n",
       "      <th>segment</th>\n",
       "      <th>family_size</th>\n",
       "      <th>profession</th>\n",
       "      <th>work_experience</th>\n",
       "    </tr>\n",
       "    <tr>\n",
       "      <th>id</th>\n",
       "      <th></th>\n",
       "      <th></th>\n",
       "      <th></th>\n",
       "      <th></th>\n",
       "      <th></th>\n",
       "      <th></th>\n",
       "      <th></th>\n",
       "      <th></th>\n",
       "      <th></th>\n",
       "    </tr>\n",
       "  </thead>\n",
       "  <tbody>\n",
       "    <tr>\n",
       "      <th>1</th>\n",
       "      <td>Male</td>\n",
       "      <td>No</td>\n",
       "      <td>No</td>\n",
       "      <td>22</td>\n",
       "      <td>Low</td>\n",
       "      <td>D</td>\n",
       "      <td>4</td>\n",
       "      <td>Healthcare</td>\n",
       "      <td>3.0</td>\n",
       "    </tr>\n",
       "    <tr>\n",
       "      <th>2</th>\n",
       "      <td>Female</td>\n",
       "      <td>Yes</td>\n",
       "      <td>Yes</td>\n",
       "      <td>38</td>\n",
       "      <td>Average</td>\n",
       "      <td>A</td>\n",
       "      <td>3</td>\n",
       "      <td>Engineer</td>\n",
       "      <td>NaN</td>\n",
       "    </tr>\n",
       "    <tr>\n",
       "      <th>3</th>\n",
       "      <td>Female</td>\n",
       "      <td>Yes</td>\n",
       "      <td>Yes</td>\n",
       "      <td>67</td>\n",
       "      <td>Low</td>\n",
       "      <td>B</td>\n",
       "      <td>1</td>\n",
       "      <td>Engineer</td>\n",
       "      <td>1.0</td>\n",
       "    </tr>\n",
       "    <tr>\n",
       "      <th>4</th>\n",
       "      <td>Male</td>\n",
       "      <td>Yes</td>\n",
       "      <td>Yes</td>\n",
       "      <td>67</td>\n",
       "      <td>High</td>\n",
       "      <td>B</td>\n",
       "      <td>2</td>\n",
       "      <td>Lawyer</td>\n",
       "      <td>0.0</td>\n",
       "    </tr>\n",
       "    <tr>\n",
       "      <th>5</th>\n",
       "      <td>Female</td>\n",
       "      <td>Yes</td>\n",
       "      <td>Yes</td>\n",
       "      <td>40</td>\n",
       "      <td>High</td>\n",
       "      <td>A</td>\n",
       "      <td>6</td>\n",
       "      <td>Entertainment</td>\n",
       "      <td>NaN</td>\n",
       "    </tr>\n",
       "    <tr>\n",
       "      <th>6</th>\n",
       "      <td>Male</td>\n",
       "      <td>Yes</td>\n",
       "      <td>No</td>\n",
       "      <td>56</td>\n",
       "      <td>Average</td>\n",
       "      <td>C</td>\n",
       "      <td>2</td>\n",
       "      <td>Artist</td>\n",
       "      <td>0.0</td>\n",
       "    </tr>\n",
       "    <tr>\n",
       "      <th>7</th>\n",
       "      <td>Male</td>\n",
       "      <td>No</td>\n",
       "      <td>Yes</td>\n",
       "      <td>32</td>\n",
       "      <td>Low</td>\n",
       "      <td>C</td>\n",
       "      <td>3</td>\n",
       "      <td>Healthcare</td>\n",
       "      <td>2.0</td>\n",
       "    </tr>\n",
       "    <tr>\n",
       "      <th>8</th>\n",
       "      <td>Female</td>\n",
       "      <td>No</td>\n",
       "      <td>Yes</td>\n",
       "      <td>33</td>\n",
       "      <td>Low</td>\n",
       "      <td>D</td>\n",
       "      <td>3</td>\n",
       "      <td>Healthcare</td>\n",
       "      <td>2.0</td>\n",
       "    </tr>\n",
       "    <tr>\n",
       "      <th>9</th>\n",
       "      <td>Female</td>\n",
       "      <td>Yes</td>\n",
       "      <td>Yes</td>\n",
       "      <td>61</td>\n",
       "      <td>Low</td>\n",
       "      <td>D</td>\n",
       "      <td>3</td>\n",
       "      <td>Engineer</td>\n",
       "      <td>0.0</td>\n",
       "    </tr>\n",
       "    <tr>\n",
       "      <th>10</th>\n",
       "      <td>Female</td>\n",
       "      <td>Yes</td>\n",
       "      <td>Yes</td>\n",
       "      <td>55</td>\n",
       "      <td>Average</td>\n",
       "      <td>C</td>\n",
       "      <td>4</td>\n",
       "      <td>Artist</td>\n",
       "      <td>3.0</td>\n",
       "    </tr>\n",
       "  </tbody>\n",
       "</table>\n",
       "</div>"
      ],
      "text/plain": [
       "    gender married graduated age    score segment  family_size     profession  \\\n",
       "id                                                                              \n",
       "1     Male      No        No  22      Low       D            4     Healthcare   \n",
       "2   Female     Yes       Yes  38  Average       A            3       Engineer   \n",
       "3   Female     Yes       Yes  67      Low       B            1       Engineer   \n",
       "4     Male     Yes       Yes  67     High       B            2         Lawyer   \n",
       "5   Female     Yes       Yes  40     High       A            6  Entertainment   \n",
       "6     Male     Yes        No  56  Average       C            2         Artist   \n",
       "7     Male      No       Yes  32      Low       C            3     Healthcare   \n",
       "8   Female      No       Yes  33      Low       D            3     Healthcare   \n",
       "9   Female     Yes       Yes  61      Low       D            3       Engineer   \n",
       "10  Female     Yes       Yes  55  Average       C            4         Artist   \n",
       "\n",
       "    work_experience  \n",
       "id                   \n",
       "1               3.0  \n",
       "2               NaN  \n",
       "3               1.0  \n",
       "4               0.0  \n",
       "5               NaN  \n",
       "6               0.0  \n",
       "7               2.0  \n",
       "8               2.0  \n",
       "9               0.0  \n",
       "10              3.0  "
      ]
     },
     "execution_count": 5,
     "metadata": {},
     "output_type": "execute_result"
    }
   ],
   "source": [
    "connector = sqlite3.connect('db/customers.sqlite')\n",
    "\n",
    "data = pd.read_sql_query(query, connector).set_index('id')\n",
    "\n",
    "print(\"Shape of the DataFrame:\", data.shape)\n",
    "\n",
    "data.head(10)"
   ]
  },
  {
   "cell_type": "markdown",
   "metadata": {},
   "source": [
    "#### 💾 Save your results\n",
    "\n",
    "Run the following cell to save your results."
   ]
  },
  {
   "cell_type": "code",
   "execution_count": 6,
   "metadata": {
    "scrolled": true
   },
   "outputs": [],
   "source": [
    "ChallengeResult('sql', query=query).write()"
   ]
  },
  {
   "cell_type": "markdown",
   "metadata": {},
   "source": [
    "### Loading data from a CSV file"
   ]
  },
  {
   "cell_type": "markdown",
   "metadata": {},
   "source": [
    "**📝 Load the data from this [URL](https://wagon-public-datasets.s3.amazonaws.com/certification_paris_2021Q1/customers.csv) inside a `DataFrame` named `customers`.** \n",
    "\n",
    "Also, you can download the dataset into the `data` directory."
   ]
  },
  {
   "cell_type": "code",
   "execution_count": 7,
   "metadata": {},
   "outputs": [
    {
     "name": "stdout",
     "output_type": "stream",
     "text": [
      "Shape of the DataFrame: (8068, 10)\n"
     ]
    },
    {
     "data": {
      "text/html": [
       "<div>\n",
       "<style scoped>\n",
       "    .dataframe tbody tr th:only-of-type {\n",
       "        vertical-align: middle;\n",
       "    }\n",
       "\n",
       "    .dataframe tbody tr th {\n",
       "        vertical-align: top;\n",
       "    }\n",
       "\n",
       "    .dataframe thead th {\n",
       "        text-align: right;\n",
       "    }\n",
       "</style>\n",
       "<table border=\"1\" class=\"dataframe\">\n",
       "  <thead>\n",
       "    <tr style=\"text-align: right;\">\n",
       "      <th></th>\n",
       "      <th>ID</th>\n",
       "      <th>Gender</th>\n",
       "      <th>Ever_Married</th>\n",
       "      <th>Age</th>\n",
       "      <th>Graduated</th>\n",
       "      <th>Profession</th>\n",
       "      <th>Work_Experience</th>\n",
       "      <th>Spending_Score</th>\n",
       "      <th>Family_Size</th>\n",
       "      <th>Segmentation</th>\n",
       "    </tr>\n",
       "  </thead>\n",
       "  <tbody>\n",
       "    <tr>\n",
       "      <th>0</th>\n",
       "      <td>462809</td>\n",
       "      <td>Male</td>\n",
       "      <td>No</td>\n",
       "      <td>22</td>\n",
       "      <td>No</td>\n",
       "      <td>Healthcare</td>\n",
       "      <td>1.0</td>\n",
       "      <td>Low</td>\n",
       "      <td>4.0</td>\n",
       "      <td>D</td>\n",
       "    </tr>\n",
       "    <tr>\n",
       "      <th>1</th>\n",
       "      <td>462643</td>\n",
       "      <td>Female</td>\n",
       "      <td>Yes</td>\n",
       "      <td>38</td>\n",
       "      <td>Yes</td>\n",
       "      <td>Engineer</td>\n",
       "      <td>NaN</td>\n",
       "      <td>Average</td>\n",
       "      <td>3.0</td>\n",
       "      <td>A</td>\n",
       "    </tr>\n",
       "    <tr>\n",
       "      <th>2</th>\n",
       "      <td>466315</td>\n",
       "      <td>Female</td>\n",
       "      <td>Yes</td>\n",
       "      <td>67</td>\n",
       "      <td>Yes</td>\n",
       "      <td>Engineer</td>\n",
       "      <td>1.0</td>\n",
       "      <td>Low</td>\n",
       "      <td>1.0</td>\n",
       "      <td>B</td>\n",
       "    </tr>\n",
       "    <tr>\n",
       "      <th>3</th>\n",
       "      <td>461735</td>\n",
       "      <td>Male</td>\n",
       "      <td>Yes</td>\n",
       "      <td>67</td>\n",
       "      <td>Yes</td>\n",
       "      <td>Lawyer</td>\n",
       "      <td>0.0</td>\n",
       "      <td>High</td>\n",
       "      <td>2.0</td>\n",
       "      <td>B</td>\n",
       "    </tr>\n",
       "    <tr>\n",
       "      <th>4</th>\n",
       "      <td>462669</td>\n",
       "      <td>Female</td>\n",
       "      <td>Yes</td>\n",
       "      <td>40</td>\n",
       "      <td>Yes</td>\n",
       "      <td>Entertainment</td>\n",
       "      <td>NaN</td>\n",
       "      <td>High</td>\n",
       "      <td>6.0</td>\n",
       "      <td>A</td>\n",
       "    </tr>\n",
       "    <tr>\n",
       "      <th>5</th>\n",
       "      <td>461319</td>\n",
       "      <td>Male</td>\n",
       "      <td>Yes</td>\n",
       "      <td>56</td>\n",
       "      <td>No</td>\n",
       "      <td>Artist</td>\n",
       "      <td>0.0</td>\n",
       "      <td>Average</td>\n",
       "      <td>2.0</td>\n",
       "      <td>C</td>\n",
       "    </tr>\n",
       "    <tr>\n",
       "      <th>6</th>\n",
       "      <td>460156</td>\n",
       "      <td>Male</td>\n",
       "      <td>No</td>\n",
       "      <td>32</td>\n",
       "      <td>Yes</td>\n",
       "      <td>Healthcare</td>\n",
       "      <td>1.0</td>\n",
       "      <td>Low</td>\n",
       "      <td>3.0</td>\n",
       "      <td>C</td>\n",
       "    </tr>\n",
       "    <tr>\n",
       "      <th>7</th>\n",
       "      <td>464347</td>\n",
       "      <td>Female</td>\n",
       "      <td>No</td>\n",
       "      <td>33</td>\n",
       "      <td>Yes</td>\n",
       "      <td>Healthcare</td>\n",
       "      <td>1.0</td>\n",
       "      <td>Low</td>\n",
       "      <td>3.0</td>\n",
       "      <td>D</td>\n",
       "    </tr>\n",
       "    <tr>\n",
       "      <th>8</th>\n",
       "      <td>465015</td>\n",
       "      <td>Female</td>\n",
       "      <td>Yes</td>\n",
       "      <td>61</td>\n",
       "      <td>Yes</td>\n",
       "      <td>Engineer</td>\n",
       "      <td>0.0</td>\n",
       "      <td>Low</td>\n",
       "      <td>3.0</td>\n",
       "      <td>D</td>\n",
       "    </tr>\n",
       "    <tr>\n",
       "      <th>9</th>\n",
       "      <td>465176</td>\n",
       "      <td>Female</td>\n",
       "      <td>Yes</td>\n",
       "      <td>55</td>\n",
       "      <td>Yes</td>\n",
       "      <td>Artist</td>\n",
       "      <td>1.0</td>\n",
       "      <td>Average</td>\n",
       "      <td>4.0</td>\n",
       "      <td>C</td>\n",
       "    </tr>\n",
       "  </tbody>\n",
       "</table>\n",
       "</div>"
      ],
      "text/plain": [
       "       ID  Gender Ever_Married  Age Graduated     Profession  Work_Experience  \\\n",
       "0  462809    Male           No   22        No     Healthcare              1.0   \n",
       "1  462643  Female          Yes   38       Yes       Engineer              NaN   \n",
       "2  466315  Female          Yes   67       Yes       Engineer              1.0   \n",
       "3  461735    Male          Yes   67       Yes         Lawyer              0.0   \n",
       "4  462669  Female          Yes   40       Yes  Entertainment              NaN   \n",
       "5  461319    Male          Yes   56        No         Artist              0.0   \n",
       "6  460156    Male           No   32       Yes     Healthcare              1.0   \n",
       "7  464347  Female           No   33       Yes     Healthcare              1.0   \n",
       "8  465015  Female          Yes   61       Yes       Engineer              0.0   \n",
       "9  465176  Female          Yes   55       Yes         Artist              1.0   \n",
       "\n",
       "  Spending_Score  Family_Size Segmentation  \n",
       "0            Low          4.0            D  \n",
       "1        Average          3.0            A  \n",
       "2            Low          1.0            B  \n",
       "3           High          2.0            B  \n",
       "4           High          6.0            A  \n",
       "5        Average          2.0            C  \n",
       "6            Low          3.0            C  \n",
       "7            Low          3.0            D  \n",
       "8            Low          3.0            D  \n",
       "9        Average          4.0            C  "
      ]
     },
     "execution_count": 7,
     "metadata": {},
     "output_type": "execute_result"
    }
   ],
   "source": [
    "# Loading the data and printing a sample similar to the one above\n",
    "url = 'https://wagon-public-datasets.s3.amazonaws.com/certification_paris_2021Q1/customers.csv'\n",
    "\n",
    "customers = pd.read_csv(url)\n",
    "\n",
    "print(\"Shape of the DataFrame:\", customers.shape)\n",
    "\n",
    "customers.head(10)"
   ]
  },
  {
   "cell_type": "code",
   "execution_count": 8,
   "metadata": {},
   "outputs": [
    {
     "name": "stdout",
     "output_type": "stream",
     "text": [
      "  % Total    % Received % Xferd  Average Speed   Time    Time     Time  Current\n",
      "                                 Dload  Upload   Total   Spent    Left  Speed\n",
      "100  368k  100  368k    0     0  1192k      0 --:--:-- --:--:-- --:--:-- 1192k\n"
     ]
    }
   ],
   "source": [
    "# Downloading the dataset into the data directory\n",
    "!curl https://wagon-public-datasets.s3.amazonaws.com/certification_paris_2021Q1/customers.csv >> data/customers.csv"
   ]
  },
  {
   "cell_type": "markdown",
   "metadata": {},
   "source": [
    "**💾 Save your results**\n",
    "\n",
    "Run the following cell to save your results."
   ]
  },
  {
   "cell_type": "code",
   "execution_count": 9,
   "metadata": {},
   "outputs": [],
   "source": [
    "ChallengeResult('csv', data=customers).write()"
   ]
  },
  {
   "cell_type": "markdown",
   "metadata": {},
   "source": [
    "## Data consulting challenge (33%)"
   ]
  },
  {
   "cell_type": "markdown",
   "metadata": {},
   "source": [
    "### Data analysis & presentation\n",
    "\n",
    "> Who are the customers composing the 4 segments? \n",
    "\n",
    "Based on the analysis of the `customers` dataset, prepare a slides deck to present your conclusions to the Marketing manager Debrah. The presentation must contain **5 slides maximum** (including the title slide). Feel free to choose the slide app of your choice.\n",
    "\n",
    "ℹ️ Debrah is in fond of illustrations and statistics!\n",
    "\n",
    "⚠️ Save your presentation in the current directory!"
   ]
  },
  {
   "cell_type": "code",
   "execution_count": 10,
   "metadata": {},
   "outputs": [],
   "source": [
    "# Start your data analysis!"
   ]
  },
  {
   "cell_type": "code",
   "execution_count": 11,
   "metadata": {},
   "outputs": [],
   "source": [
    "top_three_professions = lambda x: ' - '.join(list(x.value_counts()[:3].index))\n",
    "pct_females = lambda x: x.value_counts(normalize=True).Female\n",
    "pct_married_or_graduated = lambda x: x.value_counts(normalize=True).Yes\n",
    "spending_score = lambda x: ' - '.join(list(x.value_counts().index))\n",
    "\n",
    "aggregation_rule = {\n",
    "    'Age': 'mean', \n",
    "    'Profession': top_three_professions,\n",
    "    'Gender': pct_females,\n",
    "    'Ever_Married': pct_married_or_graduated,\n",
    "    'Graduated': pct_married_or_graduated,\n",
    "    'Work_Experience': 'mean',\n",
    "    'Family_Size': 'mean',\n",
    "    'Spending_Score': spending_score\n",
    "}\n",
    "\n",
    "pivot_table = customers.drop(columns='ID').groupby('Segmentation').agg(aggregation_rule)\n",
    "\n",
    "column_names = {\n",
    "    'Age': 'Average age',\n",
    "    'Profession': 'Top three professions',\n",
    "    'Gender': 'Percentage of females', \n",
    "    'Ever_Married': 'Percentage having been married',\n",
    "    'Graduated': 'Degree holder percentage',\n",
    "    'Work_Experience': 'Average work experience',\n",
    "    'Family_Size': 'Average family size', \n",
    "    'Spending_Score': 'Spending score frequency order'\n",
    "}\n",
    "\n",
    "pivot_table.rename(columns=column_names, inplace=True)\n",
    "\n",
    "pivot_table_quanti = pivot_table.drop(columns=['Top three professions', 'Spending score frequency order']).copy()\n",
    "pivot_table_quali = pivot_table[['Top three professions', 'Spending score frequency order']].copy()"
   ]
  },
  {
   "cell_type": "code",
   "execution_count": 12,
   "metadata": {},
   "outputs": [
    {
     "data": {
      "text/html": [
       "<div>\n",
       "<style scoped>\n",
       "    .dataframe tbody tr th:only-of-type {\n",
       "        vertical-align: middle;\n",
       "    }\n",
       "\n",
       "    .dataframe tbody tr th {\n",
       "        vertical-align: top;\n",
       "    }\n",
       "\n",
       "    .dataframe thead th {\n",
       "        text-align: right;\n",
       "    }\n",
       "</style>\n",
       "<table border=\"1\" class=\"dataframe\">\n",
       "  <thead>\n",
       "    <tr style=\"text-align: right;\">\n",
       "      <th></th>\n",
       "      <th>Average age</th>\n",
       "      <th>Percentage of females</th>\n",
       "      <th>Percentage having been married</th>\n",
       "      <th>Degree holder percentage</th>\n",
       "      <th>Average work experience</th>\n",
       "      <th>Average family size</th>\n",
       "    </tr>\n",
       "    <tr>\n",
       "      <th>Segmentation</th>\n",
       "      <th></th>\n",
       "      <th></th>\n",
       "      <th></th>\n",
       "      <th></th>\n",
       "      <th></th>\n",
       "      <th></th>\n",
       "    </tr>\n",
       "  </thead>\n",
       "  <tbody>\n",
       "    <tr>\n",
       "      <th>A</th>\n",
       "      <td>44.924949</td>\n",
       "      <td>0.460953</td>\n",
       "      <td>0.586687</td>\n",
       "      <td>0.625770</td>\n",
       "      <td>2.874578</td>\n",
       "      <td>2.439531</td>\n",
       "    </tr>\n",
       "    <tr>\n",
       "      <th>B</th>\n",
       "      <td>48.200215</td>\n",
       "      <td>0.463402</td>\n",
       "      <td>0.737822</td>\n",
       "      <td>0.723913</td>\n",
       "      <td>2.378151</td>\n",
       "      <td>2.696970</td>\n",
       "    </tr>\n",
       "    <tr>\n",
       "      <th>C</th>\n",
       "      <td>49.144162</td>\n",
       "      <td>0.468020</td>\n",
       "      <td>0.795583</td>\n",
       "      <td>0.821995</td>\n",
       "      <td>2.240771</td>\n",
       "      <td>2.974559</td>\n",
       "    </tr>\n",
       "    <tr>\n",
       "      <th>D</th>\n",
       "      <td>33.390212</td>\n",
       "      <td>0.422840</td>\n",
       "      <td>0.274819</td>\n",
       "      <td>0.360481</td>\n",
       "      <td>3.021717</td>\n",
       "      <td>3.232624</td>\n",
       "    </tr>\n",
       "  </tbody>\n",
       "</table>\n",
       "</div>"
      ],
      "text/plain": [
       "              Average age  Percentage of females  \\\n",
       "Segmentation                                       \n",
       "A               44.924949               0.460953   \n",
       "B               48.200215               0.463402   \n",
       "C               49.144162               0.468020   \n",
       "D               33.390212               0.422840   \n",
       "\n",
       "              Percentage having been married  Degree holder percentage  \\\n",
       "Segmentation                                                             \n",
       "A                                   0.586687                  0.625770   \n",
       "B                                   0.737822                  0.723913   \n",
       "C                                   0.795583                  0.821995   \n",
       "D                                   0.274819                  0.360481   \n",
       "\n",
       "              Average work experience  Average family size  \n",
       "Segmentation                                                \n",
       "A                            2.874578             2.439531  \n",
       "B                            2.378151             2.696970  \n",
       "C                            2.240771             2.974559  \n",
       "D                            3.021717             3.232624  "
      ]
     },
     "execution_count": 12,
     "metadata": {},
     "output_type": "execute_result"
    }
   ],
   "source": [
    "pivot_table_quanti.head()"
   ]
  },
  {
   "cell_type": "code",
   "execution_count": 13,
   "metadata": {},
   "outputs": [
    {
     "data": {
      "image/png": "[encoded data removed]",
      "text/plain": [
       "<Figure size 1440x864 with 6 Axes>"
      ]
     },
     "metadata": {
      "needs_background": "light"
     },
     "output_type": "display_data"
    }
   ],
   "source": [
    "fig, axes = plt.subplots(nrows=2, ncols=3, figsize=(20, 12))\n",
    "\n",
    "colors = ['darkblue'] * 4\n",
    "\n",
    "for column_name, ax in zip(pivot_table_quanti.columns, axes.flatten()):\n",
    "    ax.bar(x=pivot_table.index, height=pivot_table_quanti[column_name], color=colors)\n",
    "    if column_name in ['Percentage of females', 'Percentage having been married', 'Degree holder percentage']:\n",
    "        ax.yaxis.set_major_formatter(mtick.PercentFormatter(1.0))\n",
    "    ax.set_title(column_name);"
   ]
  },
  {
   "cell_type": "code",
   "execution_count": 14,
   "metadata": {},
   "outputs": [
    {
     "data": {
      "text/html": [
       "<div>\n",
       "<style scoped>\n",
       "    .dataframe tbody tr th:only-of-type {\n",
       "        vertical-align: middle;\n",
       "    }\n",
       "\n",
       "    .dataframe tbody tr th {\n",
       "        vertical-align: top;\n",
       "    }\n",
       "\n",
       "    .dataframe thead th {\n",
       "        text-align: right;\n",
       "    }\n",
       "</style>\n",
       "<table border=\"1\" class=\"dataframe\">\n",
       "  <thead>\n",
       "    <tr style=\"text-align: right;\">\n",
       "      <th></th>\n",
       "      <th>Top three professions</th>\n",
       "      <th>Spending score frequency order</th>\n",
       "    </tr>\n",
       "    <tr>\n",
       "      <th>Segmentation</th>\n",
       "      <th></th>\n",
       "      <th></th>\n",
       "    </tr>\n",
       "  </thead>\n",
       "  <tbody>\n",
       "    <tr>\n",
       "      <th>A</th>\n",
       "      <td>Artist - Entertainment - Engineer</td>\n",
       "      <td>Low - Average - High</td>\n",
       "    </tr>\n",
       "    <tr>\n",
       "      <th>B</th>\n",
       "      <td>Artist - Entertainment - Engineer</td>\n",
       "      <td>Low - Average - High</td>\n",
       "    </tr>\n",
       "    <tr>\n",
       "      <th>C</th>\n",
       "      <td>Artist - Executive - Entertainment</td>\n",
       "      <td>Average - Low - High</td>\n",
       "    </tr>\n",
       "    <tr>\n",
       "      <th>D</th>\n",
       "      <td>Healthcare - Entertainment - Doctor</td>\n",
       "      <td>Low - High - Average</td>\n",
       "    </tr>\n",
       "  </tbody>\n",
       "</table>\n",
       "</div>"
      ],
      "text/plain": [
       "                            Top three professions  \\\n",
       "Segmentation                                        \n",
       "A               Artist - Entertainment - Engineer   \n",
       "B               Artist - Entertainment - Engineer   \n",
       "C              Artist - Executive - Entertainment   \n",
       "D             Healthcare - Entertainment - Doctor   \n",
       "\n",
       "             Spending score frequency order  \n",
       "Segmentation                                 \n",
       "A                      Low - Average - High  \n",
       "B                      Low - Average - High  \n",
       "C                      Average - Low - High  \n",
       "D                      Low - High - Average  "
      ]
     },
     "execution_count": 14,
     "metadata": {},
     "output_type": "execute_result"
    }
   ],
   "source": [
    "pivot_table_quali"
   ]
  },
  {
   "cell_type": "code",
   "execution_count": 15,
   "metadata": {},
   "outputs": [
    {
     "data": {
      "text/plain": [
       "Artist           41.176471\n",
       "Entertainment    12.037037\n",
       "Engineer         10.294118\n",
       "Executive         9.967320\n",
       "Lawyer            8.605664\n",
       "Doctor            7.788671\n",
       "Healthcare        5.501089\n",
       "Homemaker         2.995643\n",
       "Marketing         1.633987\n",
       "Name: Profession, dtype: float64"
      ]
     },
     "execution_count": 15,
     "metadata": {},
     "output_type": "execute_result"
    }
   ],
   "source": [
    "(customers[customers['Segmentation'] == 'B']['Profession'].value_counts(normalize=True) * 100)"
   ]
  },
  {
   "cell_type": "markdown",
   "metadata": {},
   "source": [
    "**NB:** Some additional analyses have been directly conducted in the `customer_segmentation_slides.ipynb`, which I used to generate the slides."
   ]
  },
  {
   "cell_type": "markdown",
   "metadata": {},
   "source": [
    "### Segmentation relevance\n",
    "\n",
    "Debrah has a doubt about the number of customers segments designed by the Sales department. Based on an empirical method, the elbow method, and a clustering approach **can you tell her if it is an optimal segmentation or not?**\n",
    "\n",
    "Store the optimal number of segments inside the `n_clusters` variable."
   ]
  },
  {
   "cell_type": "markdown",
   "metadata": {},
   "source": [
    "---"
   ]
  },
  {
   "cell_type": "markdown",
   "metadata": {},
   "source": [
    "We are going to implement a **K-Means algorithm** in order to cluster customers based on available variables."
   ]
  },
  {
   "cell_type": "markdown",
   "metadata": {},
   "source": [
    "To do so, we first have to go through a few preprocessing steps, notably because of missing values."
   ]
  },
  {
   "cell_type": "code",
   "execution_count": 16,
   "metadata": {},
   "outputs": [
    {
     "data": {
      "text/plain": [
       "ID                   0\n",
       "Gender               0\n",
       "Ever_Married       140\n",
       "Age                  0\n",
       "Graduated           78\n",
       "Profession         124\n",
       "Work_Experience    829\n",
       "Spending_Score       0\n",
       "Family_Size        335\n",
       "Segmentation         0\n",
       "dtype: int64"
      ]
     },
     "execution_count": 16,
     "metadata": {},
     "output_type": "execute_result"
    }
   ],
   "source": [
    "# Displays the number of NaN values for each column\n",
    "customers.isnull().sum()"
   ]
  },
  {
   "cell_type": "markdown",
   "metadata": {},
   "source": [
    "**NB:** throughout the following preprocessing steps, we will make simplifying assumptions, which will always be stated as clearly as possible. These could certainly be questioned but their impact on the eventual clustering is likely to be limited and anyway, the goal was to run a first quick analysis. "
   ]
  },
  {
   "cell_type": "markdown",
   "metadata": {},
   "source": [
    "We first consider **numerical variables**, ie.:\n",
    "\n",
    "- `Age`, which does not display any missing value;\n",
    "- `Family_Size`, which displays 335 missing values;\n",
    "- `Work_Experience`, which displays 829 missing values.\n",
    "\n",
    "We are going to assume that NaN values for `Family_Size` comes down to the customer having no relative. We therefore impute the value 1. \n",
    "\n",
    "Besides, we assume that NaN values for `Work_Experience` comes down to the customer having no work experience. We therefore impute the value 0. "
   ]
  },
  {
   "cell_type": "code",
   "execution_count": 17,
   "metadata": {},
   "outputs": [],
   "source": [
    "# We drop IDs which will be useless here\n",
    "data_preprocessed = customers.drop(columns='ID').copy()\n",
    "\n",
    "# We impute the value 1 for family size\n",
    "data_preprocessed['Family_Size'] = data_preprocessed['Family_Size'].fillna(1)\n",
    "\n",
    "# We impute the value 0 for work experience\n",
    "data_preprocessed['Work_Experience'] = data_preprocessed['Work_Experience'].fillna(0)"
   ]
  },
  {
   "cell_type": "markdown",
   "metadata": {},
   "source": [
    "We now consider **binary categorical variables**, ie.:\n",
    "\n",
    "- `Gender`, which does not display any missing value;\n",
    "- `Ever_Married`, which displays 140 missing values;\n",
    "- `Graduated`, which displays 78 missing values.\n",
    "\n",
    "For both `Ever_Married` and `Graduated`, we are going to assume that a NaN value corresponds to the \"No\" case, ie. the customer has never been married and does not hold a degree. We therefore impute the value \"No\". \n",
    "\n",
    "Besides, for each of these three variables we implement a mapping for `str` values to 0 / 1 values."
   ]
  },
  {
   "cell_type": "code",
   "execution_count": 18,
   "metadata": {},
   "outputs": [],
   "source": [
    "# Mapping gender data to 0 or 1\n",
    "data_preprocessed['Gender'] = data_preprocessed['Gender'].map({'Male': 0, 'Female': 1})\n",
    "\n",
    "# Managing NaNs and mapping values for Ever_Married\n",
    "data_preprocessed['Ever_Married'] = data_preprocessed['Ever_Married'].fillna('No').map({'No': 0, 'Yes': 1})\n",
    "\n",
    "# Managing NaNs and mapping values for Graduated\n",
    "data_preprocessed['Graduated'] = data_preprocessed['Graduated'].fillna('No').map({'No': 0, 'Yes': 1})"
   ]
  },
  {
   "cell_type": "markdown",
   "metadata": {},
   "source": [
    "We now consider **multi-categorical variables**, ie.:\n",
    "\n",
    "- `Spending_Score`, which does not display any missing value;\n",
    "- `Profession`, which displays 124 missing values.\n",
    "\n",
    "For `Profession`, we are simply going to add a possible category, `Unknown`, which we impute to NaNs. \n",
    "\n",
    "But the most important step is the encoding of these multi-categorical variables. The approach will differ between the two variables:\n",
    "\n",
    "- `Spending_Score` will be considered as an ordered variable, simply mapped on a 0-1-2 numerical scale;\n",
    "- `Profession` will be \"one-hot encoded\", ie. we will have one dummy variable for each possible value."
   ]
  },
  {
   "cell_type": "code",
   "execution_count": 19,
   "metadata": {},
   "outputs": [],
   "source": [
    "# First, we impute \"Unknown\" to NaNs in the Profession column\n",
    "data_preprocessed['Profession'] = data_preprocessed['Profession'].fillna('Unknown')"
   ]
  },
  {
   "cell_type": "code",
   "execution_count": 20,
   "metadata": {},
   "outputs": [],
   "source": [
    "# We map the Spending_Score variable as an ordered multi-categorical variable\n",
    "data_preprocessed['Spending_Score'] = data_preprocessed['Spending_Score'].map({'Low': 0, 'Average': 1, 'High': 2})"
   ]
  },
  {
   "cell_type": "code",
   "execution_count": 21,
   "metadata": {},
   "outputs": [],
   "source": [
    "# We run the encoding of the Profession variable\n",
    "ohe = OneHotEncoder(sparse=False, handle_unknown='ignore')\n",
    "\n",
    "ohe.fit(data_preprocessed[['Profession']])\n",
    "\n",
    "ohe_output = pd.DataFrame(ohe.transform(data_preprocessed[['Profession']]), columns=ohe.categories_[0])\n",
    "\n",
    "data_preprocessed = pd.concat([data_preprocessed, ohe_output], axis=1).drop(columns='Profession')"
   ]
  },
  {
   "cell_type": "markdown",
   "metadata": {},
   "source": [
    "Let us have a look at the resulting dataset!"
   ]
  },
  {
   "cell_type": "code",
   "execution_count": 22,
   "metadata": {
    "scrolled": true
   },
   "outputs": [
    {
     "data": {
      "text/html": [
       "<div>\n",
       "<style scoped>\n",
       "    .dataframe tbody tr th:only-of-type {\n",
       "        vertical-align: middle;\n",
       "    }\n",
       "\n",
       "    .dataframe tbody tr th {\n",
       "        vertical-align: top;\n",
       "    }\n",
       "\n",
       "    .dataframe thead th {\n",
       "        text-align: right;\n",
       "    }\n",
       "</style>\n",
       "<table border=\"1\" class=\"dataframe\">\n",
       "  <thead>\n",
       "    <tr style=\"text-align: right;\">\n",
       "      <th></th>\n",
       "      <th>Gender</th>\n",
       "      <th>Ever_Married</th>\n",
       "      <th>Age</th>\n",
       "      <th>Graduated</th>\n",
       "      <th>Work_Experience</th>\n",
       "      <th>Spending_Score</th>\n",
       "      <th>Family_Size</th>\n",
       "      <th>Segmentation</th>\n",
       "      <th>Artist</th>\n",
       "      <th>Doctor</th>\n",
       "      <th>Engineer</th>\n",
       "      <th>Entertainment</th>\n",
       "      <th>Executive</th>\n",
       "      <th>Healthcare</th>\n",
       "      <th>Homemaker</th>\n",
       "      <th>Lawyer</th>\n",
       "      <th>Marketing</th>\n",
       "      <th>Unknown</th>\n",
       "    </tr>\n",
       "  </thead>\n",
       "  <tbody>\n",
       "    <tr>\n",
       "      <th>0</th>\n",
       "      <td>0</td>\n",
       "      <td>0</td>\n",
       "      <td>22</td>\n",
       "      <td>0</td>\n",
       "      <td>1.0</td>\n",
       "      <td>0</td>\n",
       "      <td>4.0</td>\n",
       "      <td>D</td>\n",
       "      <td>0.0</td>\n",
       "      <td>0.0</td>\n",
       "      <td>0.0</td>\n",
       "      <td>0.0</td>\n",
       "      <td>0.0</td>\n",
       "      <td>1.0</td>\n",
       "      <td>0.0</td>\n",
       "      <td>0.0</td>\n",
       "      <td>0.0</td>\n",
       "      <td>0.0</td>\n",
       "    </tr>\n",
       "    <tr>\n",
       "      <th>1</th>\n",
       "      <td>1</td>\n",
       "      <td>1</td>\n",
       "      <td>38</td>\n",
       "      <td>1</td>\n",
       "      <td>0.0</td>\n",
       "      <td>1</td>\n",
       "      <td>3.0</td>\n",
       "      <td>A</td>\n",
       "      <td>0.0</td>\n",
       "      <td>0.0</td>\n",
       "      <td>1.0</td>\n",
       "      <td>0.0</td>\n",
       "      <td>0.0</td>\n",
       "      <td>0.0</td>\n",
       "      <td>0.0</td>\n",
       "      <td>0.0</td>\n",
       "      <td>0.0</td>\n",
       "      <td>0.0</td>\n",
       "    </tr>\n",
       "    <tr>\n",
       "      <th>2</th>\n",
       "      <td>1</td>\n",
       "      <td>1</td>\n",
       "      <td>67</td>\n",
       "      <td>1</td>\n",
       "      <td>1.0</td>\n",
       "      <td>0</td>\n",
       "      <td>1.0</td>\n",
       "      <td>B</td>\n",
       "      <td>0.0</td>\n",
       "      <td>0.0</td>\n",
       "      <td>1.0</td>\n",
       "      <td>0.0</td>\n",
       "      <td>0.0</td>\n",
       "      <td>0.0</td>\n",
       "      <td>0.0</td>\n",
       "      <td>0.0</td>\n",
       "      <td>0.0</td>\n",
       "      <td>0.0</td>\n",
       "    </tr>\n",
       "    <tr>\n",
       "      <th>3</th>\n",
       "      <td>0</td>\n",
       "      <td>1</td>\n",
       "      <td>67</td>\n",
       "      <td>1</td>\n",
       "      <td>0.0</td>\n",
       "      <td>2</td>\n",
       "      <td>2.0</td>\n",
       "      <td>B</td>\n",
       "      <td>0.0</td>\n",
       "      <td>0.0</td>\n",
       "      <td>0.0</td>\n",
       "      <td>0.0</td>\n",
       "      <td>0.0</td>\n",
       "      <td>0.0</td>\n",
       "      <td>0.0</td>\n",
       "      <td>1.0</td>\n",
       "      <td>0.0</td>\n",
       "      <td>0.0</td>\n",
       "    </tr>\n",
       "    <tr>\n",
       "      <th>4</th>\n",
       "      <td>1</td>\n",
       "      <td>1</td>\n",
       "      <td>40</td>\n",
       "      <td>1</td>\n",
       "      <td>0.0</td>\n",
       "      <td>2</td>\n",
       "      <td>6.0</td>\n",
       "      <td>A</td>\n",
       "      <td>0.0</td>\n",
       "      <td>0.0</td>\n",
       "      <td>0.0</td>\n",
       "      <td>1.0</td>\n",
       "      <td>0.0</td>\n",
       "      <td>0.0</td>\n",
       "      <td>0.0</td>\n",
       "      <td>0.0</td>\n",
       "      <td>0.0</td>\n",
       "      <td>0.0</td>\n",
       "    </tr>\n",
       "  </tbody>\n",
       "</table>\n",
       "</div>"
      ],
      "text/plain": [
       "   Gender  Ever_Married  Age  Graduated  Work_Experience  Spending_Score  \\\n",
       "0       0             0   22          0              1.0               0   \n",
       "1       1             1   38          1              0.0               1   \n",
       "2       1             1   67          1              1.0               0   \n",
       "3       0             1   67          1              0.0               2   \n",
       "4       1             1   40          1              0.0               2   \n",
       "\n",
       "   Family_Size Segmentation  Artist  Doctor  Engineer  Entertainment  \\\n",
       "0          4.0            D     0.0     0.0       0.0            0.0   \n",
       "1          3.0            A     0.0     0.0       1.0            0.0   \n",
       "2          1.0            B     0.0     0.0       1.0            0.0   \n",
       "3          2.0            B     0.0     0.0       0.0            0.0   \n",
       "4          6.0            A     0.0     0.0       0.0            1.0   \n",
       "\n",
       "   Executive  Healthcare  Homemaker  Lawyer  Marketing  Unknown  \n",
       "0        0.0         1.0        0.0     0.0        0.0      0.0  \n",
       "1        0.0         0.0        0.0     0.0        0.0      0.0  \n",
       "2        0.0         0.0        0.0     0.0        0.0      0.0  \n",
       "3        0.0         0.0        0.0     1.0        0.0      0.0  \n",
       "4        0.0         0.0        0.0     0.0        0.0      0.0  "
      ]
     },
     "execution_count": 22,
     "metadata": {},
     "output_type": "execute_result"
    }
   ],
   "source": [
    "data_preprocessed.head()"
   ]
  },
  {
   "cell_type": "markdown",
   "metadata": {},
   "source": [
    "**NB:** we have not yet eliminated the `Segmentation` column but we will have to drop it before running the clustering."
   ]
  },
  {
   "cell_type": "markdown",
   "metadata": {},
   "source": [
    "We can verify that there are no missing values anymore."
   ]
  },
  {
   "cell_type": "code",
   "execution_count": 23,
   "metadata": {
    "scrolled": true
   },
   "outputs": [
    {
     "data": {
      "text/plain": [
       "Gender             0\n",
       "Ever_Married       0\n",
       "Age                0\n",
       "Graduated          0\n",
       "Work_Experience    0\n",
       "Spending_Score     0\n",
       "Family_Size        0\n",
       "Segmentation       0\n",
       "Artist             0\n",
       "Doctor             0\n",
       "Engineer           0\n",
       "Entertainment      0\n",
       "Executive          0\n",
       "Healthcare         0\n",
       "Homemaker          0\n",
       "Lawyer             0\n",
       "Marketing          0\n",
       "Unknown            0\n",
       "dtype: int64"
      ]
     },
     "execution_count": 23,
     "metadata": {},
     "output_type": "execute_result"
    }
   ],
   "source": [
    "data_preprocessed.isnull().sum()"
   ]
  },
  {
   "cell_type": "markdown",
   "metadata": {},
   "source": [
    "We are now ready to cluster customers based on preprocessed variables. \n",
    "\n",
    "Our first goal is to determine the right number of clusters. To do so, we want to find the right balance between the minimization of the **inertia** criterion of the K-Means algorithm (can be roughly defined as a quality-of-fit indicator) and still having a **limited number of clusters**, notably for easier interpretation.\n",
    "\n",
    "We are thus going to run a clustering with various numbers of clusters and use the \"elbow method\" to determine the right one."
   ]
  },
  {
   "cell_type": "code",
   "execution_count": 24,
   "metadata": {},
   "outputs": [
    {
     "name": "stdout",
     "output_type": "stream",
     "text": [
      "CPU times: user 8.7 s, sys: 2.56 s, total: 11.3 s\n",
      "Wall time: 3.16 s\n"
     ]
    }
   ],
   "source": [
    "%%time\n",
    "\n",
    "# This variable will store each K-Means' inertia criterion\n",
    "inertias = []\n",
    "\n",
    "for i in range(15):\n",
    "    # We instantiate a K-Means algorithm with i+1 clusters\n",
    "    kmeans = KMeans(n_clusters=i+1)\n",
    "    \n",
    "    # We fit the algorithm on data \n",
    "    kmeans.fit(data_preprocessed.drop(columns='Segmentation'))\n",
    "    \n",
    "    # And we fetch its inertia\n",
    "    inertias.append(kmeans.inertia_)"
   ]
  },
  {
   "cell_type": "code",
   "execution_count": 25,
   "metadata": {
    "scrolled": true
   },
   "outputs": [
    {
     "data": {
      "text/plain": [
       "[<matplotlib.lines.Line2D at 0x11d91fbd0>]"
      ]
     },
     "execution_count": 25,
     "metadata": {},
     "output_type": "execute_result"
    },
    {
     "data": {
      "image/png": "[encoded data removed]",
      "text/plain": [
       "<Figure size 432x288 with 1 Axes>"
      ]
     },
     "metadata": {
      "needs_background": "light"
     },
     "output_type": "display_data"
    }
   ],
   "source": [
    "# We can now plot the inertias computed for various number of clusters\n",
    "plt.plot(inertias)"
   ]
  },
  {
   "cell_type": "markdown",
   "metadata": {},
   "source": [
    "And we see that the last visually significant drop in inertia occurs when moving from 2 to 3 clusters. \n",
    "\n",
    "We can therefore consider 3 as the right number of clusters to identify."
   ]
  },
  {
   "cell_type": "code",
   "execution_count": 26,
   "metadata": {},
   "outputs": [],
   "source": [
    "n_clusters = 3"
   ]
  },
  {
   "cell_type": "code",
   "execution_count": 27,
   "metadata": {},
   "outputs": [
    {
     "data": {
      "text/html": [
       "<div>\n",
       "<style scoped>\n",
       "    .dataframe tbody tr th:only-of-type {\n",
       "        vertical-align: middle;\n",
       "    }\n",
       "\n",
       "    .dataframe tbody tr th {\n",
       "        vertical-align: top;\n",
       "    }\n",
       "\n",
       "    .dataframe thead th {\n",
       "        text-align: right;\n",
       "    }\n",
       "</style>\n",
       "<table border=\"1\" class=\"dataframe\">\n",
       "  <thead>\n",
       "    <tr style=\"text-align: right;\">\n",
       "      <th></th>\n",
       "      <th>ID</th>\n",
       "      <th>Gender</th>\n",
       "      <th>Ever_Married</th>\n",
       "      <th>Age</th>\n",
       "      <th>Graduated</th>\n",
       "      <th>Profession</th>\n",
       "      <th>Work_Experience</th>\n",
       "      <th>Spending_Score</th>\n",
       "      <th>Family_Size</th>\n",
       "      <th>Segmentation</th>\n",
       "      <th>New_Segmentation</th>\n",
       "    </tr>\n",
       "  </thead>\n",
       "  <tbody>\n",
       "    <tr>\n",
       "      <th>0</th>\n",
       "      <td>462809</td>\n",
       "      <td>Male</td>\n",
       "      <td>No</td>\n",
       "      <td>22</td>\n",
       "      <td>No</td>\n",
       "      <td>Healthcare</td>\n",
       "      <td>1.0</td>\n",
       "      <td>Low</td>\n",
       "      <td>4.0</td>\n",
       "      <td>D</td>\n",
       "      <td>2</td>\n",
       "    </tr>\n",
       "    <tr>\n",
       "      <th>1</th>\n",
       "      <td>462643</td>\n",
       "      <td>Female</td>\n",
       "      <td>Yes</td>\n",
       "      <td>38</td>\n",
       "      <td>Yes</td>\n",
       "      <td>Engineer</td>\n",
       "      <td>NaN</td>\n",
       "      <td>Average</td>\n",
       "      <td>3.0</td>\n",
       "      <td>A</td>\n",
       "      <td>0</td>\n",
       "    </tr>\n",
       "    <tr>\n",
       "      <th>2</th>\n",
       "      <td>466315</td>\n",
       "      <td>Female</td>\n",
       "      <td>Yes</td>\n",
       "      <td>67</td>\n",
       "      <td>Yes</td>\n",
       "      <td>Engineer</td>\n",
       "      <td>1.0</td>\n",
       "      <td>Low</td>\n",
       "      <td>1.0</td>\n",
       "      <td>B</td>\n",
       "      <td>1</td>\n",
       "    </tr>\n",
       "    <tr>\n",
       "      <th>3</th>\n",
       "      <td>461735</td>\n",
       "      <td>Male</td>\n",
       "      <td>Yes</td>\n",
       "      <td>67</td>\n",
       "      <td>Yes</td>\n",
       "      <td>Lawyer</td>\n",
       "      <td>0.0</td>\n",
       "      <td>High</td>\n",
       "      <td>2.0</td>\n",
       "      <td>B</td>\n",
       "      <td>1</td>\n",
       "    </tr>\n",
       "    <tr>\n",
       "      <th>4</th>\n",
       "      <td>462669</td>\n",
       "      <td>Female</td>\n",
       "      <td>Yes</td>\n",
       "      <td>40</td>\n",
       "      <td>Yes</td>\n",
       "      <td>Entertainment</td>\n",
       "      <td>NaN</td>\n",
       "      <td>High</td>\n",
       "      <td>6.0</td>\n",
       "      <td>A</td>\n",
       "      <td>0</td>\n",
       "    </tr>\n",
       "  </tbody>\n",
       "</table>\n",
       "</div>"
      ],
      "text/plain": [
       "       ID  Gender Ever_Married  Age Graduated     Profession  Work_Experience  \\\n",
       "0  462809    Male           No   22        No     Healthcare              1.0   \n",
       "1  462643  Female          Yes   38       Yes       Engineer              NaN   \n",
       "2  466315  Female          Yes   67       Yes       Engineer              1.0   \n",
       "3  461735    Male          Yes   67       Yes         Lawyer              0.0   \n",
       "4  462669  Female          Yes   40       Yes  Entertainment              NaN   \n",
       "\n",
       "  Spending_Score  Family_Size Segmentation  New_Segmentation  \n",
       "0            Low          4.0            D                 2  \n",
       "1        Average          3.0            A                 0  \n",
       "2            Low          1.0            B                 1  \n",
       "3           High          2.0            B                 1  \n",
       "4           High          6.0            A                 0  "
      ]
     },
     "execution_count": 27,
     "metadata": {},
     "output_type": "execute_result"
    }
   ],
   "source": [
    "# We can refit a K-Means algorithm with 3 clusters and add the new segmentation to our DataFrame\n",
    "kmeans = KMeans(n_clusters=n_clusters)\n",
    "\n",
    "kmeans.fit(data_preprocessed.drop(columns='Segmentation'))\n",
    "    \n",
    "customers_new = customers.copy()\n",
    "customers_new['New_Segmentation'] = kmeans.labels_\n",
    "customers_new.head()"
   ]
  },
  {
   "cell_type": "markdown",
   "metadata": {},
   "source": [
    "**NB:** After some reflection, I re-tried the experiment while scaling numerical variables such as `Age`, `Work_Experience` and `Family_Size` and this result with 3 clusters does not seem robust to the operation (which seems natural to apply a distance-based clustering algorithm). The results are as follows:"
   ]
  },
  {
   "cell_type": "code",
   "execution_count": 28,
   "metadata": {
    "scrolled": true
   },
   "outputs": [
    {
     "data": {
      "text/plain": [
       "[<matplotlib.lines.Line2D at 0x1219868d0>]"
      ]
     },
     "execution_count": 28,
     "metadata": {},
     "output_type": "execute_result"
    },
    {
     "data": {
      "image/png": "[encoded data removed]",
      "text/plain": [
       "<Figure size 432x288 with 1 Axes>"
      ]
     },
     "metadata": {
      "needs_background": "light"
     },
     "output_type": "display_data"
    }
   ],
   "source": [
    "# We iterate over the list of numerical features and scale each of them\n",
    "for numerical_feature in ['Age', 'Work_Experience', 'Family_Size', 'Spending_Score']:\n",
    "    scaler = StandardScaler()\n",
    "    \n",
    "    scaler.fit(data_preprocessed[[numerical_feature]])\n",
    "    \n",
    "    data_preprocessed[numerical_feature] = scaler.transform(data_preprocessed[[numerical_feature]])\n",
    "\n",
    "inertias = []\n",
    "\n",
    "for i in range(15):\n",
    "    # We instantiate a K-Means algorithm with i+1 clusters\n",
    "    kmeans = KMeans(n_clusters=i+1)\n",
    "    \n",
    "    # We fit the algorithm on data \n",
    "    kmeans.fit(data_preprocessed.drop(columns='Segmentation'))\n",
    "    \n",
    "    # And we fetch its inertia\n",
    "    inertias.append(kmeans.inertia_)\n",
    "    \n",
    "plt.plot(inertias)"
   ]
  },
  {
   "cell_type": "markdown",
   "metadata": {},
   "source": [
    "Unfortunately, I did not have time to dig deeper into the topic but the optimal number of clusters might in fact be higher than 3. "
   ]
  },
  {
   "cell_type": "markdown",
   "metadata": {},
   "source": [
    "**💾 Save your results**\n",
    "\n",
    "Run the following cell to save your results."
   ]
  },
  {
   "cell_type": "code",
   "execution_count": 29,
   "metadata": {},
   "outputs": [],
   "source": [
    "ChallengeResult('clusters', n_clusters=n_clusters).write()"
   ]
  },
  {
   "cell_type": "markdown",
   "metadata": {},
   "source": [
    "### Segment D statistics\n",
    "\n",
    "In addition the marketing team is really interested in the **segment D** so you will have to answer some questions about it. \n",
    "\n",
    "To do so, we are considering a binary segmentation: **D vs the rest**. Download the `customers_encoded.csv` dataset from this [URL](https://wagon-public-datasets.s3.amazonaws.com/certification_paris_2021Q1/customers_encoded.csv) and store it into the `data` folder."
   ]
  },
  {
   "cell_type": "markdown",
   "metadata": {},
   "source": [
    "#### Loading data"
   ]
  },
  {
   "cell_type": "code",
   "execution_count": 30,
   "metadata": {
    "scrolled": false
   },
   "outputs": [
    {
     "data": {
      "text/html": [
       "<div>\n",
       "<style scoped>\n",
       "    .dataframe tbody tr th:only-of-type {\n",
       "        vertical-align: middle;\n",
       "    }\n",
       "\n",
       "    .dataframe tbody tr th {\n",
       "        vertical-align: top;\n",
       "    }\n",
       "\n",
       "    .dataframe thead th {\n",
       "        text-align: right;\n",
       "    }\n",
       "</style>\n",
       "<table border=\"1\" class=\"dataframe\">\n",
       "  <thead>\n",
       "    <tr style=\"text-align: right;\">\n",
       "      <th></th>\n",
       "      <th>ID</th>\n",
       "      <th>Gender</th>\n",
       "      <th>Ever_Married</th>\n",
       "      <th>Age</th>\n",
       "      <th>Graduated</th>\n",
       "      <th>Profession</th>\n",
       "      <th>Work_Experience</th>\n",
       "      <th>Spending_Score</th>\n",
       "      <th>Family_Size</th>\n",
       "      <th>Segmentation</th>\n",
       "      <th>is_D</th>\n",
       "    </tr>\n",
       "  </thead>\n",
       "  <tbody>\n",
       "    <tr>\n",
       "      <th>0</th>\n",
       "      <td>462809</td>\n",
       "      <td>Male</td>\n",
       "      <td>No</td>\n",
       "      <td>22</td>\n",
       "      <td>No</td>\n",
       "      <td>Healthcare</td>\n",
       "      <td>1.0</td>\n",
       "      <td>Low</td>\n",
       "      <td>4.0</td>\n",
       "      <td>D</td>\n",
       "      <td>1</td>\n",
       "    </tr>\n",
       "    <tr>\n",
       "      <th>1</th>\n",
       "      <td>462643</td>\n",
       "      <td>Female</td>\n",
       "      <td>Yes</td>\n",
       "      <td>38</td>\n",
       "      <td>Yes</td>\n",
       "      <td>Engineer</td>\n",
       "      <td>NaN</td>\n",
       "      <td>Average</td>\n",
       "      <td>3.0</td>\n",
       "      <td>A</td>\n",
       "      <td>0</td>\n",
       "    </tr>\n",
       "    <tr>\n",
       "      <th>2</th>\n",
       "      <td>466315</td>\n",
       "      <td>Female</td>\n",
       "      <td>Yes</td>\n",
       "      <td>67</td>\n",
       "      <td>Yes</td>\n",
       "      <td>Engineer</td>\n",
       "      <td>1.0</td>\n",
       "      <td>Low</td>\n",
       "      <td>1.0</td>\n",
       "      <td>B</td>\n",
       "      <td>0</td>\n",
       "    </tr>\n",
       "    <tr>\n",
       "      <th>3</th>\n",
       "      <td>461735</td>\n",
       "      <td>Male</td>\n",
       "      <td>Yes</td>\n",
       "      <td>67</td>\n",
       "      <td>Yes</td>\n",
       "      <td>Lawyer</td>\n",
       "      <td>0.0</td>\n",
       "      <td>High</td>\n",
       "      <td>2.0</td>\n",
       "      <td>B</td>\n",
       "      <td>0</td>\n",
       "    </tr>\n",
       "    <tr>\n",
       "      <th>4</th>\n",
       "      <td>462669</td>\n",
       "      <td>Female</td>\n",
       "      <td>Yes</td>\n",
       "      <td>40</td>\n",
       "      <td>Yes</td>\n",
       "      <td>Entertainment</td>\n",
       "      <td>NaN</td>\n",
       "      <td>High</td>\n",
       "      <td>6.0</td>\n",
       "      <td>A</td>\n",
       "      <td>0</td>\n",
       "    </tr>\n",
       "  </tbody>\n",
       "</table>\n",
       "</div>"
      ],
      "text/plain": [
       "       ID  Gender Ever_Married  Age Graduated     Profession  Work_Experience  \\\n",
       "0  462809    Male           No   22        No     Healthcare              1.0   \n",
       "1  462643  Female          Yes   38       Yes       Engineer              NaN   \n",
       "2  466315  Female          Yes   67       Yes       Engineer              1.0   \n",
       "3  461735    Male          Yes   67       Yes         Lawyer              0.0   \n",
       "4  462669  Female          Yes   40       Yes  Entertainment              NaN   \n",
       "\n",
       "  Spending_Score  Family_Size Segmentation  is_D  \n",
       "0            Low          4.0            D     1  \n",
       "1        Average          3.0            A     0  \n",
       "2            Low          1.0            B     0  \n",
       "3           High          2.0            B     0  \n",
       "4           High          6.0            A     0  "
      ]
     },
     "execution_count": 30,
     "metadata": {},
     "output_type": "execute_result"
    }
   ],
   "source": [
    "# Load the data and display the first rows\n",
    "url = 'https://wagon-public-datasets.s3.amazonaws.com/certification_paris_2021Q1/customers_encoded.csv'\n",
    "\n",
    "customers = pd.read_csv(url)\n",
    "\n",
    "customers.head()"
   ]
  },
  {
   "cell_type": "markdown",
   "metadata": {},
   "source": [
    "After loading the data you can see a new column `is_D` which take the value `1` if the customer belongs to the segment D, `0` otherwise."
   ]
  },
  {
   "cell_type": "markdown",
   "metadata": {},
   "source": [
    "#### Age analysis of segment D\n",
    "\n",
    "❓ Using a statistical test, show than customers from segment D are **statistically younger** than the whole customers. \n",
    "\n",
    "Store the $p-value$ of your test inside a `p_value` variable."
   ]
  },
  {
   "cell_type": "markdown",
   "metadata": {},
   "source": [
    "We are going to implement a simple one-sided t-test with the following hypotheses:\n",
    "\n",
    "- **Null hypothesis (H0)**: \n",
    "\n",
    "$$average\\,\\, age\\,\\, of\\,\\, customers\\,\\, from\\,\\, segment\\,\\, D \\geq average\\,\\, age\\,\\, of\\,\\, all\\,\\, customers$$\n",
    "\n",
    "- **Alternative hypothesis (H1)**: \n",
    "\n",
    "$$average\\,\\, age\\,\\, of\\,\\, customers\\,\\, from\\,\\, segment\\,\\, D < average\\,\\, age\\,\\, of\\,\\, all\\,\\, customers$$\n",
    "\n",
    "If the p-value of the t-test is small (below 1 or 5% depending on the confidence level we aim for), we will be able to reject the null hypothesis for the alternative, ie. customers from segment D would then be considered as statistically younger than overall customers."
   ]
  },
  {
   "cell_type": "code",
   "execution_count": 31,
   "metadata": {},
   "outputs": [
    {
     "name": "stdout",
     "output_type": "stream",
     "text": [
      "Is the null hypothesis rejected at the 95% confidence level? Yes\n",
      "Is the null hypothesis rejected at the 99% confidence level? Yes\n"
     ]
    }
   ],
   "source": [
    "# Test\n",
    "from scipy.stats import ttest_ind\n",
    "\n",
    "ttest = ttest_ind(\n",
    "    customers[customers['is_D'] == 1]['Age'], \n",
    "    customers['Age'], \n",
    "    alternative='less'\n",
    ")\n",
    "\n",
    "print('Is the null hypothesis rejected at the 95% confidence level?', 'Yes' if ttest.pvalue < 0.05 else 'No')\n",
    "print('Is the null hypothesis rejected at the 99% confidence level?', 'Yes' if ttest.pvalue < 0.01 else 'No')"
   ]
  },
  {
   "cell_type": "code",
   "execution_count": 32,
   "metadata": {},
   "outputs": [
    {
     "data": {
      "text/plain": [
       "1.1835501911603531e-141"
      ]
     },
     "execution_count": 32,
     "metadata": {},
     "output_type": "execute_result"
    }
   ],
   "source": [
    "# We can print the p-value\n",
    "ttest.pvalue"
   ]
  },
  {
   "cell_type": "code",
   "execution_count": 33,
   "metadata": {},
   "outputs": [],
   "source": [
    "# p_value\n",
    "p_value = ttest.pvalue"
   ]
  },
  {
   "cell_type": "markdown",
   "metadata": {},
   "source": [
    "#### Segment D odds analysis\n",
    "\n",
    "❓ What are the **odds** for a customer to be in the segment D?\n",
    "\n",
    "Store the result inside a `odds` variable."
   ]
  },
  {
   "cell_type": "markdown",
   "metadata": {},
   "source": [
    "The **average odds ratio for a customer to be in the segment D** simply corresponds to the ratio of the number of individuals in group D to the number of individuals in segments A, B, or C. We therefore run the following computations:"
   ]
  },
  {
   "cell_type": "code",
   "execution_count": 34,
   "metadata": {
    "scrolled": true
   },
   "outputs": [
    {
     "name": "stdout",
     "output_type": "stream",
     "text": [
      "Average odds for a customer to be in segment D: 0.391\n"
     ]
    }
   ],
   "source": [
    "# odds\n",
    "odds = len(customers[customers['is_D'] == 1]) / len(customers[customers['is_D'] == 0])\n",
    "print(\"Average odds for a customer to be in segment D:\", round(odds, 4))"
   ]
  },
  {
   "cell_type": "markdown",
   "metadata": {},
   "source": [
    "❓ Considering a **married and graduated** customer, how are the odds of being part of segment D **multiplied** while **increasing** the age by 1 year?\n",
    "\n",
    "Store the result inside a `odds_variation` variable."
   ]
  },
  {
   "cell_type": "markdown",
   "metadata": {},
   "source": [
    "To determine this multiplicative effect, we first need to run a logistic regression: we are going to pose a simple model, regressing the `is_D` binary outcome over `Age`, `Ever_Married` and `Graduated`. This requires to slightly modify the last two columns.  "
   ]
  },
  {
   "cell_type": "code",
   "execution_count": 35,
   "metadata": {},
   "outputs": [],
   "source": [
    "# We store the outcome and the features of interest in a new DataFrame\n",
    "regression_data = customers[['Age', 'Ever_Married', 'Graduated', 'is_D']].copy()\n",
    "\n",
    "# We replace missing values in the Ever_Married and Graduated columns with the same assumptions as above\n",
    "regression_data['Ever_Married'] = regression_data['Ever_Married'].fillna('No')\n",
    "regression_data['Graduated'] = regression_data['Graduated'].fillna('No')\n",
    "\n",
    "# We map binary explanatory variables to 0 or 1 values \n",
    "regression_data['Ever_Married'] = regression_data['Ever_Married'].map({'Yes': 1, 'No': 0}) \n",
    "regression_data['Graduated'] = regression_data['Graduated'].map({'Yes': 1, 'No': 0}) "
   ]
  },
  {
   "cell_type": "markdown",
   "metadata": {},
   "source": [
    "We will want to examine the effect of an increase of `Age` by 1 for a married and graduated customer. So, we need to interact binary variables with `Age`. "
   ]
  },
  {
   "cell_type": "code",
   "execution_count": 36,
   "metadata": {},
   "outputs": [],
   "source": [
    "# We interact binary variables with Age\n",
    "regression_data['AgexMarried'] = regression_data['Ever_Married'] * regression_data['Age']\n",
    "regression_data['AgexGraduated'] = regression_data['Graduated'] * regression_data['Age']"
   ]
  },
  {
   "cell_type": "markdown",
   "metadata": {},
   "source": [
    "Let us have a look at the result of this minimal preprocessing. "
   ]
  },
  {
   "cell_type": "code",
   "execution_count": 37,
   "metadata": {
    "scrolled": false
   },
   "outputs": [
    {
     "data": {
      "text/html": [
       "<div>\n",
       "<style scoped>\n",
       "    .dataframe tbody tr th:only-of-type {\n",
       "        vertical-align: middle;\n",
       "    }\n",
       "\n",
       "    .dataframe tbody tr th {\n",
       "        vertical-align: top;\n",
       "    }\n",
       "\n",
       "    .dataframe thead th {\n",
       "        text-align: right;\n",
       "    }\n",
       "</style>\n",
       "<table border=\"1\" class=\"dataframe\">\n",
       "  <thead>\n",
       "    <tr style=\"text-align: right;\">\n",
       "      <th></th>\n",
       "      <th>Age</th>\n",
       "      <th>Ever_Married</th>\n",
       "      <th>Graduated</th>\n",
       "      <th>is_D</th>\n",
       "      <th>AgexMarried</th>\n",
       "      <th>AgexGraduated</th>\n",
       "    </tr>\n",
       "  </thead>\n",
       "  <tbody>\n",
       "    <tr>\n",
       "      <th>0</th>\n",
       "      <td>22</td>\n",
       "      <td>0</td>\n",
       "      <td>0</td>\n",
       "      <td>1</td>\n",
       "      <td>0</td>\n",
       "      <td>0</td>\n",
       "    </tr>\n",
       "    <tr>\n",
       "      <th>1</th>\n",
       "      <td>38</td>\n",
       "      <td>1</td>\n",
       "      <td>1</td>\n",
       "      <td>0</td>\n",
       "      <td>38</td>\n",
       "      <td>38</td>\n",
       "    </tr>\n",
       "    <tr>\n",
       "      <th>2</th>\n",
       "      <td>67</td>\n",
       "      <td>1</td>\n",
       "      <td>1</td>\n",
       "      <td>0</td>\n",
       "      <td>67</td>\n",
       "      <td>67</td>\n",
       "    </tr>\n",
       "    <tr>\n",
       "      <th>3</th>\n",
       "      <td>67</td>\n",
       "      <td>1</td>\n",
       "      <td>1</td>\n",
       "      <td>0</td>\n",
       "      <td>67</td>\n",
       "      <td>67</td>\n",
       "    </tr>\n",
       "    <tr>\n",
       "      <th>4</th>\n",
       "      <td>40</td>\n",
       "      <td>1</td>\n",
       "      <td>1</td>\n",
       "      <td>0</td>\n",
       "      <td>40</td>\n",
       "      <td>40</td>\n",
       "    </tr>\n",
       "  </tbody>\n",
       "</table>\n",
       "</div>"
      ],
      "text/plain": [
       "   Age  Ever_Married  Graduated  is_D  AgexMarried  AgexGraduated\n",
       "0   22             0          0     1            0              0\n",
       "1   38             1          1     0           38             38\n",
       "2   67             1          1     0           67             67\n",
       "3   67             1          1     0           67             67\n",
       "4   40             1          1     0           40             40"
      ]
     },
     "execution_count": 37,
     "metadata": {},
     "output_type": "execute_result"
    }
   ],
   "source": [
    "regression_data.head()"
   ]
  },
  {
   "cell_type": "markdown",
   "metadata": {},
   "source": [
    "We can now fit the logistic regression of the binary outcome over explanatory variables. "
   ]
  },
  {
   "cell_type": "code",
   "execution_count": 38,
   "metadata": {
    "scrolled": false
   },
   "outputs": [
    {
     "name": "stdout",
     "output_type": "stream",
     "text": [
      "Optimization terminated successfully.\n",
      "         Current function value: 0.456495\n",
      "         Iterations 7\n"
     ]
    }
   ],
   "source": [
    "model = smf.logit(\n",
    "    formula='is_D ~ Age + C(Ever_Married) + C(Graduated) + AgexMarried + AgexGraduated', \n",
    "    data=regression_data\n",
    ")\n",
    "\n",
    "results = model.fit()"
   ]
  },
  {
   "cell_type": "markdown",
   "metadata": {},
   "source": [
    "Let us have a look at the summary of the logistic regression:"
   ]
  },
  {
   "cell_type": "code",
   "execution_count": 39,
   "metadata": {},
   "outputs": [
    {
     "data": {
      "text/html": [
       "<table class=\"simpletable\">\n",
       "<caption>Logit Regression Results</caption>\n",
       "<tr>\n",
       "  <th>Dep. Variable:</th>         <td>is_D</td>       <th>  No. Observations:  </th>  <td>  8068</td> \n",
       "</tr>\n",
       "<tr>\n",
       "  <th>Model:</th>                 <td>Logit</td>      <th>  Df Residuals:      </th>  <td>  8062</td> \n",
       "</tr>\n",
       "<tr>\n",
       "  <th>Method:</th>                 <td>MLE</td>       <th>  Df Model:          </th>  <td>     5</td> \n",
       "</tr>\n",
       "<tr>\n",
       "  <th>Date:</th>            <td>Thu, 18 Mar 2021</td> <th>  Pseudo R-squ.:     </th>  <td>0.2315</td> \n",
       "</tr>\n",
       "<tr>\n",
       "  <th>Time:</th>                <td>17:41:33</td>     <th>  Log-Likelihood:    </th> <td> -3683.0</td>\n",
       "</tr>\n",
       "<tr>\n",
       "  <th>converged:</th>             <td>True</td>       <th>  LL-Null:           </th> <td> -4792.4</td>\n",
       "</tr>\n",
       "<tr>\n",
       "  <th>Covariance Type:</th>     <td>nonrobust</td>    <th>  LLR p-value:       </th>  <td> 0.000</td> \n",
       "</tr>\n",
       "</table>\n",
       "<table class=\"simpletable\">\n",
       "<tr>\n",
       "            <td></td>              <th>coef</th>     <th>std err</th>      <th>z</th>      <th>P>|z|</th>  <th>[0.025</th>    <th>0.975]</th>  \n",
       "</tr>\n",
       "<tr>\n",
       "  <th>Intercept</th>            <td>    2.7443</td> <td>    0.153</td> <td>   17.989</td> <td> 0.000</td> <td>    2.445</td> <td>    3.043</td>\n",
       "</tr>\n",
       "<tr>\n",
       "  <th>C(Ever_Married)[T.1]</th> <td>   -3.3361</td> <td>    0.212</td> <td>  -15.702</td> <td> 0.000</td> <td>   -3.753</td> <td>   -2.920</td>\n",
       "</tr>\n",
       "<tr>\n",
       "  <th>C(Graduated)[T.1]</th>    <td>   -0.6929</td> <td>    0.174</td> <td>   -3.972</td> <td> 0.000</td> <td>   -1.035</td> <td>   -0.351</td>\n",
       "</tr>\n",
       "<tr>\n",
       "  <th>Age</th>                  <td>   -0.0722</td> <td>    0.005</td> <td>  -15.034</td> <td> 0.000</td> <td>   -0.082</td> <td>   -0.063</td>\n",
       "</tr>\n",
       "<tr>\n",
       "  <th>AgexMarried</th>          <td>    0.0599</td> <td>    0.006</td> <td>   10.821</td> <td> 0.000</td> <td>    0.049</td> <td>    0.071</td>\n",
       "</tr>\n",
       "<tr>\n",
       "  <th>AgexGraduated</th>        <td>   -0.0087</td> <td>    0.004</td> <td>   -2.094</td> <td> 0.036</td> <td>   -0.017</td> <td>   -0.001</td>\n",
       "</tr>\n",
       "</table>"
      ],
      "text/plain": [
       "<class 'statsmodels.iolib.summary.Summary'>\n",
       "\"\"\"\n",
       "                           Logit Regression Results                           \n",
       "==============================================================================\n",
       "Dep. Variable:                   is_D   No. Observations:                 8068\n",
       "Model:                          Logit   Df Residuals:                     8062\n",
       "Method:                           MLE   Df Model:                            5\n",
       "Date:                Thu, 18 Mar 2021   Pseudo R-squ.:                  0.2315\n",
       "Time:                        17:41:33   Log-Likelihood:                -3683.0\n",
       "converged:                       True   LL-Null:                       -4792.4\n",
       "Covariance Type:            nonrobust   LLR p-value:                     0.000\n",
       "========================================================================================\n",
       "                           coef    std err          z      P>|z|      [0.025      0.975]\n",
       "----------------------------------------------------------------------------------------\n",
       "Intercept                2.7443      0.153     17.989      0.000       2.445       3.043\n",
       "C(Ever_Married)[T.1]    -3.3361      0.212    -15.702      0.000      -3.753      -2.920\n",
       "C(Graduated)[T.1]       -0.6929      0.174     -3.972      0.000      -1.035      -0.351\n",
       "Age                     -0.0722      0.005    -15.034      0.000      -0.082      -0.063\n",
       "AgexMarried              0.0599      0.006     10.821      0.000       0.049       0.071\n",
       "AgexGraduated           -0.0087      0.004     -2.094      0.036      -0.017      -0.001\n",
       "========================================================================================\n",
       "\"\"\""
      ]
     },
     "execution_count": 39,
     "metadata": {},
     "output_type": "execute_result"
    }
   ],
   "source": [
    "results.summary()"
   ]
  },
  {
   "cell_type": "markdown",
   "metadata": {},
   "source": [
    "We can test whether regressors related to the age of the customer are jointly significant. "
   ]
  },
  {
   "cell_type": "code",
   "execution_count": 40,
   "metadata": {},
   "outputs": [
    {
     "data": {
      "text/plain": [
       "3.970762798615161e-61"
      ]
     },
     "execution_count": 40,
     "metadata": {},
     "output_type": "execute_result"
    }
   ],
   "source": [
    "hypotheses = '(Age = 0), (AgexMarried = 0), (AgexGraduated = 0)'\n",
    "f_test = results.f_test(hypotheses)\n",
    "float(f_test.pvalue)"
   ]
  },
  {
   "cell_type": "markdown",
   "metadata": {},
   "source": [
    "And the p-value is very low, indicating that we can reject the null hypothesis and assert that the coefficients are jointly statistically significant. \n",
    "\n",
    "We can now compute by how much an increase by 1 of age multiplies the odds of belonging to the D segment for a married and graduated individual."
   ]
  },
  {
   "cell_type": "code",
   "execution_count": 41,
   "metadata": {},
   "outputs": [
    {
     "data": {
      "text/plain": [
       "0.9792257010676886"
      ]
     },
     "execution_count": 41,
     "metadata": {},
     "output_type": "execute_result"
    }
   ],
   "source": [
    "# odds_variation\n",
    "odds_variation = np.exp(results.params['Age'] + results.params['AgexMarried'] + results.params['AgexGraduated'])\n",
    "\n",
    "odds_variation"
   ]
  },
  {
   "cell_type": "markdown",
   "metadata": {},
   "source": [
    "Hence, an increase in age for a married and graduated individual reduces the odds of being in the group D."
   ]
  },
  {
   "cell_type": "markdown",
   "metadata": {},
   "source": [
    "####  💾 Save your results\n",
    "\n",
    "Run the following cell to save your results."
   ]
  },
  {
   "cell_type": "code",
   "execution_count": 42,
   "metadata": {},
   "outputs": [],
   "source": [
    "ChallengeResult('segment_d', p_value=p_value, odds=odds, gap=odds_variation).write()"
   ]
  },
  {
   "cell_type": "markdown",
   "metadata": {},
   "source": [
    "**⚠️ Save your notebook then commit and push your code on GitHub**"
   ]
  }
 ],
 "metadata": {
  "kernelspec": {
   "display_name": "Python 3",
   "language": "python",
   "name": "python3"
  },
  "language_info": {
   "codemirror_mode": {
    "name": "ipython",
    "version": 3
   },
   "file_extension": ".py",
   "mimetype": "text/x-python",
   "name": "python",
   "nbconvert_exporter": "python",
   "pygments_lexer": "ipython3",
   "version": "3.7.7"
  },
  "toc": {
   "base_numbering": 1,
   "nav_menu": {},
   "number_sections": true,
   "sideBar": true,
   "skip_h1_title": true,
   "title_cell": "Table of Contents",
   "title_sidebar": "Contents",
   "toc_cell": false,
   "toc_position": {},
   "toc_section_display": true,
   "toc_window_display": true
  },
  "varInspector": {
   "cols": {
    "lenName": 16,
    "lenType": 16,
    "lenVar": 40
   },
   "kernels_config": {
    "python": {
     "delete_cmd_postfix": "",
     "delete_cmd_prefix": "del ",
     "library": "var_list.py",
     "varRefreshCmd": "print(var_dic_list())"
    },
    "r": {
     "delete_cmd_postfix": ") ",
     "delete_cmd_prefix": "rm(",
     "library": "var_list.r",
     "varRefreshCmd": "cat(var_dic_list()) "
    }
   },
   "types_to_exclude": [
    "module",
    "function",
    "builtin_function_or_method",
    "instance",
    "_Feature"
   ],
   "window_display": false
  }
 },
 "nbformat": 4,
 "nbformat_minor": 4
}
