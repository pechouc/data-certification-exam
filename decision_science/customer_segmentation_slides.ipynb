{
 "cells": [
  {
   "cell_type": "markdown",
   "metadata": {
    "slideshow": {
     "slide_type": "skip"
    }
   },
   "source": [
    "**NB:** this notebook is used to produce the slides for the 2.1. section of the exam."
   ]
  },
  {
   "cell_type": "markdown",
   "metadata": {
    "slideshow": {
     "slide_type": "skip"
    }
   },
   "source": [
    "# Imports and Useful Functions"
   ]
  },
  {
   "cell_type": "code",
   "execution_count": 4,
   "metadata": {
    "slideshow": {
     "slide_type": "skip"
    }
   },
   "outputs": [],
   "source": [
    "import numpy as np\n",
    "import pandas as pd\n",
    "\n",
    "import matplotlib.pyplot as plt\n",
    "import matplotlib.ticker as mtick\n",
    "import seaborn as sns"
   ]
  },
  {
   "cell_type": "code",
   "execution_count": 5,
   "metadata": {
    "slideshow": {
     "slide_type": "skip"
    }
   },
   "outputs": [],
   "source": [
    "def get_data():\n",
    "    url = 'https://wagon-public-datasets.s3.amazonaws.com/certification_paris_2021Q1/customers.csv'\n",
    "\n",
    "    customers = pd.read_csv(url)\n",
    "    \n",
    "    return customers.copy()"
   ]
  },
  {
   "cell_type": "code",
   "execution_count": 57,
   "metadata": {
    "slideshow": {
     "slide_type": "skip"
    }
   },
   "outputs": [],
   "source": [
    "def plot_first_graph():\n",
    "    customers = get_data()\n",
    "\n",
    "    plot_data = customers.groupby('Segmentation').count()['ID']\n",
    "\n",
    "    plt.bar(x=plot_data.index, height=plot_data, width=0.5, color='darkblue')\n",
    "\n",
    "    plt.title('Number of customers per segment')\n",
    "    \n",
    "    plt.show()"
   ]
  },
  {
   "cell_type": "code",
   "execution_count": 6,
   "metadata": {
    "slideshow": {
     "slide_type": "skip"
    }
   },
   "outputs": [],
   "source": [
    "def get_pivot_tables():\n",
    "    customers = get_data()\n",
    "    \n",
    "    top_three_professions = lambda x: ' - '.join(list(x.value_counts()[:3].index))\n",
    "    pct_females = lambda x: x.value_counts(normalize=True).Female\n",
    "    pct_married_or_graduated = lambda x: x.value_counts(normalize=True).Yes\n",
    "    spending_score = lambda x: ' - '.join(list(x.value_counts().index))\n",
    "\n",
    "    aggregation_rule = {\n",
    "        'Age': 'mean', \n",
    "        'Profession': top_three_professions,\n",
    "        'Gender': pct_females,\n",
    "        'Ever_Married': pct_married_or_graduated,\n",
    "        'Graduated': pct_married_or_graduated,\n",
    "        'Work_Experience': 'mean',\n",
    "        'Family_Size': 'mean',\n",
    "        'Spending_Score': spending_score\n",
    "    }\n",
    "\n",
    "    pivot_table = customers.drop(columns='ID').groupby('Segmentation').agg(aggregation_rule)\n",
    "\n",
    "    column_names = {\n",
    "        'Age': 'Average age',\n",
    "        'Profession': 'Top three professions',\n",
    "        'Gender': 'Percentage of females', \n",
    "        'Ever_Married': 'Percentage having been married',\n",
    "        'Graduated': 'Degree holder percentage',\n",
    "        'Work_Experience': 'Average work experience',\n",
    "        'Family_Size': 'Average family size', \n",
    "        'Spending_Score': 'Spending score frequency order'\n",
    "    }\n",
    "\n",
    "    pivot_table.rename(columns=column_names, inplace=True)\n",
    "\n",
    "    pivot_table_quanti = pivot_table.drop(columns=['Top three professions', 'Spending score frequency order']).copy()\n",
    "    pivot_table_quali = pivot_table[['Top three professions', 'Spending score frequency order']].copy()\n",
    "    \n",
    "    return pivot_table_quanti, pivot_table_quali"
   ]
  },
  {
   "cell_type": "code",
   "execution_count": 43,
   "metadata": {
    "slideshow": {
     "slide_type": "skip"
    }
   },
   "outputs": [],
   "source": [
    "def plot_quanti_graphs():\n",
    "    pivot_table_quanti = get_pivot_tables()[0]\n",
    "    \n",
    "    fig, axes = plt.subplots(nrows=2, ncols=3, figsize=(15, 7))\n",
    "\n",
    "    for column_name, ax in zip(sorted(list(pivot_table_quanti.columns)), axes.flatten()):\n",
    "        ax.bar(x=pivot_table_quanti.index, height=pivot_table_quanti[column_name], color='darkblue', width = 0.5)\n",
    "        if column_name in ['Percentage of females', 'Percentage having been married', 'Degree holder percentage']:\n",
    "            ax.yaxis.set_major_formatter(mtick.PercentFormatter(1.0))\n",
    "        ax.set_title(column_name)\n",
    "        \n",
    "    plt.show()"
   ]
  },
  {
   "cell_type": "code",
   "execution_count": 77,
   "metadata": {
    "slideshow": {
     "slide_type": "skip"
    }
   },
   "outputs": [],
   "source": [
    "def build_comparison(column_name):\n",
    "    customers = get_data()\n",
    "    \n",
    "    if column_name == 'Profession':\n",
    "        output_column_name = 'Professional Category'\n",
    "    elif column_name == 'Spending_Score':\n",
    "        output_column_name = 'Size of the First Order'\n",
    "\n",
    "    customers_A = customers[customers['Segmentation'] == 'A'].copy()\n",
    "    customers_B = customers[customers['Segmentation'] == 'B'].copy()\n",
    "\n",
    "    customers_A = customers_A[column_name].value_counts(normalize=True).reset_index()\n",
    "    customers_A = customers_A.rename(columns={\n",
    "        'index': output_column_name,\n",
    "        column_name: 'Share of segment A (%)'\n",
    "    })\n",
    "    customers_A['Share of segment A (%)'] = customers_A['Share of segment A (%)'].map(lambda x: round(x * 100, 2))\n",
    "\n",
    "    customers_B = customers_B[column_name].value_counts(normalize=True).reset_index()\n",
    "    customers_B = customers_B.rename(columns={\n",
    "        'index': output_column_name,\n",
    "        column_name: 'Share of segment B (%)'\n",
    "    })\n",
    "    customers_B['Share of segment B (%)'] = customers_B['Share of segment B (%)'].map(lambda x: round(x * 100, 2))\n",
    "    \n",
    "    return customers_A.merge(customers_B, on=output_column_name, how='inner').set_index(output_column_name)"
   ]
  },
  {
   "cell_type": "code",
   "execution_count": 124,
   "metadata": {
    "slideshow": {
     "slide_type": "skip"
    }
   },
   "outputs": [],
   "source": [
    "def plot_comparison(column_name):\n",
    "    plt.figure(figsize=(10, 2.5))    \n",
    "    \n",
    "    plot_data = build_comparison(column_name)\n",
    "    \n",
    "    bar1 = np.arange(len(plot_data.index))\n",
    "    bar2 = np.arange(len(plot_data.index)) + 0.3\n",
    "    \n",
    "    plt.bar(x=bar1, height=plot_data['Share of segment A (%)'], label='Segment A', width=0.3, color='darkblue')\n",
    "    plt.bar(x=bar2, height=plot_data['Share of segment B (%)'], label='Segment B', width=0.3, color='darkred')\n",
    "    \n",
    "    plt.xticks((bar1 + bar2)/2, plot_data.index, rotation=20)\n",
    "    \n",
    "    plt.legend(loc='best')\n",
    "    \n",
    "    plt.show()"
   ]
  },
  {
   "cell_type": "markdown",
   "metadata": {
    "slideshow": {
     "slide_type": "slide"
    }
   },
   "source": [
    "# Las Wagones - 03/18/2021\n",
    "## Customer Segmentation Overview"
   ]
  },
  {
   "cell_type": "markdown",
   "metadata": {
    "slideshow": {
     "slide_type": "subslide"
    }
   },
   "source": [
    "### What is at stake?"
   ]
  },
  {
   "cell_type": "markdown",
   "metadata": {},
   "source": [
    "The Sales team of *Las Wagones* has identified 4 - rather balanced - customer segments based on a study of the historical buying behavior of the customers."
   ]
  },
  {
   "cell_type": "code",
   "execution_count": 60,
   "metadata": {},
   "outputs": [
    {
     "data": {
      "image/png": "[encoded data removed]",
      "text/plain": [
       "<Figure size 432x288 with 1 Axes>"
      ]
     },
     "metadata": {
      "needs_background": "light"
     },
     "output_type": "display_data"
    }
   ],
   "source": [
    "plot_first_graph()"
   ]
  },
  {
   "cell_type": "markdown",
   "metadata": {},
   "source": [
    "In order to better understand who are the customers behind these segments, we want to identify the key differentiation criteria that characterize these four groups. Indeed these criteria might not be obvious at first glance!"
   ]
  },
  {
   "cell_type": "markdown",
   "metadata": {
    "slideshow": {
     "slide_type": "subslide"
    }
   },
   "source": [
    "### Quantitative Differentiation Criteria"
   ]
  },
  {
   "cell_type": "code",
   "execution_count": 44,
   "metadata": {
    "slideshow": {
     "slide_type": "-"
    }
   },
   "outputs": [
    {
     "data": {
      "image/png": "[encoded data removed]",
      "text/plain": [
       "<Figure size 1080x504 with 6 Axes>"
      ]
     },
     "metadata": {
      "needs_background": "light"
     },
     "output_type": "display_data"
    }
   ],
   "source": [
    "plot_quanti_graphs()"
   ]
  },
  {
   "cell_type": "markdown",
   "metadata": {
    "slideshow": {
     "slide_type": "-"
    }
   },
   "source": [
    "**Key observation:** With younger individuals, larger families, more work experience, less degree holders and less married individuals, the D segment clearly stands out."
   ]
  },
  {
   "cell_type": "markdown",
   "metadata": {
    "slideshow": {
     "slide_type": "subslide"
    }
   },
   "source": [
    "### Qualitative Differentiation Criteria"
   ]
  },
  {
   "cell_type": "markdown",
   "metadata": {},
   "source": [
    "We retrieve this strong differentiation of segment D in the profession mix. Interestingly, this segment seems to display strong variations in the size of the first order with more \"Low\" and \"High\" ones. "
   ]
  },
  {
   "cell_type": "code",
   "execution_count": 45,
   "metadata": {},
   "outputs": [
    {
     "data": {
      "text/html": [
       "<div>\n",
       "<style scoped>\n",
       "    .dataframe tbody tr th:only-of-type {\n",
       "        vertical-align: middle;\n",
       "    }\n",
       "\n",
       "    .dataframe tbody tr th {\n",
       "        vertical-align: top;\n",
       "    }\n",
       "\n",
       "    .dataframe thead th {\n",
       "        text-align: right;\n",
       "    }\n",
       "</style>\n",
       "<table border=\"1\" class=\"dataframe\">\n",
       "  <thead>\n",
       "    <tr style=\"text-align: right;\">\n",
       "      <th></th>\n",
       "      <th>Top three professions</th>\n",
       "      <th>Spending score frequency order</th>\n",
       "    </tr>\n",
       "    <tr>\n",
       "      <th>Segmentation</th>\n",
       "      <th></th>\n",
       "      <th></th>\n",
       "    </tr>\n",
       "  </thead>\n",
       "  <tbody>\n",
       "    <tr>\n",
       "      <th>A</th>\n",
       "      <td>Artist - Entertainment - Engineer</td>\n",
       "      <td>Low - Average - High</td>\n",
       "    </tr>\n",
       "    <tr>\n",
       "      <th>B</th>\n",
       "      <td>Artist - Entertainment - Engineer</td>\n",
       "      <td>Low - Average - High</td>\n",
       "    </tr>\n",
       "    <tr>\n",
       "      <th>C</th>\n",
       "      <td>Artist - Executive - Entertainment</td>\n",
       "      <td>Average - Low - High</td>\n",
       "    </tr>\n",
       "    <tr>\n",
       "      <th>D</th>\n",
       "      <td>Healthcare - Entertainment - Doctor</td>\n",
       "      <td>Low - High - Average</td>\n",
       "    </tr>\n",
       "  </tbody>\n",
       "</table>\n",
       "</div>"
      ],
      "text/plain": [
       "                            Top three professions  \\\n",
       "Segmentation                                        \n",
       "A               Artist - Entertainment - Engineer   \n",
       "B               Artist - Entertainment - Engineer   \n",
       "C              Artist - Executive - Entertainment   \n",
       "D             Healthcare - Entertainment - Doctor   \n",
       "\n",
       "             Spending score frequency order  \n",
       "Segmentation                                 \n",
       "A                      Low - Average - High  \n",
       "B                      Low - Average - High  \n",
       "C                      Average - Low - High  \n",
       "D                      Low - High - Average  "
      ]
     },
     "execution_count": 45,
     "metadata": {},
     "output_type": "execute_result"
    }
   ],
   "source": [
    "get_pivot_tables()[1]"
   ]
  },
  {
   "cell_type": "markdown",
   "metadata": {
    "slideshow": {
     "slide_type": "-"
    }
   },
   "source": [
    "**Additional observation:** In previous graphs, C displayed a larger share of individuals holding a degree and it appears as the only segment in which \"Executives\" are among the most represented professions.  \n",
    "\n",
    "This constatation, associated with the higher number of married individuals and the relatively large size of families, differentiates segment C."
   ]
  },
  {
   "cell_type": "markdown",
   "metadata": {
    "slideshow": {
     "slide_type": "subslide"
    }
   },
   "source": [
    "### Focus on A and B segments "
   ]
  },
  {
   "cell_type": "markdown",
   "metadata": {},
   "source": [
    "The profession mix does not seem strongly distinctive for these two segments, except maybe the share of artists. The size of the first order is however more telling."
   ]
  },
  {
   "cell_type": "code",
   "execution_count": 125,
   "metadata": {
    "scrolled": false
   },
   "outputs": [
    {
     "data": {
      "image/png": "[encoded data removed]",
      "text/plain": [
       "<Figure size 720x180 with 1 Axes>"
      ]
     },
     "metadata": {
      "needs_background": "light"
     },
     "output_type": "display_data"
    },
    {
     "data": {
      "image/png": "[encoded data removed]",
      "text/plain": [
       "<Figure size 720x180 with 1 Axes>"
      ]
     },
     "metadata": {
      "needs_background": "light"
     },
     "output_type": "display_data"
    }
   ],
   "source": [
    "plot_comparison('Profession'), plot_comparison('Spending_Score');"
   ]
  }
 ],
 "metadata": {
  "celltoolbar": "Slideshow",
  "kernelspec": {
   "display_name": "Python 3",
   "language": "python",
   "name": "python3"
  },
  "language_info": {
   "codemirror_mode": {
    "name": "ipython",
    "version": 3
   },
   "file_extension": ".py",
   "mimetype": "text/x-python",
   "name": "python",
   "nbconvert_exporter": "python",
   "pygments_lexer": "ipython3",
   "version": "3.7.7"
  },
  "toc": {
   "base_numbering": 1,
   "nav_menu": {},
   "number_sections": false,
   "sideBar": true,
   "skip_h1_title": false,
   "title_cell": "Table of Contents",
   "title_sidebar": "Contents",
   "toc_cell": false,
   "toc_position": {},
   "toc_section_display": true,
   "toc_window_display": false
  }
 },
 "nbformat": 4,
 "nbformat_minor": 4
}
