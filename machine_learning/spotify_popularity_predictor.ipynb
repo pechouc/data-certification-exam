{
 "cells": [
  {
   "cell_type": "code",
   "execution_count": 122,
   "metadata": {},
   "outputs": [],
   "source": [
    "# Imports\n",
    "import numpy as np\n",
    "import pandas as pd\n",
    "\n",
    "import matplotlib.pyplot as plt\n",
    "import seaborn as sns\n",
    "\n",
    "from sklearn.model_selection import cross_validate, train_test_split, GridSearchCV, RandomizedSearchCV\n",
    "from sklearn.metrics import mean_squared_error\n",
    "from sklearn.linear_model import LinearRegression, Lasso\n",
    "from sklearn.pipeline import Pipeline\n",
    "from sklearn.compose import ColumnTransformer\n",
    "from sklearn.preprocessing import MinMaxScaler, RobustScaler, OneHotEncoder\n",
    "\n",
    "from xgboost import XGBRegressor\n",
    "\n",
    "from scipy.stats import randint, uniform"
   ]
  },
  {
   "cell_type": "markdown",
   "metadata": {},
   "source": [
    "# Spotify Popularity Predictor (39%)"
   ]
  },
  {
   "cell_type": "markdown",
   "metadata": {},
   "source": [
    "The goal of this challenge is to create a model that predicts the popularity of a song based on its features.\n",
    "\n",
    "The dataset contains a list of tracks with the following characteristics:\n",
    "- `acousticness`: whether the track is acoustic\n",
    "- `danceability`: describes how suitable a track is for dancing\n",
    "- `duration_ms`: duration of the track in milliseconds\n",
    "- `energy`: represents a perceptual measure of intensity and activity\n",
    "- `explicit`: whether the track has explicit lyrics\n",
    "- `id`: id for the track\n",
    "- `instrumentalness`: predicts whether a track contains no vocals\n",
    "- `key`: the key the track is in\n",
    "- `liveness`: detects the presence of an audience in the recording\n",
    "- `loudness`: the overall loudness of a track in decibels\n",
    "- `mode`: modality of a track\n",
    "- `name`: name of the track\n",
    "- `popularity`: popularity of the track\n",
    "- `release_date`: release date\n",
    "- `speechiness`: detects the presence of spoken words in a track\n",
    "- `tempo`: overall estimated tempo of a track in beats per minute\n",
    "- `valence`: describes the musical positiveness conveyed by a track\n",
    "- `artist`: artist who performed the track"
   ]
  },
  {
   "cell_type": "markdown",
   "metadata": {},
   "source": [
    "# Model"
   ]
  },
  {
   "cell_type": "markdown",
   "metadata": {
    "heading_collapsed": true
   },
   "source": [
    "## Data collection\n",
    "\n",
    "**📝 Load the `spotify_popularity_train.csv` dataset from the provided URL. Display the first few rows. Perform the usual cleaning operations. Store the result in a `DataFrame` named `data`.**\n",
    "\n",
    "👉 Do not forget to clean the dataset"
   ]
  },
  {
   "cell_type": "code",
   "execution_count": 2,
   "metadata": {
    "hidden": true
   },
   "outputs": [],
   "source": [
    "url = \"https://wagon-public-datasets.s3.amazonaws.com/certification_paris_2021Q1/spotify_popularity_train.csv\""
   ]
  },
  {
   "cell_type": "code",
   "execution_count": 3,
   "metadata": {
    "hidden": true
   },
   "outputs": [
    {
     "data": {
      "text/html": [
       "<div>\n",
       "<style scoped>\n",
       "    .dataframe tbody tr th:only-of-type {\n",
       "        vertical-align: middle;\n",
       "    }\n",
       "\n",
       "    .dataframe tbody tr th {\n",
       "        vertical-align: top;\n",
       "    }\n",
       "\n",
       "    .dataframe thead th {\n",
       "        text-align: right;\n",
       "    }\n",
       "</style>\n",
       "<table border=\"1\" class=\"dataframe\">\n",
       "  <thead>\n",
       "    <tr style=\"text-align: right;\">\n",
       "      <th></th>\n",
       "      <th>acousticness</th>\n",
       "      <th>danceability</th>\n",
       "      <th>duration_ms</th>\n",
       "      <th>energy</th>\n",
       "      <th>explicit</th>\n",
       "      <th>id</th>\n",
       "      <th>instrumentalness</th>\n",
       "      <th>key</th>\n",
       "      <th>liveness</th>\n",
       "      <th>loudness</th>\n",
       "      <th>mode</th>\n",
       "      <th>name</th>\n",
       "      <th>popularity</th>\n",
       "      <th>release_date</th>\n",
       "      <th>speechiness</th>\n",
       "      <th>tempo</th>\n",
       "      <th>valence</th>\n",
       "      <th>artist</th>\n",
       "    </tr>\n",
       "  </thead>\n",
       "  <tbody>\n",
       "    <tr>\n",
       "      <th>0</th>\n",
       "      <td>0.65400</td>\n",
       "      <td>0.499</td>\n",
       "      <td>219827</td>\n",
       "      <td>0.190</td>\n",
       "      <td>0</td>\n",
       "      <td>0B6BeEUd6UwFlbsHMQKjob</td>\n",
       "      <td>0.00409</td>\n",
       "      <td>7</td>\n",
       "      <td>0.0898</td>\n",
       "      <td>-16.435</td>\n",
       "      <td>1</td>\n",
       "      <td>Back in the Goodle Days</td>\n",
       "      <td>40</td>\n",
       "      <td>1971</td>\n",
       "      <td>0.0454</td>\n",
       "      <td>149.460</td>\n",
       "      <td>0.4300</td>\n",
       "      <td>John Hartford</td>\n",
       "    </tr>\n",
       "    <tr>\n",
       "      <th>1</th>\n",
       "      <td>0.00592</td>\n",
       "      <td>0.439</td>\n",
       "      <td>483948</td>\n",
       "      <td>0.808</td>\n",
       "      <td>0</td>\n",
       "      <td>5Gpx4lJy3vKmIvjwbiR5c8</td>\n",
       "      <td>0.14000</td>\n",
       "      <td>2</td>\n",
       "      <td>0.0890</td>\n",
       "      <td>-8.497</td>\n",
       "      <td>1</td>\n",
       "      <td>Worlds Which Break Us - Intro Mix</td>\n",
       "      <td>22</td>\n",
       "      <td>2015-02-02</td>\n",
       "      <td>0.0677</td>\n",
       "      <td>138.040</td>\n",
       "      <td>0.0587</td>\n",
       "      <td>Driftmoon</td>\n",
       "    </tr>\n",
       "    <tr>\n",
       "      <th>2</th>\n",
       "      <td>0.73400</td>\n",
       "      <td>0.523</td>\n",
       "      <td>245693</td>\n",
       "      <td>0.288</td>\n",
       "      <td>0</td>\n",
       "      <td>7MxuUYqrCIy93h1EEHrIrL</td>\n",
       "      <td>0.00000</td>\n",
       "      <td>0</td>\n",
       "      <td>0.0771</td>\n",
       "      <td>-11.506</td>\n",
       "      <td>1</td>\n",
       "      <td>I'm The Greatest Star</td>\n",
       "      <td>40</td>\n",
       "      <td>1968-09-01</td>\n",
       "      <td>0.2140</td>\n",
       "      <td>75.869</td>\n",
       "      <td>0.4640</td>\n",
       "      <td>Barbra Streisand</td>\n",
       "    </tr>\n",
       "  </tbody>\n",
       "</table>\n",
       "</div>"
      ],
      "text/plain": [
       "   acousticness  danceability  duration_ms  energy  explicit  \\\n",
       "0       0.65400         0.499       219827   0.190         0   \n",
       "1       0.00592         0.439       483948   0.808         0   \n",
       "2       0.73400         0.523       245693   0.288         0   \n",
       "\n",
       "                       id  instrumentalness  key  liveness  loudness  mode  \\\n",
       "0  0B6BeEUd6UwFlbsHMQKjob           0.00409    7    0.0898   -16.435     1   \n",
       "1  5Gpx4lJy3vKmIvjwbiR5c8           0.14000    2    0.0890    -8.497     1   \n",
       "2  7MxuUYqrCIy93h1EEHrIrL           0.00000    0    0.0771   -11.506     1   \n",
       "\n",
       "                                name  popularity release_date  speechiness  \\\n",
       "0            Back in the Goodle Days          40         1971       0.0454   \n",
       "1  Worlds Which Break Us - Intro Mix          22   2015-02-02       0.0677   \n",
       "2              I'm The Greatest Star          40   1968-09-01       0.2140   \n",
       "\n",
       "     tempo  valence            artist  \n",
       "0  149.460   0.4300     John Hartford  \n",
       "1  138.040   0.0587         Driftmoon  \n",
       "2   75.869   0.4640  Barbra Streisand  "
      ]
     },
     "execution_count": 3,
     "metadata": {},
     "output_type": "execute_result"
    }
   ],
   "source": [
    "data = pd.read_csv(url)\n",
    "data.head(3)"
   ]
  },
  {
   "cell_type": "markdown",
   "metadata": {
    "hidden": true
   },
   "source": [
    "Let us have a look at potentially missing values. "
   ]
  },
  {
   "cell_type": "code",
   "execution_count": 4,
   "metadata": {
    "hidden": true
   },
   "outputs": [
    {
     "data": {
      "text/plain": [
       "acousticness        0\n",
       "danceability        0\n",
       "duration_ms         0\n",
       "energy              0\n",
       "explicit            0\n",
       "id                  0\n",
       "instrumentalness    0\n",
       "key                 0\n",
       "liveness            0\n",
       "loudness            0\n",
       "mode                0\n",
       "name                0\n",
       "popularity          0\n",
       "release_date        0\n",
       "speechiness         0\n",
       "tempo               0\n",
       "valence             0\n",
       "artist              4\n",
       "dtype: int64"
      ]
     },
     "execution_count": 4,
     "metadata": {},
     "output_type": "execute_result"
    }
   ],
   "source": [
    "data.isnull().sum()"
   ]
  },
  {
   "cell_type": "markdown",
   "metadata": {
    "hidden": true
   },
   "source": [
    "It seems that 4 songs do not display any artist. "
   ]
  },
  {
   "cell_type": "code",
   "execution_count": 5,
   "metadata": {
    "hidden": true
   },
   "outputs": [
    {
     "data": {
      "text/html": [
       "<div>\n",
       "<style scoped>\n",
       "    .dataframe tbody tr th:only-of-type {\n",
       "        vertical-align: middle;\n",
       "    }\n",
       "\n",
       "    .dataframe tbody tr th {\n",
       "        vertical-align: top;\n",
       "    }\n",
       "\n",
       "    .dataframe thead th {\n",
       "        text-align: right;\n",
       "    }\n",
       "</style>\n",
       "<table border=\"1\" class=\"dataframe\">\n",
       "  <thead>\n",
       "    <tr style=\"text-align: right;\">\n",
       "      <th></th>\n",
       "      <th>acousticness</th>\n",
       "      <th>danceability</th>\n",
       "      <th>duration_ms</th>\n",
       "      <th>energy</th>\n",
       "      <th>explicit</th>\n",
       "      <th>id</th>\n",
       "      <th>instrumentalness</th>\n",
       "      <th>key</th>\n",
       "      <th>liveness</th>\n",
       "      <th>loudness</th>\n",
       "      <th>mode</th>\n",
       "      <th>name</th>\n",
       "      <th>popularity</th>\n",
       "      <th>release_date</th>\n",
       "      <th>speechiness</th>\n",
       "      <th>tempo</th>\n",
       "      <th>valence</th>\n",
       "      <th>artist</th>\n",
       "    </tr>\n",
       "  </thead>\n",
       "  <tbody>\n",
       "    <tr>\n",
       "      <th>12850</th>\n",
       "      <td>0.517</td>\n",
       "      <td>0.613</td>\n",
       "      <td>191867</td>\n",
       "      <td>0.549</td>\n",
       "      <td>0</td>\n",
       "      <td>3NWCbI2VtW80g8cZG3QHIx</td>\n",
       "      <td>0.4440</td>\n",
       "      <td>7</td>\n",
       "      <td>0.0412</td>\n",
       "      <td>-7.648</td>\n",
       "      <td>1</td>\n",
       "      <td>easy going</td>\n",
       "      <td>0</td>\n",
       "      <td>1935</td>\n",
       "      <td>0.0327</td>\n",
       "      <td>83.967</td>\n",
       "      <td>0.583</td>\n",
       "      <td>NaN</td>\n",
       "    </tr>\n",
       "    <tr>\n",
       "      <th>17924</th>\n",
       "      <td>0.732</td>\n",
       "      <td>0.535</td>\n",
       "      <td>279600</td>\n",
       "      <td>0.435</td>\n",
       "      <td>0</td>\n",
       "      <td>0cSyeb33PyBMtLeUzCgDgO</td>\n",
       "      <td>0.2530</td>\n",
       "      <td>4</td>\n",
       "      <td>0.1190</td>\n",
       "      <td>-9.021</td>\n",
       "      <td>0</td>\n",
       "      <td>concerto piccolo</td>\n",
       "      <td>0</td>\n",
       "      <td>1935</td>\n",
       "      <td>0.0303</td>\n",
       "      <td>106.124</td>\n",
       "      <td>0.205</td>\n",
       "      <td>NaN</td>\n",
       "    </tr>\n",
       "    <tr>\n",
       "      <th>22383</th>\n",
       "      <td>0.758</td>\n",
       "      <td>0.376</td>\n",
       "      <td>189560</td>\n",
       "      <td>0.332</td>\n",
       "      <td>0</td>\n",
       "      <td>3gWhV34vWEBwguH0RP2w7j</td>\n",
       "      <td>0.0482</td>\n",
       "      <td>3</td>\n",
       "      <td>0.0766</td>\n",
       "      <td>-8.420</td>\n",
       "      <td>1</td>\n",
       "      <td>comfort ye my people</td>\n",
       "      <td>0</td>\n",
       "      <td>1935</td>\n",
       "      <td>0.0296</td>\n",
       "      <td>91.840</td>\n",
       "      <td>0.260</td>\n",
       "      <td>NaN</td>\n",
       "    </tr>\n",
       "    <tr>\n",
       "      <th>32011</th>\n",
       "      <td>0.981</td>\n",
       "      <td>0.492</td>\n",
       "      <td>236733</td>\n",
       "      <td>0.286</td>\n",
       "      <td>0</td>\n",
       "      <td>2nUaz5sLG0HccdACC1IG35</td>\n",
       "      <td>0.8920</td>\n",
       "      <td>3</td>\n",
       "      <td>0.1430</td>\n",
       "      <td>-8.966</td>\n",
       "      <td>1</td>\n",
       "      <td>i know that my redeemer liveth</td>\n",
       "      <td>0</td>\n",
       "      <td>1935</td>\n",
       "      <td>0.0336</td>\n",
       "      <td>87.973</td>\n",
       "      <td>0.273</td>\n",
       "      <td>NaN</td>\n",
       "    </tr>\n",
       "  </tbody>\n",
       "</table>\n",
       "</div>"
      ],
      "text/plain": [
       "       acousticness  danceability  duration_ms  energy  explicit  \\\n",
       "12850         0.517         0.613       191867   0.549         0   \n",
       "17924         0.732         0.535       279600   0.435         0   \n",
       "22383         0.758         0.376       189560   0.332         0   \n",
       "32011         0.981         0.492       236733   0.286         0   \n",
       "\n",
       "                           id  instrumentalness  key  liveness  loudness  \\\n",
       "12850  3NWCbI2VtW80g8cZG3QHIx            0.4440    7    0.0412    -7.648   \n",
       "17924  0cSyeb33PyBMtLeUzCgDgO            0.2530    4    0.1190    -9.021   \n",
       "22383  3gWhV34vWEBwguH0RP2w7j            0.0482    3    0.0766    -8.420   \n",
       "32011  2nUaz5sLG0HccdACC1IG35            0.8920    3    0.1430    -8.966   \n",
       "\n",
       "       mode                            name  popularity release_date  \\\n",
       "12850     1                      easy going           0         1935   \n",
       "17924     0                concerto piccolo           0         1935   \n",
       "22383     1            comfort ye my people           0         1935   \n",
       "32011     1  i know that my redeemer liveth           0         1935   \n",
       "\n",
       "       speechiness    tempo  valence artist  \n",
       "12850       0.0327   83.967    0.583    NaN  \n",
       "17924       0.0303  106.124    0.205    NaN  \n",
       "22383       0.0296   91.840    0.260    NaN  \n",
       "32011       0.0336   87.973    0.273    NaN  "
      ]
     },
     "execution_count": 5,
     "metadata": {},
     "output_type": "execute_result"
    }
   ],
   "source": [
    "data[data['artist'].isnull()]"
   ]
  },
  {
   "cell_type": "markdown",
   "metadata": {
    "hidden": true
   },
   "source": [
    "This can be put in relation with the overall number of observations in the dataset:"
   ]
  },
  {
   "cell_type": "code",
   "execution_count": 6,
   "metadata": {
    "hidden": true
   },
   "outputs": [
    {
     "data": {
      "text/plain": [
       "(52317, 18)"
      ]
     },
     "execution_count": 6,
     "metadata": {},
     "output_type": "execute_result"
    }
   ],
   "source": [
    "data.shape"
   ]
  },
  {
   "cell_type": "markdown",
   "metadata": {
    "hidden": true
   },
   "source": [
    "Since `artist` is likely to be a variable of close interest in our modelling task, we are going to drop these 4 lines."
   ]
  },
  {
   "cell_type": "code",
   "execution_count": 7,
   "metadata": {
    "hidden": true
   },
   "outputs": [],
   "source": [
    "data.dropna(inplace=True)"
   ]
  },
  {
   "cell_type": "markdown",
   "metadata": {
    "hidden": true
   },
   "source": [
    "Let us now check data types."
   ]
  },
  {
   "cell_type": "code",
   "execution_count": 8,
   "metadata": {
    "hidden": true
   },
   "outputs": [
    {
     "data": {
      "text/plain": [
       "acousticness        float64\n",
       "danceability        float64\n",
       "duration_ms           int64\n",
       "energy              float64\n",
       "explicit              int64\n",
       "id                   object\n",
       "instrumentalness    float64\n",
       "key                   int64\n",
       "liveness            float64\n",
       "loudness            float64\n",
       "mode                  int64\n",
       "name                 object\n",
       "popularity            int64\n",
       "release_date         object\n",
       "speechiness         float64\n",
       "tempo               float64\n",
       "valence             float64\n",
       "artist               object\n",
       "dtype: object"
      ]
     },
     "execution_count": 8,
     "metadata": {},
     "output_type": "execute_result"
    }
   ],
   "source": [
    "data.dtypes"
   ]
  },
  {
   "cell_type": "markdown",
   "metadata": {
    "hidden": true
   },
   "source": [
    "The `release_date` is not a datetime object. We might want to make this change. Let us first look at the few release dates drawn randomly to check if they have the same format."
   ]
  },
  {
   "cell_type": "code",
   "execution_count": 9,
   "metadata": {
    "hidden": true
   },
   "outputs": [
    {
     "data": {
      "text/plain": [
       "5839           1968\n",
       "29166    2020-04-15\n",
       "3026     1954-01-01\n",
       "28229    1997-06-17\n",
       "43775    1997-04-18\n",
       "48150          1965\n",
       "14362    1940-11-22\n",
       "27987    1945-02-01\n",
       "40550    1990-01-01\n",
       "37042    1993-11-15\n",
       "Name: release_date, dtype: object"
      ]
     },
     "execution_count": 9,
     "metadata": {},
     "output_type": "execute_result"
    }
   ],
   "source": [
    "data['release_date'].sample(10)"
   ]
  },
  {
   "cell_type": "markdown",
   "metadata": {
    "hidden": true
   },
   "source": [
    "Sometimes, we have the full date and sometimes, we have only the year. But even when we have the full date, there are surprisingly many songs released on Jan. 1st, which could indicate that only the year is relevant in such a case and the day of the year is arbitrary. \n",
    "\n",
    "We are now changing the data type to datetime one, keeping in mind that mostly the year will be relevant."
   ]
  },
  {
   "cell_type": "code",
   "execution_count": 10,
   "metadata": {
    "hidden": true
   },
   "outputs": [],
   "source": [
    "data['release_date'] = pd.to_datetime(data['release_date'])"
   ]
  },
  {
   "cell_type": "markdown",
   "metadata": {
    "hidden": true
   },
   "source": [
    "Let us run a quick check on categorical variables now:"
   ]
  },
  {
   "cell_type": "code",
   "execution_count": 11,
   "metadata": {
    "hidden": true
   },
   "outputs": [
    {
     "data": {
      "text/plain": [
       "0     6604\n",
       "7     6473\n",
       "2     5752\n",
       "9     5397\n",
       "5     4845\n",
       "1     4144\n",
       "4     3909\n",
       "10    3692\n",
       "11    3373\n",
       "8     3092\n",
       "6     2813\n",
       "3     2219\n",
       "Name: key, dtype: int64"
      ]
     },
     "execution_count": 11,
     "metadata": {},
     "output_type": "execute_result"
    }
   ],
   "source": [
    "data['key'].value_counts()"
   ]
  },
  {
   "cell_type": "code",
   "execution_count": 12,
   "metadata": {
    "hidden": true
   },
   "outputs": [
    {
     "data": {
      "text/plain": [
       "0    48673\n",
       "1     3640\n",
       "Name: explicit, dtype: int64"
      ]
     },
     "execution_count": 12,
     "metadata": {},
     "output_type": "execute_result"
    }
   ],
   "source": [
    "data['explicit'].value_counts()"
   ]
  },
  {
   "cell_type": "code",
   "execution_count": 13,
   "metadata": {
    "hidden": true
   },
   "outputs": [
    {
     "data": {
      "text/plain": [
       "1    36895\n",
       "0    15418\n",
       "Name: mode, dtype: int64"
      ]
     },
     "execution_count": 13,
     "metadata": {},
     "output_type": "execute_result"
    }
   ],
   "source": [
    "data['mode'].value_counts()"
   ]
  },
  {
   "cell_type": "markdown",
   "metadata": {
    "hidden": true
   },
   "source": [
    "They do not display any weird values and we can now have a look to numerical features."
   ]
  },
  {
   "cell_type": "code",
   "execution_count": 14,
   "metadata": {
    "hidden": true
   },
   "outputs": [],
   "source": [
    "numerical_features = list(data.drop(columns=['id', 'artist', 'name', 'key', 'explicit', 'mode', 'release_date']).columns)"
   ]
  },
  {
   "cell_type": "code",
   "execution_count": 15,
   "metadata": {
    "hidden": true
   },
   "outputs": [
    {
     "name": "stdout",
     "output_type": "stream",
     "text": [
      "Number of numerical features in the dataset: 11\n",
      "List of numerical features in the dataset: ['acousticness', 'danceability', 'duration_ms', 'energy', 'instrumentalness', 'liveness', 'loudness', 'popularity', 'speechiness', 'tempo', 'valence']\n"
     ]
    }
   ],
   "source": [
    "print('Number of numerical features in the dataset:', len(numerical_features))\n",
    "print('List of numerical features in the dataset:', numerical_features)"
   ]
  },
  {
   "cell_type": "code",
   "execution_count": 16,
   "metadata": {
    "hidden": true
   },
   "outputs": [
    {
     "data": {
      "image/png": "[encoded data removed]",
      "text/plain": [
       "<Figure size 1080x1080 with 12 Axes>"
      ]
     },
     "metadata": {
      "needs_background": "light"
     },
     "output_type": "display_data"
    }
   ],
   "source": [
    "fig, axes = plt.subplots(nrows=4, ncols=3, figsize=(15, 15))\n",
    "\n",
    "for feature_name, ax in zip(numerical_features, axes.flatten()):\n",
    "    sns.boxplot(data[feature_name], ax=ax)"
   ]
  },
  {
   "cell_type": "markdown",
   "metadata": {
    "hidden": true
   },
   "source": [
    "Let us focus on songs that display a close-to-0 `tempo` (number of beats per minute) which seems strange."
   ]
  },
  {
   "cell_type": "code",
   "execution_count": 17,
   "metadata": {
    "hidden": true,
    "scrolled": false
   },
   "outputs": [
    {
     "data": {
      "text/plain": [
       "(46, 0.0)"
      ]
     },
     "execution_count": 17,
     "metadata": {},
     "output_type": "execute_result"
    }
   ],
   "source": [
    "len(data[data['tempo'] < 10]), data[data['tempo'] < 10]['tempo'].sum()"
   ]
  },
  {
   "cell_type": "markdown",
   "metadata": {
    "hidden": true
   },
   "source": [
    "46 songs have a `tempo` of 0. This number is very small in comparison with the overall number of songs available and considering the wide distribution of values for this features, we make the simplifying choice of dropping these songs."
   ]
  },
  {
   "cell_type": "code",
   "execution_count": 18,
   "metadata": {
    "hidden": true
   },
   "outputs": [],
   "source": [
    "data = data[data['tempo'] > 0].copy()"
   ]
  },
  {
   "cell_type": "code",
   "execution_count": 19,
   "metadata": {
    "hidden": true
   },
   "outputs": [
    {
     "data": {
      "text/plain": [
       "(52267, 18)"
      ]
     },
     "execution_count": 19,
     "metadata": {},
     "output_type": "execute_result"
    }
   ],
   "source": [
    "data.shape"
   ]
  },
  {
   "cell_type": "markdown",
   "metadata": {
    "hidden": true
   },
   "source": [
    "Finally, we might want to look for duplicates (inspired by weird results when displaying the 46 songs with 0 `tempo`)."
   ]
  },
  {
   "cell_type": "code",
   "execution_count": 20,
   "metadata": {
    "hidden": true
   },
   "outputs": [
    {
     "data": {
      "text/plain": [
       "(52007, 18)"
      ]
     },
     "execution_count": 20,
     "metadata": {},
     "output_type": "execute_result"
    }
   ],
   "source": [
    "data.drop_duplicates().shape"
   ]
  },
  {
   "cell_type": "markdown",
   "metadata": {
    "hidden": true
   },
   "source": [
    "Indeed, there is a significant number of duplicates in the dataset! We can eliminate these:"
   ]
  },
  {
   "cell_type": "code",
   "execution_count": 21,
   "metadata": {
    "hidden": true
   },
   "outputs": [],
   "source": [
    "data.drop_duplicates(inplace=True)"
   ]
  },
  {
   "cell_type": "markdown",
   "metadata": {
    "hidden": true
   },
   "source": [
    "Let us control that the `id` is now unique for each observation."
   ]
  },
  {
   "cell_type": "code",
   "execution_count": 22,
   "metadata": {
    "hidden": true
   },
   "outputs": [
    {
     "data": {
      "text/plain": [
       "1"
      ]
     },
     "execution_count": 22,
     "metadata": {},
     "output_type": "execute_result"
    }
   ],
   "source": [
    "# We check the count on the artist column but we could take any column\n",
    "data.groupby('id').count()['artist'].max()"
   ]
  },
  {
   "cell_type": "markdown",
   "metadata": {
    "hidden": true
   },
   "source": [
    "It seems that we have gone through most data cleaning steps, at least for a first quick process."
   ]
  },
  {
   "cell_type": "markdown",
   "metadata": {
    "hidden": true
   },
   "source": [
    "### Save your results\n",
    "\n",
    "Run the following cell to save your results."
   ]
  },
  {
   "cell_type": "code",
   "execution_count": 23,
   "metadata": {
    "hidden": true
   },
   "outputs": [],
   "source": [
    "from nbresult import ChallengeResult\n",
    "\n",
    "ChallengeResult(\n",
    "    \"c5_data_cleaning\",\n",
    "    data=data).write()"
   ]
  },
  {
   "cell_type": "markdown",
   "metadata": {
    "heading_collapsed": true
   },
   "source": [
    "## Baseline"
   ]
  },
  {
   "cell_type": "markdown",
   "metadata": {
    "hidden": true
   },
   "source": [
    "**📝 We want to use a metric that measures the prediction error in the same unit than `popularity`. In addition, it should strongly penalize largest errors. Which sklearn's [metric](https://scikit-learn.org/stable/modules/model_evaluation.html) should we use? Store its exact name as string below**"
   ]
  },
  {
   "cell_type": "markdown",
   "metadata": {
    "hidden": true
   },
   "source": [
    "We can use the root mean squared error."
   ]
  },
  {
   "cell_type": "code",
   "execution_count": 24,
   "metadata": {
    "hidden": true
   },
   "outputs": [],
   "source": [
    "scoring = \"Root Mean Squared Error (RMSE)\""
   ]
  },
  {
   "cell_type": "markdown",
   "metadata": {
    "hidden": true
   },
   "source": [
    "We will use the `mean_squared_error` with `squared=False` from Scikit-Learn."
   ]
  },
  {
   "cell_type": "markdown",
   "metadata": {
    "hidden": true
   },
   "source": [
    "**📝 Let's build a baseline model using only the numerical features in our dataset.**\n",
    "- Build `X_baseline` with only numerical features\n",
    "- Build `y` your target containing the `popularity`\n",
    "- Then 5 times cross validate the baseline linear model of your choice (do not fine tune it)\n",
    "- Store your mean performance in a `float` variable named `baseline_score`"
   ]
  },
  {
   "cell_type": "code",
   "execution_count": 25,
   "metadata": {
    "hidden": true
   },
   "outputs": [
    {
     "name": "stdout",
     "output_type": "stream",
     "text": [
      "(52007, 12)\n"
     ]
    },
    {
     "data": {
      "text/html": [
       "<div>\n",
       "<style scoped>\n",
       "    .dataframe tbody tr th:only-of-type {\n",
       "        vertical-align: middle;\n",
       "    }\n",
       "\n",
       "    .dataframe tbody tr th {\n",
       "        vertical-align: top;\n",
       "    }\n",
       "\n",
       "    .dataframe thead th {\n",
       "        text-align: right;\n",
       "    }\n",
       "</style>\n",
       "<table border=\"1\" class=\"dataframe\">\n",
       "  <thead>\n",
       "    <tr style=\"text-align: right;\">\n",
       "      <th></th>\n",
       "      <th>acousticness</th>\n",
       "      <th>danceability</th>\n",
       "      <th>duration_ms</th>\n",
       "      <th>energy</th>\n",
       "      <th>instrumentalness</th>\n",
       "      <th>liveness</th>\n",
       "      <th>loudness</th>\n",
       "      <th>speechiness</th>\n",
       "      <th>tempo</th>\n",
       "      <th>valence</th>\n",
       "      <th>explicit</th>\n",
       "      <th>key</th>\n",
       "    </tr>\n",
       "  </thead>\n",
       "  <tbody>\n",
       "    <tr>\n",
       "      <th>0</th>\n",
       "      <td>0.65400</td>\n",
       "      <td>0.499</td>\n",
       "      <td>219827</td>\n",
       "      <td>0.190</td>\n",
       "      <td>0.004090</td>\n",
       "      <td>0.0898</td>\n",
       "      <td>-16.435</td>\n",
       "      <td>0.0454</td>\n",
       "      <td>149.460</td>\n",
       "      <td>0.4300</td>\n",
       "      <td>0</td>\n",
       "      <td>7</td>\n",
       "    </tr>\n",
       "    <tr>\n",
       "      <th>1</th>\n",
       "      <td>0.00592</td>\n",
       "      <td>0.439</td>\n",
       "      <td>483948</td>\n",
       "      <td>0.808</td>\n",
       "      <td>0.140000</td>\n",
       "      <td>0.0890</td>\n",
       "      <td>-8.497</td>\n",
       "      <td>0.0677</td>\n",
       "      <td>138.040</td>\n",
       "      <td>0.0587</td>\n",
       "      <td>0</td>\n",
       "      <td>2</td>\n",
       "    </tr>\n",
       "    <tr>\n",
       "      <th>2</th>\n",
       "      <td>0.73400</td>\n",
       "      <td>0.523</td>\n",
       "      <td>245693</td>\n",
       "      <td>0.288</td>\n",
       "      <td>0.000000</td>\n",
       "      <td>0.0771</td>\n",
       "      <td>-11.506</td>\n",
       "      <td>0.2140</td>\n",
       "      <td>75.869</td>\n",
       "      <td>0.4640</td>\n",
       "      <td>0</td>\n",
       "      <td>0</td>\n",
       "    </tr>\n",
       "    <tr>\n",
       "      <th>3</th>\n",
       "      <td>0.42900</td>\n",
       "      <td>0.681</td>\n",
       "      <td>130026</td>\n",
       "      <td>0.165</td>\n",
       "      <td>0.000000</td>\n",
       "      <td>0.3940</td>\n",
       "      <td>-21.457</td>\n",
       "      <td>0.9460</td>\n",
       "      <td>145.333</td>\n",
       "      <td>0.2880</td>\n",
       "      <td>0</td>\n",
       "      <td>11</td>\n",
       "    </tr>\n",
       "    <tr>\n",
       "      <th>4</th>\n",
       "      <td>0.56200</td>\n",
       "      <td>0.543</td>\n",
       "      <td>129813</td>\n",
       "      <td>0.575</td>\n",
       "      <td>0.000004</td>\n",
       "      <td>0.1270</td>\n",
       "      <td>-7.374</td>\n",
       "      <td>0.0265</td>\n",
       "      <td>139.272</td>\n",
       "      <td>0.8010</td>\n",
       "      <td>0</td>\n",
       "      <td>2</td>\n",
       "    </tr>\n",
       "  </tbody>\n",
       "</table>\n",
       "</div>"
      ],
      "text/plain": [
       "   acousticness  danceability  duration_ms  energy  instrumentalness  \\\n",
       "0       0.65400         0.499       219827   0.190          0.004090   \n",
       "1       0.00592         0.439       483948   0.808          0.140000   \n",
       "2       0.73400         0.523       245693   0.288          0.000000   \n",
       "3       0.42900         0.681       130026   0.165          0.000000   \n",
       "4       0.56200         0.543       129813   0.575          0.000004   \n",
       "\n",
       "   liveness  loudness  speechiness    tempo  valence  explicit  key  \n",
       "0    0.0898   -16.435       0.0454  149.460   0.4300         0    7  \n",
       "1    0.0890    -8.497       0.0677  138.040   0.0587         0    2  \n",
       "2    0.0771   -11.506       0.2140   75.869   0.4640         0    0  \n",
       "3    0.3940   -21.457       0.9460  145.333   0.2880         0   11  \n",
       "4    0.1270    -7.374       0.0265  139.272   0.8010         0    2  "
      ]
     },
     "execution_count": 25,
     "metadata": {},
     "output_type": "execute_result"
    }
   ],
   "source": [
    "# We add categorical variables to the list of numerical features as they are already encoded\n",
    "# (We could consider one-hot encoding key at some point, the determinant would be whether there is an ordering or not)\n",
    "numerical_features += ['explicit', 'key']\n",
    "\n",
    "X_baseline = data[numerical_features].drop(columns='popularity')\n",
    "\n",
    "print(X_baseline.shape)\n",
    "\n",
    "X_baseline.head()"
   ]
  },
  {
   "cell_type": "code",
   "execution_count": 26,
   "metadata": {
    "hidden": true
   },
   "outputs": [],
   "source": [
    "y = data['popularity']"
   ]
  },
  {
   "cell_type": "code",
   "execution_count": 27,
   "metadata": {
    "hidden": true
   },
   "outputs": [
    {
     "name": "stderr",
     "output_type": "stream",
     "text": [
      "[Parallel(n_jobs=1)]: Using backend SequentialBackend with 1 concurrent workers.\n",
      "[Parallel(n_jobs=1)]: Done   5 out of   5 | elapsed:    0.2s finished\n"
     ]
    }
   ],
   "source": [
    "lin_reg = LinearRegression()\n",
    "\n",
    "cv_results = cross_validate(\n",
    "    lin_reg,\n",
    "    X_baseline, y,\n",
    "    scoring='neg_root_mean_squared_error',\n",
    "    cv=5,\n",
    "    verbose=1\n",
    ")"
   ]
  },
  {
   "cell_type": "code",
   "execution_count": 28,
   "metadata": {
    "hidden": true
   },
   "outputs": [
    {
     "name": "stdout",
     "output_type": "stream",
     "text": [
      "18.349551535391008\n"
     ]
    }
   ],
   "source": [
    "# We take the opposite to have a positive root mean squared error but it has no real impact\n",
    "baseline_score = - cv_results['test_score'].mean()\n",
    "\n",
    "print(baseline_score)"
   ]
  },
  {
   "cell_type": "markdown",
   "metadata": {
    "hidden": true
   },
   "source": [
    "### Save your results\n",
    "\n",
    "Run the following cell to save your results."
   ]
  },
  {
   "cell_type": "code",
   "execution_count": 29,
   "metadata": {
    "hidden": true
   },
   "outputs": [],
   "source": [
    "from nbresult import ChallengeResult\n",
    "\n",
    "ChallengeResult(\n",
    "    \"baseline\",\n",
    "    scoring=scoring,\n",
    "    baseline_score=baseline_score).write()"
   ]
  },
  {
   "cell_type": "markdown",
   "metadata": {
    "heading_collapsed": true
   },
   "source": [
    "## Feature engineering\n",
    "\n",
    "Let's now use the features that we left aside: `release_date` and `artist` to improve the performance of our model. We'll create them manually in a train vs. test context first (and pipeline them later)"
   ]
  },
  {
   "cell_type": "markdown",
   "metadata": {
    "hidden": true
   },
   "source": [
    "### holdout\n",
    "**📝 Create the 4 variables `X_train` `y_train`, `X_test`, `y_test` with a 50% split with random sampling**"
   ]
  },
  {
   "cell_type": "code",
   "execution_count": 30,
   "metadata": {
    "hidden": true
   },
   "outputs": [],
   "source": [
    "# Compared with X_baseline, we add the song id to make sure the match with year will be correct\n",
    "if 'id' not in numerical_features:\n",
    "    numerical_features.append('id')\n",
    "\n",
    "X = data[numerical_features].drop(columns='popularity')\n",
    "y = data['popularity'].values\n",
    "\n",
    "X_train, X_test, y_train, y_test = train_test_split(X, y, test_size=0.5)"
   ]
  },
  {
   "cell_type": "code",
   "execution_count": 31,
   "metadata": {
    "hidden": true
   },
   "outputs": [
    {
     "data": {
      "text/plain": [
       "((26003, 13), (26003,))"
      ]
     },
     "execution_count": 31,
     "metadata": {},
     "output_type": "execute_result"
    }
   ],
   "source": [
    "X_train.shape, y_train.shape"
   ]
  },
  {
   "cell_type": "code",
   "execution_count": 32,
   "metadata": {
    "hidden": true,
    "scrolled": true
   },
   "outputs": [
    {
     "data": {
      "text/plain": [
       "((26004, 13), (26004,))"
      ]
     },
     "execution_count": 32,
     "metadata": {},
     "output_type": "execute_result"
    }
   ],
   "source": [
    "X_test.shape, y_test.shape"
   ]
  },
  {
   "cell_type": "code",
   "execution_count": 33,
   "metadata": {
    "hidden": true
   },
   "outputs": [
    {
     "data": {
      "text/html": [
       "<div>\n",
       "<style scoped>\n",
       "    .dataframe tbody tr th:only-of-type {\n",
       "        vertical-align: middle;\n",
       "    }\n",
       "\n",
       "    .dataframe tbody tr th {\n",
       "        vertical-align: top;\n",
       "    }\n",
       "\n",
       "    .dataframe thead th {\n",
       "        text-align: right;\n",
       "    }\n",
       "</style>\n",
       "<table border=\"1\" class=\"dataframe\">\n",
       "  <thead>\n",
       "    <tr style=\"text-align: right;\">\n",
       "      <th></th>\n",
       "      <th>acousticness</th>\n",
       "      <th>danceability</th>\n",
       "      <th>duration_ms</th>\n",
       "      <th>energy</th>\n",
       "      <th>instrumentalness</th>\n",
       "      <th>liveness</th>\n",
       "      <th>loudness</th>\n",
       "      <th>speechiness</th>\n",
       "      <th>tempo</th>\n",
       "      <th>valence</th>\n",
       "      <th>explicit</th>\n",
       "      <th>key</th>\n",
       "      <th>id</th>\n",
       "    </tr>\n",
       "  </thead>\n",
       "  <tbody>\n",
       "    <tr>\n",
       "      <th>44381</th>\n",
       "      <td>0.439000</td>\n",
       "      <td>0.663</td>\n",
       "      <td>155067</td>\n",
       "      <td>0.389</td>\n",
       "      <td>0.0000</td>\n",
       "      <td>0.129</td>\n",
       "      <td>-11.185</td>\n",
       "      <td>0.0303</td>\n",
       "      <td>138.207</td>\n",
       "      <td>0.619</td>\n",
       "      <td>0</td>\n",
       "      <td>9</td>\n",
       "      <td>0JPY6qliLwFahjIcVvuHot</td>\n",
       "    </tr>\n",
       "    <tr>\n",
       "      <th>9975</th>\n",
       "      <td>0.212000</td>\n",
       "      <td>0.604</td>\n",
       "      <td>299333</td>\n",
       "      <td>0.430</td>\n",
       "      <td>0.0000</td>\n",
       "      <td>0.159</td>\n",
       "      <td>-10.624</td>\n",
       "      <td>0.0356</td>\n",
       "      <td>126.632</td>\n",
       "      <td>0.574</td>\n",
       "      <td>0</td>\n",
       "      <td>3</td>\n",
       "      <td>1srD2uc11TcQiOmHHrJp8M</td>\n",
       "    </tr>\n",
       "    <tr>\n",
       "      <th>45205</th>\n",
       "      <td>0.010400</td>\n",
       "      <td>0.303</td>\n",
       "      <td>290960</td>\n",
       "      <td>0.968</td>\n",
       "      <td>0.0125</td>\n",
       "      <td>0.935</td>\n",
       "      <td>-11.261</td>\n",
       "      <td>0.0666</td>\n",
       "      <td>130.997</td>\n",
       "      <td>0.318</td>\n",
       "      <td>0</td>\n",
       "      <td>1</td>\n",
       "      <td>1onZ5D8uw2K36DDZFDgR15</td>\n",
       "    </tr>\n",
       "    <tr>\n",
       "      <th>39258</th>\n",
       "      <td>0.000037</td>\n",
       "      <td>0.280</td>\n",
       "      <td>284507</td>\n",
       "      <td>0.986</td>\n",
       "      <td>0.6880</td>\n",
       "      <td>0.071</td>\n",
       "      <td>-7.012</td>\n",
       "      <td>0.1150</td>\n",
       "      <td>91.025</td>\n",
       "      <td>0.160</td>\n",
       "      <td>0</td>\n",
       "      <td>0</td>\n",
       "      <td>3eaOnliKh0QdjuDbPAwCLx</td>\n",
       "    </tr>\n",
       "    <tr>\n",
       "      <th>46727</th>\n",
       "      <td>0.152000</td>\n",
       "      <td>0.680</td>\n",
       "      <td>168640</td>\n",
       "      <td>0.589</td>\n",
       "      <td>0.0000</td>\n",
       "      <td>0.378</td>\n",
       "      <td>-10.010</td>\n",
       "      <td>0.0247</td>\n",
       "      <td>93.865</td>\n",
       "      <td>0.696</td>\n",
       "      <td>0</td>\n",
       "      <td>0</td>\n",
       "      <td>3nKLfeoq3YedJIZqvRW3Qz</td>\n",
       "    </tr>\n",
       "  </tbody>\n",
       "</table>\n",
       "</div>"
      ],
      "text/plain": [
       "       acousticness  danceability  duration_ms  energy  instrumentalness  \\\n",
       "44381      0.439000         0.663       155067   0.389            0.0000   \n",
       "9975       0.212000         0.604       299333   0.430            0.0000   \n",
       "45205      0.010400         0.303       290960   0.968            0.0125   \n",
       "39258      0.000037         0.280       284507   0.986            0.6880   \n",
       "46727      0.152000         0.680       168640   0.589            0.0000   \n",
       "\n",
       "       liveness  loudness  speechiness    tempo  valence  explicit  key  \\\n",
       "44381     0.129   -11.185       0.0303  138.207    0.619         0    9   \n",
       "9975      0.159   -10.624       0.0356  126.632    0.574         0    3   \n",
       "45205     0.935   -11.261       0.0666  130.997    0.318         0    1   \n",
       "39258     0.071    -7.012       0.1150   91.025    0.160         0    0   \n",
       "46727     0.378   -10.010       0.0247   93.865    0.696         0    0   \n",
       "\n",
       "                           id  \n",
       "44381  0JPY6qliLwFahjIcVvuHot  \n",
       "9975   1srD2uc11TcQiOmHHrJp8M  \n",
       "45205  1onZ5D8uw2K36DDZFDgR15  \n",
       "39258  3eaOnliKh0QdjuDbPAwCLx  \n",
       "46727  3nKLfeoq3YedJIZqvRW3Qz  "
      ]
     },
     "execution_count": 33,
     "metadata": {},
     "output_type": "execute_result"
    }
   ],
   "source": [
    "X_train.head()"
   ]
  },
  {
   "cell_type": "markdown",
   "metadata": {
    "hidden": true
   },
   "source": [
    "### year\n",
    "\n",
    "**📝 Create `X_train_year` and `X_test_year` by adding the new column `year` containing the release year of the track as integer**"
   ]
  },
  {
   "cell_type": "code",
   "execution_count": 34,
   "metadata": {
    "hidden": true,
    "scrolled": false
   },
   "outputs": [
    {
     "data": {
      "text/html": [
       "<div>\n",
       "<style scoped>\n",
       "    .dataframe tbody tr th:only-of-type {\n",
       "        vertical-align: middle;\n",
       "    }\n",
       "\n",
       "    .dataframe tbody tr th {\n",
       "        vertical-align: top;\n",
       "    }\n",
       "\n",
       "    .dataframe thead th {\n",
       "        text-align: right;\n",
       "    }\n",
       "</style>\n",
       "<table border=\"1\" class=\"dataframe\">\n",
       "  <thead>\n",
       "    <tr style=\"text-align: right;\">\n",
       "      <th></th>\n",
       "      <th>acousticness</th>\n",
       "      <th>danceability</th>\n",
       "      <th>duration_ms</th>\n",
       "      <th>energy</th>\n",
       "      <th>instrumentalness</th>\n",
       "      <th>liveness</th>\n",
       "      <th>loudness</th>\n",
       "      <th>speechiness</th>\n",
       "      <th>tempo</th>\n",
       "      <th>valence</th>\n",
       "      <th>explicit</th>\n",
       "      <th>key</th>\n",
       "      <th>id</th>\n",
       "      <th>release_date</th>\n",
       "    </tr>\n",
       "  </thead>\n",
       "  <tbody>\n",
       "    <tr>\n",
       "      <th>0</th>\n",
       "      <td>0.439000</td>\n",
       "      <td>0.663</td>\n",
       "      <td>155067</td>\n",
       "      <td>0.389</td>\n",
       "      <td>0.0000</td>\n",
       "      <td>0.129</td>\n",
       "      <td>-11.185</td>\n",
       "      <td>0.0303</td>\n",
       "      <td>138.207</td>\n",
       "      <td>0.619</td>\n",
       "      <td>0</td>\n",
       "      <td>9</td>\n",
       "      <td>0JPY6qliLwFahjIcVvuHot</td>\n",
       "      <td>1985</td>\n",
       "    </tr>\n",
       "    <tr>\n",
       "      <th>1</th>\n",
       "      <td>0.212000</td>\n",
       "      <td>0.604</td>\n",
       "      <td>299333</td>\n",
       "      <td>0.430</td>\n",
       "      <td>0.0000</td>\n",
       "      <td>0.159</td>\n",
       "      <td>-10.624</td>\n",
       "      <td>0.0356</td>\n",
       "      <td>126.632</td>\n",
       "      <td>0.574</td>\n",
       "      <td>0</td>\n",
       "      <td>3</td>\n",
       "      <td>1srD2uc11TcQiOmHHrJp8M</td>\n",
       "      <td>1975</td>\n",
       "    </tr>\n",
       "    <tr>\n",
       "      <th>2</th>\n",
       "      <td>0.010400</td>\n",
       "      <td>0.303</td>\n",
       "      <td>290960</td>\n",
       "      <td>0.968</td>\n",
       "      <td>0.0125</td>\n",
       "      <td>0.935</td>\n",
       "      <td>-11.261</td>\n",
       "      <td>0.0666</td>\n",
       "      <td>130.997</td>\n",
       "      <td>0.318</td>\n",
       "      <td>0</td>\n",
       "      <td>1</td>\n",
       "      <td>1onZ5D8uw2K36DDZFDgR15</td>\n",
       "      <td>1986</td>\n",
       "    </tr>\n",
       "    <tr>\n",
       "      <th>3</th>\n",
       "      <td>0.000037</td>\n",
       "      <td>0.280</td>\n",
       "      <td>284507</td>\n",
       "      <td>0.986</td>\n",
       "      <td>0.6880</td>\n",
       "      <td>0.071</td>\n",
       "      <td>-7.012</td>\n",
       "      <td>0.1150</td>\n",
       "      <td>91.025</td>\n",
       "      <td>0.160</td>\n",
       "      <td>0</td>\n",
       "      <td>0</td>\n",
       "      <td>3eaOnliKh0QdjuDbPAwCLx</td>\n",
       "      <td>1984</td>\n",
       "    </tr>\n",
       "    <tr>\n",
       "      <th>4</th>\n",
       "      <td>0.152000</td>\n",
       "      <td>0.680</td>\n",
       "      <td>168640</td>\n",
       "      <td>0.589</td>\n",
       "      <td>0.0000</td>\n",
       "      <td>0.378</td>\n",
       "      <td>-10.010</td>\n",
       "      <td>0.0247</td>\n",
       "      <td>93.865</td>\n",
       "      <td>0.696</td>\n",
       "      <td>0</td>\n",
       "      <td>0</td>\n",
       "      <td>3nKLfeoq3YedJIZqvRW3Qz</td>\n",
       "      <td>1999</td>\n",
       "    </tr>\n",
       "  </tbody>\n",
       "</table>\n",
       "</div>"
      ],
      "text/plain": [
       "   acousticness  danceability  duration_ms  energy  instrumentalness  \\\n",
       "0      0.439000         0.663       155067   0.389            0.0000   \n",
       "1      0.212000         0.604       299333   0.430            0.0000   \n",
       "2      0.010400         0.303       290960   0.968            0.0125   \n",
       "3      0.000037         0.280       284507   0.986            0.6880   \n",
       "4      0.152000         0.680       168640   0.589            0.0000   \n",
       "\n",
       "   liveness  loudness  speechiness    tempo  valence  explicit  key  \\\n",
       "0     0.129   -11.185       0.0303  138.207    0.619         0    9   \n",
       "1     0.159   -10.624       0.0356  126.632    0.574         0    3   \n",
       "2     0.935   -11.261       0.0666  130.997    0.318         0    1   \n",
       "3     0.071    -7.012       0.1150   91.025    0.160         0    0   \n",
       "4     0.378   -10.010       0.0247   93.865    0.696         0    0   \n",
       "\n",
       "                       id  release_date  \n",
       "0  0JPY6qliLwFahjIcVvuHot          1985  \n",
       "1  1srD2uc11TcQiOmHHrJp8M          1975  \n",
       "2  1onZ5D8uw2K36DDZFDgR15          1986  \n",
       "3  3eaOnliKh0QdjuDbPAwCLx          1984  \n",
       "4  3nKLfeoq3YedJIZqvRW3Qz          1999  "
      ]
     },
     "execution_count": 34,
     "metadata": {},
     "output_type": "execute_result"
    }
   ],
   "source": [
    "X_train_year = X_train.merge(data[['id', 'release_date']], how='left', on='id')\n",
    "X_test_year = X_test.merge(data[['id', 'release_date']], how='left', on='id')\n",
    "\n",
    "X_train_year['release_date'] = X_train_year['release_date'].dt.year\n",
    "X_test_year['release_date'] = X_test_year['release_date'].dt.year\n",
    "\n",
    "X_train_year.head()"
   ]
  },
  {
   "cell_type": "code",
   "execution_count": 35,
   "metadata": {
    "hidden": true
   },
   "outputs": [
    {
     "data": {
      "text/plain": [
       "(26003, 14)"
      ]
     },
     "execution_count": 35,
     "metadata": {},
     "output_type": "execute_result"
    }
   ],
   "source": [
    "X_train_year.shape"
   ]
  },
  {
   "cell_type": "markdown",
   "metadata": {
    "hidden": true
   },
   "source": [
    "### artist\n",
    "\n",
    "How could we use the `artist` column? There are too many artists to one hot encode it.  \n",
    "We could instead create an `artist_popularity` feature containing the mean popularity of an artist, computed as the mean popularity of all tracks the artist released _on the train set_."
   ]
  },
  {
   "cell_type": "markdown",
   "metadata": {
    "hidden": true
   },
   "source": [
    "#### Process artist popularity from the Training set\n",
    "\n",
    "**📝 Compute and store the `artist_popularity` as a new pandas `Series`**  "
   ]
  },
  {
   "cell_type": "code",
   "execution_count": 36,
   "metadata": {
    "hidden": true
   },
   "outputs": [
    {
     "data": {
      "text/plain": [
       "artist\n",
       "\"Test for Victor Young\"     3.000000\n",
       "\"Weird Al\" Yankovic        33.111111\n",
       "$NOT                       72.000000\n",
       "$uicideBoy$                67.666667\n",
       "'Til Tuesday               27.000000\n",
       "Name: popularity, dtype: float64"
      ]
     },
     "execution_count": 36,
     "metadata": {},
     "output_type": "execute_result"
    }
   ],
   "source": [
    "X_train_year['popularity'] = y_train\n",
    "\n",
    "X_train_year = X_train_year.merge(data[['id', 'artist']], on='id', how='left')\n",
    "\n",
    "artist_popularity = X_train_year.groupby('artist').mean()['popularity']\n",
    "\n",
    "global_mean_popularity = X_train_year['popularity'].mean()\n",
    "\n",
    "X_train_year.drop(columns='popularity', inplace=True)\n",
    "\n",
    "artist_popularity.head()"
   ]
  },
  {
   "cell_type": "markdown",
   "metadata": {
    "hidden": true
   },
   "source": [
    "#### Apply the artist popularity to `X_train_year`\n",
    "\n",
    "**📝 Create a new DataFrame `X_train_engineered` which adds a new column to the existing `X_train_year` with the `artist_popularity` corresponding to the song's artist.** \n",
    "\n",
    "🚨 Make sure that the target `popularity` does not end up in `X_train_engineered` "
   ]
  },
  {
   "cell_type": "code",
   "execution_count": 37,
   "metadata": {
    "hidden": true
   },
   "outputs": [
    {
     "data": {
      "text/plain": [
       "(26003, 14)"
      ]
     },
     "execution_count": 37,
     "metadata": {},
     "output_type": "execute_result"
    }
   ],
   "source": [
    "artist_popularity = artist_popularity.reset_index()\n",
    "\n",
    "X_train_engineered = X_train_year.merge(artist_popularity, on='artist', how='left').drop(columns=['artist', 'id'])\n",
    "\n",
    "X_train_engineered.shape"
   ]
  },
  {
   "cell_type": "code",
   "execution_count": 38,
   "metadata": {
    "hidden": true
   },
   "outputs": [
    {
     "data": {
      "text/html": [
       "<div>\n",
       "<style scoped>\n",
       "    .dataframe tbody tr th:only-of-type {\n",
       "        vertical-align: middle;\n",
       "    }\n",
       "\n",
       "    .dataframe tbody tr th {\n",
       "        vertical-align: top;\n",
       "    }\n",
       "\n",
       "    .dataframe thead th {\n",
       "        text-align: right;\n",
       "    }\n",
       "</style>\n",
       "<table border=\"1\" class=\"dataframe\">\n",
       "  <thead>\n",
       "    <tr style=\"text-align: right;\">\n",
       "      <th></th>\n",
       "      <th>acousticness</th>\n",
       "      <th>danceability</th>\n",
       "      <th>duration_ms</th>\n",
       "      <th>energy</th>\n",
       "      <th>instrumentalness</th>\n",
       "      <th>liveness</th>\n",
       "      <th>loudness</th>\n",
       "      <th>speechiness</th>\n",
       "      <th>tempo</th>\n",
       "      <th>valence</th>\n",
       "      <th>explicit</th>\n",
       "      <th>key</th>\n",
       "      <th>release_date</th>\n",
       "      <th>popularity</th>\n",
       "    </tr>\n",
       "  </thead>\n",
       "  <tbody>\n",
       "    <tr>\n",
       "      <th>0</th>\n",
       "      <td>0.439000</td>\n",
       "      <td>0.663</td>\n",
       "      <td>155067</td>\n",
       "      <td>0.389</td>\n",
       "      <td>0.0000</td>\n",
       "      <td>0.129</td>\n",
       "      <td>-11.185</td>\n",
       "      <td>0.0303</td>\n",
       "      <td>138.207</td>\n",
       "      <td>0.619</td>\n",
       "      <td>0</td>\n",
       "      <td>9</td>\n",
       "      <td>1985</td>\n",
       "      <td>31.333333</td>\n",
       "    </tr>\n",
       "    <tr>\n",
       "      <th>1</th>\n",
       "      <td>0.212000</td>\n",
       "      <td>0.604</td>\n",
       "      <td>299333</td>\n",
       "      <td>0.430</td>\n",
       "      <td>0.0000</td>\n",
       "      <td>0.159</td>\n",
       "      <td>-10.624</td>\n",
       "      <td>0.0356</td>\n",
       "      <td>126.632</td>\n",
       "      <td>0.574</td>\n",
       "      <td>0</td>\n",
       "      <td>3</td>\n",
       "      <td>1975</td>\n",
       "      <td>31.800000</td>\n",
       "    </tr>\n",
       "    <tr>\n",
       "      <th>2</th>\n",
       "      <td>0.010400</td>\n",
       "      <td>0.303</td>\n",
       "      <td>290960</td>\n",
       "      <td>0.968</td>\n",
       "      <td>0.0125</td>\n",
       "      <td>0.935</td>\n",
       "      <td>-11.261</td>\n",
       "      <td>0.0666</td>\n",
       "      <td>130.997</td>\n",
       "      <td>0.318</td>\n",
       "      <td>0</td>\n",
       "      <td>1</td>\n",
       "      <td>1986</td>\n",
       "      <td>42.724138</td>\n",
       "    </tr>\n",
       "    <tr>\n",
       "      <th>3</th>\n",
       "      <td>0.000037</td>\n",
       "      <td>0.280</td>\n",
       "      <td>284507</td>\n",
       "      <td>0.986</td>\n",
       "      <td>0.6880</td>\n",
       "      <td>0.071</td>\n",
       "      <td>-7.012</td>\n",
       "      <td>0.1150</td>\n",
       "      <td>91.025</td>\n",
       "      <td>0.160</td>\n",
       "      <td>0</td>\n",
       "      <td>0</td>\n",
       "      <td>1984</td>\n",
       "      <td>38.135135</td>\n",
       "    </tr>\n",
       "    <tr>\n",
       "      <th>4</th>\n",
       "      <td>0.152000</td>\n",
       "      <td>0.680</td>\n",
       "      <td>168640</td>\n",
       "      <td>0.589</td>\n",
       "      <td>0.0000</td>\n",
       "      <td>0.378</td>\n",
       "      <td>-10.010</td>\n",
       "      <td>0.0247</td>\n",
       "      <td>93.865</td>\n",
       "      <td>0.696</td>\n",
       "      <td>0</td>\n",
       "      <td>0</td>\n",
       "      <td>1999</td>\n",
       "      <td>45.600000</td>\n",
       "    </tr>\n",
       "  </tbody>\n",
       "</table>\n",
       "</div>"
      ],
      "text/plain": [
       "   acousticness  danceability  duration_ms  energy  instrumentalness  \\\n",
       "0      0.439000         0.663       155067   0.389            0.0000   \n",
       "1      0.212000         0.604       299333   0.430            0.0000   \n",
       "2      0.010400         0.303       290960   0.968            0.0125   \n",
       "3      0.000037         0.280       284507   0.986            0.6880   \n",
       "4      0.152000         0.680       168640   0.589            0.0000   \n",
       "\n",
       "   liveness  loudness  speechiness    tempo  valence  explicit  key  \\\n",
       "0     0.129   -11.185       0.0303  138.207    0.619         0    9   \n",
       "1     0.159   -10.624       0.0356  126.632    0.574         0    3   \n",
       "2     0.935   -11.261       0.0666  130.997    0.318         0    1   \n",
       "3     0.071    -7.012       0.1150   91.025    0.160         0    0   \n",
       "4     0.378   -10.010       0.0247   93.865    0.696         0    0   \n",
       "\n",
       "   release_date  popularity  \n",
       "0          1985   31.333333  \n",
       "1          1975   31.800000  \n",
       "2          1986   42.724138  \n",
       "3          1984   38.135135  \n",
       "4          1999   45.600000  "
      ]
     },
     "execution_count": 38,
     "metadata": {},
     "output_type": "execute_result"
    }
   ],
   "source": [
    "X_train_engineered.head()"
   ]
  },
  {
   "cell_type": "markdown",
   "metadata": {
    "hidden": true
   },
   "source": [
    "#### Apply the artist popularity to `X_test_year`\n",
    "\n",
    "**📝 Similarily, create a new DataFrame `X_test_engineered` which also adds a new column to the existing `X_test_year` with the `artist_popularity` corresponding to the song's artist, computed from the training set.**\n",
    "\n",
    "🚨**If an artist has never been seen in the training set, use the global mean popularity of all the tracks of `X_train`**"
   ]
  },
  {
   "cell_type": "code",
   "execution_count": 39,
   "metadata": {
    "hidden": true
   },
   "outputs": [
    {
     "name": "stdout",
     "output_type": "stream",
     "text": [
      "(26004, 14)\n"
     ]
    },
    {
     "data": {
      "text/html": [
       "<div>\n",
       "<style scoped>\n",
       "    .dataframe tbody tr th:only-of-type {\n",
       "        vertical-align: middle;\n",
       "    }\n",
       "\n",
       "    .dataframe tbody tr th {\n",
       "        vertical-align: top;\n",
       "    }\n",
       "\n",
       "    .dataframe thead th {\n",
       "        text-align: right;\n",
       "    }\n",
       "</style>\n",
       "<table border=\"1\" class=\"dataframe\">\n",
       "  <thead>\n",
       "    <tr style=\"text-align: right;\">\n",
       "      <th></th>\n",
       "      <th>acousticness</th>\n",
       "      <th>danceability</th>\n",
       "      <th>duration_ms</th>\n",
       "      <th>energy</th>\n",
       "      <th>instrumentalness</th>\n",
       "      <th>liveness</th>\n",
       "      <th>loudness</th>\n",
       "      <th>speechiness</th>\n",
       "      <th>tempo</th>\n",
       "      <th>valence</th>\n",
       "      <th>explicit</th>\n",
       "      <th>key</th>\n",
       "      <th>release_date</th>\n",
       "      <th>popularity</th>\n",
       "    </tr>\n",
       "  </thead>\n",
       "  <tbody>\n",
       "    <tr>\n",
       "      <th>0</th>\n",
       "      <td>0.994000</td>\n",
       "      <td>0.557</td>\n",
       "      <td>167427</td>\n",
       "      <td>0.274</td>\n",
       "      <td>0.880000</td>\n",
       "      <td>0.4260</td>\n",
       "      <td>-11.913</td>\n",
       "      <td>0.0426</td>\n",
       "      <td>102.313</td>\n",
       "      <td>0.4120</td>\n",
       "      <td>0</td>\n",
       "      <td>9</td>\n",
       "      <td>1943</td>\n",
       "      <td>NaN</td>\n",
       "    </tr>\n",
       "    <tr>\n",
       "      <th>1</th>\n",
       "      <td>0.326000</td>\n",
       "      <td>0.577</td>\n",
       "      <td>196707</td>\n",
       "      <td>0.537</td>\n",
       "      <td>0.000079</td>\n",
       "      <td>0.1910</td>\n",
       "      <td>-9.583</td>\n",
       "      <td>0.0372</td>\n",
       "      <td>152.528</td>\n",
       "      <td>0.4850</td>\n",
       "      <td>0</td>\n",
       "      <td>2</td>\n",
       "      <td>1997</td>\n",
       "      <td>54.000000</td>\n",
       "    </tr>\n",
       "    <tr>\n",
       "      <th>2</th>\n",
       "      <td>0.838000</td>\n",
       "      <td>0.493</td>\n",
       "      <td>164467</td>\n",
       "      <td>0.217</td>\n",
       "      <td>0.004630</td>\n",
       "      <td>0.0867</td>\n",
       "      <td>-11.501</td>\n",
       "      <td>0.0271</td>\n",
       "      <td>105.003</td>\n",
       "      <td>0.1820</td>\n",
       "      <td>0</td>\n",
       "      <td>9</td>\n",
       "      <td>1963</td>\n",
       "      <td>13.533333</td>\n",
       "    </tr>\n",
       "    <tr>\n",
       "      <th>3</th>\n",
       "      <td>0.000014</td>\n",
       "      <td>0.389</td>\n",
       "      <td>71062</td>\n",
       "      <td>0.990</td>\n",
       "      <td>0.038800</td>\n",
       "      <td>0.5830</td>\n",
       "      <td>-5.537</td>\n",
       "      <td>0.1010</td>\n",
       "      <td>135.982</td>\n",
       "      <td>0.0956</td>\n",
       "      <td>0</td>\n",
       "      <td>10</td>\n",
       "      <td>2020</td>\n",
       "      <td>13.000000</td>\n",
       "    </tr>\n",
       "    <tr>\n",
       "      <th>4</th>\n",
       "      <td>0.958000</td>\n",
       "      <td>0.453</td>\n",
       "      <td>288000</td>\n",
       "      <td>0.299</td>\n",
       "      <td>0.480000</td>\n",
       "      <td>0.1950</td>\n",
       "      <td>-16.289</td>\n",
       "      <td>0.0539</td>\n",
       "      <td>163.959</td>\n",
       "      <td>0.7990</td>\n",
       "      <td>0</td>\n",
       "      <td>5</td>\n",
       "      <td>1920</td>\n",
       "      <td>2.000000</td>\n",
       "    </tr>\n",
       "  </tbody>\n",
       "</table>\n",
       "</div>"
      ],
      "text/plain": [
       "   acousticness  danceability  duration_ms  energy  instrumentalness  \\\n",
       "0      0.994000         0.557       167427   0.274          0.880000   \n",
       "1      0.326000         0.577       196707   0.537          0.000079   \n",
       "2      0.838000         0.493       164467   0.217          0.004630   \n",
       "3      0.000014         0.389        71062   0.990          0.038800   \n",
       "4      0.958000         0.453       288000   0.299          0.480000   \n",
       "\n",
       "   liveness  loudness  speechiness    tempo  valence  explicit  key  \\\n",
       "0    0.4260   -11.913       0.0426  102.313   0.4120         0    9   \n",
       "1    0.1910    -9.583       0.0372  152.528   0.4850         0    2   \n",
       "2    0.0867   -11.501       0.0271  105.003   0.1820         0    9   \n",
       "3    0.5830    -5.537       0.1010  135.982   0.0956         0   10   \n",
       "4    0.1950   -16.289       0.0539  163.959   0.7990         0    5   \n",
       "\n",
       "   release_date  popularity  \n",
       "0          1943         NaN  \n",
       "1          1997   54.000000  \n",
       "2          1963   13.533333  \n",
       "3          2020   13.000000  \n",
       "4          1920    2.000000  "
      ]
     },
     "execution_count": 39,
     "metadata": {},
     "output_type": "execute_result"
    }
   ],
   "source": [
    "X_test_engineered = X_test_year.merge(data[['id', 'artist']], on='id', how='left')\n",
    "\n",
    "X_test_engineered = X_test_engineered.merge(artist_popularity, on='artist', how='left')\n",
    "\n",
    "X_test_engineered.drop(columns=['id', 'artist'], inplace=True)\n",
    "\n",
    "print(X_test_engineered.shape)\n",
    "\n",
    "X_test_engineered.head()"
   ]
  },
  {
   "cell_type": "code",
   "execution_count": 40,
   "metadata": {
    "hidden": true
   },
   "outputs": [
    {
     "data": {
      "text/plain": [
       "acousticness           0\n",
       "danceability           0\n",
       "duration_ms            0\n",
       "energy                 0\n",
       "instrumentalness       0\n",
       "liveness               0\n",
       "loudness               0\n",
       "speechiness            0\n",
       "tempo                  0\n",
       "valence                0\n",
       "explicit               0\n",
       "key                    0\n",
       "release_date           0\n",
       "popularity          5049\n",
       "dtype: int64"
      ]
     },
     "execution_count": 40,
     "metadata": {},
     "output_type": "execute_result"
    }
   ],
   "source": [
    "X_test_engineered.isnull().sum()"
   ]
  },
  {
   "cell_type": "markdown",
   "metadata": {
    "hidden": true
   },
   "source": [
    "For 5046 observations of the test set, the artist could not be found in `artist_popularity` and we therefore need to impute a value to replace these NaNs."
   ]
  },
  {
   "cell_type": "code",
   "execution_count": 41,
   "metadata": {
    "hidden": true
   },
   "outputs": [],
   "source": [
    "X_test_engineered['popularity'] = X_test_engineered['popularity'].fillna(global_mean_popularity)"
   ]
  },
  {
   "cell_type": "code",
   "execution_count": 42,
   "metadata": {
    "hidden": true
   },
   "outputs": [],
   "source": [
    "X_train_engineered.rename(columns={'popularity': 'artist_popularity'}, inplace=True)\n",
    "X_test_engineered.rename(columns={'popularity': 'artist_popularity'}, inplace=True)"
   ]
  },
  {
   "cell_type": "code",
   "execution_count": 43,
   "metadata": {
    "hidden": true
   },
   "outputs": [
    {
     "name": "stdout",
     "output_type": "stream",
     "text": [
      "(26003, 14) (26003,)\n",
      "(26004, 14) (26004,)\n"
     ]
    }
   ],
   "source": [
    "print(X_train_engineered.shape, y_train.shape)\n",
    "print(X_test_engineered.shape, y_test.shape)"
   ]
  },
  {
   "cell_type": "markdown",
   "metadata": {
    "hidden": true
   },
   "source": [
    "### Save your results\n",
    "\n",
    "Run the following cell to save your results."
   ]
  },
  {
   "cell_type": "code",
   "execution_count": 44,
   "metadata": {
    "hidden": true
   },
   "outputs": [],
   "source": [
    "from nbresult import ChallengeResult\n",
    "\n",
    "_ = pd.concat([X_train_engineered, X_test_engineered])\n",
    "\n",
    "ChallengeResult(\"c7_feature_engineering\",\n",
    "    shape = _.shape,\n",
    "    cols = _.columns,\n",
    "    years = _.get(\"year\"),\n",
    "    popularities = _.get(\"artist_popularity\"),\n",
    ").write()"
   ]
  },
  {
   "cell_type": "markdown",
   "metadata": {
    "hidden": true
   },
   "source": [
    "### Performance\n",
    "\n",
    "**📝 Let's see how these features impact the performance of our model. Retrain the same baseline model on numerical values only, but adding the new features `year` and `artist_popularity`, and see how the performance is impacted. Save the performance in a `float` variable named `score_engineered`**\n",
    "\n",
    "👉 Do not fine tune the model yet"
   ]
  },
  {
   "cell_type": "code",
   "execution_count": 45,
   "metadata": {
    "hidden": true
   },
   "outputs": [
    {
     "name": "stdout",
     "output_type": "stream",
     "text": [
      "14.25396418601126\n"
     ]
    }
   ],
   "source": [
    "lin_reg = LinearRegression()\n",
    "\n",
    "lin_reg.fit(X_train_engineered, y_train)\n",
    "\n",
    "y_pred = lin_reg.predict(X_test_engineered)\n",
    "\n",
    "score_engineered = mean_squared_error(y_test, y_pred, squared=False)\n",
    "\n",
    "print(score_engineered)"
   ]
  },
  {
   "cell_type": "markdown",
   "metadata": {
    "hidden": true
   },
   "source": [
    "### Save your results\n",
    "\n",
    "Run the following cell to save your results."
   ]
  },
  {
   "cell_type": "code",
   "execution_count": 46,
   "metadata": {
    "hidden": true
   },
   "outputs": [],
   "source": [
    "from nbresult import ChallengeResult\n",
    "\n",
    "ChallengeResult(\n",
    "    \"c7_score_engineering\",\n",
    "    scoring=scoring,\n",
    "    score_engineered=score_engineered).write()"
   ]
  },
  {
   "cell_type": "markdown",
   "metadata": {
    "heading_collapsed": true
   },
   "source": [
    "## Pipelining\n",
    "\n",
    "**📝 Let's create a full sklearn preprocessing pipeline called `preproc`. It should integrate our feature engineering for `year` and `artist_popularity`, as well as any other preprocessing of your choice**\n",
    "\n",
    "**Store also the number of columns/feature after preprocessing your inputs in a variable `col_number`**\n",
    "\n",
    "**🚨⚠️ Advice: SKIP the `ArtistPopularityTransformer` if you don't have time to do it. It is better for you to have a working pipeline rather than NO pipeline at all**"
   ]
  },
  {
   "cell_type": "code",
   "execution_count": 61,
   "metadata": {
    "hidden": true,
    "slideshow": {
     "slide_type": "-"
    }
   },
   "outputs": [],
   "source": [
    "# 👉 Do not hesitate to reload clean new dataset if you need a fresh start\n",
    "data = pd.read_csv(url)\n",
    "\n",
    "# We drop missing values and 0-tempo observations as before \n",
    "# (Not included in the pipeline as this affects both the X and the y)\n",
    "data.dropna(inplace=True)\n",
    "data = data[data['tempo'] > 0].copy()\n",
    "\n",
    "y = data.popularity\n",
    "X = data.drop(\"popularity\", axis=1)"
   ]
  },
  {
   "cell_type": "code",
   "execution_count": 62,
   "metadata": {
    "hidden": true
   },
   "outputs": [],
   "source": [
    "X_train, X_test, y_train, y_test = train_test_split(X, y, test_size=0.5)"
   ]
  },
  {
   "cell_type": "code",
   "execution_count": 63,
   "metadata": {
    "hidden": true
   },
   "outputs": [],
   "source": [
    "# Run this cell to visualize your pipeline as you build it\n",
    "from sklearn import set_config; set_config(display='diagram')"
   ]
  },
  {
   "cell_type": "code",
   "execution_count": 64,
   "metadata": {
    "hidden": true
   },
   "outputs": [],
   "source": [
    "# We give you below the skeleton of the custom ArtistPopularityTransformer to complete\n",
    "\n",
    "from sklearn.base import BaseEstimator, TransformerMixin\n",
    "\n",
    "class ArtistPopularityTransformer(BaseEstimator, TransformerMixin):\n",
    "\n",
    "    def __init__(self):\n",
    "        pass\n",
    "\n",
    "    def fit(self, X, y=None):\n",
    "        \"\"\"\n",
    "        process artist mean popularity from artists songs popularity\n",
    "        process song global mean popularity\n",
    "        \"\"\"\n",
    "        \n",
    "        if y is None:\n",
    "            raise Exception(\"We need the y vector to compute artists' average popularity.\")\n",
    "            \n",
    "        X = X.copy()\n",
    "        \n",
    "        X['popularity'] = y\n",
    "        \n",
    "        # process artist popularity\n",
    "        self.artist_popularity = X.groupby('artist').mean()['popularity']\n",
    "        \n",
    "        # process mean popularity\n",
    "        self.global_mean_popularity = y.mean()\n",
    "\n",
    "        return self\n",
    "\n",
    "    def transform(self, X, y=None):\n",
    "        \"\"\"\n",
    "        apply artist mean popularity vs song global mean popularity to songs\n",
    "        \"\"\"\n",
    "\n",
    "        # inject artist popularity and fills popularity of unknown artists with song global mean popularity\n",
    "        X = X.copy()\n",
    "        \n",
    "        X['artist'] = X['artist'].map(\n",
    "            lambda artist: self.artist_popularity.loc[artist] if artist in self.artist_popularity.index else self.global_mean_popularity\n",
    "        )\n",
    "        \n",
    "        return X.copy()\n",
    "        \n",
    "    \n",
    "class ReleaseYearTransformer(BaseEstimator, TransformerMixin):\n",
    "    \n",
    "    def __init__(self):\n",
    "        pass\n",
    "    \n",
    "    def fit(self, X, y=None):\n",
    "        return self\n",
    "    \n",
    "    def transform(self, X, y=None):\n",
    "        X = X.copy()\n",
    "        \n",
    "        X['release_date'] = pd.to_datetime(X['release_date'])\n",
    "        \n",
    "        X['release_date'] = X['release_date'].dt.year\n",
    "        \n",
    "        return X.copy()"
   ]
  },
  {
   "cell_type": "code",
   "execution_count": 65,
   "metadata": {
    "hidden": true,
    "scrolled": false
   },
   "outputs": [
    {
     "data": {
      "image/png": "[encoded data removed]",
      "text/plain": [
       "<Figure size 1080x1080 with 12 Axes>"
      ]
     },
     "metadata": {
      "needs_background": "light"
     },
     "output_type": "display_data"
    }
   ],
   "source": [
    "fig, axes = plt.subplots(nrows=4, ncols=3, figsize=(15, 15))\n",
    "\n",
    "features_to_plot = numerical_features[:-3]\n",
    "features_to_plot.remove('popularity')\n",
    "\n",
    "for feature_name, ax in zip(features_to_plot, axes.flatten()):\n",
    "    sns.boxplot(X_train[feature_name], ax=ax)"
   ]
  },
  {
   "cell_type": "code",
   "execution_count": 66,
   "metadata": {
    "hidden": true
   },
   "outputs": [],
   "source": [
    "ct = ColumnTransformer(\n",
    "    transformers=[\n",
    "        ('drop_id_and_song_name', 'drop', ['id', 'name']),\n",
    "        ('min_max_scaler', MinMaxScaler(), ['duration_ms', 'acousticness', 'danceability', 'energy', 'valence']),\n",
    "        ('robust_scaler', RobustScaler(), ['instrumentalness', 'liveness', 'loudness', 'speechiness', 'tempo']),\n",
    "        ('key_encoding', OneHotEncoder(), ['key']),\n",
    "        ('release_year', ReleaseYearTransformer(), ['release_date'])\n",
    "    ],\n",
    "    remainder='passthrough'\n",
    ")"
   ]
  },
  {
   "cell_type": "code",
   "execution_count": 67,
   "metadata": {
    "hidden": true
   },
   "outputs": [],
   "source": [
    "preproc = Pipeline(\n",
    "    steps=[\n",
    "        ('artist_popularity', ArtistPopularityTransformer()),\n",
    "        ('scaling_and_additional_preprocessing', ct)\n",
    "    ]\n",
    ")"
   ]
  },
  {
   "cell_type": "code",
   "execution_count": 68,
   "metadata": {
    "hidden": true,
    "scrolled": false
   },
   "outputs": [
    {
     "data": {
      "text/html": [
       "<style>div.sk-top-container {color: black;background-color: white;}div.sk-toggleable {background-color: white;}label.sk-toggleable__label {cursor: pointer;display: block;width: 100%;margin-bottom: 0;padding: 0.2em 0.3em;box-sizing: border-box;text-align: center;}div.sk-toggleable__content {max-height: 0;max-width: 0;overflow: hidden;text-align: left;background-color: #f0f8ff;}div.sk-toggleable__content pre {margin: 0.2em;color: black;border-radius: 0.25em;background-color: #f0f8ff;}input.sk-toggleable__control:checked~div.sk-toggleable__content {max-height: 200px;max-width: 100%;overflow: auto;}div.sk-estimator input.sk-toggleable__control:checked~label.sk-toggleable__label {background-color: #d4ebff;}div.sk-label input.sk-toggleable__control:checked~label.sk-toggleable__label {background-color: #d4ebff;}input.sk-hidden--visually {border: 0;clip: rect(1px 1px 1px 1px);clip: rect(1px, 1px, 1px, 1px);height: 1px;margin: -1px;overflow: hidden;padding: 0;position: absolute;width: 1px;}div.sk-estimator {font-family: monospace;background-color: #f0f8ff;margin: 0.25em 0.25em;border: 1px dotted black;border-radius: 0.25em;box-sizing: border-box;}div.sk-estimator:hover {background-color: #d4ebff;}div.sk-parallel-item::after {content: \"\";width: 100%;border-bottom: 1px solid gray;flex-grow: 1;}div.sk-label:hover label.sk-toggleable__label {background-color: #d4ebff;}div.sk-serial::before {content: \"\";position: absolute;border-left: 1px solid gray;box-sizing: border-box;top: 2em;bottom: 0;left: 50%;}div.sk-serial {display: flex;flex-direction: column;align-items: center;background-color: white;}div.sk-item {z-index: 1;}div.sk-parallel {display: flex;align-items: stretch;justify-content: center;background-color: white;}div.sk-parallel-item {display: flex;flex-direction: column;position: relative;background-color: white;}div.sk-parallel-item:first-child::after {align-self: flex-end;width: 50%;}div.sk-parallel-item:last-child::after {align-self: flex-start;width: 50%;}div.sk-parallel-item:only-child::after {width: 0;}div.sk-dashed-wrapped {border: 1px dashed gray;margin: 0.2em;box-sizing: border-box;padding-bottom: 0.1em;background-color: white;position: relative;}div.sk-label label {font-family: monospace;font-weight: bold;background-color: white;display: inline-block;line-height: 1.2em;}div.sk-label-container {position: relative;z-index: 2;text-align: center;}div.sk-container {display: inline-block;position: relative;}</style><div class=\"sk-top-container\"><div class=\"sk-container\"><div class=\"sk-item sk-dashed-wrapped\"><div class=\"sk-label-container\"><div class=\"sk-label sk-toggleable\"><input class=\"sk-toggleable__control sk-hidden--visually\" id=\"b8c8cff4-1bab-4965-83ed-d0f76cd1035c\" type=\"checkbox\" ><label class=\"sk-toggleable__label\" for=\"b8c8cff4-1bab-4965-83ed-d0f76cd1035c\">Pipeline</label><div class=\"sk-toggleable__content\"><pre>Pipeline(steps=[('artist_popularity', ArtistPopularityTransformer()),\n",
       "                ('scaling_and_additional_preprocessing',\n",
       "                 ColumnTransformer(remainder='passthrough',\n",
       "                                   transformers=[('drop_id_and_song_name',\n",
       "                                                  'drop', ['id', 'name']),\n",
       "                                                 ('min_max_scaler',\n",
       "                                                  MinMaxScaler(),\n",
       "                                                  ['duration_ms',\n",
       "                                                   'acousticness',\n",
       "                                                   'danceability', 'energy',\n",
       "                                                   'valence']),\n",
       "                                                 ('robust_scaler',\n",
       "                                                  RobustScaler(),\n",
       "                                                  ['instrumentalness',\n",
       "                                                   'liveness', 'loudness',\n",
       "                                                   'speechiness', 'tempo']),\n",
       "                                                 ('key_encoding',\n",
       "                                                  OneHotEncoder(), ['key']),\n",
       "                                                 ('release_year',\n",
       "                                                  ReleaseYearTransformer(),\n",
       "                                                  ['release_date'])]))])</pre></div></div></div><div class=\"sk-serial\"><div class=\"sk-item\"><div class=\"sk-estimator sk-toggleable\"><input class=\"sk-toggleable__control sk-hidden--visually\" id=\"923ea0d6-2640-4b10-8a71-1a45c20ab86b\" type=\"checkbox\" ><label class=\"sk-toggleable__label\" for=\"923ea0d6-2640-4b10-8a71-1a45c20ab86b\">ArtistPopularityTransformer</label><div class=\"sk-toggleable__content\"><pre>ArtistPopularityTransformer()</pre></div></div></div><div class=\"sk-item sk-dashed-wrapped\"><div class=\"sk-label-container\"><div class=\"sk-label sk-toggleable\"><input class=\"sk-toggleable__control sk-hidden--visually\" id=\"e6be49c3-91bc-4af1-a3c6-d771fa2f359f\" type=\"checkbox\" ><label class=\"sk-toggleable__label\" for=\"e6be49c3-91bc-4af1-a3c6-d771fa2f359f\">scaling_and_additional_preprocessing: ColumnTransformer</label><div class=\"sk-toggleable__content\"><pre>ColumnTransformer(remainder='passthrough',\n",
       "                  transformers=[('drop_id_and_song_name', 'drop',\n",
       "                                 ['id', 'name']),\n",
       "                                ('min_max_scaler', MinMaxScaler(),\n",
       "                                 ['duration_ms', 'acousticness', 'danceability',\n",
       "                                  'energy', 'valence']),\n",
       "                                ('robust_scaler', RobustScaler(),\n",
       "                                 ['instrumentalness', 'liveness', 'loudness',\n",
       "                                  'speechiness', 'tempo']),\n",
       "                                ('key_encoding', OneHotEncoder(), ['key']),\n",
       "                                ('release_year', ReleaseYearTransformer(),\n",
       "                                 ['release_date'])])</pre></div></div></div><div class=\"sk-parallel\"><div class=\"sk-parallel-item\"><div class=\"sk-item\"><div class=\"sk-label-container\"><div class=\"sk-label sk-toggleable\"><input class=\"sk-toggleable__control sk-hidden--visually\" id=\"b3cbe56f-2b5e-4460-ac8b-ff3508087e0b\" type=\"checkbox\" ><label class=\"sk-toggleable__label\" for=\"b3cbe56f-2b5e-4460-ac8b-ff3508087e0b\">drop_id_and_song_name</label><div class=\"sk-toggleable__content\"><pre>['id', 'name']</pre></div></div></div><div class=\"sk-serial\"><div class=\"sk-item\"><div class=\"sk-estimator sk-toggleable\"><input class=\"sk-toggleable__control sk-hidden--visually\" id=\"4bd3ab56-6fa7-4489-88de-e83a518045c2\" type=\"checkbox\" ><label class=\"sk-toggleable__label\" for=\"4bd3ab56-6fa7-4489-88de-e83a518045c2\">drop</label><div class=\"sk-toggleable__content\"><pre>drop</pre></div></div></div></div></div></div><div class=\"sk-parallel-item\"><div class=\"sk-item\"><div class=\"sk-label-container\"><div class=\"sk-label sk-toggleable\"><input class=\"sk-toggleable__control sk-hidden--visually\" id=\"5cf54dd2-f88d-4025-871e-7a0a647e77f1\" type=\"checkbox\" ><label class=\"sk-toggleable__label\" for=\"5cf54dd2-f88d-4025-871e-7a0a647e77f1\">min_max_scaler</label><div class=\"sk-toggleable__content\"><pre>['duration_ms', 'acousticness', 'danceability', 'energy', 'valence']</pre></div></div></div><div class=\"sk-serial\"><div class=\"sk-item\"><div class=\"sk-estimator sk-toggleable\"><input class=\"sk-toggleable__control sk-hidden--visually\" id=\"d9ded525-ca35-427b-965f-3f3af7d0ee88\" type=\"checkbox\" ><label class=\"sk-toggleable__label\" for=\"d9ded525-ca35-427b-965f-3f3af7d0ee88\">MinMaxScaler</label><div class=\"sk-toggleable__content\"><pre>MinMaxScaler()</pre></div></div></div></div></div></div><div class=\"sk-parallel-item\"><div class=\"sk-item\"><div class=\"sk-label-container\"><div class=\"sk-label sk-toggleable\"><input class=\"sk-toggleable__control sk-hidden--visually\" id=\"5a0bcaa8-3276-4796-ac7a-bb3d17b561cc\" type=\"checkbox\" ><label class=\"sk-toggleable__label\" for=\"5a0bcaa8-3276-4796-ac7a-bb3d17b561cc\">robust_scaler</label><div class=\"sk-toggleable__content\"><pre>['instrumentalness', 'liveness', 'loudness', 'speechiness', 'tempo']</pre></div></div></div><div class=\"sk-serial\"><div class=\"sk-item\"><div class=\"sk-estimator sk-toggleable\"><input class=\"sk-toggleable__control sk-hidden--visually\" id=\"2653f3c7-9e61-4ef3-b4e4-3955c694b5e0\" type=\"checkbox\" ><label class=\"sk-toggleable__label\" for=\"2653f3c7-9e61-4ef3-b4e4-3955c694b5e0\">RobustScaler</label><div class=\"sk-toggleable__content\"><pre>RobustScaler()</pre></div></div></div></div></div></div><div class=\"sk-parallel-item\"><div class=\"sk-item\"><div class=\"sk-label-container\"><div class=\"sk-label sk-toggleable\"><input class=\"sk-toggleable__control sk-hidden--visually\" id=\"847cfa87-b668-407a-920c-4973dbe9631f\" type=\"checkbox\" ><label class=\"sk-toggleable__label\" for=\"847cfa87-b668-407a-920c-4973dbe9631f\">key_encoding</label><div class=\"sk-toggleable__content\"><pre>['key']</pre></div></div></div><div class=\"sk-serial\"><div class=\"sk-item\"><div class=\"sk-estimator sk-toggleable\"><input class=\"sk-toggleable__control sk-hidden--visually\" id=\"6afb3434-90b2-45d6-b6c2-47c363eaef82\" type=\"checkbox\" ><label class=\"sk-toggleable__label\" for=\"6afb3434-90b2-45d6-b6c2-47c363eaef82\">OneHotEncoder</label><div class=\"sk-toggleable__content\"><pre>OneHotEncoder()</pre></div></div></div></div></div></div><div class=\"sk-parallel-item\"><div class=\"sk-item\"><div class=\"sk-label-container\"><div class=\"sk-label sk-toggleable\"><input class=\"sk-toggleable__control sk-hidden--visually\" id=\"118bed05-b3da-40b4-aaff-e9c59be85bd9\" type=\"checkbox\" ><label class=\"sk-toggleable__label\" for=\"118bed05-b3da-40b4-aaff-e9c59be85bd9\">release_year</label><div class=\"sk-toggleable__content\"><pre>['release_date']</pre></div></div></div><div class=\"sk-serial\"><div class=\"sk-item\"><div class=\"sk-estimator sk-toggleable\"><input class=\"sk-toggleable__control sk-hidden--visually\" id=\"69ed86f7-1899-4b88-8256-1d7790c7d34f\" type=\"checkbox\" ><label class=\"sk-toggleable__label\" for=\"69ed86f7-1899-4b88-8256-1d7790c7d34f\">ReleaseYearTransformer</label><div class=\"sk-toggleable__content\"><pre>ReleaseYearTransformer()</pre></div></div></div></div></div></div></div></div></div></div></div></div>"
      ],
      "text/plain": [
       "Pipeline(steps=[('artist_popularity', ArtistPopularityTransformer()),\n",
       "                ('scaling_and_additional_preprocessing',\n",
       "                 ColumnTransformer(remainder='passthrough',\n",
       "                                   transformers=[('drop_id_and_song_name',\n",
       "                                                  'drop', ['id', 'name']),\n",
       "                                                 ('min_max_scaler',\n",
       "                                                  MinMaxScaler(),\n",
       "                                                  ['duration_ms',\n",
       "                                                   'acousticness',\n",
       "                                                   'danceability', 'energy',\n",
       "                                                   'valence']),\n",
       "                                                 ('robust_scaler',\n",
       "                                                  RobustScaler(),\n",
       "                                                  ['instrumentalness',\n",
       "                                                   'liveness', 'loudness',\n",
       "                                                   'speechiness', 'tempo']),\n",
       "                                                 ('key_encoding',\n",
       "                                                  OneHotEncoder(), ['key']),\n",
       "                                                 ('release_year',\n",
       "                                                  ReleaseYearTransformer(),\n",
       "                                                  ['release_date'])]))])"
      ]
     },
     "execution_count": 68,
     "metadata": {},
     "output_type": "execute_result"
    }
   ],
   "source": [
    "preproc.fit(X_train, y_train)"
   ]
  },
  {
   "cell_type": "code",
   "execution_count": 69,
   "metadata": {
    "hidden": true
   },
   "outputs": [
    {
     "data": {
      "text/html": [
       "<div>\n",
       "<style scoped>\n",
       "    .dataframe tbody tr th:only-of-type {\n",
       "        vertical-align: middle;\n",
       "    }\n",
       "\n",
       "    .dataframe tbody tr th {\n",
       "        vertical-align: top;\n",
       "    }\n",
       "\n",
       "    .dataframe thead th {\n",
       "        text-align: right;\n",
       "    }\n",
       "</style>\n",
       "<table border=\"1\" class=\"dataframe\">\n",
       "  <thead>\n",
       "    <tr style=\"text-align: right;\">\n",
       "      <th></th>\n",
       "      <th>0</th>\n",
       "      <th>1</th>\n",
       "      <th>2</th>\n",
       "      <th>3</th>\n",
       "      <th>4</th>\n",
       "      <th>5</th>\n",
       "      <th>6</th>\n",
       "      <th>7</th>\n",
       "      <th>8</th>\n",
       "      <th>9</th>\n",
       "      <th>...</th>\n",
       "      <th>16</th>\n",
       "      <th>17</th>\n",
       "      <th>18</th>\n",
       "      <th>19</th>\n",
       "      <th>20</th>\n",
       "      <th>21</th>\n",
       "      <th>22</th>\n",
       "      <th>23</th>\n",
       "      <th>24</th>\n",
       "      <th>25</th>\n",
       "    </tr>\n",
       "  </thead>\n",
       "  <tbody>\n",
       "    <tr>\n",
       "      <th>0</th>\n",
       "      <td>0.011642</td>\n",
       "      <td>1.000000</td>\n",
       "      <td>0.647097</td>\n",
       "      <td>0.466989</td>\n",
       "      <td>0.577889</td>\n",
       "      <td>2.765811</td>\n",
       "      <td>2.158314</td>\n",
       "      <td>-0.608731</td>\n",
       "      <td>14.169492</td>\n",
       "      <td>-0.365450</td>\n",
       "      <td>...</td>\n",
       "      <td>0.0</td>\n",
       "      <td>0.0</td>\n",
       "      <td>0.0</td>\n",
       "      <td>0.0</td>\n",
       "      <td>0.0</td>\n",
       "      <td>0.0</td>\n",
       "      <td>1998.0</td>\n",
       "      <td>1.0</td>\n",
       "      <td>1.0</td>\n",
       "      <td>46.117647</td>\n",
       "    </tr>\n",
       "    <tr>\n",
       "      <th>1</th>\n",
       "      <td>0.044118</td>\n",
       "      <td>0.089960</td>\n",
       "      <td>0.240823</td>\n",
       "      <td>0.945999</td>\n",
       "      <td>0.455276</td>\n",
       "      <td>-0.001906</td>\n",
       "      <td>1.275626</td>\n",
       "      <td>0.804970</td>\n",
       "      <td>1.360775</td>\n",
       "      <td>1.452679</td>\n",
       "      <td>...</td>\n",
       "      <td>0.0</td>\n",
       "      <td>0.0</td>\n",
       "      <td>0.0</td>\n",
       "      <td>0.0</td>\n",
       "      <td>0.0</td>\n",
       "      <td>0.0</td>\n",
       "      <td>1986.0</td>\n",
       "      <td>0.0</td>\n",
       "      <td>0.0</td>\n",
       "      <td>34.333333</td>\n",
       "    </tr>\n",
       "    <tr>\n",
       "      <th>2</th>\n",
       "      <td>0.040442</td>\n",
       "      <td>0.655622</td>\n",
       "      <td>0.574120</td>\n",
       "      <td>0.508990</td>\n",
       "      <td>0.677387</td>\n",
       "      <td>-0.001869</td>\n",
       "      <td>-0.430524</td>\n",
       "      <td>0.165615</td>\n",
       "      <td>-0.336562</td>\n",
       "      <td>-0.694174</td>\n",
       "      <td>...</td>\n",
       "      <td>0.0</td>\n",
       "      <td>0.0</td>\n",
       "      <td>0.0</td>\n",
       "      <td>1.0</td>\n",
       "      <td>0.0</td>\n",
       "      <td>0.0</td>\n",
       "      <td>1974.0</td>\n",
       "      <td>0.0</td>\n",
       "      <td>1.0</td>\n",
       "      <td>29.125000</td>\n",
       "    </tr>\n",
       "    <tr>\n",
       "      <th>3</th>\n",
       "      <td>0.056697</td>\n",
       "      <td>0.158635</td>\n",
       "      <td>0.671060</td>\n",
       "      <td>0.591992</td>\n",
       "      <td>0.491457</td>\n",
       "      <td>0.011717</td>\n",
       "      <td>-0.148064</td>\n",
       "      <td>0.482069</td>\n",
       "      <td>-0.355932</td>\n",
       "      <td>0.286951</td>\n",
       "      <td>...</td>\n",
       "      <td>0.0</td>\n",
       "      <td>0.0</td>\n",
       "      <td>0.0</td>\n",
       "      <td>0.0</td>\n",
       "      <td>0.0</td>\n",
       "      <td>1.0</td>\n",
       "      <td>2008.0</td>\n",
       "      <td>0.0</td>\n",
       "      <td>0.0</td>\n",
       "      <td>53.000000</td>\n",
       "    </tr>\n",
       "    <tr>\n",
       "      <th>4</th>\n",
       "      <td>0.033592</td>\n",
       "      <td>0.052209</td>\n",
       "      <td>0.500054</td>\n",
       "      <td>0.894998</td>\n",
       "      <td>0.228141</td>\n",
       "      <td>0.001008</td>\n",
       "      <td>-0.259112</td>\n",
       "      <td>0.606447</td>\n",
       "      <td>0.871671</td>\n",
       "      <td>-0.454508</td>\n",
       "      <td>...</td>\n",
       "      <td>0.0</td>\n",
       "      <td>0.0</td>\n",
       "      <td>0.0</td>\n",
       "      <td>0.0</td>\n",
       "      <td>0.0</td>\n",
       "      <td>0.0</td>\n",
       "      <td>2020.0</td>\n",
       "      <td>0.0</td>\n",
       "      <td>1.0</td>\n",
       "      <td>1.000000</td>\n",
       "    </tr>\n",
       "  </tbody>\n",
       "</table>\n",
       "<p>5 rows × 26 columns</p>\n",
       "</div>"
      ],
      "text/plain": [
       "         0         1         2         3         4         5         6   \\\n",
       "0  0.011642  1.000000  0.647097  0.466989  0.577889  2.765811  2.158314   \n",
       "1  0.044118  0.089960  0.240823  0.945999  0.455276 -0.001906  1.275626   \n",
       "2  0.040442  0.655622  0.574120  0.508990  0.677387 -0.001869 -0.430524   \n",
       "3  0.056697  0.158635  0.671060  0.591992  0.491457  0.011717 -0.148064   \n",
       "4  0.033592  0.052209  0.500054  0.894998  0.228141  0.001008 -0.259112   \n",
       "\n",
       "         7          8         9   ...   16   17   18   19   20   21      22  \\\n",
       "0 -0.608731  14.169492 -0.365450  ...  0.0  0.0  0.0  0.0  0.0  0.0  1998.0   \n",
       "1  0.804970   1.360775  1.452679  ...  0.0  0.0  0.0  0.0  0.0  0.0  1986.0   \n",
       "2  0.165615  -0.336562 -0.694174  ...  0.0  0.0  0.0  1.0  0.0  0.0  1974.0   \n",
       "3  0.482069  -0.355932  0.286951  ...  0.0  0.0  0.0  0.0  0.0  1.0  2008.0   \n",
       "4  0.606447   0.871671 -0.454508  ...  0.0  0.0  0.0  0.0  0.0  0.0  2020.0   \n",
       "\n",
       "    23   24         25  \n",
       "0  1.0  1.0  46.117647  \n",
       "1  0.0  0.0  34.333333  \n",
       "2  0.0  1.0  29.125000  \n",
       "3  0.0  0.0  53.000000  \n",
       "4  0.0  1.0   1.000000  \n",
       "\n",
       "[5 rows x 26 columns]"
      ]
     },
     "execution_count": 69,
     "metadata": {},
     "output_type": "execute_result"
    }
   ],
   "source": [
    "pd.DataFrame(preproc.transform(X_train)).head()"
   ]
  },
  {
   "cell_type": "code",
   "execution_count": 70,
   "metadata": {
    "hidden": true
   },
   "outputs": [],
   "source": [
    "col_number = pd.DataFrame(preproc.transform(X_train)).shape[1]"
   ]
  },
  {
   "cell_type": "markdown",
   "metadata": {
    "hidden": true
   },
   "source": [
    "#### Save your results\n",
    "\n",
    "Run the following cell to save your results."
   ]
  },
  {
   "cell_type": "code",
   "execution_count": 71,
   "metadata": {
    "hidden": true
   },
   "outputs": [
    {
     "data": {
      "text/html": [
       "<style>div.sk-top-container {color: black;background-color: white;}div.sk-toggleable {background-color: white;}label.sk-toggleable__label {cursor: pointer;display: block;width: 100%;margin-bottom: 0;padding: 0.2em 0.3em;box-sizing: border-box;text-align: center;}div.sk-toggleable__content {max-height: 0;max-width: 0;overflow: hidden;text-align: left;background-color: #f0f8ff;}div.sk-toggleable__content pre {margin: 0.2em;color: black;border-radius: 0.25em;background-color: #f0f8ff;}input.sk-toggleable__control:checked~div.sk-toggleable__content {max-height: 200px;max-width: 100%;overflow: auto;}div.sk-estimator input.sk-toggleable__control:checked~label.sk-toggleable__label {background-color: #d4ebff;}div.sk-label input.sk-toggleable__control:checked~label.sk-toggleable__label {background-color: #d4ebff;}input.sk-hidden--visually {border: 0;clip: rect(1px 1px 1px 1px);clip: rect(1px, 1px, 1px, 1px);height: 1px;margin: -1px;overflow: hidden;padding: 0;position: absolute;width: 1px;}div.sk-estimator {font-family: monospace;background-color: #f0f8ff;margin: 0.25em 0.25em;border: 1px dotted black;border-radius: 0.25em;box-sizing: border-box;}div.sk-estimator:hover {background-color: #d4ebff;}div.sk-parallel-item::after {content: \"\";width: 100%;border-bottom: 1px solid gray;flex-grow: 1;}div.sk-label:hover label.sk-toggleable__label {background-color: #d4ebff;}div.sk-serial::before {content: \"\";position: absolute;border-left: 1px solid gray;box-sizing: border-box;top: 2em;bottom: 0;left: 50%;}div.sk-serial {display: flex;flex-direction: column;align-items: center;background-color: white;}div.sk-item {z-index: 1;}div.sk-parallel {display: flex;align-items: stretch;justify-content: center;background-color: white;}div.sk-parallel-item {display: flex;flex-direction: column;position: relative;background-color: white;}div.sk-parallel-item:first-child::after {align-self: flex-end;width: 50%;}div.sk-parallel-item:last-child::after {align-self: flex-start;width: 50%;}div.sk-parallel-item:only-child::after {width: 0;}div.sk-dashed-wrapped {border: 1px dashed gray;margin: 0.2em;box-sizing: border-box;padding-bottom: 0.1em;background-color: white;position: relative;}div.sk-label label {font-family: monospace;font-weight: bold;background-color: white;display: inline-block;line-height: 1.2em;}div.sk-label-container {position: relative;z-index: 2;text-align: center;}div.sk-container {display: inline-block;position: relative;}</style><div class=\"sk-top-container\"><div class=\"sk-container\"><div class=\"sk-item sk-dashed-wrapped\"><div class=\"sk-label-container\"><div class=\"sk-label sk-toggleable\"><input class=\"sk-toggleable__control sk-hidden--visually\" id=\"ae086c51-4fe3-4a09-a3c1-c09825119f64\" type=\"checkbox\" ><label class=\"sk-toggleable__label\" for=\"ae086c51-4fe3-4a09-a3c1-c09825119f64\">Pipeline</label><div class=\"sk-toggleable__content\"><pre>Pipeline(steps=[('artist_popularity', ArtistPopularityTransformer()),\n",
       "                ('scaling_and_additional_preprocessing',\n",
       "                 ColumnTransformer(remainder='passthrough',\n",
       "                                   transformers=[('drop_id_and_song_name',\n",
       "                                                  'drop', ['id', 'name']),\n",
       "                                                 ('min_max_scaler',\n",
       "                                                  MinMaxScaler(),\n",
       "                                                  ['duration_ms',\n",
       "                                                   'acousticness',\n",
       "                                                   'danceability', 'energy',\n",
       "                                                   'valence']),\n",
       "                                                 ('robust_scaler',\n",
       "                                                  RobustScaler(),\n",
       "                                                  ['instrumentalness',\n",
       "                                                   'liveness', 'loudness',\n",
       "                                                   'speechiness', 'tempo']),\n",
       "                                                 ('key_encoding',\n",
       "                                                  OneHotEncoder(), ['key']),\n",
       "                                                 ('release_year',\n",
       "                                                  ReleaseYearTransformer(),\n",
       "                                                  ['release_date'])]))])</pre></div></div></div><div class=\"sk-serial\"><div class=\"sk-item\"><div class=\"sk-estimator sk-toggleable\"><input class=\"sk-toggleable__control sk-hidden--visually\" id=\"eba67084-c911-4a4a-bb73-f270863831a5\" type=\"checkbox\" ><label class=\"sk-toggleable__label\" for=\"eba67084-c911-4a4a-bb73-f270863831a5\">ArtistPopularityTransformer</label><div class=\"sk-toggleable__content\"><pre>ArtistPopularityTransformer()</pre></div></div></div><div class=\"sk-item sk-dashed-wrapped\"><div class=\"sk-label-container\"><div class=\"sk-label sk-toggleable\"><input class=\"sk-toggleable__control sk-hidden--visually\" id=\"69a25dd6-ee49-433c-868a-0239df507a9c\" type=\"checkbox\" ><label class=\"sk-toggleable__label\" for=\"69a25dd6-ee49-433c-868a-0239df507a9c\">scaling_and_additional_preprocessing: ColumnTransformer</label><div class=\"sk-toggleable__content\"><pre>ColumnTransformer(remainder='passthrough',\n",
       "                  transformers=[('drop_id_and_song_name', 'drop',\n",
       "                                 ['id', 'name']),\n",
       "                                ('min_max_scaler', MinMaxScaler(),\n",
       "                                 ['duration_ms', 'acousticness', 'danceability',\n",
       "                                  'energy', 'valence']),\n",
       "                                ('robust_scaler', RobustScaler(),\n",
       "                                 ['instrumentalness', 'liveness', 'loudness',\n",
       "                                  'speechiness', 'tempo']),\n",
       "                                ('key_encoding', OneHotEncoder(), ['key']),\n",
       "                                ('release_year', ReleaseYearTransformer(),\n",
       "                                 ['release_date'])])</pre></div></div></div><div class=\"sk-parallel\"><div class=\"sk-parallel-item\"><div class=\"sk-item\"><div class=\"sk-label-container\"><div class=\"sk-label sk-toggleable\"><input class=\"sk-toggleable__control sk-hidden--visually\" id=\"0544beed-dab4-49c6-bb53-98453097a091\" type=\"checkbox\" ><label class=\"sk-toggleable__label\" for=\"0544beed-dab4-49c6-bb53-98453097a091\">drop_id_and_song_name</label><div class=\"sk-toggleable__content\"><pre>['id', 'name']</pre></div></div></div><div class=\"sk-serial\"><div class=\"sk-item\"><div class=\"sk-estimator sk-toggleable\"><input class=\"sk-toggleable__control sk-hidden--visually\" id=\"c94e0aa6-c5ff-488f-9dfe-5bbdf1ae7121\" type=\"checkbox\" ><label class=\"sk-toggleable__label\" for=\"c94e0aa6-c5ff-488f-9dfe-5bbdf1ae7121\">drop</label><div class=\"sk-toggleable__content\"><pre>drop</pre></div></div></div></div></div></div><div class=\"sk-parallel-item\"><div class=\"sk-item\"><div class=\"sk-label-container\"><div class=\"sk-label sk-toggleable\"><input class=\"sk-toggleable__control sk-hidden--visually\" id=\"d951c7b5-1634-43bd-87ae-627683aca19b\" type=\"checkbox\" ><label class=\"sk-toggleable__label\" for=\"d951c7b5-1634-43bd-87ae-627683aca19b\">min_max_scaler</label><div class=\"sk-toggleable__content\"><pre>['duration_ms', 'acousticness', 'danceability', 'energy', 'valence']</pre></div></div></div><div class=\"sk-serial\"><div class=\"sk-item\"><div class=\"sk-estimator sk-toggleable\"><input class=\"sk-toggleable__control sk-hidden--visually\" id=\"f09cf476-8344-4eb4-ba7c-329bab3a9bbb\" type=\"checkbox\" ><label class=\"sk-toggleable__label\" for=\"f09cf476-8344-4eb4-ba7c-329bab3a9bbb\">MinMaxScaler</label><div class=\"sk-toggleable__content\"><pre>MinMaxScaler()</pre></div></div></div></div></div></div><div class=\"sk-parallel-item\"><div class=\"sk-item\"><div class=\"sk-label-container\"><div class=\"sk-label sk-toggleable\"><input class=\"sk-toggleable__control sk-hidden--visually\" id=\"cd095de1-9e51-475f-9db3-a5548469196c\" type=\"checkbox\" ><label class=\"sk-toggleable__label\" for=\"cd095de1-9e51-475f-9db3-a5548469196c\">robust_scaler</label><div class=\"sk-toggleable__content\"><pre>['instrumentalness', 'liveness', 'loudness', 'speechiness', 'tempo']</pre></div></div></div><div class=\"sk-serial\"><div class=\"sk-item\"><div class=\"sk-estimator sk-toggleable\"><input class=\"sk-toggleable__control sk-hidden--visually\" id=\"06a655a8-7112-457c-b16c-082751ba9491\" type=\"checkbox\" ><label class=\"sk-toggleable__label\" for=\"06a655a8-7112-457c-b16c-082751ba9491\">RobustScaler</label><div class=\"sk-toggleable__content\"><pre>RobustScaler()</pre></div></div></div></div></div></div><div class=\"sk-parallel-item\"><div class=\"sk-item\"><div class=\"sk-label-container\"><div class=\"sk-label sk-toggleable\"><input class=\"sk-toggleable__control sk-hidden--visually\" id=\"b8ecd172-3e9d-4d3a-91f9-bf82cd8e8a60\" type=\"checkbox\" ><label class=\"sk-toggleable__label\" for=\"b8ecd172-3e9d-4d3a-91f9-bf82cd8e8a60\">key_encoding</label><div class=\"sk-toggleable__content\"><pre>['key']</pre></div></div></div><div class=\"sk-serial\"><div class=\"sk-item\"><div class=\"sk-estimator sk-toggleable\"><input class=\"sk-toggleable__control sk-hidden--visually\" id=\"15df3edb-01a3-4ee9-8c73-b93101dc6c73\" type=\"checkbox\" ><label class=\"sk-toggleable__label\" for=\"15df3edb-01a3-4ee9-8c73-b93101dc6c73\">OneHotEncoder</label><div class=\"sk-toggleable__content\"><pre>OneHotEncoder()</pre></div></div></div></div></div></div><div class=\"sk-parallel-item\"><div class=\"sk-item\"><div class=\"sk-label-container\"><div class=\"sk-label sk-toggleable\"><input class=\"sk-toggleable__control sk-hidden--visually\" id=\"692d5287-e401-4327-b673-e376d3767b53\" type=\"checkbox\" ><label class=\"sk-toggleable__label\" for=\"692d5287-e401-4327-b673-e376d3767b53\">release_year</label><div class=\"sk-toggleable__content\"><pre>['release_date']</pre></div></div></div><div class=\"sk-serial\"><div class=\"sk-item\"><div class=\"sk-estimator sk-toggleable\"><input class=\"sk-toggleable__control sk-hidden--visually\" id=\"70fa5dad-8ac9-4e98-957a-50c4edc27b93\" type=\"checkbox\" ><label class=\"sk-toggleable__label\" for=\"70fa5dad-8ac9-4e98-957a-50c4edc27b93\">ReleaseYearTransformer</label><div class=\"sk-toggleable__content\"><pre>ReleaseYearTransformer()</pre></div></div></div></div></div></div></div></div></div></div></div></div>"
      ],
      "text/plain": [
       "Pipeline(steps=[('artist_popularity', ArtistPopularityTransformer()),\n",
       "                ('scaling_and_additional_preprocessing',\n",
       "                 ColumnTransformer(remainder='passthrough',\n",
       "                                   transformers=[('drop_id_and_song_name',\n",
       "                                                  'drop', ['id', 'name']),\n",
       "                                                 ('min_max_scaler',\n",
       "                                                  MinMaxScaler(),\n",
       "                                                  ['duration_ms',\n",
       "                                                   'acousticness',\n",
       "                                                   'danceability', 'energy',\n",
       "                                                   'valence']),\n",
       "                                                 ('robust_scaler',\n",
       "                                                  RobustScaler(),\n",
       "                                                  ['instrumentalness',\n",
       "                                                   'liveness', 'loudness',\n",
       "                                                   'speechiness', 'tempo']),\n",
       "                                                 ('key_encoding',\n",
       "                                                  OneHotEncoder(), ['key']),\n",
       "                                                 ('release_year',\n",
       "                                                  ReleaseYearTransformer(),\n",
       "                                                  ['release_date'])]))])"
      ]
     },
     "execution_count": 71,
     "metadata": {},
     "output_type": "execute_result"
    }
   ],
   "source": [
    "# Print below your preproc here for the correctors\n",
    "from sklearn import set_config; set_config(display='diagram')\n",
    "preproc"
   ]
  },
  {
   "cell_type": "code",
   "execution_count": 72,
   "metadata": {
    "hidden": true
   },
   "outputs": [],
   "source": [
    "from nbresult import ChallengeResult\n",
    "\n",
    "ChallengeResult(\n",
    "    \"c6_preprocessing\",\n",
    "    col_number=col_number\n",
    ").write()"
   ]
  },
  {
   "cell_type": "markdown",
   "metadata": {},
   "source": [
    "## Training\n",
    "\n",
    "📝 Time to optimize \n",
    "\n",
    "- **Add an estimator to your pipeline (only from scikit-learn)** \n",
    "\n",
    "- **Train your pipeline and fine-tune (optimize) your estimator to get the best prediction score**\n",
    "\n",
    "- **You must create 2 pipelines (one with a linear model, one with an ensemble model)**\n",
    "\n",
    "Then, \n",
    "\n",
    "- Save your two best 5-time cross-validated scores as _float_: `score_linear` and `score_ensemble`\n",
    "\n",
    "- Save your two best trained pipelines as _Pipeline_ objects: `pipe_linear` and `pipe_ensemble`"
   ]
  },
  {
   "cell_type": "markdown",
   "metadata": {
    "heading_collapsed": true
   },
   "source": [
    "### Linear"
   ]
  },
  {
   "cell_type": "code",
   "execution_count": 98,
   "metadata": {
    "hidden": true
   },
   "outputs": [],
   "source": [
    "linear_pipeline = Pipeline(\n",
    "    steps=[\n",
    "        ('artist_popularity', ArtistPopularityTransformer()),\n",
    "        ('scaling_and_additional_preprocessing', ct),\n",
    "        ('linear_model', Lasso())\n",
    "    ]\n",
    ")"
   ]
  },
  {
   "cell_type": "code",
   "execution_count": 99,
   "metadata": {
    "hidden": true,
    "scrolled": true
   },
   "outputs": [
    {
     "data": {
      "text/html": [
       "<style>div.sk-top-container {color: black;background-color: white;}div.sk-toggleable {background-color: white;}label.sk-toggleable__label {cursor: pointer;display: block;width: 100%;margin-bottom: 0;padding: 0.2em 0.3em;box-sizing: border-box;text-align: center;}div.sk-toggleable__content {max-height: 0;max-width: 0;overflow: hidden;text-align: left;background-color: #f0f8ff;}div.sk-toggleable__content pre {margin: 0.2em;color: black;border-radius: 0.25em;background-color: #f0f8ff;}input.sk-toggleable__control:checked~div.sk-toggleable__content {max-height: 200px;max-width: 100%;overflow: auto;}div.sk-estimator input.sk-toggleable__control:checked~label.sk-toggleable__label {background-color: #d4ebff;}div.sk-label input.sk-toggleable__control:checked~label.sk-toggleable__label {background-color: #d4ebff;}input.sk-hidden--visually {border: 0;clip: rect(1px 1px 1px 1px);clip: rect(1px, 1px, 1px, 1px);height: 1px;margin: -1px;overflow: hidden;padding: 0;position: absolute;width: 1px;}div.sk-estimator {font-family: monospace;background-color: #f0f8ff;margin: 0.25em 0.25em;border: 1px dotted black;border-radius: 0.25em;box-sizing: border-box;}div.sk-estimator:hover {background-color: #d4ebff;}div.sk-parallel-item::after {content: \"\";width: 100%;border-bottom: 1px solid gray;flex-grow: 1;}div.sk-label:hover label.sk-toggleable__label {background-color: #d4ebff;}div.sk-serial::before {content: \"\";position: absolute;border-left: 1px solid gray;box-sizing: border-box;top: 2em;bottom: 0;left: 50%;}div.sk-serial {display: flex;flex-direction: column;align-items: center;background-color: white;}div.sk-item {z-index: 1;}div.sk-parallel {display: flex;align-items: stretch;justify-content: center;background-color: white;}div.sk-parallel-item {display: flex;flex-direction: column;position: relative;background-color: white;}div.sk-parallel-item:first-child::after {align-self: flex-end;width: 50%;}div.sk-parallel-item:last-child::after {align-self: flex-start;width: 50%;}div.sk-parallel-item:only-child::after {width: 0;}div.sk-dashed-wrapped {border: 1px dashed gray;margin: 0.2em;box-sizing: border-box;padding-bottom: 0.1em;background-color: white;position: relative;}div.sk-label label {font-family: monospace;font-weight: bold;background-color: white;display: inline-block;line-height: 1.2em;}div.sk-label-container {position: relative;z-index: 2;text-align: center;}div.sk-container {display: inline-block;position: relative;}</style><div class=\"sk-top-container\"><div class=\"sk-container\"><div class=\"sk-item sk-dashed-wrapped\"><div class=\"sk-label-container\"><div class=\"sk-label sk-toggleable\"><input class=\"sk-toggleable__control sk-hidden--visually\" id=\"17da7be3-e6a8-40a0-8abd-f899c65ecd39\" type=\"checkbox\" ><label class=\"sk-toggleable__label\" for=\"17da7be3-e6a8-40a0-8abd-f899c65ecd39\">Pipeline</label><div class=\"sk-toggleable__content\"><pre>Pipeline(steps=[('artist_popularity', ArtistPopularityTransformer()),\n",
       "                ('scaling_and_additional_preprocessing',\n",
       "                 ColumnTransformer(remainder='passthrough',\n",
       "                                   transformers=[('drop_id_and_song_name',\n",
       "                                                  'drop', ['id', 'name']),\n",
       "                                                 ('min_max_scaler',\n",
       "                                                  MinMaxScaler(),\n",
       "                                                  ['duration_ms',\n",
       "                                                   'acousticness',\n",
       "                                                   'danceability', 'energy',\n",
       "                                                   'valence']),\n",
       "                                                 ('robust_scaler',\n",
       "                                                  RobustScaler(),\n",
       "                                                  ['instrumentalness',\n",
       "                                                   'liveness', 'loudness',\n",
       "                                                   'speechiness', 'tempo']),\n",
       "                                                 ('key_encoding',\n",
       "                                                  OneHotEncoder(), ['key']),\n",
       "                                                 ('release_year',\n",
       "                                                  ReleaseYearTransformer(),\n",
       "                                                  ['release_date'])])),\n",
       "                ('linear_model', Lasso())])</pre></div></div></div><div class=\"sk-serial\"><div class=\"sk-item\"><div class=\"sk-estimator sk-toggleable\"><input class=\"sk-toggleable__control sk-hidden--visually\" id=\"26648c19-1c3e-4c9c-9900-43f8313f927d\" type=\"checkbox\" ><label class=\"sk-toggleable__label\" for=\"26648c19-1c3e-4c9c-9900-43f8313f927d\">ArtistPopularityTransformer</label><div class=\"sk-toggleable__content\"><pre>ArtistPopularityTransformer()</pre></div></div></div><div class=\"sk-item sk-dashed-wrapped\"><div class=\"sk-label-container\"><div class=\"sk-label sk-toggleable\"><input class=\"sk-toggleable__control sk-hidden--visually\" id=\"adb556ed-cb21-4b37-9543-a7a8db565b4b\" type=\"checkbox\" ><label class=\"sk-toggleable__label\" for=\"adb556ed-cb21-4b37-9543-a7a8db565b4b\">scaling_and_additional_preprocessing: ColumnTransformer</label><div class=\"sk-toggleable__content\"><pre>ColumnTransformer(remainder='passthrough',\n",
       "                  transformers=[('drop_id_and_song_name', 'drop',\n",
       "                                 ['id', 'name']),\n",
       "                                ('min_max_scaler', MinMaxScaler(),\n",
       "                                 ['duration_ms', 'acousticness', 'danceability',\n",
       "                                  'energy', 'valence']),\n",
       "                                ('robust_scaler', RobustScaler(),\n",
       "                                 ['instrumentalness', 'liveness', 'loudness',\n",
       "                                  'speechiness', 'tempo']),\n",
       "                                ('key_encoding', OneHotEncoder(), ['key']),\n",
       "                                ('release_year', ReleaseYearTransformer(),\n",
       "                                 ['release_date'])])</pre></div></div></div><div class=\"sk-parallel\"><div class=\"sk-parallel-item\"><div class=\"sk-item\"><div class=\"sk-label-container\"><div class=\"sk-label sk-toggleable\"><input class=\"sk-toggleable__control sk-hidden--visually\" id=\"7ff72c66-aefd-4210-b330-96bf411607e8\" type=\"checkbox\" ><label class=\"sk-toggleable__label\" for=\"7ff72c66-aefd-4210-b330-96bf411607e8\">drop_id_and_song_name</label><div class=\"sk-toggleable__content\"><pre>['id', 'name']</pre></div></div></div><div class=\"sk-serial\"><div class=\"sk-item\"><div class=\"sk-estimator sk-toggleable\"><input class=\"sk-toggleable__control sk-hidden--visually\" id=\"584d9c14-dff0-4cc9-befc-8fe1ce30476b\" type=\"checkbox\" ><label class=\"sk-toggleable__label\" for=\"584d9c14-dff0-4cc9-befc-8fe1ce30476b\">drop</label><div class=\"sk-toggleable__content\"><pre>drop</pre></div></div></div></div></div></div><div class=\"sk-parallel-item\"><div class=\"sk-item\"><div class=\"sk-label-container\"><div class=\"sk-label sk-toggleable\"><input class=\"sk-toggleable__control sk-hidden--visually\" id=\"80b6702a-abbe-4fe4-920b-f1d76ee372f6\" type=\"checkbox\" ><label class=\"sk-toggleable__label\" for=\"80b6702a-abbe-4fe4-920b-f1d76ee372f6\">min_max_scaler</label><div class=\"sk-toggleable__content\"><pre>['duration_ms', 'acousticness', 'danceability', 'energy', 'valence']</pre></div></div></div><div class=\"sk-serial\"><div class=\"sk-item\"><div class=\"sk-estimator sk-toggleable\"><input class=\"sk-toggleable__control sk-hidden--visually\" id=\"7e4be470-4d31-4179-80ac-a61ddfd11e52\" type=\"checkbox\" ><label class=\"sk-toggleable__label\" for=\"7e4be470-4d31-4179-80ac-a61ddfd11e52\">MinMaxScaler</label><div class=\"sk-toggleable__content\"><pre>MinMaxScaler()</pre></div></div></div></div></div></div><div class=\"sk-parallel-item\"><div class=\"sk-item\"><div class=\"sk-label-container\"><div class=\"sk-label sk-toggleable\"><input class=\"sk-toggleable__control sk-hidden--visually\" id=\"d7fe1c5b-dd14-46eb-9ab0-927f71983863\" type=\"checkbox\" ><label class=\"sk-toggleable__label\" for=\"d7fe1c5b-dd14-46eb-9ab0-927f71983863\">robust_scaler</label><div class=\"sk-toggleable__content\"><pre>['instrumentalness', 'liveness', 'loudness', 'speechiness', 'tempo']</pre></div></div></div><div class=\"sk-serial\"><div class=\"sk-item\"><div class=\"sk-estimator sk-toggleable\"><input class=\"sk-toggleable__control sk-hidden--visually\" id=\"71ac1e28-95df-4235-b4ae-964c8cc5362e\" type=\"checkbox\" ><label class=\"sk-toggleable__label\" for=\"71ac1e28-95df-4235-b4ae-964c8cc5362e\">RobustScaler</label><div class=\"sk-toggleable__content\"><pre>RobustScaler()</pre></div></div></div></div></div></div><div class=\"sk-parallel-item\"><div class=\"sk-item\"><div class=\"sk-label-container\"><div class=\"sk-label sk-toggleable\"><input class=\"sk-toggleable__control sk-hidden--visually\" id=\"89047b82-f200-4c51-95a9-731af4e0cc78\" type=\"checkbox\" ><label class=\"sk-toggleable__label\" for=\"89047b82-f200-4c51-95a9-731af4e0cc78\">key_encoding</label><div class=\"sk-toggleable__content\"><pre>['key']</pre></div></div></div><div class=\"sk-serial\"><div class=\"sk-item\"><div class=\"sk-estimator sk-toggleable\"><input class=\"sk-toggleable__control sk-hidden--visually\" id=\"5f66a32a-1689-4810-82c9-f1d8ef83524d\" type=\"checkbox\" ><label class=\"sk-toggleable__label\" for=\"5f66a32a-1689-4810-82c9-f1d8ef83524d\">OneHotEncoder</label><div class=\"sk-toggleable__content\"><pre>OneHotEncoder()</pre></div></div></div></div></div></div><div class=\"sk-parallel-item\"><div class=\"sk-item\"><div class=\"sk-label-container\"><div class=\"sk-label sk-toggleable\"><input class=\"sk-toggleable__control sk-hidden--visually\" id=\"95a50228-2fc2-4865-965c-9cd4003d344c\" type=\"checkbox\" ><label class=\"sk-toggleable__label\" for=\"95a50228-2fc2-4865-965c-9cd4003d344c\">release_year</label><div class=\"sk-toggleable__content\"><pre>['release_date']</pre></div></div></div><div class=\"sk-serial\"><div class=\"sk-item\"><div class=\"sk-estimator sk-toggleable\"><input class=\"sk-toggleable__control sk-hidden--visually\" id=\"1537f0f9-3b81-4e76-bee2-089bee67a723\" type=\"checkbox\" ><label class=\"sk-toggleable__label\" for=\"1537f0f9-3b81-4e76-bee2-089bee67a723\">ReleaseYearTransformer</label><div class=\"sk-toggleable__content\"><pre>ReleaseYearTransformer()</pre></div></div></div></div></div></div></div></div><div class=\"sk-item\"><div class=\"sk-estimator sk-toggleable\"><input class=\"sk-toggleable__control sk-hidden--visually\" id=\"600b9f31-d612-446a-ad16-d6ab0a7aeb0b\" type=\"checkbox\" ><label class=\"sk-toggleable__label\" for=\"600b9f31-d612-446a-ad16-d6ab0a7aeb0b\">Lasso</label><div class=\"sk-toggleable__content\"><pre>Lasso()</pre></div></div></div></div></div></div></div>"
      ],
      "text/plain": [
       "Pipeline(steps=[('artist_popularity', ArtistPopularityTransformer()),\n",
       "                ('scaling_and_additional_preprocessing',\n",
       "                 ColumnTransformer(remainder='passthrough',\n",
       "                                   transformers=[('drop_id_and_song_name',\n",
       "                                                  'drop', ['id', 'name']),\n",
       "                                                 ('min_max_scaler',\n",
       "                                                  MinMaxScaler(),\n",
       "                                                  ['duration_ms',\n",
       "                                                   'acousticness',\n",
       "                                                   'danceability', 'energy',\n",
       "                                                   'valence']),\n",
       "                                                 ('robust_scaler',\n",
       "                                                  RobustScaler(),\n",
       "                                                  ['instrumentalness',\n",
       "                                                   'liveness', 'loudness',\n",
       "                                                   'speechiness', 'tempo']),\n",
       "                                                 ('key_encoding',\n",
       "                                                  OneHotEncoder(), ['key']),\n",
       "                                                 ('release_year',\n",
       "                                                  ReleaseYearTransformer(),\n",
       "                                                  ['release_date'])])),\n",
       "                ('linear_model', Lasso())])"
      ]
     },
     "execution_count": 99,
     "metadata": {},
     "output_type": "execute_result"
    }
   ],
   "source": [
    "linear_pipeline.fit(X_train, y_train)"
   ]
  },
  {
   "cell_type": "code",
   "execution_count": 100,
   "metadata": {
    "hidden": true
   },
   "outputs": [
    {
     "name": "stdout",
     "output_type": "stream",
     "text": [
      "14.356731368795595\n"
     ]
    }
   ],
   "source": [
    "y_pred = linear_pipeline.predict(X_test)\n",
    "\n",
    "rmse_linear_not_tuned = mean_squared_error(y_test, y_pred, squared=False)\n",
    "\n",
    "print(rmse_linear_not_tuned)"
   ]
  },
  {
   "cell_type": "code",
   "execution_count": 109,
   "metadata": {
    "hidden": true
   },
   "outputs": [],
   "source": [
    "param_grid = {\n",
    "    'linear_model__alpha': [0.001, 0.005, 0.01, 0.05, 0.1, 0.5, 1, 2]\n",
    "}"
   ]
  },
  {
   "cell_type": "code",
   "execution_count": 110,
   "metadata": {
    "hidden": true
   },
   "outputs": [],
   "source": [
    "linear_pipeline = Pipeline(\n",
    "    steps=[\n",
    "        ('artist_popularity', ArtistPopularityTransformer()),\n",
    "        ('scaling_and_additional_preprocessing', ct),\n",
    "        ('linear_model', Lasso())\n",
    "    ]\n",
    ")\n",
    "\n",
    "grid_search = GridSearchCV(\n",
    "    linear_pipeline, \n",
    "    param_grid=param_grid,\n",
    "    scoring='neg_root_mean_squared_error',\n",
    "    cv=5, \n",
    "    verbose=1,\n",
    "    refit=True , \n",
    "    n_jobs=-1\n",
    ")"
   ]
  },
  {
   "cell_type": "code",
   "execution_count": 111,
   "metadata": {
    "hidden": true,
    "scrolled": true
   },
   "outputs": [
    {
     "name": "stdout",
     "output_type": "stream",
     "text": [
      "Fitting 5 folds for each of 8 candidates, totalling 40 fits\n"
     ]
    },
    {
     "name": "stderr",
     "output_type": "stream",
     "text": [
      "[Parallel(n_jobs=-1)]: Using backend LokyBackend with 4 concurrent workers.\n",
      "[Parallel(n_jobs=-1)]: Done  40 out of  40 | elapsed:   11.6s finished\n"
     ]
    },
    {
     "name": "stdout",
     "output_type": "stream",
     "text": [
      "CPU times: user 2.25 s, sys: 156 ms, total: 2.41 s\n",
      "Wall time: 12.1 s\n"
     ]
    },
    {
     "data": {
      "text/html": [
       "<style>div.sk-top-container {color: black;background-color: white;}div.sk-toggleable {background-color: white;}label.sk-toggleable__label {cursor: pointer;display: block;width: 100%;margin-bottom: 0;padding: 0.2em 0.3em;box-sizing: border-box;text-align: center;}div.sk-toggleable__content {max-height: 0;max-width: 0;overflow: hidden;text-align: left;background-color: #f0f8ff;}div.sk-toggleable__content pre {margin: 0.2em;color: black;border-radius: 0.25em;background-color: #f0f8ff;}input.sk-toggleable__control:checked~div.sk-toggleable__content {max-height: 200px;max-width: 100%;overflow: auto;}div.sk-estimator input.sk-toggleable__control:checked~label.sk-toggleable__label {background-color: #d4ebff;}div.sk-label input.sk-toggleable__control:checked~label.sk-toggleable__label {background-color: #d4ebff;}input.sk-hidden--visually {border: 0;clip: rect(1px 1px 1px 1px);clip: rect(1px, 1px, 1px, 1px);height: 1px;margin: -1px;overflow: hidden;padding: 0;position: absolute;width: 1px;}div.sk-estimator {font-family: monospace;background-color: #f0f8ff;margin: 0.25em 0.25em;border: 1px dotted black;border-radius: 0.25em;box-sizing: border-box;}div.sk-estimator:hover {background-color: #d4ebff;}div.sk-parallel-item::after {content: \"\";width: 100%;border-bottom: 1px solid gray;flex-grow: 1;}div.sk-label:hover label.sk-toggleable__label {background-color: #d4ebff;}div.sk-serial::before {content: \"\";position: absolute;border-left: 1px solid gray;box-sizing: border-box;top: 2em;bottom: 0;left: 50%;}div.sk-serial {display: flex;flex-direction: column;align-items: center;background-color: white;}div.sk-item {z-index: 1;}div.sk-parallel {display: flex;align-items: stretch;justify-content: center;background-color: white;}div.sk-parallel-item {display: flex;flex-direction: column;position: relative;background-color: white;}div.sk-parallel-item:first-child::after {align-self: flex-end;width: 50%;}div.sk-parallel-item:last-child::after {align-self: flex-start;width: 50%;}div.sk-parallel-item:only-child::after {width: 0;}div.sk-dashed-wrapped {border: 1px dashed gray;margin: 0.2em;box-sizing: border-box;padding-bottom: 0.1em;background-color: white;position: relative;}div.sk-label label {font-family: monospace;font-weight: bold;background-color: white;display: inline-block;line-height: 1.2em;}div.sk-label-container {position: relative;z-index: 2;text-align: center;}div.sk-container {display: inline-block;position: relative;}</style><div class=\"sk-top-container\"><div class=\"sk-container\"><div class=\"sk-item sk-dashed-wrapped\"><div class=\"sk-label-container\"><div class=\"sk-label sk-toggleable\"><input class=\"sk-toggleable__control sk-hidden--visually\" id=\"40026264-9065-4450-bd2b-db5c196f4a9d\" type=\"checkbox\" ><label class=\"sk-toggleable__label\" for=\"40026264-9065-4450-bd2b-db5c196f4a9d\">GridSearchCV</label><div class=\"sk-toggleable__content\"><pre>GridSearchCV(cv=5,\n",
       "             estimator=Pipeline(steps=[('artist_popularity',\n",
       "                                        ArtistPopularityTransformer()),\n",
       "                                       ('scaling_and_additional_preprocessing',\n",
       "                                        ColumnTransformer(remainder='passthrough',\n",
       "                                                          transformers=[('drop_id_and_song_name',\n",
       "                                                                         'drop',\n",
       "                                                                         ['id',\n",
       "                                                                          'name']),\n",
       "                                                                        ('min_max_scaler',\n",
       "                                                                         MinMaxScaler(),\n",
       "                                                                         ['duration_ms',\n",
       "                                                                          'acousticness',\n",
       "                                                                          'danceability',\n",
       "                                                                          'energy',\n",
       "                                                                          'valence']),\n",
       "                                                                        ('robust_scaler',\n",
       "                                                                         RobustScaler(),\n",
       "                                                                         ['instrumentalness',\n",
       "                                                                          'liveness',\n",
       "                                                                          'loudness',\n",
       "                                                                          'speechiness',\n",
       "                                                                          'tempo']),\n",
       "                                                                        ('key_encoding',\n",
       "                                                                         OneHotEncoder(),\n",
       "                                                                         ['key']),\n",
       "                                                                        ('release_year',\n",
       "                                                                         ReleaseYearTransformer(),\n",
       "                                                                         ['release_date'])])),\n",
       "                                       ('linear_model', Lasso())]),\n",
       "             n_jobs=-1,\n",
       "             param_grid={'linear_model__alpha': [0.001, 0.005, 0.01, 0.05, 0.1,\n",
       "                                                 0.5, 1, 2]},\n",
       "             scoring='neg_root_mean_squared_error', verbose=1)</pre></div></div></div><div class=\"sk-parallel\"><div class=\"sk-parallel-item\"><div class=\"sk-item\"><div class=\"sk-serial\"><div class=\"sk-item\"><div class=\"sk-serial\"><div class=\"sk-item\"><div class=\"sk-estimator sk-toggleable\"><input class=\"sk-toggleable__control sk-hidden--visually\" id=\"88687e36-fb78-46ab-a4ab-00dcae6607fc\" type=\"checkbox\" ><label class=\"sk-toggleable__label\" for=\"88687e36-fb78-46ab-a4ab-00dcae6607fc\">ArtistPopularityTransformer</label><div class=\"sk-toggleable__content\"><pre>ArtistPopularityTransformer()</pre></div></div></div><div class=\"sk-item sk-dashed-wrapped\"><div class=\"sk-label-container\"><div class=\"sk-label sk-toggleable\"><input class=\"sk-toggleable__control sk-hidden--visually\" id=\"82c1e049-6275-4f78-858b-b92f9e32eb3f\" type=\"checkbox\" ><label class=\"sk-toggleable__label\" for=\"82c1e049-6275-4f78-858b-b92f9e32eb3f\">scaling_and_additional_preprocessing: ColumnTransformer</label><div class=\"sk-toggleable__content\"><pre>ColumnTransformer(remainder='passthrough',\n",
       "                  transformers=[('drop_id_and_song_name', 'drop',\n",
       "                                 ['id', 'name']),\n",
       "                                ('min_max_scaler', MinMaxScaler(),\n",
       "                                 ['duration_ms', 'acousticness', 'danceability',\n",
       "                                  'energy', 'valence']),\n",
       "                                ('robust_scaler', RobustScaler(),\n",
       "                                 ['instrumentalness', 'liveness', 'loudness',\n",
       "                                  'speechiness', 'tempo']),\n",
       "                                ('key_encoding', OneHotEncoder(), ['key']),\n",
       "                                ('release_year', ReleaseYearTransformer(),\n",
       "                                 ['release_date'])])</pre></div></div></div><div class=\"sk-parallel\"><div class=\"sk-parallel-item\"><div class=\"sk-item\"><div class=\"sk-label-container\"><div class=\"sk-label sk-toggleable\"><input class=\"sk-toggleable__control sk-hidden--visually\" id=\"b46ca0ed-fe77-4169-8f31-b9ceb3ff9675\" type=\"checkbox\" ><label class=\"sk-toggleable__label\" for=\"b46ca0ed-fe77-4169-8f31-b9ceb3ff9675\">drop_id_and_song_name</label><div class=\"sk-toggleable__content\"><pre>['id', 'name']</pre></div></div></div><div class=\"sk-serial\"><div class=\"sk-item\"><div class=\"sk-estimator sk-toggleable\"><input class=\"sk-toggleable__control sk-hidden--visually\" id=\"01d68712-2d25-4984-a885-893e65a622c0\" type=\"checkbox\" ><label class=\"sk-toggleable__label\" for=\"01d68712-2d25-4984-a885-893e65a622c0\">drop</label><div class=\"sk-toggleable__content\"><pre>drop</pre></div></div></div></div></div></div><div class=\"sk-parallel-item\"><div class=\"sk-item\"><div class=\"sk-label-container\"><div class=\"sk-label sk-toggleable\"><input class=\"sk-toggleable__control sk-hidden--visually\" id=\"fa5ebe72-e7a6-45c9-bab3-af3f291cdff0\" type=\"checkbox\" ><label class=\"sk-toggleable__label\" for=\"fa5ebe72-e7a6-45c9-bab3-af3f291cdff0\">min_max_scaler</label><div class=\"sk-toggleable__content\"><pre>['duration_ms', 'acousticness', 'danceability', 'energy', 'valence']</pre></div></div></div><div class=\"sk-serial\"><div class=\"sk-item\"><div class=\"sk-estimator sk-toggleable\"><input class=\"sk-toggleable__control sk-hidden--visually\" id=\"47e86167-a653-4a3f-a963-2b5cbbd212e9\" type=\"checkbox\" ><label class=\"sk-toggleable__label\" for=\"47e86167-a653-4a3f-a963-2b5cbbd212e9\">MinMaxScaler</label><div class=\"sk-toggleable__content\"><pre>MinMaxScaler()</pre></div></div></div></div></div></div><div class=\"sk-parallel-item\"><div class=\"sk-item\"><div class=\"sk-label-container\"><div class=\"sk-label sk-toggleable\"><input class=\"sk-toggleable__control sk-hidden--visually\" id=\"c0d57aaa-4d41-45fa-ba1a-80fe9a5c18c0\" type=\"checkbox\" ><label class=\"sk-toggleable__label\" for=\"c0d57aaa-4d41-45fa-ba1a-80fe9a5c18c0\">robust_scaler</label><div class=\"sk-toggleable__content\"><pre>['instrumentalness', 'liveness', 'loudness', 'speechiness', 'tempo']</pre></div></div></div><div class=\"sk-serial\"><div class=\"sk-item\"><div class=\"sk-estimator sk-toggleable\"><input class=\"sk-toggleable__control sk-hidden--visually\" id=\"f86cc140-dd7a-4279-8e7c-bbf9013a54f1\" type=\"checkbox\" ><label class=\"sk-toggleable__label\" for=\"f86cc140-dd7a-4279-8e7c-bbf9013a54f1\">RobustScaler</label><div class=\"sk-toggleable__content\"><pre>RobustScaler()</pre></div></div></div></div></div></div><div class=\"sk-parallel-item\"><div class=\"sk-item\"><div class=\"sk-label-container\"><div class=\"sk-label sk-toggleable\"><input class=\"sk-toggleable__control sk-hidden--visually\" id=\"0b467324-410a-49d8-b6c3-73b16c184ed1\" type=\"checkbox\" ><label class=\"sk-toggleable__label\" for=\"0b467324-410a-49d8-b6c3-73b16c184ed1\">key_encoding</label><div class=\"sk-toggleable__content\"><pre>['key']</pre></div></div></div><div class=\"sk-serial\"><div class=\"sk-item\"><div class=\"sk-estimator sk-toggleable\"><input class=\"sk-toggleable__control sk-hidden--visually\" id=\"6d0cbe55-7d7c-40a7-9775-82b68c47e079\" type=\"checkbox\" ><label class=\"sk-toggleable__label\" for=\"6d0cbe55-7d7c-40a7-9775-82b68c47e079\">OneHotEncoder</label><div class=\"sk-toggleable__content\"><pre>OneHotEncoder()</pre></div></div></div></div></div></div><div class=\"sk-parallel-item\"><div class=\"sk-item\"><div class=\"sk-label-container\"><div class=\"sk-label sk-toggleable\"><input class=\"sk-toggleable__control sk-hidden--visually\" id=\"7c0c4034-81e9-4fea-9ee8-6c42e8603cf0\" type=\"checkbox\" ><label class=\"sk-toggleable__label\" for=\"7c0c4034-81e9-4fea-9ee8-6c42e8603cf0\">release_year</label><div class=\"sk-toggleable__content\"><pre>['release_date']</pre></div></div></div><div class=\"sk-serial\"><div class=\"sk-item\"><div class=\"sk-estimator sk-toggleable\"><input class=\"sk-toggleable__control sk-hidden--visually\" id=\"93e1b8a9-7ff5-420e-a1e7-e03b7d55f833\" type=\"checkbox\" ><label class=\"sk-toggleable__label\" for=\"93e1b8a9-7ff5-420e-a1e7-e03b7d55f833\">ReleaseYearTransformer</label><div class=\"sk-toggleable__content\"><pre>ReleaseYearTransformer()</pre></div></div></div></div></div></div></div></div><div class=\"sk-item\"><div class=\"sk-estimator sk-toggleable\"><input class=\"sk-toggleable__control sk-hidden--visually\" id=\"bd27b069-8061-42a9-83c8-0bed02f0de3c\" type=\"checkbox\" ><label class=\"sk-toggleable__label\" for=\"bd27b069-8061-42a9-83c8-0bed02f0de3c\">Lasso</label><div class=\"sk-toggleable__content\"><pre>Lasso()</pre></div></div></div></div></div></div></div></div></div></div></div></div>"
      ],
      "text/plain": [
       "GridSearchCV(cv=5,\n",
       "             estimator=Pipeline(steps=[('artist_popularity',\n",
       "                                        ArtistPopularityTransformer()),\n",
       "                                       ('scaling_and_additional_preprocessing',\n",
       "                                        ColumnTransformer(remainder='passthrough',\n",
       "                                                          transformers=[('drop_id_and_song_name',\n",
       "                                                                         'drop',\n",
       "                                                                         ['id',\n",
       "                                                                          'name']),\n",
       "                                                                        ('min_max_scaler',\n",
       "                                                                         MinMaxScaler(),\n",
       "                                                                         ['duration_ms',\n",
       "                                                                          'acousticness',\n",
       "                                                                          'danceability',\n",
       "                                                                          'energy',\n",
       "                                                                          'valence']),\n",
       "                                                                        ('robust_scaler',\n",
       "                                                                         RobustScaler(),\n",
       "                                                                         ['instrumentalness',\n",
       "                                                                          'liveness',\n",
       "                                                                          'loudness',\n",
       "                                                                          'speechiness',\n",
       "                                                                          'tempo']),\n",
       "                                                                        ('key_encoding',\n",
       "                                                                         OneHotEncoder(),\n",
       "                                                                         ['key']),\n",
       "                                                                        ('release_year',\n",
       "                                                                         ReleaseYearTransformer(),\n",
       "                                                                         ['release_date'])])),\n",
       "                                       ('linear_model', Lasso())]),\n",
       "             n_jobs=-1,\n",
       "             param_grid={'linear_model__alpha': [0.001, 0.005, 0.01, 0.05, 0.1,\n",
       "                                                 0.5, 1, 2]},\n",
       "             scoring='neg_root_mean_squared_error', verbose=1)"
      ]
     },
     "execution_count": 111,
     "metadata": {},
     "output_type": "execute_result"
    }
   ],
   "source": [
    "%%time\n",
    "\n",
    "grid_search.fit(X_train, y_train)"
   ]
  },
  {
   "cell_type": "code",
   "execution_count": 112,
   "metadata": {
    "hidden": true
   },
   "outputs": [
    {
     "data": {
      "text/plain": [
       "{'linear_model__alpha': 0.001}"
      ]
     },
     "execution_count": 112,
     "metadata": {},
     "output_type": "execute_result"
    }
   ],
   "source": [
    "grid_search.best_params_"
   ]
  },
  {
   "cell_type": "code",
   "execution_count": 113,
   "metadata": {
    "hidden": true
   },
   "outputs": [
    {
     "data": {
      "text/plain": [
       "14.789973364561174"
      ]
     },
     "execution_count": 113,
     "metadata": {},
     "output_type": "execute_result"
    }
   ],
   "source": [
    "- grid_search.best_score_"
   ]
  },
  {
   "cell_type": "code",
   "execution_count": 114,
   "metadata": {
    "hidden": true
   },
   "outputs": [
    {
     "name": "stdout",
     "output_type": "stream",
     "text": [
      "14.356731368795595\n"
     ]
    }
   ],
   "source": [
    "y_pred = grid_search.best_estimator_.predict(X_test)\n",
    "\n",
    "rmse_linear_tuned = mean_squared_error(y_test, y_pred, squared=False)\n",
    "\n",
    "print(rmse_linear_not_tuned)"
   ]
  },
  {
   "cell_type": "markdown",
   "metadata": {},
   "source": [
    "### Ensemble"
   ]
  },
  {
   "cell_type": "code",
   "execution_count": 117,
   "metadata": {},
   "outputs": [],
   "source": [
    "# XGBRegressor is not a Scikit-Learn model but the class follows the same syntax as a Scikit-Learn estimator\n",
    "ensemble_pipeline = Pipeline(\n",
    "    steps=[\n",
    "        ('artist_popularity', ArtistPopularityTransformer()),\n",
    "        ('scaling_and_additional_preprocessing', ct),\n",
    "        ('ensemble_model', XGBRegressor())\n",
    "    ]\n",
    ")"
   ]
  },
  {
   "cell_type": "code",
   "execution_count": 118,
   "metadata": {
    "scrolled": true
   },
   "outputs": [
    {
     "data": {
      "text/html": [
       "<style>div.sk-top-container {color: black;background-color: white;}div.sk-toggleable {background-color: white;}label.sk-toggleable__label {cursor: pointer;display: block;width: 100%;margin-bottom: 0;padding: 0.2em 0.3em;box-sizing: border-box;text-align: center;}div.sk-toggleable__content {max-height: 0;max-width: 0;overflow: hidden;text-align: left;background-color: #f0f8ff;}div.sk-toggleable__content pre {margin: 0.2em;color: black;border-radius: 0.25em;background-color: #f0f8ff;}input.sk-toggleable__control:checked~div.sk-toggleable__content {max-height: 200px;max-width: 100%;overflow: auto;}div.sk-estimator input.sk-toggleable__control:checked~label.sk-toggleable__label {background-color: #d4ebff;}div.sk-label input.sk-toggleable__control:checked~label.sk-toggleable__label {background-color: #d4ebff;}input.sk-hidden--visually {border: 0;clip: rect(1px 1px 1px 1px);clip: rect(1px, 1px, 1px, 1px);height: 1px;margin: -1px;overflow: hidden;padding: 0;position: absolute;width: 1px;}div.sk-estimator {font-family: monospace;background-color: #f0f8ff;margin: 0.25em 0.25em;border: 1px dotted black;border-radius: 0.25em;box-sizing: border-box;}div.sk-estimator:hover {background-color: #d4ebff;}div.sk-parallel-item::after {content: \"\";width: 100%;border-bottom: 1px solid gray;flex-grow: 1;}div.sk-label:hover label.sk-toggleable__label {background-color: #d4ebff;}div.sk-serial::before {content: \"\";position: absolute;border-left: 1px solid gray;box-sizing: border-box;top: 2em;bottom: 0;left: 50%;}div.sk-serial {display: flex;flex-direction: column;align-items: center;background-color: white;}div.sk-item {z-index: 1;}div.sk-parallel {display: flex;align-items: stretch;justify-content: center;background-color: white;}div.sk-parallel-item {display: flex;flex-direction: column;position: relative;background-color: white;}div.sk-parallel-item:first-child::after {align-self: flex-end;width: 50%;}div.sk-parallel-item:last-child::after {align-self: flex-start;width: 50%;}div.sk-parallel-item:only-child::after {width: 0;}div.sk-dashed-wrapped {border: 1px dashed gray;margin: 0.2em;box-sizing: border-box;padding-bottom: 0.1em;background-color: white;position: relative;}div.sk-label label {font-family: monospace;font-weight: bold;background-color: white;display: inline-block;line-height: 1.2em;}div.sk-label-container {position: relative;z-index: 2;text-align: center;}div.sk-container {display: inline-block;position: relative;}</style><div class=\"sk-top-container\"><div class=\"sk-container\"><div class=\"sk-item sk-dashed-wrapped\"><div class=\"sk-label-container\"><div class=\"sk-label sk-toggleable\"><input class=\"sk-toggleable__control sk-hidden--visually\" id=\"f28de941-4aea-49d3-b26c-9155df184bee\" type=\"checkbox\" ><label class=\"sk-toggleable__label\" for=\"f28de941-4aea-49d3-b26c-9155df184bee\">Pipeline</label><div class=\"sk-toggleable__content\"><pre>Pipeline(steps=[('artist_popularity', ArtistPopularityTransformer()),\n",
       "                ('scaling_and_additional_preprocessing',\n",
       "                 ColumnTransformer(remainder='passthrough',\n",
       "                                   transformers=[('drop_id_and_song_name',\n",
       "                                                  'drop', ['id', 'name']),\n",
       "                                                 ('min_max_scaler',\n",
       "                                                  MinMaxScaler(),\n",
       "                                                  ['duration_ms',\n",
       "                                                   'acousticness',\n",
       "                                                   'danceability', 'energy',\n",
       "                                                   'valence']),\n",
       "                                                 ('robust_scaler',\n",
       "                                                  RobustScaler(),\n",
       "                                                  ['instru...\n",
       "                              colsample_bytree=1, gamma=0, gpu_id=-1,\n",
       "                              importance_type='gain',\n",
       "                              interaction_constraints='',\n",
       "                              learning_rate=0.300000012, max_delta_step=0,\n",
       "                              max_depth=6, min_child_weight=1, missing=nan,\n",
       "                              monotone_constraints='()', n_estimators=100,\n",
       "                              n_jobs=0, num_parallel_tree=1, random_state=0,\n",
       "                              reg_alpha=0, reg_lambda=1, scale_pos_weight=1,\n",
       "                              subsample=1, tree_method='exact',\n",
       "                              validate_parameters=1, verbosity=None))])</pre></div></div></div><div class=\"sk-serial\"><div class=\"sk-item\"><div class=\"sk-estimator sk-toggleable\"><input class=\"sk-toggleable__control sk-hidden--visually\" id=\"f3704bec-6e10-41eb-8bb9-e11e7dbdbf7a\" type=\"checkbox\" ><label class=\"sk-toggleable__label\" for=\"f3704bec-6e10-41eb-8bb9-e11e7dbdbf7a\">ArtistPopularityTransformer</label><div class=\"sk-toggleable__content\"><pre>ArtistPopularityTransformer()</pre></div></div></div><div class=\"sk-item sk-dashed-wrapped\"><div class=\"sk-label-container\"><div class=\"sk-label sk-toggleable\"><input class=\"sk-toggleable__control sk-hidden--visually\" id=\"a68cb759-b9a3-45b9-8ec1-421efe532b51\" type=\"checkbox\" ><label class=\"sk-toggleable__label\" for=\"a68cb759-b9a3-45b9-8ec1-421efe532b51\">scaling_and_additional_preprocessing: ColumnTransformer</label><div class=\"sk-toggleable__content\"><pre>ColumnTransformer(remainder='passthrough',\n",
       "                  transformers=[('drop_id_and_song_name', 'drop',\n",
       "                                 ['id', 'name']),\n",
       "                                ('min_max_scaler', MinMaxScaler(),\n",
       "                                 ['duration_ms', 'acousticness', 'danceability',\n",
       "                                  'energy', 'valence']),\n",
       "                                ('robust_scaler', RobustScaler(),\n",
       "                                 ['instrumentalness', 'liveness', 'loudness',\n",
       "                                  'speechiness', 'tempo']),\n",
       "                                ('key_encoding', OneHotEncoder(), ['key']),\n",
       "                                ('release_year', ReleaseYearTransformer(),\n",
       "                                 ['release_date'])])</pre></div></div></div><div class=\"sk-parallel\"><div class=\"sk-parallel-item\"><div class=\"sk-item\"><div class=\"sk-label-container\"><div class=\"sk-label sk-toggleable\"><input class=\"sk-toggleable__control sk-hidden--visually\" id=\"f5ae98ae-50e7-4806-8366-bf071537c38b\" type=\"checkbox\" ><label class=\"sk-toggleable__label\" for=\"f5ae98ae-50e7-4806-8366-bf071537c38b\">drop_id_and_song_name</label><div class=\"sk-toggleable__content\"><pre>['id', 'name']</pre></div></div></div><div class=\"sk-serial\"><div class=\"sk-item\"><div class=\"sk-estimator sk-toggleable\"><input class=\"sk-toggleable__control sk-hidden--visually\" id=\"8869d8ea-72b9-4ea3-9ac3-fd4a1f8157a8\" type=\"checkbox\" ><label class=\"sk-toggleable__label\" for=\"8869d8ea-72b9-4ea3-9ac3-fd4a1f8157a8\">drop</label><div class=\"sk-toggleable__content\"><pre>drop</pre></div></div></div></div></div></div><div class=\"sk-parallel-item\"><div class=\"sk-item\"><div class=\"sk-label-container\"><div class=\"sk-label sk-toggleable\"><input class=\"sk-toggleable__control sk-hidden--visually\" id=\"e5ee3270-530a-4fd5-b48a-5f7160e09472\" type=\"checkbox\" ><label class=\"sk-toggleable__label\" for=\"e5ee3270-530a-4fd5-b48a-5f7160e09472\">min_max_scaler</label><div class=\"sk-toggleable__content\"><pre>['duration_ms', 'acousticness', 'danceability', 'energy', 'valence']</pre></div></div></div><div class=\"sk-serial\"><div class=\"sk-item\"><div class=\"sk-estimator sk-toggleable\"><input class=\"sk-toggleable__control sk-hidden--visually\" id=\"35ac30bf-d5b3-4c73-8e47-b8129fc94187\" type=\"checkbox\" ><label class=\"sk-toggleable__label\" for=\"35ac30bf-d5b3-4c73-8e47-b8129fc94187\">MinMaxScaler</label><div class=\"sk-toggleable__content\"><pre>MinMaxScaler()</pre></div></div></div></div></div></div><div class=\"sk-parallel-item\"><div class=\"sk-item\"><div class=\"sk-label-container\"><div class=\"sk-label sk-toggleable\"><input class=\"sk-toggleable__control sk-hidden--visually\" id=\"ff63c11a-ec6d-4c74-a231-abc0745f11ab\" type=\"checkbox\" ><label class=\"sk-toggleable__label\" for=\"ff63c11a-ec6d-4c74-a231-abc0745f11ab\">robust_scaler</label><div class=\"sk-toggleable__content\"><pre>['instrumentalness', 'liveness', 'loudness', 'speechiness', 'tempo']</pre></div></div></div><div class=\"sk-serial\"><div class=\"sk-item\"><div class=\"sk-estimator sk-toggleable\"><input class=\"sk-toggleable__control sk-hidden--visually\" id=\"adb68f19-2496-45fd-812e-065f74f27493\" type=\"checkbox\" ><label class=\"sk-toggleable__label\" for=\"adb68f19-2496-45fd-812e-065f74f27493\">RobustScaler</label><div class=\"sk-toggleable__content\"><pre>RobustScaler()</pre></div></div></div></div></div></div><div class=\"sk-parallel-item\"><div class=\"sk-item\"><div class=\"sk-label-container\"><div class=\"sk-label sk-toggleable\"><input class=\"sk-toggleable__control sk-hidden--visually\" id=\"6e22ce9d-78ac-46f3-9f7f-7b7738df14a8\" type=\"checkbox\" ><label class=\"sk-toggleable__label\" for=\"6e22ce9d-78ac-46f3-9f7f-7b7738df14a8\">key_encoding</label><div class=\"sk-toggleable__content\"><pre>['key']</pre></div></div></div><div class=\"sk-serial\"><div class=\"sk-item\"><div class=\"sk-estimator sk-toggleable\"><input class=\"sk-toggleable__control sk-hidden--visually\" id=\"86af1ca6-073a-44ef-8640-d484d5c8ddfb\" type=\"checkbox\" ><label class=\"sk-toggleable__label\" for=\"86af1ca6-073a-44ef-8640-d484d5c8ddfb\">OneHotEncoder</label><div class=\"sk-toggleable__content\"><pre>OneHotEncoder()</pre></div></div></div></div></div></div><div class=\"sk-parallel-item\"><div class=\"sk-item\"><div class=\"sk-label-container\"><div class=\"sk-label sk-toggleable\"><input class=\"sk-toggleable__control sk-hidden--visually\" id=\"727a18db-835e-4781-895e-36c4f38bea57\" type=\"checkbox\" ><label class=\"sk-toggleable__label\" for=\"727a18db-835e-4781-895e-36c4f38bea57\">release_year</label><div class=\"sk-toggleable__content\"><pre>['release_date']</pre></div></div></div><div class=\"sk-serial\"><div class=\"sk-item\"><div class=\"sk-estimator sk-toggleable\"><input class=\"sk-toggleable__control sk-hidden--visually\" id=\"9d4bedb3-1487-4b9d-8464-30aedd9272e3\" type=\"checkbox\" ><label class=\"sk-toggleable__label\" for=\"9d4bedb3-1487-4b9d-8464-30aedd9272e3\">ReleaseYearTransformer</label><div class=\"sk-toggleable__content\"><pre>ReleaseYearTransformer()</pre></div></div></div></div></div></div></div></div><div class=\"sk-item\"><div class=\"sk-estimator sk-toggleable\"><input class=\"sk-toggleable__control sk-hidden--visually\" id=\"ce73cc39-72c4-421c-ad6b-b914918051fb\" type=\"checkbox\" ><label class=\"sk-toggleable__label\" for=\"ce73cc39-72c4-421c-ad6b-b914918051fb\">XGBRegressor</label><div class=\"sk-toggleable__content\"><pre>XGBRegressor(base_score=0.5, booster='gbtree', colsample_bylevel=1,\n",
       "             colsample_bynode=1, colsample_bytree=1, gamma=0, gpu_id=-1,\n",
       "             importance_type='gain', interaction_constraints='',\n",
       "             learning_rate=0.300000012, max_delta_step=0, max_depth=6,\n",
       "             min_child_weight=1, missing=nan, monotone_constraints='()',\n",
       "             n_estimators=100, n_jobs=0, num_parallel_tree=1, random_state=0,\n",
       "             reg_alpha=0, reg_lambda=1, scale_pos_weight=1, subsample=1,\n",
       "             tree_method='exact', validate_parameters=1, verbosity=None)</pre></div></div></div></div></div></div></div>"
      ],
      "text/plain": [
       "Pipeline(steps=[('artist_popularity', ArtistPopularityTransformer()),\n",
       "                ('scaling_and_additional_preprocessing',\n",
       "                 ColumnTransformer(remainder='passthrough',\n",
       "                                   transformers=[('drop_id_and_song_name',\n",
       "                                                  'drop', ['id', 'name']),\n",
       "                                                 ('min_max_scaler',\n",
       "                                                  MinMaxScaler(),\n",
       "                                                  ['duration_ms',\n",
       "                                                   'acousticness',\n",
       "                                                   'danceability', 'energy',\n",
       "                                                   'valence']),\n",
       "                                                 ('robust_scaler',\n",
       "                                                  RobustScaler(),\n",
       "                                                  ['instru...\n",
       "                              colsample_bytree=1, gamma=0, gpu_id=-1,\n",
       "                              importance_type='gain',\n",
       "                              interaction_constraints='',\n",
       "                              learning_rate=0.300000012, max_delta_step=0,\n",
       "                              max_depth=6, min_child_weight=1, missing=nan,\n",
       "                              monotone_constraints='()', n_estimators=100,\n",
       "                              n_jobs=0, num_parallel_tree=1, random_state=0,\n",
       "                              reg_alpha=0, reg_lambda=1, scale_pos_weight=1,\n",
       "                              subsample=1, tree_method='exact',\n",
       "                              validate_parameters=1, verbosity=None))])"
      ]
     },
     "execution_count": 118,
     "metadata": {},
     "output_type": "execute_result"
    }
   ],
   "source": [
    "ensemble_pipeline.fit(X_train, y_train)"
   ]
  },
  {
   "cell_type": "code",
   "execution_count": 121,
   "metadata": {},
   "outputs": [
    {
     "name": "stdout",
     "output_type": "stream",
     "text": [
      "12.693176286711802\n"
     ]
    }
   ],
   "source": [
    "y_pred = ensemble_pipeline.predict(X_test)\n",
    "\n",
    "rmse_ensemble_not_tuned = mean_squared_error(y_test, y_pred, squared=False)\n",
    "\n",
    "print(rmse_ensemble_not_tuned)"
   ]
  },
  {
   "cell_type": "code",
   "execution_count": 125,
   "metadata": {},
   "outputs": [],
   "source": [
    "param_distributions = {\n",
    "    'ensemble_model__n_estimators': randint(50, 150),\n",
    "    'ensemble_model__max_depth': randint(5, 25),\n",
    "    'ensemble_model__learning_rate': uniform(0.05, 0.3),\n",
    "    'ensemble_model__min_child_weight': randint(1, 7),\n",
    "    'ensemble_model__gamma': uniform(0, 0.5),\n",
    "    'ensemble_model__reg_alpha': [1e-5, 1e-2, 0.1, 1, 100],\n",
    "    'ensemble_model__booster': ['gbtree', 'gblinear', 'dart']\n",
    "}"
   ]
  },
  {
   "cell_type": "code",
   "execution_count": 138,
   "metadata": {},
   "outputs": [],
   "source": [
    "ensemble_pipeline = Pipeline(\n",
    "    steps=[\n",
    "        ('artist_popularity', ArtistPopularityTransformer()),\n",
    "        ('scaling_and_additional_preprocessing', ct),\n",
    "        ('ensemble_model', XGBRegressor())\n",
    "    ]\n",
    ")\n",
    "\n",
    "random_search = RandomizedSearchCV(\n",
    "    ensemble_pipeline, \n",
    "    param_distributions=param_distributions,\n",
    "    n_iter=30,\n",
    "    scoring='neg_root_mean_squared_error',\n",
    "    cv=5, \n",
    "    verbose=1,\n",
    "    refit=True , \n",
    "    n_jobs=-1\n",
    ")"
   ]
  },
  {
   "cell_type": "code",
   "execution_count": 139,
   "metadata": {
    "scrolled": true
   },
   "outputs": [
    {
     "name": "stdout",
     "output_type": "stream",
     "text": [
      "Fitting 5 folds for each of 30 candidates, totalling 150 fits\n"
     ]
    },
    {
     "name": "stderr",
     "output_type": "stream",
     "text": [
      "[Parallel(n_jobs=-1)]: Using backend LokyBackend with 4 concurrent workers.\n",
      "[Parallel(n_jobs=-1)]: Done  42 tasks      | elapsed:  8.5min\n",
      "[Parallel(n_jobs=-1)]: Done 150 out of 150 | elapsed: 19.5min finished\n"
     ]
    },
    {
     "name": "stdout",
     "output_type": "stream",
     "text": [
      "CPU times: user 37.2 s, sys: 1.14 s, total: 38.3 s\n",
      "Wall time: 19min 38s\n"
     ]
    },
    {
     "data": {
      "text/html": [
       "<style>div.sk-top-container {color: black;background-color: white;}div.sk-toggleable {background-color: white;}label.sk-toggleable__label {cursor: pointer;display: block;width: 100%;margin-bottom: 0;padding: 0.2em 0.3em;box-sizing: border-box;text-align: center;}div.sk-toggleable__content {max-height: 0;max-width: 0;overflow: hidden;text-align: left;background-color: #f0f8ff;}div.sk-toggleable__content pre {margin: 0.2em;color: black;border-radius: 0.25em;background-color: #f0f8ff;}input.sk-toggleable__control:checked~div.sk-toggleable__content {max-height: 200px;max-width: 100%;overflow: auto;}div.sk-estimator input.sk-toggleable__control:checked~label.sk-toggleable__label {background-color: #d4ebff;}div.sk-label input.sk-toggleable__control:checked~label.sk-toggleable__label {background-color: #d4ebff;}input.sk-hidden--visually {border: 0;clip: rect(1px 1px 1px 1px);clip: rect(1px, 1px, 1px, 1px);height: 1px;margin: -1px;overflow: hidden;padding: 0;position: absolute;width: 1px;}div.sk-estimator {font-family: monospace;background-color: #f0f8ff;margin: 0.25em 0.25em;border: 1px dotted black;border-radius: 0.25em;box-sizing: border-box;}div.sk-estimator:hover {background-color: #d4ebff;}div.sk-parallel-item::after {content: \"\";width: 100%;border-bottom: 1px solid gray;flex-grow: 1;}div.sk-label:hover label.sk-toggleable__label {background-color: #d4ebff;}div.sk-serial::before {content: \"\";position: absolute;border-left: 1px solid gray;box-sizing: border-box;top: 2em;bottom: 0;left: 50%;}div.sk-serial {display: flex;flex-direction: column;align-items: center;background-color: white;}div.sk-item {z-index: 1;}div.sk-parallel {display: flex;align-items: stretch;justify-content: center;background-color: white;}div.sk-parallel-item {display: flex;flex-direction: column;position: relative;background-color: white;}div.sk-parallel-item:first-child::after {align-self: flex-end;width: 50%;}div.sk-parallel-item:last-child::after {align-self: flex-start;width: 50%;}div.sk-parallel-item:only-child::after {width: 0;}div.sk-dashed-wrapped {border: 1px dashed gray;margin: 0.2em;box-sizing: border-box;padding-bottom: 0.1em;background-color: white;position: relative;}div.sk-label label {font-family: monospace;font-weight: bold;background-color: white;display: inline-block;line-height: 1.2em;}div.sk-label-container {position: relative;z-index: 2;text-align: center;}div.sk-container {display: inline-block;position: relative;}</style><div class=\"sk-top-container\"><div class=\"sk-container\"><div class=\"sk-item sk-dashed-wrapped\"><div class=\"sk-label-container\"><div class=\"sk-label sk-toggleable\"><input class=\"sk-toggleable__control sk-hidden--visually\" id=\"c10b6da7-3bc7-446a-bac1-ae6a2dc2cfef\" type=\"checkbox\" ><label class=\"sk-toggleable__label\" for=\"c10b6da7-3bc7-446a-bac1-ae6a2dc2cfef\">RandomizedSearchCV</label><div class=\"sk-toggleable__content\"><pre>RandomizedSearchCV(cv=5,\n",
       "                   estimator=Pipeline(steps=[('artist_popularity',\n",
       "                                              ArtistPopularityTransformer()),\n",
       "                                             ('scaling_and_additional_preprocessing',\n",
       "                                              ColumnTransformer(remainder='passthrough',\n",
       "                                                                transformers=[('drop_id_and_song_name',\n",
       "                                                                               'drop',\n",
       "                                                                               ['id',\n",
       "                                                                                'name']),\n",
       "                                                                              ('min_max_scaler',\n",
       "                                                                               MinMaxScaler(),\n",
       "                                                                               ['duration_ms',\n",
       "                                                                                'acousticness',\n",
       "                                                                                'danceability',\n",
       "                                                                                'energy',\n",
       "                                                                                'valence']),\n",
       "                                                                              ('robu...\n",
       "                                        'ensemble_model__max_depth': <scipy.stats._distn_infrastructure.rv_frozen object at 0x131f44d10>,\n",
       "                                        'ensemble_model__min_child_weight': <scipy.stats._distn_infrastructure.rv_frozen object at 0x131f46210>,\n",
       "                                        'ensemble_model__n_estimators': <scipy.stats._distn_infrastructure.rv_frozen object at 0x131f44c50>,\n",
       "                                        'ensemble_model__reg_alpha': [1e-05,\n",
       "                                                                      0.01, 0.1,\n",
       "                                                                      1, 100]},\n",
       "                   scoring='neg_root_mean_squared_error', verbose=1)</pre></div></div></div><div class=\"sk-parallel\"><div class=\"sk-parallel-item\"><div class=\"sk-item\"><div class=\"sk-serial\"><div class=\"sk-item\"><div class=\"sk-serial\"><div class=\"sk-item\"><div class=\"sk-estimator sk-toggleable\"><input class=\"sk-toggleable__control sk-hidden--visually\" id=\"cb47fde8-82bf-4be4-925a-6f57be856ff1\" type=\"checkbox\" ><label class=\"sk-toggleable__label\" for=\"cb47fde8-82bf-4be4-925a-6f57be856ff1\">ArtistPopularityTransformer</label><div class=\"sk-toggleable__content\"><pre>ArtistPopularityTransformer()</pre></div></div></div><div class=\"sk-item sk-dashed-wrapped\"><div class=\"sk-label-container\"><div class=\"sk-label sk-toggleable\"><input class=\"sk-toggleable__control sk-hidden--visually\" id=\"17d85c87-6e89-4495-a163-3abbbbeb0888\" type=\"checkbox\" ><label class=\"sk-toggleable__label\" for=\"17d85c87-6e89-4495-a163-3abbbbeb0888\">scaling_and_additional_preprocessing: ColumnTransformer</label><div class=\"sk-toggleable__content\"><pre>ColumnTransformer(remainder='passthrough',\n",
       "                  transformers=[('drop_id_and_song_name', 'drop',\n",
       "                                 ['id', 'name']),\n",
       "                                ('min_max_scaler', MinMaxScaler(),\n",
       "                                 ['duration_ms', 'acousticness', 'danceability',\n",
       "                                  'energy', 'valence']),\n",
       "                                ('robust_scaler', RobustScaler(),\n",
       "                                 ['instrumentalness', 'liveness', 'loudness',\n",
       "                                  'speechiness', 'tempo']),\n",
       "                                ('key_encoding', OneHotEncoder(), ['key']),\n",
       "                                ('release_year', ReleaseYearTransformer(),\n",
       "                                 ['release_date'])])</pre></div></div></div><div class=\"sk-parallel\"><div class=\"sk-parallel-item\"><div class=\"sk-item\"><div class=\"sk-label-container\"><div class=\"sk-label sk-toggleable\"><input class=\"sk-toggleable__control sk-hidden--visually\" id=\"2b6957dc-aff8-401b-95f6-6a281b7c53da\" type=\"checkbox\" ><label class=\"sk-toggleable__label\" for=\"2b6957dc-aff8-401b-95f6-6a281b7c53da\">drop_id_and_song_name</label><div class=\"sk-toggleable__content\"><pre>['id', 'name']</pre></div></div></div><div class=\"sk-serial\"><div class=\"sk-item\"><div class=\"sk-estimator sk-toggleable\"><input class=\"sk-toggleable__control sk-hidden--visually\" id=\"4ffdca82-3453-48c2-9a71-bb94be423bb9\" type=\"checkbox\" ><label class=\"sk-toggleable__label\" for=\"4ffdca82-3453-48c2-9a71-bb94be423bb9\">drop</label><div class=\"sk-toggleable__content\"><pre>drop</pre></div></div></div></div></div></div><div class=\"sk-parallel-item\"><div class=\"sk-item\"><div class=\"sk-label-container\"><div class=\"sk-label sk-toggleable\"><input class=\"sk-toggleable__control sk-hidden--visually\" id=\"4fe4c9a8-032b-4bc9-8678-20d767108911\" type=\"checkbox\" ><label class=\"sk-toggleable__label\" for=\"4fe4c9a8-032b-4bc9-8678-20d767108911\">min_max_scaler</label><div class=\"sk-toggleable__content\"><pre>['duration_ms', 'acousticness', 'danceability', 'energy', 'valence']</pre></div></div></div><div class=\"sk-serial\"><div class=\"sk-item\"><div class=\"sk-estimator sk-toggleable\"><input class=\"sk-toggleable__control sk-hidden--visually\" id=\"f174a28e-accc-40e5-849b-16ca43bae289\" type=\"checkbox\" ><label class=\"sk-toggleable__label\" for=\"f174a28e-accc-40e5-849b-16ca43bae289\">MinMaxScaler</label><div class=\"sk-toggleable__content\"><pre>MinMaxScaler()</pre></div></div></div></div></div></div><div class=\"sk-parallel-item\"><div class=\"sk-item\"><div class=\"sk-label-container\"><div class=\"sk-label sk-toggleable\"><input class=\"sk-toggleable__control sk-hidden--visually\" id=\"82aaa482-90a2-4df5-a49c-1b836c7c1838\" type=\"checkbox\" ><label class=\"sk-toggleable__label\" for=\"82aaa482-90a2-4df5-a49c-1b836c7c1838\">robust_scaler</label><div class=\"sk-toggleable__content\"><pre>['instrumentalness', 'liveness', 'loudness', 'speechiness', 'tempo']</pre></div></div></div><div class=\"sk-serial\"><div class=\"sk-item\"><div class=\"sk-estimator sk-toggleable\"><input class=\"sk-toggleable__control sk-hidden--visually\" id=\"f59fa769-2c6e-41db-b421-24df4aa85194\" type=\"checkbox\" ><label class=\"sk-toggleable__label\" for=\"f59fa769-2c6e-41db-b421-24df4aa85194\">RobustScaler</label><div class=\"sk-toggleable__content\"><pre>RobustScaler()</pre></div></div></div></div></div></div><div class=\"sk-parallel-item\"><div class=\"sk-item\"><div class=\"sk-label-container\"><div class=\"sk-label sk-toggleable\"><input class=\"sk-toggleable__control sk-hidden--visually\" id=\"011f5023-50f1-403c-a2d9-b2da49fc49f1\" type=\"checkbox\" ><label class=\"sk-toggleable__label\" for=\"011f5023-50f1-403c-a2d9-b2da49fc49f1\">key_encoding</label><div class=\"sk-toggleable__content\"><pre>['key']</pre></div></div></div><div class=\"sk-serial\"><div class=\"sk-item\"><div class=\"sk-estimator sk-toggleable\"><input class=\"sk-toggleable__control sk-hidden--visually\" id=\"2a0a6d09-0e5c-46e5-beae-cb55c595530f\" type=\"checkbox\" ><label class=\"sk-toggleable__label\" for=\"2a0a6d09-0e5c-46e5-beae-cb55c595530f\">OneHotEncoder</label><div class=\"sk-toggleable__content\"><pre>OneHotEncoder()</pre></div></div></div></div></div></div><div class=\"sk-parallel-item\"><div class=\"sk-item\"><div class=\"sk-label-container\"><div class=\"sk-label sk-toggleable\"><input class=\"sk-toggleable__control sk-hidden--visually\" id=\"7469303d-1f86-4b78-888c-d481275aa0b8\" type=\"checkbox\" ><label class=\"sk-toggleable__label\" for=\"7469303d-1f86-4b78-888c-d481275aa0b8\">release_year</label><div class=\"sk-toggleable__content\"><pre>['release_date']</pre></div></div></div><div class=\"sk-serial\"><div class=\"sk-item\"><div class=\"sk-estimator sk-toggleable\"><input class=\"sk-toggleable__control sk-hidden--visually\" id=\"6a66c9ef-4ecf-4462-8f1c-6a371bfa22a7\" type=\"checkbox\" ><label class=\"sk-toggleable__label\" for=\"6a66c9ef-4ecf-4462-8f1c-6a371bfa22a7\">ReleaseYearTransformer</label><div class=\"sk-toggleable__content\"><pre>ReleaseYearTransformer()</pre></div></div></div></div></div></div></div></div><div class=\"sk-item\"><div class=\"sk-estimator sk-toggleable\"><input class=\"sk-toggleable__control sk-hidden--visually\" id=\"f3eaaf24-9c3f-416c-81f8-cd4e496eceb7\" type=\"checkbox\" ><label class=\"sk-toggleable__label\" for=\"f3eaaf24-9c3f-416c-81f8-cd4e496eceb7\">XGBRegressor</label><div class=\"sk-toggleable__content\"><pre>XGBRegressor(base_score=None, booster=None, colsample_bylevel=None,\n",
       "             colsample_bynode=None, colsample_bytree=None, gamma=None,\n",
       "             gpu_id=None, importance_type='gain', interaction_constraints=None,\n",
       "             learning_rate=None, max_delta_step=None, max_depth=None,\n",
       "             min_child_weight=None, missing=nan, monotone_constraints=None,\n",
       "             n_estimators=100, n_jobs=None, num_parallel_tree=None,\n",
       "             random_state=None, reg_alpha=None, reg_lambda=None,\n",
       "             scale_pos_weight=None, subsample=None, tree_method=None,\n",
       "             validate_parameters=None, verbosity=None)</pre></div></div></div></div></div></div></div></div></div></div></div></div>"
      ],
      "text/plain": [
       "RandomizedSearchCV(cv=5,\n",
       "                   estimator=Pipeline(steps=[('artist_popularity',\n",
       "                                              ArtistPopularityTransformer()),\n",
       "                                             ('scaling_and_additional_preprocessing',\n",
       "                                              ColumnTransformer(remainder='passthrough',\n",
       "                                                                transformers=[('drop_id_and_song_name',\n",
       "                                                                               'drop',\n",
       "                                                                               ['id',\n",
       "                                                                                'name']),\n",
       "                                                                              ('min_max_scaler',\n",
       "                                                                               MinMaxScaler(),\n",
       "                                                                               ['duration_ms',\n",
       "                                                                                'acousticness',\n",
       "                                                                                'danceability',\n",
       "                                                                                'energy',\n",
       "                                                                                'valence']),\n",
       "                                                                              ('robu...\n",
       "                                        'ensemble_model__max_depth': <scipy.stats._distn_infrastructure.rv_frozen object at 0x131f44d10>,\n",
       "                                        'ensemble_model__min_child_weight': <scipy.stats._distn_infrastructure.rv_frozen object at 0x131f46210>,\n",
       "                                        'ensemble_model__n_estimators': <scipy.stats._distn_infrastructure.rv_frozen object at 0x131f44c50>,\n",
       "                                        'ensemble_model__reg_alpha': [1e-05,\n",
       "                                                                      0.01, 0.1,\n",
       "                                                                      1, 100]},\n",
       "                   scoring='neg_root_mean_squared_error', verbose=1)"
      ]
     },
     "execution_count": 139,
     "metadata": {},
     "output_type": "execute_result"
    }
   ],
   "source": [
    "%%time\n",
    "\n",
    "random_search.fit(X_train, y_train)"
   ]
  },
  {
   "cell_type": "code",
   "execution_count": 143,
   "metadata": {},
   "outputs": [
    {
     "data": {
      "text/plain": [
       "{'ensemble_model__booster': 'gbtree',\n",
       " 'ensemble_model__gamma': 0.3364093010602823,\n",
       " 'ensemble_model__learning_rate': 0.12423312668551885,\n",
       " 'ensemble_model__max_depth': 14,\n",
       " 'ensemble_model__min_child_weight': 6,\n",
       " 'ensemble_model__n_estimators': 110,\n",
       " 'ensemble_model__reg_alpha': 100}"
      ]
     },
     "execution_count": 143,
     "metadata": {},
     "output_type": "execute_result"
    }
   ],
   "source": [
    "random_search.best_params_"
   ]
  },
  {
   "cell_type": "code",
   "execution_count": 144,
   "metadata": {},
   "outputs": [
    {
     "data": {
      "text/plain": [
       "13.202002312127174"
      ]
     },
     "execution_count": 144,
     "metadata": {},
     "output_type": "execute_result"
    }
   ],
   "source": [
    "- random_search.best_score_"
   ]
  },
  {
   "cell_type": "code",
   "execution_count": 145,
   "metadata": {},
   "outputs": [
    {
     "name": "stdout",
     "output_type": "stream",
     "text": [
      "12.682370740213036\n"
     ]
    }
   ],
   "source": [
    "y_pred = random_search.best_estimator_.predict(X_test)\n",
    "\n",
    "rmse_ensemble_tuned = mean_squared_error(y_test, y_pred, squared=False)\n",
    "\n",
    "print(rmse_ensemble_tuned)"
   ]
  },
  {
   "cell_type": "markdown",
   "metadata": {},
   "source": [
    "### Save your results\n",
    "\n",
    "Run the following cell to save your results."
   ]
  },
  {
   "cell_type": "code",
   "execution_count": 146,
   "metadata": {},
   "outputs": [],
   "source": [
    "pipe_linear = grid_search.best_estimator_\n",
    "pipe_ensemble = random_search.best_estimator_"
   ]
  },
  {
   "cell_type": "code",
   "execution_count": 147,
   "metadata": {},
   "outputs": [],
   "source": [
    "score_linear = rmse_linear_tuned\n",
    "score_ensemble = rmse_ensemble_tuned"
   ]
  },
  {
   "cell_type": "code",
   "execution_count": 148,
   "metadata": {},
   "outputs": [
    {
     "data": {
      "text/html": [
       "<style>div.sk-top-container {color: black;background-color: white;}div.sk-toggleable {background-color: white;}label.sk-toggleable__label {cursor: pointer;display: block;width: 100%;margin-bottom: 0;padding: 0.2em 0.3em;box-sizing: border-box;text-align: center;}div.sk-toggleable__content {max-height: 0;max-width: 0;overflow: hidden;text-align: left;background-color: #f0f8ff;}div.sk-toggleable__content pre {margin: 0.2em;color: black;border-radius: 0.25em;background-color: #f0f8ff;}input.sk-toggleable__control:checked~div.sk-toggleable__content {max-height: 200px;max-width: 100%;overflow: auto;}div.sk-estimator input.sk-toggleable__control:checked~label.sk-toggleable__label {background-color: #d4ebff;}div.sk-label input.sk-toggleable__control:checked~label.sk-toggleable__label {background-color: #d4ebff;}input.sk-hidden--visually {border: 0;clip: rect(1px 1px 1px 1px);clip: rect(1px, 1px, 1px, 1px);height: 1px;margin: -1px;overflow: hidden;padding: 0;position: absolute;width: 1px;}div.sk-estimator {font-family: monospace;background-color: #f0f8ff;margin: 0.25em 0.25em;border: 1px dotted black;border-radius: 0.25em;box-sizing: border-box;}div.sk-estimator:hover {background-color: #d4ebff;}div.sk-parallel-item::after {content: \"\";width: 100%;border-bottom: 1px solid gray;flex-grow: 1;}div.sk-label:hover label.sk-toggleable__label {background-color: #d4ebff;}div.sk-serial::before {content: \"\";position: absolute;border-left: 1px solid gray;box-sizing: border-box;top: 2em;bottom: 0;left: 50%;}div.sk-serial {display: flex;flex-direction: column;align-items: center;background-color: white;}div.sk-item {z-index: 1;}div.sk-parallel {display: flex;align-items: stretch;justify-content: center;background-color: white;}div.sk-parallel-item {display: flex;flex-direction: column;position: relative;background-color: white;}div.sk-parallel-item:first-child::after {align-self: flex-end;width: 50%;}div.sk-parallel-item:last-child::after {align-self: flex-start;width: 50%;}div.sk-parallel-item:only-child::after {width: 0;}div.sk-dashed-wrapped {border: 1px dashed gray;margin: 0.2em;box-sizing: border-box;padding-bottom: 0.1em;background-color: white;position: relative;}div.sk-label label {font-family: monospace;font-weight: bold;background-color: white;display: inline-block;line-height: 1.2em;}div.sk-label-container {position: relative;z-index: 2;text-align: center;}div.sk-container {display: inline-block;position: relative;}</style><div class=\"sk-top-container\"><div class=\"sk-container\"><div class=\"sk-item sk-dashed-wrapped\"><div class=\"sk-label-container\"><div class=\"sk-label sk-toggleable\"><input class=\"sk-toggleable__control sk-hidden--visually\" id=\"b6c2a3ca-19e1-4f39-a2b1-c9338db8d896\" type=\"checkbox\" ><label class=\"sk-toggleable__label\" for=\"b6c2a3ca-19e1-4f39-a2b1-c9338db8d896\">Pipeline</label><div class=\"sk-toggleable__content\"><pre>Pipeline(steps=[('artist_popularity', ArtistPopularityTransformer()),\n",
       "                ('scaling_and_additional_preprocessing',\n",
       "                 ColumnTransformer(remainder='passthrough',\n",
       "                                   transformers=[('drop_id_and_song_name',\n",
       "                                                  'drop', ['id', 'name']),\n",
       "                                                 ('min_max_scaler',\n",
       "                                                  MinMaxScaler(),\n",
       "                                                  ['duration_ms',\n",
       "                                                   'acousticness',\n",
       "                                                   'danceability', 'energy',\n",
       "                                                   'valence']),\n",
       "                                                 ('robust_scaler',\n",
       "                                                  RobustScaler(),\n",
       "                                                  ['instrumentalness',\n",
       "                                                   'liveness', 'loudness',\n",
       "                                                   'speechiness', 'tempo']),\n",
       "                                                 ('key_encoding',\n",
       "                                                  OneHotEncoder(), ['key']),\n",
       "                                                 ('release_year',\n",
       "                                                  ReleaseYearTransformer(),\n",
       "                                                  ['release_date'])])),\n",
       "                ('linear_model', Lasso(alpha=0.001))])</pre></div></div></div><div class=\"sk-serial\"><div class=\"sk-item\"><div class=\"sk-estimator sk-toggleable\"><input class=\"sk-toggleable__control sk-hidden--visually\" id=\"2ed12d74-885c-4460-a1f7-0a3794b4728d\" type=\"checkbox\" ><label class=\"sk-toggleable__label\" for=\"2ed12d74-885c-4460-a1f7-0a3794b4728d\">ArtistPopularityTransformer</label><div class=\"sk-toggleable__content\"><pre>ArtistPopularityTransformer()</pre></div></div></div><div class=\"sk-item sk-dashed-wrapped\"><div class=\"sk-label-container\"><div class=\"sk-label sk-toggleable\"><input class=\"sk-toggleable__control sk-hidden--visually\" id=\"d4685745-7979-4ee8-9c04-38681c909656\" type=\"checkbox\" ><label class=\"sk-toggleable__label\" for=\"d4685745-7979-4ee8-9c04-38681c909656\">scaling_and_additional_preprocessing: ColumnTransformer</label><div class=\"sk-toggleable__content\"><pre>ColumnTransformer(remainder='passthrough',\n",
       "                  transformers=[('drop_id_and_song_name', 'drop',\n",
       "                                 ['id', 'name']),\n",
       "                                ('min_max_scaler', MinMaxScaler(),\n",
       "                                 ['duration_ms', 'acousticness', 'danceability',\n",
       "                                  'energy', 'valence']),\n",
       "                                ('robust_scaler', RobustScaler(),\n",
       "                                 ['instrumentalness', 'liveness', 'loudness',\n",
       "                                  'speechiness', 'tempo']),\n",
       "                                ('key_encoding', OneHotEncoder(), ['key']),\n",
       "                                ('release_year', ReleaseYearTransformer(),\n",
       "                                 ['release_date'])])</pre></div></div></div><div class=\"sk-parallel\"><div class=\"sk-parallel-item\"><div class=\"sk-item\"><div class=\"sk-label-container\"><div class=\"sk-label sk-toggleable\"><input class=\"sk-toggleable__control sk-hidden--visually\" id=\"1e283ce9-a8e2-4f1c-b1e8-d20f8666c1c5\" type=\"checkbox\" ><label class=\"sk-toggleable__label\" for=\"1e283ce9-a8e2-4f1c-b1e8-d20f8666c1c5\">drop_id_and_song_name</label><div class=\"sk-toggleable__content\"><pre>['id', 'name']</pre></div></div></div><div class=\"sk-serial\"><div class=\"sk-item\"><div class=\"sk-estimator sk-toggleable\"><input class=\"sk-toggleable__control sk-hidden--visually\" id=\"51b18df0-90eb-4dc9-a24e-8c3195e59d92\" type=\"checkbox\" ><label class=\"sk-toggleable__label\" for=\"51b18df0-90eb-4dc9-a24e-8c3195e59d92\">drop</label><div class=\"sk-toggleable__content\"><pre>drop</pre></div></div></div></div></div></div><div class=\"sk-parallel-item\"><div class=\"sk-item\"><div class=\"sk-label-container\"><div class=\"sk-label sk-toggleable\"><input class=\"sk-toggleable__control sk-hidden--visually\" id=\"abd7b5db-8f5c-4f85-94df-79ec7d9daf8b\" type=\"checkbox\" ><label class=\"sk-toggleable__label\" for=\"abd7b5db-8f5c-4f85-94df-79ec7d9daf8b\">min_max_scaler</label><div class=\"sk-toggleable__content\"><pre>['duration_ms', 'acousticness', 'danceability', 'energy', 'valence']</pre></div></div></div><div class=\"sk-serial\"><div class=\"sk-item\"><div class=\"sk-estimator sk-toggleable\"><input class=\"sk-toggleable__control sk-hidden--visually\" id=\"0dfb3dc3-90cd-4146-a64f-ae9d3bb50a30\" type=\"checkbox\" ><label class=\"sk-toggleable__label\" for=\"0dfb3dc3-90cd-4146-a64f-ae9d3bb50a30\">MinMaxScaler</label><div class=\"sk-toggleable__content\"><pre>MinMaxScaler()</pre></div></div></div></div></div></div><div class=\"sk-parallel-item\"><div class=\"sk-item\"><div class=\"sk-label-container\"><div class=\"sk-label sk-toggleable\"><input class=\"sk-toggleable__control sk-hidden--visually\" id=\"612d625b-24b9-410c-b15e-e4a0e82d6737\" type=\"checkbox\" ><label class=\"sk-toggleable__label\" for=\"612d625b-24b9-410c-b15e-e4a0e82d6737\">robust_scaler</label><div class=\"sk-toggleable__content\"><pre>['instrumentalness', 'liveness', 'loudness', 'speechiness', 'tempo']</pre></div></div></div><div class=\"sk-serial\"><div class=\"sk-item\"><div class=\"sk-estimator sk-toggleable\"><input class=\"sk-toggleable__control sk-hidden--visually\" id=\"2052b94e-b21b-4bf9-9e17-5443cbcade92\" type=\"checkbox\" ><label class=\"sk-toggleable__label\" for=\"2052b94e-b21b-4bf9-9e17-5443cbcade92\">RobustScaler</label><div class=\"sk-toggleable__content\"><pre>RobustScaler()</pre></div></div></div></div></div></div><div class=\"sk-parallel-item\"><div class=\"sk-item\"><div class=\"sk-label-container\"><div class=\"sk-label sk-toggleable\"><input class=\"sk-toggleable__control sk-hidden--visually\" id=\"4ff91152-b379-492b-9392-82fef3a8a3d2\" type=\"checkbox\" ><label class=\"sk-toggleable__label\" for=\"4ff91152-b379-492b-9392-82fef3a8a3d2\">key_encoding</label><div class=\"sk-toggleable__content\"><pre>['key']</pre></div></div></div><div class=\"sk-serial\"><div class=\"sk-item\"><div class=\"sk-estimator sk-toggleable\"><input class=\"sk-toggleable__control sk-hidden--visually\" id=\"5b35f7a7-2310-4f7b-8534-e8d63c765412\" type=\"checkbox\" ><label class=\"sk-toggleable__label\" for=\"5b35f7a7-2310-4f7b-8534-e8d63c765412\">OneHotEncoder</label><div class=\"sk-toggleable__content\"><pre>OneHotEncoder()</pre></div></div></div></div></div></div><div class=\"sk-parallel-item\"><div class=\"sk-item\"><div class=\"sk-label-container\"><div class=\"sk-label sk-toggleable\"><input class=\"sk-toggleable__control sk-hidden--visually\" id=\"389043a4-fac4-485c-986a-931ee1e667a3\" type=\"checkbox\" ><label class=\"sk-toggleable__label\" for=\"389043a4-fac4-485c-986a-931ee1e667a3\">release_year</label><div class=\"sk-toggleable__content\"><pre>['release_date']</pre></div></div></div><div class=\"sk-serial\"><div class=\"sk-item\"><div class=\"sk-estimator sk-toggleable\"><input class=\"sk-toggleable__control sk-hidden--visually\" id=\"83d2dfc2-ea32-4985-8c30-45e7e381b3a9\" type=\"checkbox\" ><label class=\"sk-toggleable__label\" for=\"83d2dfc2-ea32-4985-8c30-45e7e381b3a9\">ReleaseYearTransformer</label><div class=\"sk-toggleable__content\"><pre>ReleaseYearTransformer()</pre></div></div></div></div></div></div></div></div><div class=\"sk-item\"><div class=\"sk-estimator sk-toggleable\"><input class=\"sk-toggleable__control sk-hidden--visually\" id=\"02d491e7-fe36-4200-920b-d96e64695539\" type=\"checkbox\" ><label class=\"sk-toggleable__label\" for=\"02d491e7-fe36-4200-920b-d96e64695539\">Lasso</label><div class=\"sk-toggleable__content\"><pre>Lasso(alpha=0.001)</pre></div></div></div></div></div></div></div>"
      ],
      "text/plain": [
       "Pipeline(steps=[('artist_popularity', ArtistPopularityTransformer()),\n",
       "                ('scaling_and_additional_preprocessing',\n",
       "                 ColumnTransformer(remainder='passthrough',\n",
       "                                   transformers=[('drop_id_and_song_name',\n",
       "                                                  'drop', ['id', 'name']),\n",
       "                                                 ('min_max_scaler',\n",
       "                                                  MinMaxScaler(),\n",
       "                                                  ['duration_ms',\n",
       "                                                   'acousticness',\n",
       "                                                   'danceability', 'energy',\n",
       "                                                   'valence']),\n",
       "                                                 ('robust_scaler',\n",
       "                                                  RobustScaler(),\n",
       "                                                  ['instrumentalness',\n",
       "                                                   'liveness', 'loudness',\n",
       "                                                   'speechiness', 'tempo']),\n",
       "                                                 ('key_encoding',\n",
       "                                                  OneHotEncoder(), ['key']),\n",
       "                                                 ('release_year',\n",
       "                                                  ReleaseYearTransformer(),\n",
       "                                                  ['release_date'])])),\n",
       "                ('linear_model', Lasso(alpha=0.001))])"
      ]
     },
     "execution_count": 148,
     "metadata": {},
     "output_type": "execute_result"
    }
   ],
   "source": [
    "# Print below your best pipe for correction purpose\n",
    "from sklearn import set_config; set_config(display='diagram')\n",
    "pipe_linear"
   ]
  },
  {
   "cell_type": "code",
   "execution_count": 149,
   "metadata": {},
   "outputs": [
    {
     "data": {
      "text/html": [
       "<style>div.sk-top-container {color: black;background-color: white;}div.sk-toggleable {background-color: white;}label.sk-toggleable__label {cursor: pointer;display: block;width: 100%;margin-bottom: 0;padding: 0.2em 0.3em;box-sizing: border-box;text-align: center;}div.sk-toggleable__content {max-height: 0;max-width: 0;overflow: hidden;text-align: left;background-color: #f0f8ff;}div.sk-toggleable__content pre {margin: 0.2em;color: black;border-radius: 0.25em;background-color: #f0f8ff;}input.sk-toggleable__control:checked~div.sk-toggleable__content {max-height: 200px;max-width: 100%;overflow: auto;}div.sk-estimator input.sk-toggleable__control:checked~label.sk-toggleable__label {background-color: #d4ebff;}div.sk-label input.sk-toggleable__control:checked~label.sk-toggleable__label {background-color: #d4ebff;}input.sk-hidden--visually {border: 0;clip: rect(1px 1px 1px 1px);clip: rect(1px, 1px, 1px, 1px);height: 1px;margin: -1px;overflow: hidden;padding: 0;position: absolute;width: 1px;}div.sk-estimator {font-family: monospace;background-color: #f0f8ff;margin: 0.25em 0.25em;border: 1px dotted black;border-radius: 0.25em;box-sizing: border-box;}div.sk-estimator:hover {background-color: #d4ebff;}div.sk-parallel-item::after {content: \"\";width: 100%;border-bottom: 1px solid gray;flex-grow: 1;}div.sk-label:hover label.sk-toggleable__label {background-color: #d4ebff;}div.sk-serial::before {content: \"\";position: absolute;border-left: 1px solid gray;box-sizing: border-box;top: 2em;bottom: 0;left: 50%;}div.sk-serial {display: flex;flex-direction: column;align-items: center;background-color: white;}div.sk-item {z-index: 1;}div.sk-parallel {display: flex;align-items: stretch;justify-content: center;background-color: white;}div.sk-parallel-item {display: flex;flex-direction: column;position: relative;background-color: white;}div.sk-parallel-item:first-child::after {align-self: flex-end;width: 50%;}div.sk-parallel-item:last-child::after {align-self: flex-start;width: 50%;}div.sk-parallel-item:only-child::after {width: 0;}div.sk-dashed-wrapped {border: 1px dashed gray;margin: 0.2em;box-sizing: border-box;padding-bottom: 0.1em;background-color: white;position: relative;}div.sk-label label {font-family: monospace;font-weight: bold;background-color: white;display: inline-block;line-height: 1.2em;}div.sk-label-container {position: relative;z-index: 2;text-align: center;}div.sk-container {display: inline-block;position: relative;}</style><div class=\"sk-top-container\"><div class=\"sk-container\"><div class=\"sk-item sk-dashed-wrapped\"><div class=\"sk-label-container\"><div class=\"sk-label sk-toggleable\"><input class=\"sk-toggleable__control sk-hidden--visually\" id=\"93df40c6-fc16-4a66-babb-a1b4bf3e15d3\" type=\"checkbox\" ><label class=\"sk-toggleable__label\" for=\"93df40c6-fc16-4a66-babb-a1b4bf3e15d3\">Pipeline</label><div class=\"sk-toggleable__content\"><pre>Pipeline(steps=[('artist_popularity', ArtistPopularityTransformer()),\n",
       "                ('scaling_and_additional_preprocessing',\n",
       "                 ColumnTransformer(remainder='passthrough',\n",
       "                                   transformers=[('drop_id_and_song_name',\n",
       "                                                  'drop', ['id', 'name']),\n",
       "                                                 ('min_max_scaler',\n",
       "                                                  MinMaxScaler(),\n",
       "                                                  ['duration_ms',\n",
       "                                                   'acousticness',\n",
       "                                                   'danceability', 'energy',\n",
       "                                                   'valence']),\n",
       "                                                 ('robust_scaler',\n",
       "                                                  RobustScaler(),\n",
       "                                                  ['instru...\n",
       "                              gpu_id=-1, importance_type='gain',\n",
       "                              interaction_constraints='',\n",
       "                              learning_rate=0.12423312668551885,\n",
       "                              max_delta_step=0, max_depth=14,\n",
       "                              min_child_weight=6, missing=nan,\n",
       "                              monotone_constraints='()', n_estimators=110,\n",
       "                              n_jobs=0, num_parallel_tree=1, random_state=0,\n",
       "                              reg_alpha=100, reg_lambda=1, scale_pos_weight=1,\n",
       "                              subsample=1, tree_method='exact',\n",
       "                              validate_parameters=1, verbosity=None))])</pre></div></div></div><div class=\"sk-serial\"><div class=\"sk-item\"><div class=\"sk-estimator sk-toggleable\"><input class=\"sk-toggleable__control sk-hidden--visually\" id=\"7afd99e8-d646-4d31-8c39-7660115a46bd\" type=\"checkbox\" ><label class=\"sk-toggleable__label\" for=\"7afd99e8-d646-4d31-8c39-7660115a46bd\">ArtistPopularityTransformer</label><div class=\"sk-toggleable__content\"><pre>ArtistPopularityTransformer()</pre></div></div></div><div class=\"sk-item sk-dashed-wrapped\"><div class=\"sk-label-container\"><div class=\"sk-label sk-toggleable\"><input class=\"sk-toggleable__control sk-hidden--visually\" id=\"c425edf2-4128-4f11-88c4-7b75cda3a627\" type=\"checkbox\" ><label class=\"sk-toggleable__label\" for=\"c425edf2-4128-4f11-88c4-7b75cda3a627\">scaling_and_additional_preprocessing: ColumnTransformer</label><div class=\"sk-toggleable__content\"><pre>ColumnTransformer(remainder='passthrough',\n",
       "                  transformers=[('drop_id_and_song_name', 'drop',\n",
       "                                 ['id', 'name']),\n",
       "                                ('min_max_scaler', MinMaxScaler(),\n",
       "                                 ['duration_ms', 'acousticness', 'danceability',\n",
       "                                  'energy', 'valence']),\n",
       "                                ('robust_scaler', RobustScaler(),\n",
       "                                 ['instrumentalness', 'liveness', 'loudness',\n",
       "                                  'speechiness', 'tempo']),\n",
       "                                ('key_encoding', OneHotEncoder(), ['key']),\n",
       "                                ('release_year', ReleaseYearTransformer(),\n",
       "                                 ['release_date'])])</pre></div></div></div><div class=\"sk-parallel\"><div class=\"sk-parallel-item\"><div class=\"sk-item\"><div class=\"sk-label-container\"><div class=\"sk-label sk-toggleable\"><input class=\"sk-toggleable__control sk-hidden--visually\" id=\"9818b5f2-63f7-4a80-9f3b-aa64cbf16f8a\" type=\"checkbox\" ><label class=\"sk-toggleable__label\" for=\"9818b5f2-63f7-4a80-9f3b-aa64cbf16f8a\">drop_id_and_song_name</label><div class=\"sk-toggleable__content\"><pre>['id', 'name']</pre></div></div></div><div class=\"sk-serial\"><div class=\"sk-item\"><div class=\"sk-estimator sk-toggleable\"><input class=\"sk-toggleable__control sk-hidden--visually\" id=\"eae41c17-7ba7-40fb-af6a-f660a27c5bb3\" type=\"checkbox\" ><label class=\"sk-toggleable__label\" for=\"eae41c17-7ba7-40fb-af6a-f660a27c5bb3\">drop</label><div class=\"sk-toggleable__content\"><pre>drop</pre></div></div></div></div></div></div><div class=\"sk-parallel-item\"><div class=\"sk-item\"><div class=\"sk-label-container\"><div class=\"sk-label sk-toggleable\"><input class=\"sk-toggleable__control sk-hidden--visually\" id=\"aae81ab2-2e7a-4878-90a3-c56e0f8d4995\" type=\"checkbox\" ><label class=\"sk-toggleable__label\" for=\"aae81ab2-2e7a-4878-90a3-c56e0f8d4995\">min_max_scaler</label><div class=\"sk-toggleable__content\"><pre>['duration_ms', 'acousticness', 'danceability', 'energy', 'valence']</pre></div></div></div><div class=\"sk-serial\"><div class=\"sk-item\"><div class=\"sk-estimator sk-toggleable\"><input class=\"sk-toggleable__control sk-hidden--visually\" id=\"1d17ce18-50fa-4b1a-b875-2f727d76a408\" type=\"checkbox\" ><label class=\"sk-toggleable__label\" for=\"1d17ce18-50fa-4b1a-b875-2f727d76a408\">MinMaxScaler</label><div class=\"sk-toggleable__content\"><pre>MinMaxScaler()</pre></div></div></div></div></div></div><div class=\"sk-parallel-item\"><div class=\"sk-item\"><div class=\"sk-label-container\"><div class=\"sk-label sk-toggleable\"><input class=\"sk-toggleable__control sk-hidden--visually\" id=\"12b24548-54e1-43bb-9742-c6a23dc878aa\" type=\"checkbox\" ><label class=\"sk-toggleable__label\" for=\"12b24548-54e1-43bb-9742-c6a23dc878aa\">robust_scaler</label><div class=\"sk-toggleable__content\"><pre>['instrumentalness', 'liveness', 'loudness', 'speechiness', 'tempo']</pre></div></div></div><div class=\"sk-serial\"><div class=\"sk-item\"><div class=\"sk-estimator sk-toggleable\"><input class=\"sk-toggleable__control sk-hidden--visually\" id=\"f00f4741-6045-4e03-88a7-b9d69554b98d\" type=\"checkbox\" ><label class=\"sk-toggleable__label\" for=\"f00f4741-6045-4e03-88a7-b9d69554b98d\">RobustScaler</label><div class=\"sk-toggleable__content\"><pre>RobustScaler()</pre></div></div></div></div></div></div><div class=\"sk-parallel-item\"><div class=\"sk-item\"><div class=\"sk-label-container\"><div class=\"sk-label sk-toggleable\"><input class=\"sk-toggleable__control sk-hidden--visually\" id=\"245f516e-81ab-4d38-b60a-1ff91dff3e2b\" type=\"checkbox\" ><label class=\"sk-toggleable__label\" for=\"245f516e-81ab-4d38-b60a-1ff91dff3e2b\">key_encoding</label><div class=\"sk-toggleable__content\"><pre>['key']</pre></div></div></div><div class=\"sk-serial\"><div class=\"sk-item\"><div class=\"sk-estimator sk-toggleable\"><input class=\"sk-toggleable__control sk-hidden--visually\" id=\"7bda1cd4-2622-41d6-9173-7b841e9ffe77\" type=\"checkbox\" ><label class=\"sk-toggleable__label\" for=\"7bda1cd4-2622-41d6-9173-7b841e9ffe77\">OneHotEncoder</label><div class=\"sk-toggleable__content\"><pre>OneHotEncoder()</pre></div></div></div></div></div></div><div class=\"sk-parallel-item\"><div class=\"sk-item\"><div class=\"sk-label-container\"><div class=\"sk-label sk-toggleable\"><input class=\"sk-toggleable__control sk-hidden--visually\" id=\"5936ef59-44a5-416a-aca1-240e8a107ac6\" type=\"checkbox\" ><label class=\"sk-toggleable__label\" for=\"5936ef59-44a5-416a-aca1-240e8a107ac6\">release_year</label><div class=\"sk-toggleable__content\"><pre>['release_date']</pre></div></div></div><div class=\"sk-serial\"><div class=\"sk-item\"><div class=\"sk-estimator sk-toggleable\"><input class=\"sk-toggleable__control sk-hidden--visually\" id=\"cd95e9fa-0dd2-430a-bac0-ba4792934d46\" type=\"checkbox\" ><label class=\"sk-toggleable__label\" for=\"cd95e9fa-0dd2-430a-bac0-ba4792934d46\">ReleaseYearTransformer</label><div class=\"sk-toggleable__content\"><pre>ReleaseYearTransformer()</pre></div></div></div></div></div></div></div></div><div class=\"sk-item\"><div class=\"sk-estimator sk-toggleable\"><input class=\"sk-toggleable__control sk-hidden--visually\" id=\"95637645-7393-4748-8149-aba8037b11c7\" type=\"checkbox\" ><label class=\"sk-toggleable__label\" for=\"95637645-7393-4748-8149-aba8037b11c7\">XGBRegressor</label><div class=\"sk-toggleable__content\"><pre>XGBRegressor(base_score=0.5, booster='gbtree', colsample_bylevel=1,\n",
       "             colsample_bynode=1, colsample_bytree=1, gamma=0.3364093010602823,\n",
       "             gpu_id=-1, importance_type='gain', interaction_constraints='',\n",
       "             learning_rate=0.12423312668551885, max_delta_step=0, max_depth=14,\n",
       "             min_child_weight=6, missing=nan, monotone_constraints='()',\n",
       "             n_estimators=110, n_jobs=0, num_parallel_tree=1, random_state=0,\n",
       "             reg_alpha=100, reg_lambda=1, scale_pos_weight=1, subsample=1,\n",
       "             tree_method='exact', validate_parameters=1, verbosity=None)</pre></div></div></div></div></div></div></div>"
      ],
      "text/plain": [
       "Pipeline(steps=[('artist_popularity', ArtistPopularityTransformer()),\n",
       "                ('scaling_and_additional_preprocessing',\n",
       "                 ColumnTransformer(remainder='passthrough',\n",
       "                                   transformers=[('drop_id_and_song_name',\n",
       "                                                  'drop', ['id', 'name']),\n",
       "                                                 ('min_max_scaler',\n",
       "                                                  MinMaxScaler(),\n",
       "                                                  ['duration_ms',\n",
       "                                                   'acousticness',\n",
       "                                                   'danceability', 'energy',\n",
       "                                                   'valence']),\n",
       "                                                 ('robust_scaler',\n",
       "                                                  RobustScaler(),\n",
       "                                                  ['instru...\n",
       "                              gpu_id=-1, importance_type='gain',\n",
       "                              interaction_constraints='',\n",
       "                              learning_rate=0.12423312668551885,\n",
       "                              max_delta_step=0, max_depth=14,\n",
       "                              min_child_weight=6, missing=nan,\n",
       "                              monotone_constraints='()', n_estimators=110,\n",
       "                              n_jobs=0, num_parallel_tree=1, random_state=0,\n",
       "                              reg_alpha=100, reg_lambda=1, scale_pos_weight=1,\n",
       "                              subsample=1, tree_method='exact',\n",
       "                              validate_parameters=1, verbosity=None))])"
      ]
     },
     "execution_count": 149,
     "metadata": {},
     "output_type": "execute_result"
    }
   ],
   "source": [
    "# Print below your best pipe for correction purpose\n",
    "pipe_ensemble"
   ]
  },
  {
   "cell_type": "code",
   "execution_count": 150,
   "metadata": {},
   "outputs": [],
   "source": [
    "from nbresult import ChallengeResult\n",
    "\n",
    "ChallengeResult(\"c8_c9_c11_c13_model_tuning\",\n",
    "    scoring = scoring,\n",
    "    score_linear=score_linear,\n",
    "    score_ensemble=score_ensemble).write()"
   ]
  },
  {
   "cell_type": "markdown",
   "metadata": {},
   "source": [
    "## API \n",
    "\n",
    "Time to put a pipeline in production!\n",
    "\n",
    "👉 Go to https://github.com/lewagon/data-certification-api and follow instructions\n",
    "\n",
    "**This final part is independent from the above notebook**"
   ]
  }
 ],
 "metadata": {
  "kernelspec": {
   "display_name": "Python 3",
   "language": "python",
   "name": "python3"
  },
  "language_info": {
   "codemirror_mode": {
    "name": "ipython",
    "version": 3
   },
   "file_extension": ".py",
   "mimetype": "text/x-python",
   "name": "python",
   "nbconvert_exporter": "python",
   "pygments_lexer": "ipython3",
   "version": "3.7.7"
  },
  "toc": {
   "base_numbering": 1,
   "nav_menu": {},
   "number_sections": true,
   "sideBar": true,
   "skip_h1_title": true,
   "title_cell": "Table of Contents",
   "title_sidebar": "Contents",
   "toc_cell": false,
   "toc_position": {
    "height": "calc(100% - 180px)",
    "left": "10px",
    "top": "150px",
    "width": "252.003px"
   },
   "toc_section_display": true,
   "toc_window_display": true
  },
  "varInspector": {
   "cols": {
    "lenName": 16,
    "lenType": 16,
    "lenVar": 40
   },
   "kernels_config": {
    "python": {
     "delete_cmd_postfix": "",
     "delete_cmd_prefix": "del ",
     "library": "var_list.py",
     "varRefreshCmd": "print(var_dic_list())"
    },
    "r": {
     "delete_cmd_postfix": ") ",
     "delete_cmd_prefix": "rm(",
     "library": "var_list.r",
     "varRefreshCmd": "cat(var_dic_list()) "
    }
   },
   "types_to_exclude": [
    "module",
    "function",
    "builtin_function_or_method",
    "instance",
    "_Feature"
   ],
   "window_display": false
  }
 },
 "nbformat": 4,
 "nbformat_minor": 4
}
