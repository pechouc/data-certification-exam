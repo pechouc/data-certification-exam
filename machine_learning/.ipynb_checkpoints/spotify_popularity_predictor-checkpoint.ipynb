{
 "cells": [
  {
   "cell_type": "code",
   "execution_count": 1,
   "metadata": {},
   "outputs": [],
   "source": [
    "# Imports\n",
    "import numpy as np\n",
    "import pandas as pd\n",
    "\n",
    "import matplotlib.pyplot as plt\n",
    "import seaborn as sns\n",
    "\n",
    "from sklearn.preprocessing import MinMaxScaler, RobustScaler, OneHotEncoder\n",
    "from sklearn.compose import ColumnTransformer\n",
    "from sklearn.pipeline import Pipeline\n",
    "\n",
    "from sklearn.model_selection import cross_validate, train_test_split, GridSearchCV, RandomizedSearchCV\n",
    "from sklearn.metrics import mean_squared_error \n",
    "\n",
    "from sklearn.linear_model import LinearRegression, Lasso\n",
    "\n",
    "from xgboost import XGBRegressor\n",
    "\n",
    "from scipy.stats import randint, uniform"
   ]
  },
  {
   "cell_type": "markdown",
   "metadata": {},
   "source": [
    "# Spotify Popularity Predictor (39%)"
   ]
  },
  {
   "cell_type": "markdown",
   "metadata": {},
   "source": [
    "The goal of this challenge is to create a model that predicts the popularity of a song based on its features.\n",
    "\n",
    "The dataset contains a list of tracks with the following characteristics:\n",
    "- `acousticness`: whether the track is acoustic\n",
    "- `danceability`: describes how suitable a track is for dancing\n",
    "- `duration_ms`: duration of the track in milliseconds\n",
    "- `energy`: represents a perceptual measure of intensity and activity\n",
    "- `explicit`: whether the track has explicit lyrics\n",
    "- `id`: id for the track\n",
    "- `instrumentalness`: predicts whether a track contains no vocals\n",
    "- `key`: the key the track is in\n",
    "- `liveness`: detects the presence of an audience in the recording\n",
    "- `loudness`: the overall loudness of a track in decibels\n",
    "- `mode`: modality of a track\n",
    "- `name`: name of the track\n",
    "- `popularity`: popularity of the track\n",
    "- `release_date`: release date\n",
    "- `speechiness`: detects the presence of spoken words in a track\n",
    "- `tempo`: overall estimated tempo of a track in beats per minute\n",
    "- `valence`: describes the musical positiveness conveyed by a track\n",
    "- `artist`: artist who performed the track"
   ]
  },
  {
   "cell_type": "markdown",
   "metadata": {},
   "source": [
    "# Model"
   ]
  },
  {
   "cell_type": "markdown",
   "metadata": {
    "heading_collapsed": true
   },
   "source": [
    "## Data collection\n",
    "\n",
    "**📝 Load the `spotify_popularity_train.csv` dataset from the provided URL. Display the first few rows. Perform the usual cleaning operations. Store the result in a `DataFrame` named `data`.**\n",
    "\n",
    "👉 Do not forget to clean the dataset"
   ]
  },
  {
   "cell_type": "code",
   "execution_count": 2,
   "metadata": {
    "hidden": true
   },
   "outputs": [],
   "source": [
    "url = \"https://wagon-public-datasets.s3.amazonaws.com/certification_paris_2021Q1/spotify_popularity_train.csv\""
   ]
  },
  {
   "cell_type": "code",
   "execution_count": 3,
   "metadata": {
    "hidden": true
   },
   "outputs": [
    {
     "data": {
      "text/html": [
       "<div>\n",
       "<style scoped>\n",
       "    .dataframe tbody tr th:only-of-type {\n",
       "        vertical-align: middle;\n",
       "    }\n",
       "\n",
       "    .dataframe tbody tr th {\n",
       "        vertical-align: top;\n",
       "    }\n",
       "\n",
       "    .dataframe thead th {\n",
       "        text-align: right;\n",
       "    }\n",
       "</style>\n",
       "<table border=\"1\" class=\"dataframe\">\n",
       "  <thead>\n",
       "    <tr style=\"text-align: right;\">\n",
       "      <th></th>\n",
       "      <th>acousticness</th>\n",
       "      <th>danceability</th>\n",
       "      <th>duration_ms</th>\n",
       "      <th>energy</th>\n",
       "      <th>explicit</th>\n",
       "      <th>id</th>\n",
       "      <th>instrumentalness</th>\n",
       "      <th>key</th>\n",
       "      <th>liveness</th>\n",
       "      <th>loudness</th>\n",
       "      <th>mode</th>\n",
       "      <th>name</th>\n",
       "      <th>popularity</th>\n",
       "      <th>release_date</th>\n",
       "      <th>speechiness</th>\n",
       "      <th>tempo</th>\n",
       "      <th>valence</th>\n",
       "      <th>artist</th>\n",
       "    </tr>\n",
       "  </thead>\n",
       "  <tbody>\n",
       "    <tr>\n",
       "      <th>0</th>\n",
       "      <td>0.65400</td>\n",
       "      <td>0.499</td>\n",
       "      <td>219827</td>\n",
       "      <td>0.190</td>\n",
       "      <td>0</td>\n",
       "      <td>0B6BeEUd6UwFlbsHMQKjob</td>\n",
       "      <td>0.00409</td>\n",
       "      <td>7</td>\n",
       "      <td>0.0898</td>\n",
       "      <td>-16.435</td>\n",
       "      <td>1</td>\n",
       "      <td>Back in the Goodle Days</td>\n",
       "      <td>40</td>\n",
       "      <td>1971</td>\n",
       "      <td>0.0454</td>\n",
       "      <td>149.460</td>\n",
       "      <td>0.4300</td>\n",
       "      <td>John Hartford</td>\n",
       "    </tr>\n",
       "    <tr>\n",
       "      <th>1</th>\n",
       "      <td>0.00592</td>\n",
       "      <td>0.439</td>\n",
       "      <td>483948</td>\n",
       "      <td>0.808</td>\n",
       "      <td>0</td>\n",
       "      <td>5Gpx4lJy3vKmIvjwbiR5c8</td>\n",
       "      <td>0.14000</td>\n",
       "      <td>2</td>\n",
       "      <td>0.0890</td>\n",
       "      <td>-8.497</td>\n",
       "      <td>1</td>\n",
       "      <td>Worlds Which Break Us - Intro Mix</td>\n",
       "      <td>22</td>\n",
       "      <td>2015-02-02</td>\n",
       "      <td>0.0677</td>\n",
       "      <td>138.040</td>\n",
       "      <td>0.0587</td>\n",
       "      <td>Driftmoon</td>\n",
       "    </tr>\n",
       "    <tr>\n",
       "      <th>2</th>\n",
       "      <td>0.73400</td>\n",
       "      <td>0.523</td>\n",
       "      <td>245693</td>\n",
       "      <td>0.288</td>\n",
       "      <td>0</td>\n",
       "      <td>7MxuUYqrCIy93h1EEHrIrL</td>\n",
       "      <td>0.00000</td>\n",
       "      <td>0</td>\n",
       "      <td>0.0771</td>\n",
       "      <td>-11.506</td>\n",
       "      <td>1</td>\n",
       "      <td>I'm The Greatest Star</td>\n",
       "      <td>40</td>\n",
       "      <td>1968-09-01</td>\n",
       "      <td>0.2140</td>\n",
       "      <td>75.869</td>\n",
       "      <td>0.4640</td>\n",
       "      <td>Barbra Streisand</td>\n",
       "    </tr>\n",
       "  </tbody>\n",
       "</table>\n",
       "</div>"
      ],
      "text/plain": [
       "   acousticness  danceability  duration_ms  energy  explicit  \\\n",
       "0       0.65400         0.499       219827   0.190         0   \n",
       "1       0.00592         0.439       483948   0.808         0   \n",
       "2       0.73400         0.523       245693   0.288         0   \n",
       "\n",
       "                       id  instrumentalness  key  liveness  loudness  mode  \\\n",
       "0  0B6BeEUd6UwFlbsHMQKjob           0.00409    7    0.0898   -16.435     1   \n",
       "1  5Gpx4lJy3vKmIvjwbiR5c8           0.14000    2    0.0890    -8.497     1   \n",
       "2  7MxuUYqrCIy93h1EEHrIrL           0.00000    0    0.0771   -11.506     1   \n",
       "\n",
       "                                name  popularity release_date  speechiness  \\\n",
       "0            Back in the Goodle Days          40         1971       0.0454   \n",
       "1  Worlds Which Break Us - Intro Mix          22   2015-02-02       0.0677   \n",
       "2              I'm The Greatest Star          40   1968-09-01       0.2140   \n",
       "\n",
       "     tempo  valence            artist  \n",
       "0  149.460   0.4300     John Hartford  \n",
       "1  138.040   0.0587         Driftmoon  \n",
       "2   75.869   0.4640  Barbra Streisand  "
      ]
     },
     "execution_count": 3,
     "metadata": {},
     "output_type": "execute_result"
    }
   ],
   "source": [
    "data = pd.read_csv(url)\n",
    "data.head(3)"
   ]
  },
  {
   "cell_type": "markdown",
   "metadata": {
    "hidden": true
   },
   "source": [
    "Let us have a look at potentially missing values. "
   ]
  },
  {
   "cell_type": "code",
   "execution_count": 4,
   "metadata": {
    "hidden": true
   },
   "outputs": [
    {
     "data": {
      "text/plain": [
       "acousticness        0\n",
       "danceability        0\n",
       "duration_ms         0\n",
       "energy              0\n",
       "explicit            0\n",
       "id                  0\n",
       "instrumentalness    0\n",
       "key                 0\n",
       "liveness            0\n",
       "loudness            0\n",
       "mode                0\n",
       "name                0\n",
       "popularity          0\n",
       "release_date        0\n",
       "speechiness         0\n",
       "tempo               0\n",
       "valence             0\n",
       "artist              4\n",
       "dtype: int64"
      ]
     },
     "execution_count": 4,
     "metadata": {},
     "output_type": "execute_result"
    }
   ],
   "source": [
    "data.isnull().sum()"
   ]
  },
  {
   "cell_type": "markdown",
   "metadata": {
    "hidden": true
   },
   "source": [
    "It seems that 4 songs do not display any artist. "
   ]
  },
  {
   "cell_type": "code",
   "execution_count": 5,
   "metadata": {
    "hidden": true
   },
   "outputs": [
    {
     "data": {
      "text/html": [
       "<div>\n",
       "<style scoped>\n",
       "    .dataframe tbody tr th:only-of-type {\n",
       "        vertical-align: middle;\n",
       "    }\n",
       "\n",
       "    .dataframe tbody tr th {\n",
       "        vertical-align: top;\n",
       "    }\n",
       "\n",
       "    .dataframe thead th {\n",
       "        text-align: right;\n",
       "    }\n",
       "</style>\n",
       "<table border=\"1\" class=\"dataframe\">\n",
       "  <thead>\n",
       "    <tr style=\"text-align: right;\">\n",
       "      <th></th>\n",
       "      <th>acousticness</th>\n",
       "      <th>danceability</th>\n",
       "      <th>duration_ms</th>\n",
       "      <th>energy</th>\n",
       "      <th>explicit</th>\n",
       "      <th>id</th>\n",
       "      <th>instrumentalness</th>\n",
       "      <th>key</th>\n",
       "      <th>liveness</th>\n",
       "      <th>loudness</th>\n",
       "      <th>mode</th>\n",
       "      <th>name</th>\n",
       "      <th>popularity</th>\n",
       "      <th>release_date</th>\n",
       "      <th>speechiness</th>\n",
       "      <th>tempo</th>\n",
       "      <th>valence</th>\n",
       "      <th>artist</th>\n",
       "    </tr>\n",
       "  </thead>\n",
       "  <tbody>\n",
       "    <tr>\n",
       "      <th>12850</th>\n",
       "      <td>0.517</td>\n",
       "      <td>0.613</td>\n",
       "      <td>191867</td>\n",
       "      <td>0.549</td>\n",
       "      <td>0</td>\n",
       "      <td>3NWCbI2VtW80g8cZG3QHIx</td>\n",
       "      <td>0.4440</td>\n",
       "      <td>7</td>\n",
       "      <td>0.0412</td>\n",
       "      <td>-7.648</td>\n",
       "      <td>1</td>\n",
       "      <td>easy going</td>\n",
       "      <td>0</td>\n",
       "      <td>1935</td>\n",
       "      <td>0.0327</td>\n",
       "      <td>83.967</td>\n",
       "      <td>0.583</td>\n",
       "      <td>NaN</td>\n",
       "    </tr>\n",
       "    <tr>\n",
       "      <th>17924</th>\n",
       "      <td>0.732</td>\n",
       "      <td>0.535</td>\n",
       "      <td>279600</td>\n",
       "      <td>0.435</td>\n",
       "      <td>0</td>\n",
       "      <td>0cSyeb33PyBMtLeUzCgDgO</td>\n",
       "      <td>0.2530</td>\n",
       "      <td>4</td>\n",
       "      <td>0.1190</td>\n",
       "      <td>-9.021</td>\n",
       "      <td>0</td>\n",
       "      <td>concerto piccolo</td>\n",
       "      <td>0</td>\n",
       "      <td>1935</td>\n",
       "      <td>0.0303</td>\n",
       "      <td>106.124</td>\n",
       "      <td>0.205</td>\n",
       "      <td>NaN</td>\n",
       "    </tr>\n",
       "    <tr>\n",
       "      <th>22383</th>\n",
       "      <td>0.758</td>\n",
       "      <td>0.376</td>\n",
       "      <td>189560</td>\n",
       "      <td>0.332</td>\n",
       "      <td>0</td>\n",
       "      <td>3gWhV34vWEBwguH0RP2w7j</td>\n",
       "      <td>0.0482</td>\n",
       "      <td>3</td>\n",
       "      <td>0.0766</td>\n",
       "      <td>-8.420</td>\n",
       "      <td>1</td>\n",
       "      <td>comfort ye my people</td>\n",
       "      <td>0</td>\n",
       "      <td>1935</td>\n",
       "      <td>0.0296</td>\n",
       "      <td>91.840</td>\n",
       "      <td>0.260</td>\n",
       "      <td>NaN</td>\n",
       "    </tr>\n",
       "    <tr>\n",
       "      <th>32011</th>\n",
       "      <td>0.981</td>\n",
       "      <td>0.492</td>\n",
       "      <td>236733</td>\n",
       "      <td>0.286</td>\n",
       "      <td>0</td>\n",
       "      <td>2nUaz5sLG0HccdACC1IG35</td>\n",
       "      <td>0.8920</td>\n",
       "      <td>3</td>\n",
       "      <td>0.1430</td>\n",
       "      <td>-8.966</td>\n",
       "      <td>1</td>\n",
       "      <td>i know that my redeemer liveth</td>\n",
       "      <td>0</td>\n",
       "      <td>1935</td>\n",
       "      <td>0.0336</td>\n",
       "      <td>87.973</td>\n",
       "      <td>0.273</td>\n",
       "      <td>NaN</td>\n",
       "    </tr>\n",
       "  </tbody>\n",
       "</table>\n",
       "</div>"
      ],
      "text/plain": [
       "       acousticness  danceability  duration_ms  energy  explicit  \\\n",
       "12850         0.517         0.613       191867   0.549         0   \n",
       "17924         0.732         0.535       279600   0.435         0   \n",
       "22383         0.758         0.376       189560   0.332         0   \n",
       "32011         0.981         0.492       236733   0.286         0   \n",
       "\n",
       "                           id  instrumentalness  key  liveness  loudness  \\\n",
       "12850  3NWCbI2VtW80g8cZG3QHIx            0.4440    7    0.0412    -7.648   \n",
       "17924  0cSyeb33PyBMtLeUzCgDgO            0.2530    4    0.1190    -9.021   \n",
       "22383  3gWhV34vWEBwguH0RP2w7j            0.0482    3    0.0766    -8.420   \n",
       "32011  2nUaz5sLG0HccdACC1IG35            0.8920    3    0.1430    -8.966   \n",
       "\n",
       "       mode                            name  popularity release_date  \\\n",
       "12850     1                      easy going           0         1935   \n",
       "17924     0                concerto piccolo           0         1935   \n",
       "22383     1            comfort ye my people           0         1935   \n",
       "32011     1  i know that my redeemer liveth           0         1935   \n",
       "\n",
       "       speechiness    tempo  valence artist  \n",
       "12850       0.0327   83.967    0.583    NaN  \n",
       "17924       0.0303  106.124    0.205    NaN  \n",
       "22383       0.0296   91.840    0.260    NaN  \n",
       "32011       0.0336   87.973    0.273    NaN  "
      ]
     },
     "execution_count": 5,
     "metadata": {},
     "output_type": "execute_result"
    }
   ],
   "source": [
    "data[data['artist'].isnull()]"
   ]
  },
  {
   "cell_type": "markdown",
   "metadata": {
    "hidden": true
   },
   "source": [
    "This can be put in relation with the overall number of observations in the dataset:"
   ]
  },
  {
   "cell_type": "code",
   "execution_count": 6,
   "metadata": {
    "hidden": true
   },
   "outputs": [
    {
     "data": {
      "text/plain": [
       "(52317, 18)"
      ]
     },
     "execution_count": 6,
     "metadata": {},
     "output_type": "execute_result"
    }
   ],
   "source": [
    "data.shape"
   ]
  },
  {
   "cell_type": "markdown",
   "metadata": {
    "hidden": true
   },
   "source": [
    "Since `artist` is likely to be a variable of close interest in our modelling task and it cannot really be imputed, we are going to drop these 4 lines."
   ]
  },
  {
   "cell_type": "code",
   "execution_count": 7,
   "metadata": {
    "hidden": true
   },
   "outputs": [],
   "source": [
    "data.dropna(inplace=True)"
   ]
  },
  {
   "cell_type": "markdown",
   "metadata": {
    "hidden": true
   },
   "source": [
    "Let us now check data types."
   ]
  },
  {
   "cell_type": "code",
   "execution_count": 8,
   "metadata": {
    "hidden": true
   },
   "outputs": [
    {
     "data": {
      "text/plain": [
       "acousticness        float64\n",
       "danceability        float64\n",
       "duration_ms           int64\n",
       "energy              float64\n",
       "explicit              int64\n",
       "id                   object\n",
       "instrumentalness    float64\n",
       "key                   int64\n",
       "liveness            float64\n",
       "loudness            float64\n",
       "mode                  int64\n",
       "name                 object\n",
       "popularity            int64\n",
       "release_date         object\n",
       "speechiness         float64\n",
       "tempo               float64\n",
       "valence             float64\n",
       "artist               object\n",
       "dtype: object"
      ]
     },
     "execution_count": 8,
     "metadata": {},
     "output_type": "execute_result"
    }
   ],
   "source": [
    "data.dtypes"
   ]
  },
  {
   "cell_type": "markdown",
   "metadata": {
    "hidden": true
   },
   "source": [
    "The `release_date` is not a datetime object. We might want to make this change. Let us first look at the few release dates drawn randomly to check if they have the same format."
   ]
  },
  {
   "cell_type": "code",
   "execution_count": 9,
   "metadata": {
    "hidden": true
   },
   "outputs": [
    {
     "data": {
      "text/plain": [
       "13773    1974-01-01\n",
       "505      1992-09-22\n",
       "31435          1956\n",
       "33740    2020-08-07\n",
       "9532     1939-02-22\n",
       "33169          1980\n",
       "45475          1949\n",
       "19587    2001-01-01\n",
       "25361    1994-01-01\n",
       "12758    1976-01-01\n",
       "Name: release_date, dtype: object"
      ]
     },
     "execution_count": 9,
     "metadata": {},
     "output_type": "execute_result"
    }
   ],
   "source": [
    "data['release_date'].sample(10)"
   ]
  },
  {
   "cell_type": "markdown",
   "metadata": {
    "hidden": true
   },
   "source": [
    "Sometimes, we have the full date and sometimes, we have only the year. But even when we have the full date, there are surprisingly many songs released on Jan. 1st, which could indicate that only the year is relevant in such a case and the day of the year is arbitrary. \n",
    "\n",
    "We are now changing the data type to datetime one, keeping in mind that mostly the year will be relevant."
   ]
  },
  {
   "cell_type": "code",
   "execution_count": 10,
   "metadata": {
    "hidden": true
   },
   "outputs": [],
   "source": [
    "data['release_date'] = pd.to_datetime(data['release_date'])"
   ]
  },
  {
   "cell_type": "markdown",
   "metadata": {
    "hidden": true
   },
   "source": [
    "Let us run a quick check on categorical variables now:"
   ]
  },
  {
   "cell_type": "code",
   "execution_count": 11,
   "metadata": {
    "hidden": true
   },
   "outputs": [
    {
     "data": {
      "text/plain": [
       "0     6604\n",
       "7     6473\n",
       "2     5752\n",
       "9     5397\n",
       "5     4845\n",
       "1     4144\n",
       "4     3909\n",
       "10    3692\n",
       "11    3373\n",
       "8     3092\n",
       "6     2813\n",
       "3     2219\n",
       "Name: key, dtype: int64"
      ]
     },
     "execution_count": 11,
     "metadata": {},
     "output_type": "execute_result"
    }
   ],
   "source": [
    "data['key'].value_counts()"
   ]
  },
  {
   "cell_type": "code",
   "execution_count": 12,
   "metadata": {
    "hidden": true
   },
   "outputs": [
    {
     "data": {
      "text/plain": [
       "0    48673\n",
       "1     3640\n",
       "Name: explicit, dtype: int64"
      ]
     },
     "execution_count": 12,
     "metadata": {},
     "output_type": "execute_result"
    }
   ],
   "source": [
    "data['explicit'].value_counts()"
   ]
  },
  {
   "cell_type": "code",
   "execution_count": 13,
   "metadata": {
    "hidden": true
   },
   "outputs": [
    {
     "data": {
      "text/plain": [
       "1    36895\n",
       "0    15418\n",
       "Name: mode, dtype: int64"
      ]
     },
     "execution_count": 13,
     "metadata": {},
     "output_type": "execute_result"
    }
   ],
   "source": [
    "data['mode'].value_counts()"
   ]
  },
  {
   "cell_type": "markdown",
   "metadata": {
    "hidden": true
   },
   "source": [
    "They do not display any weird values and we can now have a look to numerical features."
   ]
  },
  {
   "cell_type": "code",
   "execution_count": 15,
   "metadata": {
    "hidden": true
   },
   "outputs": [],
   "source": [
    "numerical_features = list(\n",
    "    data.drop(\n",
    "        columns=['id', 'artist', 'name', 'key', 'explicit', 'mode', 'release_date']\n",
    "    ).columns\n",
    ")"
   ]
  },
  {
   "cell_type": "code",
   "execution_count": 18,
   "metadata": {
    "hidden": true
   },
   "outputs": [
    {
     "name": "stdout",
     "output_type": "stream",
     "text": [
      "Number of numerical features in the dataset: 11\n",
      "List of numerical features in the dataset:\n",
      "- acousticness\n",
      "- danceability\n",
      "- duration_ms\n",
      "- energy\n",
      "- instrumentalness\n",
      "- liveness\n",
      "- loudness\n",
      "- popularity\n",
      "- speechiness\n",
      "- tempo\n",
      "- valence\n"
     ]
    }
   ],
   "source": [
    "print('Number of numerical features in the dataset:', len(numerical_features))\n",
    "print('List of numerical features in the dataset:')\n",
    "for elt in numerical_features:\n",
    "    print('-', elt)"
   ]
  },
  {
   "cell_type": "code",
   "execution_count": 19,
   "metadata": {
    "hidden": true
   },
   "outputs": [
    {
     "data": {
      "image/png": "[encoded data removed]",
      "text/plain": [
       "<Figure size 1080x1080 with 12 Axes>"
      ]
     },
     "metadata": {
      "needs_background": "light"
     },
     "output_type": "display_data"
    }
   ],
   "source": [
    "fig, axes = plt.subplots(nrows=4, ncols=3, figsize=(15, 15))\n",
    "\n",
    "for feature_name, ax in zip(numerical_features, axes.flatten()):\n",
    "    sns.boxplot(data[feature_name], ax=ax)"
   ]
  },
  {
   "cell_type": "markdown",
   "metadata": {
    "hidden": true
   },
   "source": [
    "Let us focus on songs that display a close-to-0 `tempo` (number of beats per minute) which seems strange."
   ]
  },
  {
   "cell_type": "code",
   "execution_count": 20,
   "metadata": {
    "hidden": true,
    "scrolled": false
   },
   "outputs": [
    {
     "data": {
      "text/plain": [
       "(46, 0.0)"
      ]
     },
     "execution_count": 20,
     "metadata": {},
     "output_type": "execute_result"
    }
   ],
   "source": [
    "len(data[data['tempo'] < 10]), data[data['tempo'] < 10]['tempo'].sum()"
   ]
  },
  {
   "cell_type": "markdown",
   "metadata": {
    "hidden": true
   },
   "source": [
    "46 songs have a `tempo` of 0. This number is very small in comparison with the overall number of songs available and considering the wide distribution of values for this features (it would be a strong to impute the median for instance), we make the simplifying choice of dropping these songs."
   ]
  },
  {
   "cell_type": "code",
   "execution_count": 21,
   "metadata": {
    "hidden": true
   },
   "outputs": [],
   "source": [
    "data = data[data['tempo'] > 0].copy()"
   ]
  },
  {
   "cell_type": "code",
   "execution_count": 22,
   "metadata": {
    "hidden": true
   },
   "outputs": [
    {
     "data": {
      "text/plain": [
       "(52267, 18)"
      ]
     },
     "execution_count": 22,
     "metadata": {},
     "output_type": "execute_result"
    }
   ],
   "source": [
    "data.shape"
   ]
  },
  {
   "cell_type": "markdown",
   "metadata": {
    "hidden": true
   },
   "source": [
    "Finally, we might want to look for duplicates (inspired by weird results when displaying the 46 songs with 0 `tempo`)."
   ]
  },
  {
   "cell_type": "code",
   "execution_count": 23,
   "metadata": {
    "hidden": true
   },
   "outputs": [
    {
     "data": {
      "text/plain": [
       "(52007, 18)"
      ]
     },
     "execution_count": 23,
     "metadata": {},
     "output_type": "execute_result"
    }
   ],
   "source": [
    "data.drop_duplicates().shape"
   ]
  },
  {
   "cell_type": "markdown",
   "metadata": {
    "hidden": true
   },
   "source": [
    "Indeed, there is a significant number of duplicates in the dataset! We can eliminate these:"
   ]
  },
  {
   "cell_type": "code",
   "execution_count": 24,
   "metadata": {
    "hidden": true
   },
   "outputs": [],
   "source": [
    "data.drop_duplicates(inplace=True)"
   ]
  },
  {
   "cell_type": "markdown",
   "metadata": {
    "hidden": true
   },
   "source": [
    "Let us control that the `id` is now unique for each observation."
   ]
  },
  {
   "cell_type": "code",
   "execution_count": 25,
   "metadata": {
    "hidden": true
   },
   "outputs": [
    {
     "data": {
      "text/plain": [
       "1"
      ]
     },
     "execution_count": 25,
     "metadata": {},
     "output_type": "execute_result"
    }
   ],
   "source": [
    "# We check the count on the artist column but we could take any column\n",
    "data.groupby('id').count()['artist'].max()"
   ]
  },
  {
   "cell_type": "markdown",
   "metadata": {
    "hidden": true
   },
   "source": [
    "It seems that we have gone through most data cleaning steps, at least for a first quick process."
   ]
  },
  {
   "cell_type": "markdown",
   "metadata": {
    "heading_collapsed": true,
    "hidden": true
   },
   "source": [
    "### Save your results\n",
    "\n",
    "Run the following cell to save your results."
   ]
  },
  {
   "cell_type": "code",
   "execution_count": 26,
   "metadata": {
    "hidden": true
   },
   "outputs": [],
   "source": [
    "from nbresult import ChallengeResult\n",
    "\n",
    "ChallengeResult(\n",
    "    \"c5_data_cleaning\",\n",
    "    data=data).write()"
   ]
  },
  {
   "cell_type": "markdown",
   "metadata": {
    "heading_collapsed": true
   },
   "source": [
    "## Baseline"
   ]
  },
  {
   "cell_type": "markdown",
   "metadata": {
    "hidden": true
   },
   "source": [
    "**📝 We want to use a metric that measures the prediction error in the same unit than `popularity`. In addition, it should strongly penalize largest errors. Which sklearn's [metric](https://scikit-learn.org/stable/modules/model_evaluation.html) should we use? Store its exact name as string below**"
   ]
  },
  {
   "cell_type": "markdown",
   "metadata": {
    "hidden": true
   },
   "source": [
    "We can use the root mean squared error which penalizes the largest errors (because we consider squared errors vs. for instance absolute errors) and outputs a score in the same unit than `popularity` (thanks to the \"root\")."
   ]
  },
  {
   "cell_type": "code",
   "execution_count": 27,
   "metadata": {
    "hidden": true
   },
   "outputs": [],
   "source": [
    "scoring = \"Root Mean Squared Error (RMSE)\""
   ]
  },
  {
   "cell_type": "markdown",
   "metadata": {
    "hidden": true
   },
   "source": [
    "In practice, we will use the `mean_squared_error` metric with `squared=False` from Scikit-Learn."
   ]
  },
  {
   "cell_type": "markdown",
   "metadata": {
    "hidden": true
   },
   "source": [
    "**📝 Let's build a baseline model using only the numerical features in our dataset.**\n",
    "- Build `X_baseline` with only numerical features\n",
    "- Build `y` your target containing the `popularity`\n",
    "- Then 5 times cross validate the baseline linear model of your choice (do not fine tune it)\n",
    "- Store your mean performance in a `float` variable named `baseline_score`"
   ]
  },
  {
   "cell_type": "markdown",
   "metadata": {
    "hidden": true
   },
   "source": [
    "- Build `X_baseline` with only numerical features"
   ]
  },
  {
   "cell_type": "code",
   "execution_count": 28,
   "metadata": {
    "hidden": true
   },
   "outputs": [
    {
     "name": "stdout",
     "output_type": "stream",
     "text": [
      "(52007, 12)\n"
     ]
    },
    {
     "data": {
      "text/html": [
       "<div>\n",
       "<style scoped>\n",
       "    .dataframe tbody tr th:only-of-type {\n",
       "        vertical-align: middle;\n",
       "    }\n",
       "\n",
       "    .dataframe tbody tr th {\n",
       "        vertical-align: top;\n",
       "    }\n",
       "\n",
       "    .dataframe thead th {\n",
       "        text-align: right;\n",
       "    }\n",
       "</style>\n",
       "<table border=\"1\" class=\"dataframe\">\n",
       "  <thead>\n",
       "    <tr style=\"text-align: right;\">\n",
       "      <th></th>\n",
       "      <th>acousticness</th>\n",
       "      <th>danceability</th>\n",
       "      <th>duration_ms</th>\n",
       "      <th>energy</th>\n",
       "      <th>instrumentalness</th>\n",
       "      <th>liveness</th>\n",
       "      <th>loudness</th>\n",
       "      <th>speechiness</th>\n",
       "      <th>tempo</th>\n",
       "      <th>valence</th>\n",
       "      <th>explicit</th>\n",
       "      <th>key</th>\n",
       "    </tr>\n",
       "  </thead>\n",
       "  <tbody>\n",
       "    <tr>\n",
       "      <th>0</th>\n",
       "      <td>0.65400</td>\n",
       "      <td>0.499</td>\n",
       "      <td>219827</td>\n",
       "      <td>0.190</td>\n",
       "      <td>0.004090</td>\n",
       "      <td>0.0898</td>\n",
       "      <td>-16.435</td>\n",
       "      <td>0.0454</td>\n",
       "      <td>149.460</td>\n",
       "      <td>0.4300</td>\n",
       "      <td>0</td>\n",
       "      <td>7</td>\n",
       "    </tr>\n",
       "    <tr>\n",
       "      <th>1</th>\n",
       "      <td>0.00592</td>\n",
       "      <td>0.439</td>\n",
       "      <td>483948</td>\n",
       "      <td>0.808</td>\n",
       "      <td>0.140000</td>\n",
       "      <td>0.0890</td>\n",
       "      <td>-8.497</td>\n",
       "      <td>0.0677</td>\n",
       "      <td>138.040</td>\n",
       "      <td>0.0587</td>\n",
       "      <td>0</td>\n",
       "      <td>2</td>\n",
       "    </tr>\n",
       "    <tr>\n",
       "      <th>2</th>\n",
       "      <td>0.73400</td>\n",
       "      <td>0.523</td>\n",
       "      <td>245693</td>\n",
       "      <td>0.288</td>\n",
       "      <td>0.000000</td>\n",
       "      <td>0.0771</td>\n",
       "      <td>-11.506</td>\n",
       "      <td>0.2140</td>\n",
       "      <td>75.869</td>\n",
       "      <td>0.4640</td>\n",
       "      <td>0</td>\n",
       "      <td>0</td>\n",
       "    </tr>\n",
       "    <tr>\n",
       "      <th>3</th>\n",
       "      <td>0.42900</td>\n",
       "      <td>0.681</td>\n",
       "      <td>130026</td>\n",
       "      <td>0.165</td>\n",
       "      <td>0.000000</td>\n",
       "      <td>0.3940</td>\n",
       "      <td>-21.457</td>\n",
       "      <td>0.9460</td>\n",
       "      <td>145.333</td>\n",
       "      <td>0.2880</td>\n",
       "      <td>0</td>\n",
       "      <td>11</td>\n",
       "    </tr>\n",
       "    <tr>\n",
       "      <th>4</th>\n",
       "      <td>0.56200</td>\n",
       "      <td>0.543</td>\n",
       "      <td>129813</td>\n",
       "      <td>0.575</td>\n",
       "      <td>0.000004</td>\n",
       "      <td>0.1270</td>\n",
       "      <td>-7.374</td>\n",
       "      <td>0.0265</td>\n",
       "      <td>139.272</td>\n",
       "      <td>0.8010</td>\n",
       "      <td>0</td>\n",
       "      <td>2</td>\n",
       "    </tr>\n",
       "  </tbody>\n",
       "</table>\n",
       "</div>"
      ],
      "text/plain": [
       "   acousticness  danceability  duration_ms  energy  instrumentalness  \\\n",
       "0       0.65400         0.499       219827   0.190          0.004090   \n",
       "1       0.00592         0.439       483948   0.808          0.140000   \n",
       "2       0.73400         0.523       245693   0.288          0.000000   \n",
       "3       0.42900         0.681       130026   0.165          0.000000   \n",
       "4       0.56200         0.543       129813   0.575          0.000004   \n",
       "\n",
       "   liveness  loudness  speechiness    tempo  valence  explicit  key  \n",
       "0    0.0898   -16.435       0.0454  149.460   0.4300         0    7  \n",
       "1    0.0890    -8.497       0.0677  138.040   0.0587         0    2  \n",
       "2    0.0771   -11.506       0.2140   75.869   0.4640         0    0  \n",
       "3    0.3940   -21.457       0.9460  145.333   0.2880         0   11  \n",
       "4    0.1270    -7.374       0.0265  139.272   0.8010         0    2  "
      ]
     },
     "execution_count": 28,
     "metadata": {},
     "output_type": "execute_result"
    }
   ],
   "source": [
    "# We add categorical variables to the list of numerical features as they are already encoded\n",
    "# (We could consider one-hot encoding key at some point, the determinant would be whether there is an ordering or not)\n",
    "numerical_features += ['explicit', 'key']\n",
    "\n",
    "# We drop the target from the X array\n",
    "X_baseline = data[numerical_features].drop(columns='popularity')\n",
    "\n",
    "# Let's have a look at the shape of the input\n",
    "print(X_baseline.shape)\n",
    "\n",
    "# And at the first 5 rows\n",
    "X_baseline.head()"
   ]
  },
  {
   "cell_type": "markdown",
   "metadata": {
    "hidden": true
   },
   "source": [
    "- Build `y` your target containing the `popularity`"
   ]
  },
  {
   "cell_type": "code",
   "execution_count": 31,
   "metadata": {
    "hidden": true
   },
   "outputs": [],
   "source": [
    "# We build our target that contains popularity\n",
    "y = data['popularity']"
   ]
  },
  {
   "cell_type": "markdown",
   "metadata": {
    "hidden": true
   },
   "source": [
    "- Then 5 times cross validate the baseline linear model of your choice (do not fine tune it)"
   ]
  },
  {
   "cell_type": "code",
   "execution_count": 34,
   "metadata": {
    "hidden": true
   },
   "outputs": [
    {
     "name": "stderr",
     "output_type": "stream",
     "text": [
      "[Parallel(n_jobs=1)]: Using backend SequentialBackend with 1 concurrent workers.\n",
      "[Parallel(n_jobs=1)]: Done   5 out of   5 | elapsed:    0.2s finished\n"
     ]
    }
   ],
   "source": [
    "# We instantiate a linear regression model\n",
    "lin_reg = LinearRegression()\n",
    "\n",
    "# We run the baseline score cross-validation\n",
    "cv_results = cross_validate(\n",
    "    lin_reg,   # Our estimator \n",
    "    X_baseline, y,   # The baseline data \n",
    "    scoring='neg_root_mean_squared_error',   # The scoring method (equivalent to minimizing a positive RMSE)\n",
    "    cv=5,   # Number of cross-validations\n",
    "    verbose=1\n",
    ")"
   ]
  },
  {
   "cell_type": "markdown",
   "metadata": {
    "hidden": true
   },
   "source": [
    "- Store your mean performance in a `float` variable named `baseline_score`"
   ]
  },
  {
   "cell_type": "code",
   "execution_count": 35,
   "metadata": {
    "hidden": true
   },
   "outputs": [
    {
     "name": "stdout",
     "output_type": "stream",
     "text": [
      "18.349551535391008\n"
     ]
    }
   ],
   "source": [
    "# We take the opposite to have a positive root mean squared error but it has no real impact\n",
    "baseline_score = - cv_results['test_score'].mean()\n",
    "\n",
    "print(baseline_score)"
   ]
  },
  {
   "cell_type": "markdown",
   "metadata": {
    "heading_collapsed": true,
    "hidden": true
   },
   "source": [
    "### Save your results\n",
    "\n",
    "Run the following cell to save your results."
   ]
  },
  {
   "cell_type": "code",
   "execution_count": 36,
   "metadata": {
    "hidden": true
   },
   "outputs": [],
   "source": [
    "from nbresult import ChallengeResult\n",
    "\n",
    "ChallengeResult(\n",
    "    \"baseline\",\n",
    "    scoring=scoring,\n",
    "    baseline_score=baseline_score).write()"
   ]
  },
  {
   "cell_type": "markdown",
   "metadata": {
    "heading_collapsed": true
   },
   "source": [
    "## Feature engineering\n",
    "\n",
    "Let's now use the features that we left aside: `release_date` and `artist` to improve the performance of our model. We'll create them manually in a train vs. test context first (and pipeline them later)"
   ]
  },
  {
   "cell_type": "markdown",
   "metadata": {
    "hidden": true
   },
   "source": [
    "### holdout\n",
    "**📝 Create the 4 variables `X_train` `y_train`, `X_test`, `y_test` with a 50% split with random sampling**"
   ]
  },
  {
   "cell_type": "code",
   "execution_count": 37,
   "metadata": {
    "hidden": true
   },
   "outputs": [],
   "source": [
    "# Compared with X_baseline, we add the song id to make sure the match with year and artist will be correct\n",
    "if 'id' not in numerical_features:\n",
    "    numerical_features.append('id')\n",
    "\n",
    "# We only keep numerical features in the X vector and drop popularity\n",
    "X = data[numerical_features].drop(columns='popularity')\n",
    "\n",
    "# We build our target that contains popularity scores\n",
    "y = data['popularity'].values\n",
    "\n",
    "# We run the train-test split\n",
    "X_train, X_test, y_train, y_test = train_test_split(X, y, test_size=0.5)"
   ]
  },
  {
   "cell_type": "code",
   "execution_count": 38,
   "metadata": {
    "hidden": true
   },
   "outputs": [
    {
     "data": {
      "text/plain": [
       "((26003, 13), (26003,))"
      ]
     },
     "execution_count": 38,
     "metadata": {},
     "output_type": "execute_result"
    }
   ],
   "source": [
    "# Let us control the shapes of the train set components\n",
    "X_train.shape, y_train.shape"
   ]
  },
  {
   "cell_type": "code",
   "execution_count": 39,
   "metadata": {
    "hidden": true,
    "scrolled": true
   },
   "outputs": [
    {
     "data": {
      "text/plain": [
       "((26004, 13), (26004,))"
      ]
     },
     "execution_count": 39,
     "metadata": {},
     "output_type": "execute_result"
    }
   ],
   "source": [
    "# Let us control the shapes of the test set components\n",
    "X_test.shape, y_test.shape"
   ]
  },
  {
   "cell_type": "code",
   "execution_count": 40,
   "metadata": {
    "hidden": true
   },
   "outputs": [
    {
     "data": {
      "text/html": [
       "<div>\n",
       "<style scoped>\n",
       "    .dataframe tbody tr th:only-of-type {\n",
       "        vertical-align: middle;\n",
       "    }\n",
       "\n",
       "    .dataframe tbody tr th {\n",
       "        vertical-align: top;\n",
       "    }\n",
       "\n",
       "    .dataframe thead th {\n",
       "        text-align: right;\n",
       "    }\n",
       "</style>\n",
       "<table border=\"1\" class=\"dataframe\">\n",
       "  <thead>\n",
       "    <tr style=\"text-align: right;\">\n",
       "      <th></th>\n",
       "      <th>acousticness</th>\n",
       "      <th>danceability</th>\n",
       "      <th>duration_ms</th>\n",
       "      <th>energy</th>\n",
       "      <th>instrumentalness</th>\n",
       "      <th>liveness</th>\n",
       "      <th>loudness</th>\n",
       "      <th>speechiness</th>\n",
       "      <th>tempo</th>\n",
       "      <th>valence</th>\n",
       "      <th>explicit</th>\n",
       "      <th>key</th>\n",
       "      <th>id</th>\n",
       "    </tr>\n",
       "  </thead>\n",
       "  <tbody>\n",
       "    <tr>\n",
       "      <th>30006</th>\n",
       "      <td>0.871</td>\n",
       "      <td>0.387</td>\n",
       "      <td>29987</td>\n",
       "      <td>0.2680</td>\n",
       "      <td>0.266000</td>\n",
       "      <td>0.1810</td>\n",
       "      <td>-20.438</td>\n",
       "      <td>0.0795</td>\n",
       "      <td>72.473</td>\n",
       "      <td>0.300</td>\n",
       "      <td>0</td>\n",
       "      <td>5</td>\n",
       "      <td>1CijGTc4ke16v4IOFrB5jo</td>\n",
       "    </tr>\n",
       "    <tr>\n",
       "      <th>21001</th>\n",
       "      <td>0.954</td>\n",
       "      <td>0.235</td>\n",
       "      <td>181840</td>\n",
       "      <td>0.2060</td>\n",
       "      <td>0.002960</td>\n",
       "      <td>0.1610</td>\n",
       "      <td>-12.131</td>\n",
       "      <td>0.0316</td>\n",
       "      <td>93.913</td>\n",
       "      <td>0.253</td>\n",
       "      <td>0</td>\n",
       "      <td>10</td>\n",
       "      <td>11iZkdNnYuFIHR1Ar0vVKV</td>\n",
       "    </tr>\n",
       "    <tr>\n",
       "      <th>1356</th>\n",
       "      <td>0.162</td>\n",
       "      <td>0.496</td>\n",
       "      <td>188173</td>\n",
       "      <td>0.5050</td>\n",
       "      <td>0.832000</td>\n",
       "      <td>0.1040</td>\n",
       "      <td>-9.569</td>\n",
       "      <td>0.0477</td>\n",
       "      <td>127.351</td>\n",
       "      <td>0.196</td>\n",
       "      <td>0</td>\n",
       "      <td>2</td>\n",
       "      <td>7fR7pgBcRGjTYCOJzjnYEc</td>\n",
       "    </tr>\n",
       "    <tr>\n",
       "      <th>6534</th>\n",
       "      <td>0.978</td>\n",
       "      <td>0.305</td>\n",
       "      <td>127987</td>\n",
       "      <td>0.0151</td>\n",
       "      <td>0.910000</td>\n",
       "      <td>0.0971</td>\n",
       "      <td>-20.324</td>\n",
       "      <td>0.0401</td>\n",
       "      <td>66.257</td>\n",
       "      <td>0.113</td>\n",
       "      <td>0</td>\n",
       "      <td>3</td>\n",
       "      <td>2kIMeYpRnbkZbK3t93Snia</td>\n",
       "    </tr>\n",
       "    <tr>\n",
       "      <th>39860</th>\n",
       "      <td>0.698</td>\n",
       "      <td>0.576</td>\n",
       "      <td>206533</td>\n",
       "      <td>0.4050</td>\n",
       "      <td>0.000041</td>\n",
       "      <td>0.1440</td>\n",
       "      <td>-5.838</td>\n",
       "      <td>0.0491</td>\n",
       "      <td>145.388</td>\n",
       "      <td>0.572</td>\n",
       "      <td>0</td>\n",
       "      <td>4</td>\n",
       "      <td>2UCxVajVSBmExOoUamjtMd</td>\n",
       "    </tr>\n",
       "  </tbody>\n",
       "</table>\n",
       "</div>"
      ],
      "text/plain": [
       "       acousticness  danceability  duration_ms  energy  instrumentalness  \\\n",
       "30006         0.871         0.387        29987  0.2680          0.266000   \n",
       "21001         0.954         0.235       181840  0.2060          0.002960   \n",
       "1356          0.162         0.496       188173  0.5050          0.832000   \n",
       "6534          0.978         0.305       127987  0.0151          0.910000   \n",
       "39860         0.698         0.576       206533  0.4050          0.000041   \n",
       "\n",
       "       liveness  loudness  speechiness    tempo  valence  explicit  key  \\\n",
       "30006    0.1810   -20.438       0.0795   72.473    0.300         0    5   \n",
       "21001    0.1610   -12.131       0.0316   93.913    0.253         0   10   \n",
       "1356     0.1040    -9.569       0.0477  127.351    0.196         0    2   \n",
       "6534     0.0971   -20.324       0.0401   66.257    0.113         0    3   \n",
       "39860    0.1440    -5.838       0.0491  145.388    0.572         0    4   \n",
       "\n",
       "                           id  \n",
       "30006  1CijGTc4ke16v4IOFrB5jo  \n",
       "21001  11iZkdNnYuFIHR1Ar0vVKV  \n",
       "1356   7fR7pgBcRGjTYCOJzjnYEc  \n",
       "6534   2kIMeYpRnbkZbK3t93Snia  \n",
       "39860  2UCxVajVSBmExOoUamjtMd  "
      ]
     },
     "execution_count": 40,
     "metadata": {},
     "output_type": "execute_result"
    }
   ],
   "source": [
    "# We can have a look at the firs rows of the X_train DataFrame\n",
    "X_train.head()"
   ]
  },
  {
   "cell_type": "markdown",
   "metadata": {
    "hidden": true
   },
   "source": [
    "### year\n",
    "\n",
    "**📝 Create `X_train_year` and `X_test_year` by adding the new column `year` containing the release year of the track as integer**"
   ]
  },
  {
   "cell_type": "code",
   "execution_count": 42,
   "metadata": {
    "hidden": true,
    "scrolled": false
   },
   "outputs": [
    {
     "data": {
      "text/html": [
       "<div>\n",
       "<style scoped>\n",
       "    .dataframe tbody tr th:only-of-type {\n",
       "        vertical-align: middle;\n",
       "    }\n",
       "\n",
       "    .dataframe tbody tr th {\n",
       "        vertical-align: top;\n",
       "    }\n",
       "\n",
       "    .dataframe thead th {\n",
       "        text-align: right;\n",
       "    }\n",
       "</style>\n",
       "<table border=\"1\" class=\"dataframe\">\n",
       "  <thead>\n",
       "    <tr style=\"text-align: right;\">\n",
       "      <th></th>\n",
       "      <th>acousticness</th>\n",
       "      <th>danceability</th>\n",
       "      <th>duration_ms</th>\n",
       "      <th>energy</th>\n",
       "      <th>instrumentalness</th>\n",
       "      <th>liveness</th>\n",
       "      <th>loudness</th>\n",
       "      <th>speechiness</th>\n",
       "      <th>tempo</th>\n",
       "      <th>valence</th>\n",
       "      <th>explicit</th>\n",
       "      <th>key</th>\n",
       "      <th>id</th>\n",
       "      <th>year</th>\n",
       "    </tr>\n",
       "  </thead>\n",
       "  <tbody>\n",
       "    <tr>\n",
       "      <th>0</th>\n",
       "      <td>0.871</td>\n",
       "      <td>0.387</td>\n",
       "      <td>29987</td>\n",
       "      <td>0.2680</td>\n",
       "      <td>0.266000</td>\n",
       "      <td>0.1810</td>\n",
       "      <td>-20.438</td>\n",
       "      <td>0.0795</td>\n",
       "      <td>72.473</td>\n",
       "      <td>0.300</td>\n",
       "      <td>0</td>\n",
       "      <td>5</td>\n",
       "      <td>1CijGTc4ke16v4IOFrB5jo</td>\n",
       "      <td>1931</td>\n",
       "    </tr>\n",
       "    <tr>\n",
       "      <th>1</th>\n",
       "      <td>0.954</td>\n",
       "      <td>0.235</td>\n",
       "      <td>181840</td>\n",
       "      <td>0.2060</td>\n",
       "      <td>0.002960</td>\n",
       "      <td>0.1610</td>\n",
       "      <td>-12.131</td>\n",
       "      <td>0.0316</td>\n",
       "      <td>93.913</td>\n",
       "      <td>0.253</td>\n",
       "      <td>0</td>\n",
       "      <td>10</td>\n",
       "      <td>11iZkdNnYuFIHR1Ar0vVKV</td>\n",
       "      <td>1948</td>\n",
       "    </tr>\n",
       "    <tr>\n",
       "      <th>2</th>\n",
       "      <td>0.162</td>\n",
       "      <td>0.496</td>\n",
       "      <td>188173</td>\n",
       "      <td>0.5050</td>\n",
       "      <td>0.832000</td>\n",
       "      <td>0.1040</td>\n",
       "      <td>-9.569</td>\n",
       "      <td>0.0477</td>\n",
       "      <td>127.351</td>\n",
       "      <td>0.196</td>\n",
       "      <td>0</td>\n",
       "      <td>2</td>\n",
       "      <td>7fR7pgBcRGjTYCOJzjnYEc</td>\n",
       "      <td>1998</td>\n",
       "    </tr>\n",
       "    <tr>\n",
       "      <th>3</th>\n",
       "      <td>0.978</td>\n",
       "      <td>0.305</td>\n",
       "      <td>127987</td>\n",
       "      <td>0.0151</td>\n",
       "      <td>0.910000</td>\n",
       "      <td>0.0971</td>\n",
       "      <td>-20.324</td>\n",
       "      <td>0.0401</td>\n",
       "      <td>66.257</td>\n",
       "      <td>0.113</td>\n",
       "      <td>0</td>\n",
       "      <td>3</td>\n",
       "      <td>2kIMeYpRnbkZbK3t93Snia</td>\n",
       "      <td>2018</td>\n",
       "    </tr>\n",
       "    <tr>\n",
       "      <th>4</th>\n",
       "      <td>0.698</td>\n",
       "      <td>0.576</td>\n",
       "      <td>206533</td>\n",
       "      <td>0.4050</td>\n",
       "      <td>0.000041</td>\n",
       "      <td>0.1440</td>\n",
       "      <td>-5.838</td>\n",
       "      <td>0.0491</td>\n",
       "      <td>145.388</td>\n",
       "      <td>0.572</td>\n",
       "      <td>0</td>\n",
       "      <td>4</td>\n",
       "      <td>2UCxVajVSBmExOoUamjtMd</td>\n",
       "      <td>1998</td>\n",
       "    </tr>\n",
       "  </tbody>\n",
       "</table>\n",
       "</div>"
      ],
      "text/plain": [
       "   acousticness  danceability  duration_ms  energy  instrumentalness  \\\n",
       "0         0.871         0.387        29987  0.2680          0.266000   \n",
       "1         0.954         0.235       181840  0.2060          0.002960   \n",
       "2         0.162         0.496       188173  0.5050          0.832000   \n",
       "3         0.978         0.305       127987  0.0151          0.910000   \n",
       "4         0.698         0.576       206533  0.4050          0.000041   \n",
       "\n",
       "   liveness  loudness  speechiness    tempo  valence  explicit  key  \\\n",
       "0    0.1810   -20.438       0.0795   72.473    0.300         0    5   \n",
       "1    0.1610   -12.131       0.0316   93.913    0.253         0   10   \n",
       "2    0.1040    -9.569       0.0477  127.351    0.196         0    2   \n",
       "3    0.0971   -20.324       0.0401   66.257    0.113         0    3   \n",
       "4    0.1440    -5.838       0.0491  145.388    0.572         0    4   \n",
       "\n",
       "                       id  year  \n",
       "0  1CijGTc4ke16v4IOFrB5jo  1931  \n",
       "1  11iZkdNnYuFIHR1Ar0vVKV  1948  \n",
       "2  7fR7pgBcRGjTYCOJzjnYEc  1998  \n",
       "3  2kIMeYpRnbkZbK3t93Snia  2018  \n",
       "4  2UCxVajVSBmExOoUamjtMd  1998  "
      ]
     },
     "execution_count": 42,
     "metadata": {},
     "output_type": "execute_result"
    }
   ],
   "source": [
    "# We merge X_train and X_test with the two relevant columns of the data DataFrame\n",
    "# So as to eventually add the year as a feature of the model\n",
    "X_train_year = X_train.merge(data[['id', 'release_date']], how='left', on='id')\n",
    "X_test_year = X_test.merge(data[['id', 'release_date']], how='left', on='id')\n",
    "\n",
    "# We only keep the year from the datetime objects\n",
    "X_train_year['release_date'] = X_train_year['release_date'].dt.year\n",
    "X_test_year['release_date'] = X_test_year['release_date'].dt.year\n",
    "\n",
    "# We rename the column as 'year'\n",
    "X_train_year.rename(columns={'release_date': 'year'}, inplace=True)\n",
    "X_test_year.rename(columns={'release_date': 'year'}, inplace=True)\n",
    "\n",
    "# We can check the first rows of the new X_train_year DataFrame\n",
    "X_train_year.head()"
   ]
  },
  {
   "cell_type": "code",
   "execution_count": 43,
   "metadata": {
    "hidden": true
   },
   "outputs": [
    {
     "data": {
      "text/plain": [
       "(26003, 14)"
      ]
     },
     "execution_count": 43,
     "metadata": {},
     "output_type": "execute_result"
    }
   ],
   "source": [
    "# As well as its shape, with the same number of observations and an additional column\n",
    "X_train_year.shape"
   ]
  },
  {
   "cell_type": "markdown",
   "metadata": {
    "heading_collapsed": true,
    "hidden": true
   },
   "source": [
    "### artist\n",
    "\n",
    "How could we use the `artist` column? There are too many artists to one hot encode it.  \n",
    "We could instead create an `artist_popularity` feature containing the mean popularity of an artist, computed as the mean popularity of all tracks the artist released _on the train set_."
   ]
  },
  {
   "cell_type": "markdown",
   "metadata": {
    "heading_collapsed": true,
    "hidden": true
   },
   "source": [
    "#### Process artist popularity from the Training set\n",
    "\n",
    "**📝 Compute and store the `artist_popularity` as a new pandas `Series`**  "
   ]
  },
  {
   "cell_type": "code",
   "execution_count": 45,
   "metadata": {
    "hidden": true
   },
   "outputs": [
    {
     "data": {
      "text/plain": [
       "artist\n",
       "\"Test for Victor Young\"     3.000000\n",
       "\"Weird Al\" Yankovic        36.833333\n",
       "$uicideBoy$                73.000000\n",
       "*NSYNC                     42.400000\n",
       "-Sd-                        0.000000\n",
       "Name: popularity, dtype: float64"
      ]
     },
     "execution_count": 45,
     "metadata": {},
     "output_type": "execute_result"
    }
   ],
   "source": [
    "# We start by adding the popularity column to X_train_year\n",
    "X_train_year['popularity'] = y_train\n",
    "\n",
    "# We merge X_train_year with the two relevant columns of the data DataFrame to add artist names\n",
    "X_train_year = X_train_year.merge(data[['id', 'artist']], on='id', how='left')\n",
    "\n",
    "# These two steps allow to group the dataset by artist and compute the mean popularity for each of them\n",
    "artist_popularity = X_train_year.groupby('artist').mean()['popularity']\n",
    "\n",
    "# We do not forget to eliminate the target from the X_train_year DataFrame\n",
    "X_train_year.drop(columns='popularity', inplace=True)\n",
    "\n",
    "# We can have a look at the first rows of the artist_popularity Pandas Series\n",
    "artist_popularity.head()"
   ]
  },
  {
   "cell_type": "markdown",
   "metadata": {
    "heading_collapsed": true,
    "hidden": true
   },
   "source": [
    "#### Apply the artist popularity to `X_train_year`\n",
    "\n",
    "**📝 Create a new DataFrame `X_train_engineered` which adds a new column to the existing `X_train_year` with the `artist_popularity` corresponding to the song's artist.** \n",
    "\n",
    "🚨 Make sure that the target `popularity` does not end up in `X_train_engineered` "
   ]
  },
  {
   "cell_type": "code",
   "execution_count": 46,
   "metadata": {
    "hidden": true
   },
   "outputs": [
    {
     "data": {
      "text/plain": [
       "(26003, 14)"
      ]
     },
     "execution_count": 46,
     "metadata": {},
     "output_type": "execute_result"
    }
   ],
   "source": [
    "# We reset the index of the artist_popularity Series to get a 2D object (a DataFrame)\n",
    "artist_popularity = artist_popularity.reset_index()\n",
    "\n",
    "# We merge X_train_year with the new artist_popularity DataFrame on artists' name\n",
    "# This allows to add a new column to the train set DataFrame with the artists' mean popularity\n",
    "# And we drop both id and artist columns\n",
    "X_train_engineered = X_train_year.merge(artist_popularity, on='artist', how='left').drop(columns=['artist', 'id'])\n",
    "\n",
    "# We check the shape of the resulting DataFrame \n",
    "X_train_engineered.shape"
   ]
  },
  {
   "cell_type": "code",
   "execution_count": 47,
   "metadata": {
    "hidden": true
   },
   "outputs": [
    {
     "data": {
      "text/html": [
       "<div>\n",
       "<style scoped>\n",
       "    .dataframe tbody tr th:only-of-type {\n",
       "        vertical-align: middle;\n",
       "    }\n",
       "\n",
       "    .dataframe tbody tr th {\n",
       "        vertical-align: top;\n",
       "    }\n",
       "\n",
       "    .dataframe thead th {\n",
       "        text-align: right;\n",
       "    }\n",
       "</style>\n",
       "<table border=\"1\" class=\"dataframe\">\n",
       "  <thead>\n",
       "    <tr style=\"text-align: right;\">\n",
       "      <th></th>\n",
       "      <th>acousticness</th>\n",
       "      <th>danceability</th>\n",
       "      <th>duration_ms</th>\n",
       "      <th>energy</th>\n",
       "      <th>instrumentalness</th>\n",
       "      <th>liveness</th>\n",
       "      <th>loudness</th>\n",
       "      <th>speechiness</th>\n",
       "      <th>tempo</th>\n",
       "      <th>valence</th>\n",
       "      <th>explicit</th>\n",
       "      <th>key</th>\n",
       "      <th>year</th>\n",
       "      <th>popularity</th>\n",
       "    </tr>\n",
       "  </thead>\n",
       "  <tbody>\n",
       "    <tr>\n",
       "      <th>0</th>\n",
       "      <td>0.871</td>\n",
       "      <td>0.387</td>\n",
       "      <td>29987</td>\n",
       "      <td>0.2680</td>\n",
       "      <td>0.266000</td>\n",
       "      <td>0.1810</td>\n",
       "      <td>-20.438</td>\n",
       "      <td>0.0795</td>\n",
       "      <td>72.473</td>\n",
       "      <td>0.300</td>\n",
       "      <td>0</td>\n",
       "      <td>5</td>\n",
       "      <td>1931</td>\n",
       "      <td>0.000000</td>\n",
       "    </tr>\n",
       "    <tr>\n",
       "      <th>1</th>\n",
       "      <td>0.954</td>\n",
       "      <td>0.235</td>\n",
       "      <td>181840</td>\n",
       "      <td>0.2060</td>\n",
       "      <td>0.002960</td>\n",
       "      <td>0.1610</td>\n",
       "      <td>-12.131</td>\n",
       "      <td>0.0316</td>\n",
       "      <td>93.913</td>\n",
       "      <td>0.253</td>\n",
       "      <td>0</td>\n",
       "      <td>10</td>\n",
       "      <td>1948</td>\n",
       "      <td>0.000000</td>\n",
       "    </tr>\n",
       "    <tr>\n",
       "      <th>2</th>\n",
       "      <td>0.162</td>\n",
       "      <td>0.496</td>\n",
       "      <td>188173</td>\n",
       "      <td>0.5050</td>\n",
       "      <td>0.832000</td>\n",
       "      <td>0.1040</td>\n",
       "      <td>-9.569</td>\n",
       "      <td>0.0477</td>\n",
       "      <td>127.351</td>\n",
       "      <td>0.196</td>\n",
       "      <td>0</td>\n",
       "      <td>2</td>\n",
       "      <td>1998</td>\n",
       "      <td>46.666667</td>\n",
       "    </tr>\n",
       "    <tr>\n",
       "      <th>3</th>\n",
       "      <td>0.978</td>\n",
       "      <td>0.305</td>\n",
       "      <td>127987</td>\n",
       "      <td>0.0151</td>\n",
       "      <td>0.910000</td>\n",
       "      <td>0.0971</td>\n",
       "      <td>-20.324</td>\n",
       "      <td>0.0401</td>\n",
       "      <td>66.257</td>\n",
       "      <td>0.113</td>\n",
       "      <td>0</td>\n",
       "      <td>3</td>\n",
       "      <td>2018</td>\n",
       "      <td>0.000000</td>\n",
       "    </tr>\n",
       "    <tr>\n",
       "      <th>4</th>\n",
       "      <td>0.698</td>\n",
       "      <td>0.576</td>\n",
       "      <td>206533</td>\n",
       "      <td>0.4050</td>\n",
       "      <td>0.000041</td>\n",
       "      <td>0.1440</td>\n",
       "      <td>-5.838</td>\n",
       "      <td>0.0491</td>\n",
       "      <td>145.388</td>\n",
       "      <td>0.572</td>\n",
       "      <td>0</td>\n",
       "      <td>4</td>\n",
       "      <td>1998</td>\n",
       "      <td>39.400000</td>\n",
       "    </tr>\n",
       "  </tbody>\n",
       "</table>\n",
       "</div>"
      ],
      "text/plain": [
       "   acousticness  danceability  duration_ms  energy  instrumentalness  \\\n",
       "0         0.871         0.387        29987  0.2680          0.266000   \n",
       "1         0.954         0.235       181840  0.2060          0.002960   \n",
       "2         0.162         0.496       188173  0.5050          0.832000   \n",
       "3         0.978         0.305       127987  0.0151          0.910000   \n",
       "4         0.698         0.576       206533  0.4050          0.000041   \n",
       "\n",
       "   liveness  loudness  speechiness    tempo  valence  explicit  key  year  \\\n",
       "0    0.1810   -20.438       0.0795   72.473    0.300         0    5  1931   \n",
       "1    0.1610   -12.131       0.0316   93.913    0.253         0   10  1948   \n",
       "2    0.1040    -9.569       0.0477  127.351    0.196         0    2  1998   \n",
       "3    0.0971   -20.324       0.0401   66.257    0.113         0    3  2018   \n",
       "4    0.1440    -5.838       0.0491  145.388    0.572         0    4  1998   \n",
       "\n",
       "   popularity  \n",
       "0    0.000000  \n",
       "1    0.000000  \n",
       "2   46.666667  \n",
       "3    0.000000  \n",
       "4   39.400000  "
      ]
     },
     "execution_count": 47,
     "metadata": {},
     "output_type": "execute_result"
    }
   ],
   "source": [
    "X_train_engineered.head()"
   ]
  },
  {
   "cell_type": "markdown",
   "metadata": {
    "heading_collapsed": true,
    "hidden": true
   },
   "source": [
    "#### Apply the artist popularity to `X_test_year`\n",
    "\n",
    "**📝 Similarily, create a new DataFrame `X_test_engineered` which also adds a new column to the existing `X_test_year` with the `artist_popularity` corresponding to the song's artist, computed from the training set.**\n",
    "\n",
    "🚨**If an artist has never been seen in the training set, use the global mean popularity of all the tracks of `X_train`**"
   ]
  },
  {
   "cell_type": "code",
   "execution_count": 48,
   "metadata": {
    "hidden": true
   },
   "outputs": [
    {
     "name": "stdout",
     "output_type": "stream",
     "text": [
      "25.848555935853554\n"
     ]
    }
   ],
   "source": [
    "# We store and print the global mean popularity of all tracks in X_train\n",
    "global_mean_popularity = y_train.mean()\n",
    "\n",
    "print(global_mean_popularity)"
   ]
  },
  {
   "cell_type": "code",
   "execution_count": 53,
   "metadata": {
    "hidden": true
   },
   "outputs": [
    {
     "name": "stdout",
     "output_type": "stream",
     "text": [
      "(26004, 14)\n"
     ]
    },
    {
     "data": {
      "text/html": [
       "<div>\n",
       "<style scoped>\n",
       "    .dataframe tbody tr th:only-of-type {\n",
       "        vertical-align: middle;\n",
       "    }\n",
       "\n",
       "    .dataframe tbody tr th {\n",
       "        vertical-align: top;\n",
       "    }\n",
       "\n",
       "    .dataframe thead th {\n",
       "        text-align: right;\n",
       "    }\n",
       "</style>\n",
       "<table border=\"1\" class=\"dataframe\">\n",
       "  <thead>\n",
       "    <tr style=\"text-align: right;\">\n",
       "      <th></th>\n",
       "      <th>acousticness</th>\n",
       "      <th>danceability</th>\n",
       "      <th>duration_ms</th>\n",
       "      <th>energy</th>\n",
       "      <th>instrumentalness</th>\n",
       "      <th>liveness</th>\n",
       "      <th>loudness</th>\n",
       "      <th>speechiness</th>\n",
       "      <th>tempo</th>\n",
       "      <th>valence</th>\n",
       "      <th>explicit</th>\n",
       "      <th>key</th>\n",
       "      <th>year</th>\n",
       "      <th>popularity</th>\n",
       "    </tr>\n",
       "  </thead>\n",
       "  <tbody>\n",
       "    <tr>\n",
       "      <th>0</th>\n",
       "      <td>0.91600</td>\n",
       "      <td>0.152</td>\n",
       "      <td>193173</td>\n",
       "      <td>0.208</td>\n",
       "      <td>0.000113</td>\n",
       "      <td>0.0998</td>\n",
       "      <td>-13.983</td>\n",
       "      <td>0.0354</td>\n",
       "      <td>80.211</td>\n",
       "      <td>0.148</td>\n",
       "      <td>0</td>\n",
       "      <td>0</td>\n",
       "      <td>1956</td>\n",
       "      <td>24.855769</td>\n",
       "    </tr>\n",
       "    <tr>\n",
       "      <th>1</th>\n",
       "      <td>0.05660</td>\n",
       "      <td>0.526</td>\n",
       "      <td>267212</td>\n",
       "      <td>0.655</td>\n",
       "      <td>0.000000</td>\n",
       "      <td>0.1160</td>\n",
       "      <td>-4.208</td>\n",
       "      <td>0.3260</td>\n",
       "      <td>121.127</td>\n",
       "      <td>0.156</td>\n",
       "      <td>1</td>\n",
       "      <td>1</td>\n",
       "      <td>2015</td>\n",
       "      <td>NaN</td>\n",
       "    </tr>\n",
       "    <tr>\n",
       "      <th>2</th>\n",
       "      <td>0.00221</td>\n",
       "      <td>0.483</td>\n",
       "      <td>146907</td>\n",
       "      <td>0.573</td>\n",
       "      <td>0.000031</td>\n",
       "      <td>0.0674</td>\n",
       "      <td>-7.951</td>\n",
       "      <td>0.0286</td>\n",
       "      <td>102.122</td>\n",
       "      <td>0.506</td>\n",
       "      <td>0</td>\n",
       "      <td>7</td>\n",
       "      <td>1968</td>\n",
       "      <td>37.548387</td>\n",
       "    </tr>\n",
       "    <tr>\n",
       "      <th>3</th>\n",
       "      <td>0.62500</td>\n",
       "      <td>0.463</td>\n",
       "      <td>267400</td>\n",
       "      <td>0.338</td>\n",
       "      <td>0.000011</td>\n",
       "      <td>0.0943</td>\n",
       "      <td>-13.117</td>\n",
       "      <td>0.0329</td>\n",
       "      <td>148.451</td>\n",
       "      <td>0.269</td>\n",
       "      <td>0</td>\n",
       "      <td>2</td>\n",
       "      <td>1984</td>\n",
       "      <td>NaN</td>\n",
       "    </tr>\n",
       "    <tr>\n",
       "      <th>4</th>\n",
       "      <td>0.93500</td>\n",
       "      <td>0.451</td>\n",
       "      <td>174080</td>\n",
       "      <td>0.334</td>\n",
       "      <td>0.930000</td>\n",
       "      <td>0.1260</td>\n",
       "      <td>-15.190</td>\n",
       "      <td>0.0321</td>\n",
       "      <td>110.016</td>\n",
       "      <td>0.147</td>\n",
       "      <td>0</td>\n",
       "      <td>3</td>\n",
       "      <td>1946</td>\n",
       "      <td>1.666667</td>\n",
       "    </tr>\n",
       "  </tbody>\n",
       "</table>\n",
       "</div>"
      ],
      "text/plain": [
       "   acousticness  danceability  duration_ms  energy  instrumentalness  \\\n",
       "0       0.91600         0.152       193173   0.208          0.000113   \n",
       "1       0.05660         0.526       267212   0.655          0.000000   \n",
       "2       0.00221         0.483       146907   0.573          0.000031   \n",
       "3       0.62500         0.463       267400   0.338          0.000011   \n",
       "4       0.93500         0.451       174080   0.334          0.930000   \n",
       "\n",
       "   liveness  loudness  speechiness    tempo  valence  explicit  key  year  \\\n",
       "0    0.0998   -13.983       0.0354   80.211    0.148         0    0  1956   \n",
       "1    0.1160    -4.208       0.3260  121.127    0.156         1    1  2015   \n",
       "2    0.0674    -7.951       0.0286  102.122    0.506         0    7  1968   \n",
       "3    0.0943   -13.117       0.0329  148.451    0.269         0    2  1984   \n",
       "4    0.1260   -15.190       0.0321  110.016    0.147         0    3  1946   \n",
       "\n",
       "   popularity  \n",
       "0   24.855769  \n",
       "1         NaN  \n",
       "2   37.548387  \n",
       "3         NaN  \n",
       "4    1.666667  "
      ]
     },
     "execution_count": 53,
     "metadata": {},
     "output_type": "execute_result"
    }
   ],
   "source": [
    "# We add a column containing artist names to X_test_year (thanks to the global dataset, data)\n",
    "X_test_engineered = X_test_year.merge(data[['id', 'artist']], on='id', how='left')\n",
    "\n",
    "# We add the mean popularity of the artists that are also in the train set\n",
    "# By merging the artist_popularity DataFrame\n",
    "X_test_engineered = X_test_engineered.merge(artist_popularity, on='artist', how='left')\n",
    "\n",
    "# We drop both id and artist columns\n",
    "X_test_engineered.drop(columns=['id', 'artist'], inplace=True)\n",
    "\n",
    "# We can have a look at the shape of the resulting DataFrame\n",
    "print(X_test_engineered.shape)\n",
    "\n",
    "X_test_engineered.head()"
   ]
  },
  {
   "cell_type": "markdown",
   "metadata": {
    "hidden": true
   },
   "source": [
    "As mentioned in the comments, we have added a column that contains the mean popularity of the artist, but this is true only for the songs that were done by an artist that can be found in the train dataset ! Indeed:"
   ]
  },
  {
   "cell_type": "code",
   "execution_count": 54,
   "metadata": {
    "hidden": true
   },
   "outputs": [
    {
     "data": {
      "text/plain": [
       "acousticness           0\n",
       "danceability           0\n",
       "duration_ms            0\n",
       "energy                 0\n",
       "instrumentalness       0\n",
       "liveness               0\n",
       "loudness               0\n",
       "speechiness            0\n",
       "tempo                  0\n",
       "valence                0\n",
       "explicit               0\n",
       "key                    0\n",
       "year                   0\n",
       "popularity          4914\n",
       "dtype: int64"
      ]
     },
     "execution_count": 54,
     "metadata": {},
     "output_type": "execute_result"
    }
   ],
   "source": [
    "X_test_engineered.isnull().sum()"
   ]
  },
  {
   "cell_type": "markdown",
   "metadata": {
    "hidden": true
   },
   "source": [
    "For 4914 observations of the test set (this number can vary as the train-test split is random), the artist could not be found in `artist_popularity` and we therefore need to impute a value to replace these NaNs. We use to do so the `global_mean_popularity` which we have computed earlier."
   ]
  },
  {
   "cell_type": "code",
   "execution_count": 55,
   "metadata": {
    "hidden": true
   },
   "outputs": [],
   "source": [
    "X_test_engineered['popularity'] = X_test_engineered['popularity'].fillna(global_mean_popularity)"
   ]
  },
  {
   "cell_type": "code",
   "execution_count": 56,
   "metadata": {
    "hidden": true
   },
   "outputs": [],
   "source": [
    "# We rename the popularity columns for a more explicit name\n",
    "X_train_engineered.rename(columns={'popularity': 'artist_popularity'}, inplace=True)\n",
    "X_test_engineered.rename(columns={'popularity': 'artist_popularity'}, inplace=True)"
   ]
  },
  {
   "cell_type": "code",
   "execution_count": 58,
   "metadata": {
    "hidden": true
   },
   "outputs": [
    {
     "name": "stdout",
     "output_type": "stream",
     "text": [
      "(26003, 14) (26003,)\n",
      "(26004, 14) (26004,)\n"
     ]
    }
   ],
   "source": [
    "# We can print the shapes to control\n",
    "print(X_train_engineered.shape, y_train.shape)\n",
    "print(X_test_engineered.shape, y_test.shape)"
   ]
  },
  {
   "cell_type": "markdown",
   "metadata": {
    "heading_collapsed": true,
    "hidden": true
   },
   "source": [
    "### Save your results\n",
    "\n",
    "Run the following cell to save your results."
   ]
  },
  {
   "cell_type": "code",
   "execution_count": 59,
   "metadata": {
    "hidden": true
   },
   "outputs": [],
   "source": [
    "from nbresult import ChallengeResult\n",
    "\n",
    "_ = pd.concat([X_train_engineered, X_test_engineered])\n",
    "\n",
    "ChallengeResult(\"c7_feature_engineering\",\n",
    "    shape = _.shape,\n",
    "    cols = _.columns,\n",
    "    years = _.get(\"year\"),\n",
    "    popularities = _.get(\"artist_popularity\"),\n",
    ").write()"
   ]
  },
  {
   "cell_type": "markdown",
   "metadata": {
    "heading_collapsed": true,
    "hidden": true
   },
   "source": [
    "### Performance\n",
    "\n",
    "**📝 Let's see how these features impact the performance of our model. Retrain the same baseline model on numerical values only, but adding the new features `year` and `artist_popularity`, and see how the performance is impacted. Save the performance in a `float` variable named `score_engineered`**\n",
    "\n",
    "👉 Do not fine tune the model yet"
   ]
  },
  {
   "cell_type": "code",
   "execution_count": 60,
   "metadata": {
    "hidden": true
   },
   "outputs": [
    {
     "name": "stdout",
     "output_type": "stream",
     "text": [
      "14.299067752054091\n"
     ]
    }
   ],
   "source": [
    "# We instantiate the model\n",
    "lin_reg = LinearRegression()\n",
    "\n",
    "# We fit on our new train set \n",
    "lin_reg.fit(X_train_engineered, y_train)\n",
    "\n",
    "# We save its predictions on the test set in a specific variable\n",
    "y_pred = lin_reg.predict(X_test_engineered)\n",
    "\n",
    "# And we compute the related root mean squared error\n",
    "score_engineered = mean_squared_error(y_test, y_pred, squared=False)\n",
    "\n",
    "print(score_engineered)"
   ]
  },
  {
   "cell_type": "markdown",
   "metadata": {
    "hidden": true
   },
   "source": [
    "Sure, it is not worth a cross-validated score as our baseline score was but we have made significant progress with these new features!"
   ]
  },
  {
   "cell_type": "code",
   "execution_count": 62,
   "metadata": {
    "hidden": true
   },
   "outputs": [
    {
     "data": {
      "text/plain": [
       "18.349551535391008"
      ]
     },
     "execution_count": 62,
     "metadata": {},
     "output_type": "execute_result"
    }
   ],
   "source": [
    "# As a reminder\n",
    "baseline_score"
   ]
  },
  {
   "cell_type": "markdown",
   "metadata": {
    "heading_collapsed": true,
    "hidden": true
   },
   "source": [
    "### Save your results\n",
    "\n",
    "Run the following cell to save your results."
   ]
  },
  {
   "cell_type": "code",
   "execution_count": 46,
   "metadata": {
    "hidden": true
   },
   "outputs": [],
   "source": [
    "from nbresult import ChallengeResult\n",
    "\n",
    "ChallengeResult(\n",
    "    \"c7_score_engineering\",\n",
    "    scoring=scoring,\n",
    "    score_engineered=score_engineered).write()"
   ]
  },
  {
   "cell_type": "markdown",
   "metadata": {
    "heading_collapsed": true
   },
   "source": [
    "## Pipelining\n",
    "\n",
    "**📝 Let's create a full sklearn preprocessing pipeline called `preproc`. It should integrate our feature engineering for `year` and `artist_popularity`, as well as any other preprocessing of your choice**\n",
    "\n",
    "**Store also the number of columns/feature after preprocessing your inputs in a variable `col_number`**\n",
    "\n",
    "**🚨⚠️ Advice: SKIP the `ArtistPopularityTransformer` if you don't have time to do it. It is better for you to have a working pipeline rather than NO pipeline at all**"
   ]
  },
  {
   "cell_type": "code",
   "execution_count": 63,
   "metadata": {
    "hidden": true,
    "slideshow": {
     "slide_type": "-"
    }
   },
   "outputs": [],
   "source": [
    "# 👉 Do not hesitate to reload clean new dataset if you need a fresh start\n",
    "data = pd.read_csv(url)\n",
    "\n",
    "# We drop missing values and 0-tempo observations as before \n",
    "# (Not included in the pipeline as this affects both the X and the y)\n",
    "data.dropna(inplace=True)\n",
    "data = data[data['tempo'] > 0].copy()\n",
    "\n",
    "# We get the DataFrame containing explanatory variables and the target vector\n",
    "y = data.popularity\n",
    "X = data.drop(\"popularity\", axis=1)"
   ]
  },
  {
   "cell_type": "code",
   "execution_count": 64,
   "metadata": {
    "hidden": true
   },
   "outputs": [],
   "source": [
    "# We run a train-test split similar to the one done above\n",
    "X_train, X_test, y_train, y_test = train_test_split(X, y, test_size=0.5)"
   ]
  },
  {
   "cell_type": "code",
   "execution_count": 65,
   "metadata": {
    "hidden": true
   },
   "outputs": [],
   "source": [
    "# Run this cell to visualize your pipeline as you build it\n",
    "from sklearn import set_config; set_config(display='diagram')"
   ]
  },
  {
   "cell_type": "code",
   "execution_count": 66,
   "metadata": {
    "hidden": true
   },
   "outputs": [],
   "source": [
    "# We give you below the skeleton of the custom ArtistPopularityTransformer to complete\n",
    "\n",
    "from sklearn.base import BaseEstimator, TransformerMixin\n",
    "\n",
    "class ArtistPopularityTransformer(BaseEstimator, TransformerMixin):\n",
    "\n",
    "    def __init__(self):\n",
    "        pass\n",
    "\n",
    "    def fit(self, X, y=None):\n",
    "        \"\"\"\n",
    "        process artist mean popularity from artists songs popularity\n",
    "        process song global mean popularity\n",
    "        \"\"\"\n",
    "        # We need the popularity of the songs to compute each artist's mean popularity\n",
    "        if y is None:\n",
    "            # Which is why this check is required\n",
    "            raise Exception(\"We need the y vector to compute artists' average popularity.\")\n",
    "        \n",
    "        # We start by making a copy of the DataFrame\n",
    "        X = X.copy()\n",
    "        \n",
    "        # As before we temporarily add a column popularity to the X DataFrame\n",
    "        X['popularity'] = y\n",
    "        \n",
    "        # We compute each artist's average popularity by grouping the dataset\n",
    "        self.artist_popularity = X.groupby('artist').mean()['popularity']\n",
    "        \n",
    "        # We also save as an attribute of the transformer the global mean popularity of all songs in the train set\n",
    "        self.global_mean_popularity = y.mean()\n",
    "        \n",
    "        return self\n",
    "\n",
    "    def transform(self, X, y=None):\n",
    "        \"\"\"\n",
    "        apply artist mean popularity vs song global mean popularity to songs\n",
    "        \"\"\"\n",
    "\n",
    "        # We start by making a copy of the DataFrame\n",
    "        X = X.copy()\n",
    "        \n",
    "        # This function associates to each artist either his/her mean popularity if it is present in the train set\n",
    "        # Or the global mean popularity of all songs in the train set if it is a \"new\" artist\n",
    "        # We map the function on the artist column replacing the artist name by the output of the function\n",
    "        X['artist'] = X['artist'].map(\n",
    "            lambda artist: self.artist_popularity.loc[artist] if artist in self.artist_popularity.index else self.global_mean_popularity\n",
    "        )\n",
    "        \n",
    "        # We return a copy of the modified DataFrame \n",
    "        return X.copy()\n",
    "        \n",
    "    \n",
    "class ReleaseYearTransformer(BaseEstimator, TransformerMixin):\n",
    "    \n",
    "    def __init__(self):\n",
    "        pass\n",
    "    \n",
    "    # By convention\n",
    "    def fit(self, X, y=None):\n",
    "        return self\n",
    "    \n",
    "    def transform(self, X, y=None):\n",
    "        # We copy the DataFrame\n",
    "        X = X.copy()\n",
    "        \n",
    "        # We change the format of the release_date column to datetime\n",
    "        X['release_date'] = pd.to_datetime(X['release_date'])\n",
    "        \n",
    "        # We only keep the years as integers\n",
    "        X['release_date'] = X['release_date'].dt.year\n",
    "        \n",
    "        # We return the resulting DataFrame\n",
    "        return X.copy()"
   ]
  },
  {
   "cell_type": "markdown",
   "metadata": {
    "hidden": true
   },
   "source": [
    "We also want to take advantage of this preprocessing pipeline to scale the features in the dataset. We will either use a simple `MinMaxScaler` or a `RobustScaler` depending on the presence or not of outliers, which we identify thanks to the following boxplots."
   ]
  },
  {
   "cell_type": "code",
   "execution_count": 67,
   "metadata": {
    "hidden": true,
    "scrolled": false
   },
   "outputs": [
    {
     "data": {
      "image/png": "[encoded data removed]",
      "text/plain": [
       "<Figure size 1080x1080 with 12 Axes>"
      ]
     },
     "metadata": {
      "needs_background": "light"
     },
     "output_type": "display_data"
    }
   ],
   "source": [
    "fig, axes = plt.subplots(nrows=4, ncols=3, figsize=(15, 15))\n",
    "\n",
    "features_to_plot = numerical_features[:-3]\n",
    "features_to_plot.remove('popularity')\n",
    "\n",
    "for feature_name, ax in zip(features_to_plot, axes.flatten()):\n",
    "    sns.boxplot(X_train[feature_name], ax=ax)"
   ]
  },
  {
   "cell_type": "code",
   "execution_count": 68,
   "metadata": {
    "hidden": true
   },
   "outputs": [],
   "source": [
    "# This transformer will contain all the column-per-column transformations\n",
    "ct = ColumnTransformer(\n",
    "    transformers=[\n",
    "        # Dropping columns that will not be used by the model\n",
    "        ('drop_id_and_song_name', 'drop', ['id', 'name']),\n",
    "        \n",
    "        # Scaling continuous features that do not display outliers\n",
    "        ('min_max_scaler', MinMaxScaler(), ['duration_ms', 'acousticness', 'danceability', 'energy', 'valence']),\n",
    "\n",
    "        # Scaling continuous features that display outliers\n",
    "        ('robust_scaler', RobustScaler(), ['instrumentalness', 'liveness', 'loudness', 'speechiness', 'tempo']),\n",
    "        \n",
    "        # One-hot encoding the multi-categorical key variable \n",
    "        ('key_encoding', OneHotEncoder(), ['key']),\n",
    "        \n",
    "        # Transforming the date column with the custom transformers\n",
    "        ('release_year', ReleaseYearTransformer(), ['release_date'])\n",
    "    ],\n",
    "    # Binary variables and mean artist popularity are not modified\n",
    "    remainder='passthrough'\n",
    ")"
   ]
  },
  {
   "cell_type": "code",
   "execution_count": 69,
   "metadata": {
    "hidden": true
   },
   "outputs": [],
   "source": [
    "# We now move to a pipeline to chain the custom transformer relative to the artist column with the ColumnTransformer\n",
    "preproc = Pipeline(\n",
    "    steps=[\n",
    "        # First applying the transformation relative to the artist colum\n",
    "        ('artist_popularity', ArtistPopularityTransformer()),\n",
    "        \n",
    "        # Applying the column transformer\n",
    "        ('scaling_and_additional_preprocessing', ct)\n",
    "    ]\n",
    ")"
   ]
  },
  {
   "cell_type": "code",
   "execution_count": 70,
   "metadata": {
    "hidden": true,
    "scrolled": false
   },
   "outputs": [
    {
     "data": {
      "text/html": [
       "<style>div.sk-top-container {color: black;background-color: white;}div.sk-toggleable {background-color: white;}label.sk-toggleable__label {cursor: pointer;display: block;width: 100%;margin-bottom: 0;padding: 0.2em 0.3em;box-sizing: border-box;text-align: center;}div.sk-toggleable__content {max-height: 0;max-width: 0;overflow: hidden;text-align: left;background-color: #f0f8ff;}div.sk-toggleable__content pre {margin: 0.2em;color: black;border-radius: 0.25em;background-color: #f0f8ff;}input.sk-toggleable__control:checked~div.sk-toggleable__content {max-height: 200px;max-width: 100%;overflow: auto;}div.sk-estimator input.sk-toggleable__control:checked~label.sk-toggleable__label {background-color: #d4ebff;}div.sk-label input.sk-toggleable__control:checked~label.sk-toggleable__label {background-color: #d4ebff;}input.sk-hidden--visually {border: 0;clip: rect(1px 1px 1px 1px);clip: rect(1px, 1px, 1px, 1px);height: 1px;margin: -1px;overflow: hidden;padding: 0;position: absolute;width: 1px;}div.sk-estimator {font-family: monospace;background-color: #f0f8ff;margin: 0.25em 0.25em;border: 1px dotted black;border-radius: 0.25em;box-sizing: border-box;}div.sk-estimator:hover {background-color: #d4ebff;}div.sk-parallel-item::after {content: \"\";width: 100%;border-bottom: 1px solid gray;flex-grow: 1;}div.sk-label:hover label.sk-toggleable__label {background-color: #d4ebff;}div.sk-serial::before {content: \"\";position: absolute;border-left: 1px solid gray;box-sizing: border-box;top: 2em;bottom: 0;left: 50%;}div.sk-serial {display: flex;flex-direction: column;align-items: center;background-color: white;}div.sk-item {z-index: 1;}div.sk-parallel {display: flex;align-items: stretch;justify-content: center;background-color: white;}div.sk-parallel-item {display: flex;flex-direction: column;position: relative;background-color: white;}div.sk-parallel-item:first-child::after {align-self: flex-end;width: 50%;}div.sk-parallel-item:last-child::after {align-self: flex-start;width: 50%;}div.sk-parallel-item:only-child::after {width: 0;}div.sk-dashed-wrapped {border: 1px dashed gray;margin: 0.2em;box-sizing: border-box;padding-bottom: 0.1em;background-color: white;position: relative;}div.sk-label label {font-family: monospace;font-weight: bold;background-color: white;display: inline-block;line-height: 1.2em;}div.sk-label-container {position: relative;z-index: 2;text-align: center;}div.sk-container {display: inline-block;position: relative;}</style><div class=\"sk-top-container\"><div class=\"sk-container\"><div class=\"sk-item sk-dashed-wrapped\"><div class=\"sk-label-container\"><div class=\"sk-label sk-toggleable\"><input class=\"sk-toggleable__control sk-hidden--visually\" id=\"c49bb31d-0e0d-4e16-9a04-7fad33c17a77\" type=\"checkbox\" ><label class=\"sk-toggleable__label\" for=\"c49bb31d-0e0d-4e16-9a04-7fad33c17a77\">Pipeline</label><div class=\"sk-toggleable__content\"><pre>Pipeline(steps=[('artist_popularity', ArtistPopularityTransformer()),\n",
       "                ('scaling_and_additional_preprocessing',\n",
       "                 ColumnTransformer(remainder='passthrough',\n",
       "                                   transformers=[('drop_id_and_song_name',\n",
       "                                                  'drop', ['id', 'name']),\n",
       "                                                 ('min_max_scaler',\n",
       "                                                  MinMaxScaler(),\n",
       "                                                  ['duration_ms',\n",
       "                                                   'acousticness',\n",
       "                                                   'danceability', 'energy',\n",
       "                                                   'valence']),\n",
       "                                                 ('robust_scaler',\n",
       "                                                  RobustScaler(),\n",
       "                                                  ['instrumentalness',\n",
       "                                                   'liveness', 'loudness',\n",
       "                                                   'speechiness', 'tempo']),\n",
       "                                                 ('key_encoding',\n",
       "                                                  OneHotEncoder(), ['key']),\n",
       "                                                 ('release_year',\n",
       "                                                  ReleaseYearTransformer(),\n",
       "                                                  ['release_date'])]))])</pre></div></div></div><div class=\"sk-serial\"><div class=\"sk-item\"><div class=\"sk-estimator sk-toggleable\"><input class=\"sk-toggleable__control sk-hidden--visually\" id=\"2dc50568-45c1-4c92-9b7f-bdc54e29a4b9\" type=\"checkbox\" ><label class=\"sk-toggleable__label\" for=\"2dc50568-45c1-4c92-9b7f-bdc54e29a4b9\">ArtistPopularityTransformer</label><div class=\"sk-toggleable__content\"><pre>ArtistPopularityTransformer()</pre></div></div></div><div class=\"sk-item sk-dashed-wrapped\"><div class=\"sk-label-container\"><div class=\"sk-label sk-toggleable\"><input class=\"sk-toggleable__control sk-hidden--visually\" id=\"68b9b9b3-f92c-489f-baab-fb33dd5a5f4c\" type=\"checkbox\" ><label class=\"sk-toggleable__label\" for=\"68b9b9b3-f92c-489f-baab-fb33dd5a5f4c\">scaling_and_additional_preprocessing: ColumnTransformer</label><div class=\"sk-toggleable__content\"><pre>ColumnTransformer(remainder='passthrough',\n",
       "                  transformers=[('drop_id_and_song_name', 'drop',\n",
       "                                 ['id', 'name']),\n",
       "                                ('min_max_scaler', MinMaxScaler(),\n",
       "                                 ['duration_ms', 'acousticness', 'danceability',\n",
       "                                  'energy', 'valence']),\n",
       "                                ('robust_scaler', RobustScaler(),\n",
       "                                 ['instrumentalness', 'liveness', 'loudness',\n",
       "                                  'speechiness', 'tempo']),\n",
       "                                ('key_encoding', OneHotEncoder(), ['key']),\n",
       "                                ('release_year', ReleaseYearTransformer(),\n",
       "                                 ['release_date'])])</pre></div></div></div><div class=\"sk-parallel\"><div class=\"sk-parallel-item\"><div class=\"sk-item\"><div class=\"sk-label-container\"><div class=\"sk-label sk-toggleable\"><input class=\"sk-toggleable__control sk-hidden--visually\" id=\"012db61d-7212-490d-8f76-0d9d53c1f7c5\" type=\"checkbox\" ><label class=\"sk-toggleable__label\" for=\"012db61d-7212-490d-8f76-0d9d53c1f7c5\">drop_id_and_song_name</label><div class=\"sk-toggleable__content\"><pre>['id', 'name']</pre></div></div></div><div class=\"sk-serial\"><div class=\"sk-item\"><div class=\"sk-estimator sk-toggleable\"><input class=\"sk-toggleable__control sk-hidden--visually\" id=\"7f4012b9-8e79-40b0-be1c-fbcf32bf89df\" type=\"checkbox\" ><label class=\"sk-toggleable__label\" for=\"7f4012b9-8e79-40b0-be1c-fbcf32bf89df\">drop</label><div class=\"sk-toggleable__content\"><pre>drop</pre></div></div></div></div></div></div><div class=\"sk-parallel-item\"><div class=\"sk-item\"><div class=\"sk-label-container\"><div class=\"sk-label sk-toggleable\"><input class=\"sk-toggleable__control sk-hidden--visually\" id=\"5b483d2a-0556-4c65-81fa-a4dbcf1312f5\" type=\"checkbox\" ><label class=\"sk-toggleable__label\" for=\"5b483d2a-0556-4c65-81fa-a4dbcf1312f5\">min_max_scaler</label><div class=\"sk-toggleable__content\"><pre>['duration_ms', 'acousticness', 'danceability', 'energy', 'valence']</pre></div></div></div><div class=\"sk-serial\"><div class=\"sk-item\"><div class=\"sk-estimator sk-toggleable\"><input class=\"sk-toggleable__control sk-hidden--visually\" id=\"b959939f-df50-4029-ae7a-bb70d3a23e62\" type=\"checkbox\" ><label class=\"sk-toggleable__label\" for=\"b959939f-df50-4029-ae7a-bb70d3a23e62\">MinMaxScaler</label><div class=\"sk-toggleable__content\"><pre>MinMaxScaler()</pre></div></div></div></div></div></div><div class=\"sk-parallel-item\"><div class=\"sk-item\"><div class=\"sk-label-container\"><div class=\"sk-label sk-toggleable\"><input class=\"sk-toggleable__control sk-hidden--visually\" id=\"9f1d5001-385b-4067-9337-972e423e3cd6\" type=\"checkbox\" ><label class=\"sk-toggleable__label\" for=\"9f1d5001-385b-4067-9337-972e423e3cd6\">robust_scaler</label><div class=\"sk-toggleable__content\"><pre>['instrumentalness', 'liveness', 'loudness', 'speechiness', 'tempo']</pre></div></div></div><div class=\"sk-serial\"><div class=\"sk-item\"><div class=\"sk-estimator sk-toggleable\"><input class=\"sk-toggleable__control sk-hidden--visually\" id=\"f31d2b8c-d50a-445f-91bc-2d44bc5c72e0\" type=\"checkbox\" ><label class=\"sk-toggleable__label\" for=\"f31d2b8c-d50a-445f-91bc-2d44bc5c72e0\">RobustScaler</label><div class=\"sk-toggleable__content\"><pre>RobustScaler()</pre></div></div></div></div></div></div><div class=\"sk-parallel-item\"><div class=\"sk-item\"><div class=\"sk-label-container\"><div class=\"sk-label sk-toggleable\"><input class=\"sk-toggleable__control sk-hidden--visually\" id=\"10f1985d-8226-4110-b0ed-9708cf34465d\" type=\"checkbox\" ><label class=\"sk-toggleable__label\" for=\"10f1985d-8226-4110-b0ed-9708cf34465d\">key_encoding</label><div class=\"sk-toggleable__content\"><pre>['key']</pre></div></div></div><div class=\"sk-serial\"><div class=\"sk-item\"><div class=\"sk-estimator sk-toggleable\"><input class=\"sk-toggleable__control sk-hidden--visually\" id=\"a10dda1f-4f5c-4fb6-b9f2-821e143ba4f0\" type=\"checkbox\" ><label class=\"sk-toggleable__label\" for=\"a10dda1f-4f5c-4fb6-b9f2-821e143ba4f0\">OneHotEncoder</label><div class=\"sk-toggleable__content\"><pre>OneHotEncoder()</pre></div></div></div></div></div></div><div class=\"sk-parallel-item\"><div class=\"sk-item\"><div class=\"sk-label-container\"><div class=\"sk-label sk-toggleable\"><input class=\"sk-toggleable__control sk-hidden--visually\" id=\"99e074ba-8754-4e12-868e-a1d2e3291648\" type=\"checkbox\" ><label class=\"sk-toggleable__label\" for=\"99e074ba-8754-4e12-868e-a1d2e3291648\">release_year</label><div class=\"sk-toggleable__content\"><pre>['release_date']</pre></div></div></div><div class=\"sk-serial\"><div class=\"sk-item\"><div class=\"sk-estimator sk-toggleable\"><input class=\"sk-toggleable__control sk-hidden--visually\" id=\"28bc0d62-dc9f-4153-83ac-bdbdec8f848f\" type=\"checkbox\" ><label class=\"sk-toggleable__label\" for=\"28bc0d62-dc9f-4153-83ac-bdbdec8f848f\">ReleaseYearTransformer</label><div class=\"sk-toggleable__content\"><pre>ReleaseYearTransformer()</pre></div></div></div></div></div></div></div></div></div></div></div></div>"
      ],
      "text/plain": [
       "Pipeline(steps=[('artist_popularity', ArtistPopularityTransformer()),\n",
       "                ('scaling_and_additional_preprocessing',\n",
       "                 ColumnTransformer(remainder='passthrough',\n",
       "                                   transformers=[('drop_id_and_song_name',\n",
       "                                                  'drop', ['id', 'name']),\n",
       "                                                 ('min_max_scaler',\n",
       "                                                  MinMaxScaler(),\n",
       "                                                  ['duration_ms',\n",
       "                                                   'acousticness',\n",
       "                                                   'danceability', 'energy',\n",
       "                                                   'valence']),\n",
       "                                                 ('robust_scaler',\n",
       "                                                  RobustScaler(),\n",
       "                                                  ['instrumentalness',\n",
       "                                                   'liveness', 'loudness',\n",
       "                                                   'speechiness', 'tempo']),\n",
       "                                                 ('key_encoding',\n",
       "                                                  OneHotEncoder(), ['key']),\n",
       "                                                 ('release_year',\n",
       "                                                  ReleaseYearTransformer(),\n",
       "                                                  ['release_date'])]))])"
      ]
     },
     "execution_count": 70,
     "metadata": {},
     "output_type": "execute_result"
    }
   ],
   "source": [
    "# We fit the pipeline on the train set\n",
    "preproc.fit(X_train, y_train)"
   ]
  },
  {
   "cell_type": "code",
   "execution_count": 71,
   "metadata": {
    "hidden": true
   },
   "outputs": [
    {
     "data": {
      "text/html": [
       "<div>\n",
       "<style scoped>\n",
       "    .dataframe tbody tr th:only-of-type {\n",
       "        vertical-align: middle;\n",
       "    }\n",
       "\n",
       "    .dataframe tbody tr th {\n",
       "        vertical-align: top;\n",
       "    }\n",
       "\n",
       "    .dataframe thead th {\n",
       "        text-align: right;\n",
       "    }\n",
       "</style>\n",
       "<table border=\"1\" class=\"dataframe\">\n",
       "  <thead>\n",
       "    <tr style=\"text-align: right;\">\n",
       "      <th></th>\n",
       "      <th>0</th>\n",
       "      <th>1</th>\n",
       "      <th>2</th>\n",
       "      <th>3</th>\n",
       "      <th>4</th>\n",
       "      <th>5</th>\n",
       "      <th>6</th>\n",
       "      <th>7</th>\n",
       "      <th>8</th>\n",
       "      <th>9</th>\n",
       "      <th>...</th>\n",
       "      <th>16</th>\n",
       "      <th>17</th>\n",
       "      <th>18</th>\n",
       "      <th>19</th>\n",
       "      <th>20</th>\n",
       "      <th>21</th>\n",
       "      <th>22</th>\n",
       "      <th>23</th>\n",
       "      <th>24</th>\n",
       "      <th>25</th>\n",
       "    </tr>\n",
       "  </thead>\n",
       "  <tbody>\n",
       "    <tr>\n",
       "      <th>0</th>\n",
       "      <td>0.038375</td>\n",
       "      <td>0.975904</td>\n",
       "      <td>0.367978</td>\n",
       "      <td>0.175158</td>\n",
       "      <td>0.240201</td>\n",
       "      <td>2.144976</td>\n",
       "      <td>0.945790</td>\n",
       "      <td>-0.742602</td>\n",
       "      <td>0.067470</td>\n",
       "      <td>0.030948</td>\n",
       "      <td>...</td>\n",
       "      <td>0.0</td>\n",
       "      <td>0.0</td>\n",
       "      <td>0.0</td>\n",
       "      <td>0.0</td>\n",
       "      <td>0.0</td>\n",
       "      <td>0.0</td>\n",
       "      <td>1932.0</td>\n",
       "      <td>0.0</td>\n",
       "      <td>1.0</td>\n",
       "      <td>5.0000</td>\n",
       "    </tr>\n",
       "    <tr>\n",
       "      <th>1</th>\n",
       "      <td>0.039882</td>\n",
       "      <td>0.000808</td>\n",
       "      <td>0.372299</td>\n",
       "      <td>0.798795</td>\n",
       "      <td>0.455276</td>\n",
       "      <td>0.002322</td>\n",
       "      <td>-0.425606</td>\n",
       "      <td>-0.147818</td>\n",
       "      <td>0.831325</td>\n",
       "      <td>-0.368416</td>\n",
       "      <td>...</td>\n",
       "      <td>0.0</td>\n",
       "      <td>0.0</td>\n",
       "      <td>0.0</td>\n",
       "      <td>0.0</td>\n",
       "      <td>0.0</td>\n",
       "      <td>0.0</td>\n",
       "      <td>1980.0</td>\n",
       "      <td>0.0</td>\n",
       "      <td>0.0</td>\n",
       "      <td>36.5000</td>\n",
       "    </tr>\n",
       "    <tr>\n",
       "      <th>2</th>\n",
       "      <td>0.036154</td>\n",
       "      <td>0.998996</td>\n",
       "      <td>0.694252</td>\n",
       "      <td>0.080862</td>\n",
       "      <td>0.819095</td>\n",
       "      <td>0.037057</td>\n",
       "      <td>-0.098039</td>\n",
       "      <td>-0.048372</td>\n",
       "      <td>3.715663</td>\n",
       "      <td>-0.397568</td>\n",
       "      <td>...</td>\n",
       "      <td>0.0</td>\n",
       "      <td>0.0</td>\n",
       "      <td>0.0</td>\n",
       "      <td>0.0</td>\n",
       "      <td>0.0</td>\n",
       "      <td>0.0</td>\n",
       "      <td>1944.0</td>\n",
       "      <td>0.0</td>\n",
       "      <td>1.0</td>\n",
       "      <td>0.0000</td>\n",
       "    </tr>\n",
       "    <tr>\n",
       "      <th>3</th>\n",
       "      <td>0.046369</td>\n",
       "      <td>0.160642</td>\n",
       "      <td>0.580812</td>\n",
       "      <td>0.820817</td>\n",
       "      <td>0.081206</td>\n",
       "      <td>0.908241</td>\n",
       "      <td>0.582468</td>\n",
       "      <td>0.951898</td>\n",
       "      <td>0.156627</td>\n",
       "      <td>1.321642</td>\n",
       "      <td>...</td>\n",
       "      <td>0.0</td>\n",
       "      <td>0.0</td>\n",
       "      <td>0.0</td>\n",
       "      <td>0.0</td>\n",
       "      <td>0.0</td>\n",
       "      <td>0.0</td>\n",
       "      <td>2021.0</td>\n",
       "      <td>0.0</td>\n",
       "      <td>0.0</td>\n",
       "      <td>0.0000</td>\n",
       "    </tr>\n",
       "    <tr>\n",
       "      <th>4</th>\n",
       "      <td>0.047079</td>\n",
       "      <td>0.007188</td>\n",
       "      <td>0.631590</td>\n",
       "      <td>0.771767</td>\n",
       "      <td>0.775879</td>\n",
       "      <td>-0.000959</td>\n",
       "      <td>0.761246</td>\n",
       "      <td>0.938116</td>\n",
       "      <td>0.077108</td>\n",
       "      <td>0.293485</td>\n",
       "      <td>...</td>\n",
       "      <td>0.0</td>\n",
       "      <td>0.0</td>\n",
       "      <td>0.0</td>\n",
       "      <td>1.0</td>\n",
       "      <td>0.0</td>\n",
       "      <td>0.0</td>\n",
       "      <td>1981.0</td>\n",
       "      <td>0.0</td>\n",
       "      <td>1.0</td>\n",
       "      <td>34.8125</td>\n",
       "    </tr>\n",
       "  </tbody>\n",
       "</table>\n",
       "<p>5 rows × 26 columns</p>\n",
       "</div>"
      ],
      "text/plain": [
       "         0         1         2         3         4         5         6   \\\n",
       "0  0.038375  0.975904  0.367978  0.175158  0.240201  2.144976  0.945790   \n",
       "1  0.039882  0.000808  0.372299  0.798795  0.455276  0.002322 -0.425606   \n",
       "2  0.036154  0.998996  0.694252  0.080862  0.819095  0.037057 -0.098039   \n",
       "3  0.046369  0.160642  0.580812  0.820817  0.081206  0.908241  0.582468   \n",
       "4  0.047079  0.007188  0.631590  0.771767  0.775879 -0.000959  0.761246   \n",
       "\n",
       "         7         8         9   ...   16   17   18   19   20   21      22  \\\n",
       "0 -0.742602  0.067470  0.030948  ...  0.0  0.0  0.0  0.0  0.0  0.0  1932.0   \n",
       "1 -0.147818  0.831325 -0.368416  ...  0.0  0.0  0.0  0.0  0.0  0.0  1980.0   \n",
       "2 -0.048372  3.715663 -0.397568  ...  0.0  0.0  0.0  0.0  0.0  0.0  1944.0   \n",
       "3  0.951898  0.156627  1.321642  ...  0.0  0.0  0.0  0.0  0.0  0.0  2021.0   \n",
       "4  0.938116  0.077108  0.293485  ...  0.0  0.0  0.0  1.0  0.0  0.0  1981.0   \n",
       "\n",
       "    23   24       25  \n",
       "0  0.0  1.0   5.0000  \n",
       "1  0.0  0.0  36.5000  \n",
       "2  0.0  1.0   0.0000  \n",
       "3  0.0  0.0   0.0000  \n",
       "4  0.0  1.0  34.8125  \n",
       "\n",
       "[5 rows x 26 columns]"
      ]
     },
     "execution_count": 71,
     "metadata": {},
     "output_type": "execute_result"
    }
   ],
   "source": [
    "# And we can have a look at the first row of its output for the train set\n",
    "pd.DataFrame(preproc.transform(X_train)).head()"
   ]
  },
  {
   "cell_type": "code",
   "execution_count": 72,
   "metadata": {
    "hidden": true
   },
   "outputs": [
    {
     "name": "stdout",
     "output_type": "stream",
     "text": [
      "26\n"
     ]
    }
   ],
   "source": [
    "# We store in a dedicated variable the number of columns in the output of the pipeline\n",
    "col_number = pd.DataFrame(preproc.transform(X_train)).shape[1]\n",
    "print(col_number)"
   ]
  },
  {
   "cell_type": "markdown",
   "metadata": {
    "heading_collapsed": true,
    "hidden": true
   },
   "source": [
    "#### Save your results\n",
    "\n",
    "Run the following cell to save your results."
   ]
  },
  {
   "cell_type": "code",
   "execution_count": 73,
   "metadata": {
    "hidden": true
   },
   "outputs": [
    {
     "data": {
      "text/html": [
       "<style>div.sk-top-container {color: black;background-color: white;}div.sk-toggleable {background-color: white;}label.sk-toggleable__label {cursor: pointer;display: block;width: 100%;margin-bottom: 0;padding: 0.2em 0.3em;box-sizing: border-box;text-align: center;}div.sk-toggleable__content {max-height: 0;max-width: 0;overflow: hidden;text-align: left;background-color: #f0f8ff;}div.sk-toggleable__content pre {margin: 0.2em;color: black;border-radius: 0.25em;background-color: #f0f8ff;}input.sk-toggleable__control:checked~div.sk-toggleable__content {max-height: 200px;max-width: 100%;overflow: auto;}div.sk-estimator input.sk-toggleable__control:checked~label.sk-toggleable__label {background-color: #d4ebff;}div.sk-label input.sk-toggleable__control:checked~label.sk-toggleable__label {background-color: #d4ebff;}input.sk-hidden--visually {border: 0;clip: rect(1px 1px 1px 1px);clip: rect(1px, 1px, 1px, 1px);height: 1px;margin: -1px;overflow: hidden;padding: 0;position: absolute;width: 1px;}div.sk-estimator {font-family: monospace;background-color: #f0f8ff;margin: 0.25em 0.25em;border: 1px dotted black;border-radius: 0.25em;box-sizing: border-box;}div.sk-estimator:hover {background-color: #d4ebff;}div.sk-parallel-item::after {content: \"\";width: 100%;border-bottom: 1px solid gray;flex-grow: 1;}div.sk-label:hover label.sk-toggleable__label {background-color: #d4ebff;}div.sk-serial::before {content: \"\";position: absolute;border-left: 1px solid gray;box-sizing: border-box;top: 2em;bottom: 0;left: 50%;}div.sk-serial {display: flex;flex-direction: column;align-items: center;background-color: white;}div.sk-item {z-index: 1;}div.sk-parallel {display: flex;align-items: stretch;justify-content: center;background-color: white;}div.sk-parallel-item {display: flex;flex-direction: column;position: relative;background-color: white;}div.sk-parallel-item:first-child::after {align-self: flex-end;width: 50%;}div.sk-parallel-item:last-child::after {align-self: flex-start;width: 50%;}div.sk-parallel-item:only-child::after {width: 0;}div.sk-dashed-wrapped {border: 1px dashed gray;margin: 0.2em;box-sizing: border-box;padding-bottom: 0.1em;background-color: white;position: relative;}div.sk-label label {font-family: monospace;font-weight: bold;background-color: white;display: inline-block;line-height: 1.2em;}div.sk-label-container {position: relative;z-index: 2;text-align: center;}div.sk-container {display: inline-block;position: relative;}</style><div class=\"sk-top-container\"><div class=\"sk-container\"><div class=\"sk-item sk-dashed-wrapped\"><div class=\"sk-label-container\"><div class=\"sk-label sk-toggleable\"><input class=\"sk-toggleable__control sk-hidden--visually\" id=\"a844de4f-2acb-42d9-8f10-62020e6a9e0f\" type=\"checkbox\" ><label class=\"sk-toggleable__label\" for=\"a844de4f-2acb-42d9-8f10-62020e6a9e0f\">Pipeline</label><div class=\"sk-toggleable__content\"><pre>Pipeline(steps=[('artist_popularity', ArtistPopularityTransformer()),\n",
       "                ('scaling_and_additional_preprocessing',\n",
       "                 ColumnTransformer(remainder='passthrough',\n",
       "                                   transformers=[('drop_id_and_song_name',\n",
       "                                                  'drop', ['id', 'name']),\n",
       "                                                 ('min_max_scaler',\n",
       "                                                  MinMaxScaler(),\n",
       "                                                  ['duration_ms',\n",
       "                                                   'acousticness',\n",
       "                                                   'danceability', 'energy',\n",
       "                                                   'valence']),\n",
       "                                                 ('robust_scaler',\n",
       "                                                  RobustScaler(),\n",
       "                                                  ['instrumentalness',\n",
       "                                                   'liveness', 'loudness',\n",
       "                                                   'speechiness', 'tempo']),\n",
       "                                                 ('key_encoding',\n",
       "                                                  OneHotEncoder(), ['key']),\n",
       "                                                 ('release_year',\n",
       "                                                  ReleaseYearTransformer(),\n",
       "                                                  ['release_date'])]))])</pre></div></div></div><div class=\"sk-serial\"><div class=\"sk-item\"><div class=\"sk-estimator sk-toggleable\"><input class=\"sk-toggleable__control sk-hidden--visually\" id=\"db9a3fa8-5904-452d-930a-7d123d5996cb\" type=\"checkbox\" ><label class=\"sk-toggleable__label\" for=\"db9a3fa8-5904-452d-930a-7d123d5996cb\">ArtistPopularityTransformer</label><div class=\"sk-toggleable__content\"><pre>ArtistPopularityTransformer()</pre></div></div></div><div class=\"sk-item sk-dashed-wrapped\"><div class=\"sk-label-container\"><div class=\"sk-label sk-toggleable\"><input class=\"sk-toggleable__control sk-hidden--visually\" id=\"6fe60da2-e8d8-4b1d-9c5e-5d61fae29c67\" type=\"checkbox\" ><label class=\"sk-toggleable__label\" for=\"6fe60da2-e8d8-4b1d-9c5e-5d61fae29c67\">scaling_and_additional_preprocessing: ColumnTransformer</label><div class=\"sk-toggleable__content\"><pre>ColumnTransformer(remainder='passthrough',\n",
       "                  transformers=[('drop_id_and_song_name', 'drop',\n",
       "                                 ['id', 'name']),\n",
       "                                ('min_max_scaler', MinMaxScaler(),\n",
       "                                 ['duration_ms', 'acousticness', 'danceability',\n",
       "                                  'energy', 'valence']),\n",
       "                                ('robust_scaler', RobustScaler(),\n",
       "                                 ['instrumentalness', 'liveness', 'loudness',\n",
       "                                  'speechiness', 'tempo']),\n",
       "                                ('key_encoding', OneHotEncoder(), ['key']),\n",
       "                                ('release_year', ReleaseYearTransformer(),\n",
       "                                 ['release_date'])])</pre></div></div></div><div class=\"sk-parallel\"><div class=\"sk-parallel-item\"><div class=\"sk-item\"><div class=\"sk-label-container\"><div class=\"sk-label sk-toggleable\"><input class=\"sk-toggleable__control sk-hidden--visually\" id=\"e8d751c6-af0e-42bf-8991-de6e6876b574\" type=\"checkbox\" ><label class=\"sk-toggleable__label\" for=\"e8d751c6-af0e-42bf-8991-de6e6876b574\">drop_id_and_song_name</label><div class=\"sk-toggleable__content\"><pre>['id', 'name']</pre></div></div></div><div class=\"sk-serial\"><div class=\"sk-item\"><div class=\"sk-estimator sk-toggleable\"><input class=\"sk-toggleable__control sk-hidden--visually\" id=\"e4640273-9bc0-4afd-8eb2-bddf4dee4ead\" type=\"checkbox\" ><label class=\"sk-toggleable__label\" for=\"e4640273-9bc0-4afd-8eb2-bddf4dee4ead\">drop</label><div class=\"sk-toggleable__content\"><pre>drop</pre></div></div></div></div></div></div><div class=\"sk-parallel-item\"><div class=\"sk-item\"><div class=\"sk-label-container\"><div class=\"sk-label sk-toggleable\"><input class=\"sk-toggleable__control sk-hidden--visually\" id=\"d74a862d-2983-4417-94f0-74270c2ae79c\" type=\"checkbox\" ><label class=\"sk-toggleable__label\" for=\"d74a862d-2983-4417-94f0-74270c2ae79c\">min_max_scaler</label><div class=\"sk-toggleable__content\"><pre>['duration_ms', 'acousticness', 'danceability', 'energy', 'valence']</pre></div></div></div><div class=\"sk-serial\"><div class=\"sk-item\"><div class=\"sk-estimator sk-toggleable\"><input class=\"sk-toggleable__control sk-hidden--visually\" id=\"8637245b-5905-4a61-966c-6d020fb962be\" type=\"checkbox\" ><label class=\"sk-toggleable__label\" for=\"8637245b-5905-4a61-966c-6d020fb962be\">MinMaxScaler</label><div class=\"sk-toggleable__content\"><pre>MinMaxScaler()</pre></div></div></div></div></div></div><div class=\"sk-parallel-item\"><div class=\"sk-item\"><div class=\"sk-label-container\"><div class=\"sk-label sk-toggleable\"><input class=\"sk-toggleable__control sk-hidden--visually\" id=\"b259a2c3-268b-4f66-8455-661dc0030027\" type=\"checkbox\" ><label class=\"sk-toggleable__label\" for=\"b259a2c3-268b-4f66-8455-661dc0030027\">robust_scaler</label><div class=\"sk-toggleable__content\"><pre>['instrumentalness', 'liveness', 'loudness', 'speechiness', 'tempo']</pre></div></div></div><div class=\"sk-serial\"><div class=\"sk-item\"><div class=\"sk-estimator sk-toggleable\"><input class=\"sk-toggleable__control sk-hidden--visually\" id=\"d1c403ab-d368-4e9c-b6f1-46ac513fa7fa\" type=\"checkbox\" ><label class=\"sk-toggleable__label\" for=\"d1c403ab-d368-4e9c-b6f1-46ac513fa7fa\">RobustScaler</label><div class=\"sk-toggleable__content\"><pre>RobustScaler()</pre></div></div></div></div></div></div><div class=\"sk-parallel-item\"><div class=\"sk-item\"><div class=\"sk-label-container\"><div class=\"sk-label sk-toggleable\"><input class=\"sk-toggleable__control sk-hidden--visually\" id=\"268d0c16-04c8-4d78-9140-aca56e14ce8a\" type=\"checkbox\" ><label class=\"sk-toggleable__label\" for=\"268d0c16-04c8-4d78-9140-aca56e14ce8a\">key_encoding</label><div class=\"sk-toggleable__content\"><pre>['key']</pre></div></div></div><div class=\"sk-serial\"><div class=\"sk-item\"><div class=\"sk-estimator sk-toggleable\"><input class=\"sk-toggleable__control sk-hidden--visually\" id=\"04d0b295-8434-4ad7-a59c-946f38b88aa6\" type=\"checkbox\" ><label class=\"sk-toggleable__label\" for=\"04d0b295-8434-4ad7-a59c-946f38b88aa6\">OneHotEncoder</label><div class=\"sk-toggleable__content\"><pre>OneHotEncoder()</pre></div></div></div></div></div></div><div class=\"sk-parallel-item\"><div class=\"sk-item\"><div class=\"sk-label-container\"><div class=\"sk-label sk-toggleable\"><input class=\"sk-toggleable__control sk-hidden--visually\" id=\"afba97c2-8aec-4998-95e9-3a542d1c07d0\" type=\"checkbox\" ><label class=\"sk-toggleable__label\" for=\"afba97c2-8aec-4998-95e9-3a542d1c07d0\">release_year</label><div class=\"sk-toggleable__content\"><pre>['release_date']</pre></div></div></div><div class=\"sk-serial\"><div class=\"sk-item\"><div class=\"sk-estimator sk-toggleable\"><input class=\"sk-toggleable__control sk-hidden--visually\" id=\"2ab37693-2238-4162-b1d8-5ab97782931a\" type=\"checkbox\" ><label class=\"sk-toggleable__label\" for=\"2ab37693-2238-4162-b1d8-5ab97782931a\">ReleaseYearTransformer</label><div class=\"sk-toggleable__content\"><pre>ReleaseYearTransformer()</pre></div></div></div></div></div></div></div></div></div></div></div></div>"
      ],
      "text/plain": [
       "Pipeline(steps=[('artist_popularity', ArtistPopularityTransformer()),\n",
       "                ('scaling_and_additional_preprocessing',\n",
       "                 ColumnTransformer(remainder='passthrough',\n",
       "                                   transformers=[('drop_id_and_song_name',\n",
       "                                                  'drop', ['id', 'name']),\n",
       "                                                 ('min_max_scaler',\n",
       "                                                  MinMaxScaler(),\n",
       "                                                  ['duration_ms',\n",
       "                                                   'acousticness',\n",
       "                                                   'danceability', 'energy',\n",
       "                                                   'valence']),\n",
       "                                                 ('robust_scaler',\n",
       "                                                  RobustScaler(),\n",
       "                                                  ['instrumentalness',\n",
       "                                                   'liveness', 'loudness',\n",
       "                                                   'speechiness', 'tempo']),\n",
       "                                                 ('key_encoding',\n",
       "                                                  OneHotEncoder(), ['key']),\n",
       "                                                 ('release_year',\n",
       "                                                  ReleaseYearTransformer(),\n",
       "                                                  ['release_date'])]))])"
      ]
     },
     "execution_count": 73,
     "metadata": {},
     "output_type": "execute_result"
    }
   ],
   "source": [
    "# Print below your preproc here for the correctors\n",
    "from sklearn import set_config; set_config(display='diagram')\n",
    "preproc"
   ]
  },
  {
   "cell_type": "code",
   "execution_count": 74,
   "metadata": {
    "hidden": true
   },
   "outputs": [],
   "source": [
    "from nbresult import ChallengeResult\n",
    "\n",
    "ChallengeResult(\n",
    "    \"c6_preprocessing\",\n",
    "    col_number=col_number\n",
    ").write()"
   ]
  },
  {
   "cell_type": "markdown",
   "metadata": {
    "heading_collapsed": true
   },
   "source": [
    "## Training\n",
    "\n",
    "📝 Time to optimize \n",
    "\n",
    "- **Add an estimator to your pipeline (only from scikit-learn)** \n",
    "\n",
    "- **Train your pipeline and fine-tune (optimize) your estimator to get the best prediction score**\n",
    "\n",
    "- **You must create 2 pipelines (one with a linear model, one with an ensemble model)**\n",
    "\n",
    "Then, \n",
    "\n",
    "- Save your two best 5-time cross-validated scores as _float_: `score_linear` and `score_ensemble`\n",
    "\n",
    "- Save your two best trained pipelines as _Pipeline_ objects: `pipe_linear` and `pipe_ensemble`"
   ]
  },
  {
   "cell_type": "markdown",
   "metadata": {
    "heading_collapsed": true,
    "hidden": true
   },
   "source": [
    "### Linear"
   ]
  },
  {
   "cell_type": "code",
   "execution_count": 75,
   "metadata": {
    "hidden": true
   },
   "outputs": [],
   "source": [
    "# We recreate the previous pipeline adding a lasso model at the last step\n",
    "linear_pipeline = Pipeline(\n",
    "    steps=[\n",
    "        ('artist_popularity', ArtistPopularityTransformer()),\n",
    "        ('scaling_and_additional_preprocessing', ct),\n",
    "        ('linear_model', Lasso())\n",
    "    ]\n",
    ")"
   ]
  },
  {
   "cell_type": "code",
   "execution_count": 76,
   "metadata": {
    "hidden": true,
    "scrolled": true
   },
   "outputs": [
    {
     "data": {
      "text/html": [
       "<style>div.sk-top-container {color: black;background-color: white;}div.sk-toggleable {background-color: white;}label.sk-toggleable__label {cursor: pointer;display: block;width: 100%;margin-bottom: 0;padding: 0.2em 0.3em;box-sizing: border-box;text-align: center;}div.sk-toggleable__content {max-height: 0;max-width: 0;overflow: hidden;text-align: left;background-color: #f0f8ff;}div.sk-toggleable__content pre {margin: 0.2em;color: black;border-radius: 0.25em;background-color: #f0f8ff;}input.sk-toggleable__control:checked~div.sk-toggleable__content {max-height: 200px;max-width: 100%;overflow: auto;}div.sk-estimator input.sk-toggleable__control:checked~label.sk-toggleable__label {background-color: #d4ebff;}div.sk-label input.sk-toggleable__control:checked~label.sk-toggleable__label {background-color: #d4ebff;}input.sk-hidden--visually {border: 0;clip: rect(1px 1px 1px 1px);clip: rect(1px, 1px, 1px, 1px);height: 1px;margin: -1px;overflow: hidden;padding: 0;position: absolute;width: 1px;}div.sk-estimator {font-family: monospace;background-color: #f0f8ff;margin: 0.25em 0.25em;border: 1px dotted black;border-radius: 0.25em;box-sizing: border-box;}div.sk-estimator:hover {background-color: #d4ebff;}div.sk-parallel-item::after {content: \"\";width: 100%;border-bottom: 1px solid gray;flex-grow: 1;}div.sk-label:hover label.sk-toggleable__label {background-color: #d4ebff;}div.sk-serial::before {content: \"\";position: absolute;border-left: 1px solid gray;box-sizing: border-box;top: 2em;bottom: 0;left: 50%;}div.sk-serial {display: flex;flex-direction: column;align-items: center;background-color: white;}div.sk-item {z-index: 1;}div.sk-parallel {display: flex;align-items: stretch;justify-content: center;background-color: white;}div.sk-parallel-item {display: flex;flex-direction: column;position: relative;background-color: white;}div.sk-parallel-item:first-child::after {align-self: flex-end;width: 50%;}div.sk-parallel-item:last-child::after {align-self: flex-start;width: 50%;}div.sk-parallel-item:only-child::after {width: 0;}div.sk-dashed-wrapped {border: 1px dashed gray;margin: 0.2em;box-sizing: border-box;padding-bottom: 0.1em;background-color: white;position: relative;}div.sk-label label {font-family: monospace;font-weight: bold;background-color: white;display: inline-block;line-height: 1.2em;}div.sk-label-container {position: relative;z-index: 2;text-align: center;}div.sk-container {display: inline-block;position: relative;}</style><div class=\"sk-top-container\"><div class=\"sk-container\"><div class=\"sk-item sk-dashed-wrapped\"><div class=\"sk-label-container\"><div class=\"sk-label sk-toggleable\"><input class=\"sk-toggleable__control sk-hidden--visually\" id=\"2f54295c-b960-45c5-b98c-bbcf679003f7\" type=\"checkbox\" ><label class=\"sk-toggleable__label\" for=\"2f54295c-b960-45c5-b98c-bbcf679003f7\">Pipeline</label><div class=\"sk-toggleable__content\"><pre>Pipeline(steps=[('artist_popularity', ArtistPopularityTransformer()),\n",
       "                ('scaling_and_additional_preprocessing',\n",
       "                 ColumnTransformer(remainder='passthrough',\n",
       "                                   transformers=[('drop_id_and_song_name',\n",
       "                                                  'drop', ['id', 'name']),\n",
       "                                                 ('min_max_scaler',\n",
       "                                                  MinMaxScaler(),\n",
       "                                                  ['duration_ms',\n",
       "                                                   'acousticness',\n",
       "                                                   'danceability', 'energy',\n",
       "                                                   'valence']),\n",
       "                                                 ('robust_scaler',\n",
       "                                                  RobustScaler(),\n",
       "                                                  ['instrumentalness',\n",
       "                                                   'liveness', 'loudness',\n",
       "                                                   'speechiness', 'tempo']),\n",
       "                                                 ('key_encoding',\n",
       "                                                  OneHotEncoder(), ['key']),\n",
       "                                                 ('release_year',\n",
       "                                                  ReleaseYearTransformer(),\n",
       "                                                  ['release_date'])])),\n",
       "                ('linear_model', Lasso())])</pre></div></div></div><div class=\"sk-serial\"><div class=\"sk-item\"><div class=\"sk-estimator sk-toggleable\"><input class=\"sk-toggleable__control sk-hidden--visually\" id=\"95b97e96-b0ee-4215-88ca-382daf79a211\" type=\"checkbox\" ><label class=\"sk-toggleable__label\" for=\"95b97e96-b0ee-4215-88ca-382daf79a211\">ArtistPopularityTransformer</label><div class=\"sk-toggleable__content\"><pre>ArtistPopularityTransformer()</pre></div></div></div><div class=\"sk-item sk-dashed-wrapped\"><div class=\"sk-label-container\"><div class=\"sk-label sk-toggleable\"><input class=\"sk-toggleable__control sk-hidden--visually\" id=\"a947deb4-3f62-4fef-81bf-11e733cdc9a7\" type=\"checkbox\" ><label class=\"sk-toggleable__label\" for=\"a947deb4-3f62-4fef-81bf-11e733cdc9a7\">scaling_and_additional_preprocessing: ColumnTransformer</label><div class=\"sk-toggleable__content\"><pre>ColumnTransformer(remainder='passthrough',\n",
       "                  transformers=[('drop_id_and_song_name', 'drop',\n",
       "                                 ['id', 'name']),\n",
       "                                ('min_max_scaler', MinMaxScaler(),\n",
       "                                 ['duration_ms', 'acousticness', 'danceability',\n",
       "                                  'energy', 'valence']),\n",
       "                                ('robust_scaler', RobustScaler(),\n",
       "                                 ['instrumentalness', 'liveness', 'loudness',\n",
       "                                  'speechiness', 'tempo']),\n",
       "                                ('key_encoding', OneHotEncoder(), ['key']),\n",
       "                                ('release_year', ReleaseYearTransformer(),\n",
       "                                 ['release_date'])])</pre></div></div></div><div class=\"sk-parallel\"><div class=\"sk-parallel-item\"><div class=\"sk-item\"><div class=\"sk-label-container\"><div class=\"sk-label sk-toggleable\"><input class=\"sk-toggleable__control sk-hidden--visually\" id=\"660ad9f4-9777-482d-839c-495a8d003e6f\" type=\"checkbox\" ><label class=\"sk-toggleable__label\" for=\"660ad9f4-9777-482d-839c-495a8d003e6f\">drop_id_and_song_name</label><div class=\"sk-toggleable__content\"><pre>['id', 'name']</pre></div></div></div><div class=\"sk-serial\"><div class=\"sk-item\"><div class=\"sk-estimator sk-toggleable\"><input class=\"sk-toggleable__control sk-hidden--visually\" id=\"2df9c122-9222-46b1-9a58-1b4ed263be08\" type=\"checkbox\" ><label class=\"sk-toggleable__label\" for=\"2df9c122-9222-46b1-9a58-1b4ed263be08\">drop</label><div class=\"sk-toggleable__content\"><pre>drop</pre></div></div></div></div></div></div><div class=\"sk-parallel-item\"><div class=\"sk-item\"><div class=\"sk-label-container\"><div class=\"sk-label sk-toggleable\"><input class=\"sk-toggleable__control sk-hidden--visually\" id=\"f74a61a9-76a6-42db-ac0c-92480695674a\" type=\"checkbox\" ><label class=\"sk-toggleable__label\" for=\"f74a61a9-76a6-42db-ac0c-92480695674a\">min_max_scaler</label><div class=\"sk-toggleable__content\"><pre>['duration_ms', 'acousticness', 'danceability', 'energy', 'valence']</pre></div></div></div><div class=\"sk-serial\"><div class=\"sk-item\"><div class=\"sk-estimator sk-toggleable\"><input class=\"sk-toggleable__control sk-hidden--visually\" id=\"3d24690b-0dc2-4558-b591-65402e0efa99\" type=\"checkbox\" ><label class=\"sk-toggleable__label\" for=\"3d24690b-0dc2-4558-b591-65402e0efa99\">MinMaxScaler</label><div class=\"sk-toggleable__content\"><pre>MinMaxScaler()</pre></div></div></div></div></div></div><div class=\"sk-parallel-item\"><div class=\"sk-item\"><div class=\"sk-label-container\"><div class=\"sk-label sk-toggleable\"><input class=\"sk-toggleable__control sk-hidden--visually\" id=\"dfbd75d0-0651-492e-a923-3d843efb82f5\" type=\"checkbox\" ><label class=\"sk-toggleable__label\" for=\"dfbd75d0-0651-492e-a923-3d843efb82f5\">robust_scaler</label><div class=\"sk-toggleable__content\"><pre>['instrumentalness', 'liveness', 'loudness', 'speechiness', 'tempo']</pre></div></div></div><div class=\"sk-serial\"><div class=\"sk-item\"><div class=\"sk-estimator sk-toggleable\"><input class=\"sk-toggleable__control sk-hidden--visually\" id=\"702ec68b-afb2-4081-ba2e-f66152fb8b1c\" type=\"checkbox\" ><label class=\"sk-toggleable__label\" for=\"702ec68b-afb2-4081-ba2e-f66152fb8b1c\">RobustScaler</label><div class=\"sk-toggleable__content\"><pre>RobustScaler()</pre></div></div></div></div></div></div><div class=\"sk-parallel-item\"><div class=\"sk-item\"><div class=\"sk-label-container\"><div class=\"sk-label sk-toggleable\"><input class=\"sk-toggleable__control sk-hidden--visually\" id=\"1cc616a6-9ffa-48b7-8130-62e44f30bff1\" type=\"checkbox\" ><label class=\"sk-toggleable__label\" for=\"1cc616a6-9ffa-48b7-8130-62e44f30bff1\">key_encoding</label><div class=\"sk-toggleable__content\"><pre>['key']</pre></div></div></div><div class=\"sk-serial\"><div class=\"sk-item\"><div class=\"sk-estimator sk-toggleable\"><input class=\"sk-toggleable__control sk-hidden--visually\" id=\"58bd96a0-b5cc-43b1-abcf-f70863825592\" type=\"checkbox\" ><label class=\"sk-toggleable__label\" for=\"58bd96a0-b5cc-43b1-abcf-f70863825592\">OneHotEncoder</label><div class=\"sk-toggleable__content\"><pre>OneHotEncoder()</pre></div></div></div></div></div></div><div class=\"sk-parallel-item\"><div class=\"sk-item\"><div class=\"sk-label-container\"><div class=\"sk-label sk-toggleable\"><input class=\"sk-toggleable__control sk-hidden--visually\" id=\"c6237349-59cb-4a9a-965c-97dde6b57b7c\" type=\"checkbox\" ><label class=\"sk-toggleable__label\" for=\"c6237349-59cb-4a9a-965c-97dde6b57b7c\">release_year</label><div class=\"sk-toggleable__content\"><pre>['release_date']</pre></div></div></div><div class=\"sk-serial\"><div class=\"sk-item\"><div class=\"sk-estimator sk-toggleable\"><input class=\"sk-toggleable__control sk-hidden--visually\" id=\"61cbbbb6-03fc-4eb5-9774-96091c9ef5d5\" type=\"checkbox\" ><label class=\"sk-toggleable__label\" for=\"61cbbbb6-03fc-4eb5-9774-96091c9ef5d5\">ReleaseYearTransformer</label><div class=\"sk-toggleable__content\"><pre>ReleaseYearTransformer()</pre></div></div></div></div></div></div></div></div><div class=\"sk-item\"><div class=\"sk-estimator sk-toggleable\"><input class=\"sk-toggleable__control sk-hidden--visually\" id=\"d4c805d3-5f64-400a-bbf3-9bec7d75b66f\" type=\"checkbox\" ><label class=\"sk-toggleable__label\" for=\"d4c805d3-5f64-400a-bbf3-9bec7d75b66f\">Lasso</label><div class=\"sk-toggleable__content\"><pre>Lasso()</pre></div></div></div></div></div></div></div>"
      ],
      "text/plain": [
       "Pipeline(steps=[('artist_popularity', ArtistPopularityTransformer()),\n",
       "                ('scaling_and_additional_preprocessing',\n",
       "                 ColumnTransformer(remainder='passthrough',\n",
       "                                   transformers=[('drop_id_and_song_name',\n",
       "                                                  'drop', ['id', 'name']),\n",
       "                                                 ('min_max_scaler',\n",
       "                                                  MinMaxScaler(),\n",
       "                                                  ['duration_ms',\n",
       "                                                   'acousticness',\n",
       "                                                   'danceability', 'energy',\n",
       "                                                   'valence']),\n",
       "                                                 ('robust_scaler',\n",
       "                                                  RobustScaler(),\n",
       "                                                  ['instrumentalness',\n",
       "                                                   'liveness', 'loudness',\n",
       "                                                   'speechiness', 'tempo']),\n",
       "                                                 ('key_encoding',\n",
       "                                                  OneHotEncoder(), ['key']),\n",
       "                                                 ('release_year',\n",
       "                                                  ReleaseYearTransformer(),\n",
       "                                                  ['release_date'])])),\n",
       "                ('linear_model', Lasso())])"
      ]
     },
     "execution_count": 76,
     "metadata": {},
     "output_type": "execute_result"
    }
   ],
   "source": [
    "# We try a first fit on the train set\n",
    "linear_pipeline.fit(X_train, y_train)"
   ]
  },
  {
   "cell_type": "code",
   "execution_count": 77,
   "metadata": {
    "hidden": true
   },
   "outputs": [
    {
     "name": "stdout",
     "output_type": "stream",
     "text": [
      "14.296878872265875\n"
     ]
    }
   ],
   "source": [
    "# We store predictions \n",
    "y_pred = linear_pipeline.predict(X_test)\n",
    "\n",
    "# We compute the resulting root mean squared error\n",
    "rmse_linear_not_tuned = mean_squared_error(y_test, y_pred, squared=False)\n",
    "\n",
    "# And we print it (it is closed to the previous result without tuning)\n",
    "print(rmse_linear_not_tuned)"
   ]
  },
  {
   "cell_type": "code",
   "execution_count": 79,
   "metadata": {
    "hidden": true
   },
   "outputs": [],
   "source": [
    "# This dictionary stores the hyperparameter values that we want to test in our GridSearch\n",
    "param_grid = {\n",
    "    'linear_model__alpha': [0.001, 0.005, 0.01, 0.05, 0.1, 0.5, 1, 2]\n",
    "}"
   ]
  },
  {
   "cell_type": "code",
   "execution_count": 80,
   "metadata": {
    "hidden": true
   },
   "outputs": [],
   "source": [
    "# We re-instantiate a clean pipeline\n",
    "linear_pipeline = Pipeline(\n",
    "    steps=[\n",
    "        ('artist_popularity', ArtistPopularityTransformer()),\n",
    "        ('scaling_and_additional_preprocessing', ct),\n",
    "        ('linear_model', Lasso())\n",
    "    ]\n",
    ")\n",
    "\n",
    "# And we construct the grid search\n",
    "grid_search = GridSearchCV(\n",
    "    linear_pipeline,   # Our estimator\n",
    "    param_grid=param_grid,   # The hyperparameters to test\n",
    "    scoring='neg_root_mean_squared_error',   # Scoring with the root mean squared error\n",
    "    cv=5,   # Number of cross-validations\n",
    "    verbose=1,\n",
    "    refit=True,   # Will re-fit the best-performing model on the whole dataset \n",
    "    n_jobs=-1\n",
    ")"
   ]
  },
  {
   "cell_type": "code",
   "execution_count": 81,
   "metadata": {
    "hidden": true,
    "scrolled": true
   },
   "outputs": [
    {
     "name": "stdout",
     "output_type": "stream",
     "text": [
      "Fitting 5 folds for each of 8 candidates, totalling 40 fits\n"
     ]
    },
    {
     "name": "stderr",
     "output_type": "stream",
     "text": [
      "[Parallel(n_jobs=-1)]: Using backend LokyBackend with 4 concurrent workers.\n",
      "[Parallel(n_jobs=-1)]: Done  40 out of  40 | elapsed:   15.9s finished\n"
     ]
    },
    {
     "name": "stdout",
     "output_type": "stream",
     "text": [
      "CPU times: user 2.37 s, sys: 291 ms, total: 2.66 s\n",
      "Wall time: 16.5 s\n"
     ]
    },
    {
     "data": {
      "text/html": [
       "<style>div.sk-top-container {color: black;background-color: white;}div.sk-toggleable {background-color: white;}label.sk-toggleable__label {cursor: pointer;display: block;width: 100%;margin-bottom: 0;padding: 0.2em 0.3em;box-sizing: border-box;text-align: center;}div.sk-toggleable__content {max-height: 0;max-width: 0;overflow: hidden;text-align: left;background-color: #f0f8ff;}div.sk-toggleable__content pre {margin: 0.2em;color: black;border-radius: 0.25em;background-color: #f0f8ff;}input.sk-toggleable__control:checked~div.sk-toggleable__content {max-height: 200px;max-width: 100%;overflow: auto;}div.sk-estimator input.sk-toggleable__control:checked~label.sk-toggleable__label {background-color: #d4ebff;}div.sk-label input.sk-toggleable__control:checked~label.sk-toggleable__label {background-color: #d4ebff;}input.sk-hidden--visually {border: 0;clip: rect(1px 1px 1px 1px);clip: rect(1px, 1px, 1px, 1px);height: 1px;margin: -1px;overflow: hidden;padding: 0;position: absolute;width: 1px;}div.sk-estimator {font-family: monospace;background-color: #f0f8ff;margin: 0.25em 0.25em;border: 1px dotted black;border-radius: 0.25em;box-sizing: border-box;}div.sk-estimator:hover {background-color: #d4ebff;}div.sk-parallel-item::after {content: \"\";width: 100%;border-bottom: 1px solid gray;flex-grow: 1;}div.sk-label:hover label.sk-toggleable__label {background-color: #d4ebff;}div.sk-serial::before {content: \"\";position: absolute;border-left: 1px solid gray;box-sizing: border-box;top: 2em;bottom: 0;left: 50%;}div.sk-serial {display: flex;flex-direction: column;align-items: center;background-color: white;}div.sk-item {z-index: 1;}div.sk-parallel {display: flex;align-items: stretch;justify-content: center;background-color: white;}div.sk-parallel-item {display: flex;flex-direction: column;position: relative;background-color: white;}div.sk-parallel-item:first-child::after {align-self: flex-end;width: 50%;}div.sk-parallel-item:last-child::after {align-self: flex-start;width: 50%;}div.sk-parallel-item:only-child::after {width: 0;}div.sk-dashed-wrapped {border: 1px dashed gray;margin: 0.2em;box-sizing: border-box;padding-bottom: 0.1em;background-color: white;position: relative;}div.sk-label label {font-family: monospace;font-weight: bold;background-color: white;display: inline-block;line-height: 1.2em;}div.sk-label-container {position: relative;z-index: 2;text-align: center;}div.sk-container {display: inline-block;position: relative;}</style><div class=\"sk-top-container\"><div class=\"sk-container\"><div class=\"sk-item sk-dashed-wrapped\"><div class=\"sk-label-container\"><div class=\"sk-label sk-toggleable\"><input class=\"sk-toggleable__control sk-hidden--visually\" id=\"9e1e65f4-7fc6-4501-9011-82f90b7394af\" type=\"checkbox\" ><label class=\"sk-toggleable__label\" for=\"9e1e65f4-7fc6-4501-9011-82f90b7394af\">GridSearchCV</label><div class=\"sk-toggleable__content\"><pre>GridSearchCV(cv=5,\n",
       "             estimator=Pipeline(steps=[('artist_popularity',\n",
       "                                        ArtistPopularityTransformer()),\n",
       "                                       ('scaling_and_additional_preprocessing',\n",
       "                                        ColumnTransformer(remainder='passthrough',\n",
       "                                                          transformers=[('drop_id_and_song_name',\n",
       "                                                                         'drop',\n",
       "                                                                         ['id',\n",
       "                                                                          'name']),\n",
       "                                                                        ('min_max_scaler',\n",
       "                                                                         MinMaxScaler(),\n",
       "                                                                         ['duration_ms',\n",
       "                                                                          'acousticness',\n",
       "                                                                          'danceability',\n",
       "                                                                          'energy',\n",
       "                                                                          'valence']),\n",
       "                                                                        ('robust_scaler',\n",
       "                                                                         RobustScaler(),\n",
       "                                                                         ['instrumentalness',\n",
       "                                                                          'liveness',\n",
       "                                                                          'loudness',\n",
       "                                                                          'speechiness',\n",
       "                                                                          'tempo']),\n",
       "                                                                        ('key_encoding',\n",
       "                                                                         OneHotEncoder(),\n",
       "                                                                         ['key']),\n",
       "                                                                        ('release_year',\n",
       "                                                                         ReleaseYearTransformer(),\n",
       "                                                                         ['release_date'])])),\n",
       "                                       ('linear_model', Lasso())]),\n",
       "             n_jobs=-1,\n",
       "             param_grid={'linear_model__alpha': [0.001, 0.005, 0.01, 0.05, 0.1,\n",
       "                                                 0.5, 1, 2]},\n",
       "             scoring='neg_root_mean_squared_error', verbose=1)</pre></div></div></div><div class=\"sk-parallel\"><div class=\"sk-parallel-item\"><div class=\"sk-item\"><div class=\"sk-serial\"><div class=\"sk-item\"><div class=\"sk-serial\"><div class=\"sk-item\"><div class=\"sk-estimator sk-toggleable\"><input class=\"sk-toggleable__control sk-hidden--visually\" id=\"5fa03ee2-d8c0-44f7-b157-b1f2c7928aad\" type=\"checkbox\" ><label class=\"sk-toggleable__label\" for=\"5fa03ee2-d8c0-44f7-b157-b1f2c7928aad\">ArtistPopularityTransformer</label><div class=\"sk-toggleable__content\"><pre>ArtistPopularityTransformer()</pre></div></div></div><div class=\"sk-item sk-dashed-wrapped\"><div class=\"sk-label-container\"><div class=\"sk-label sk-toggleable\"><input class=\"sk-toggleable__control sk-hidden--visually\" id=\"5b10f6ab-90f7-444a-b0a2-7fb21330ce17\" type=\"checkbox\" ><label class=\"sk-toggleable__label\" for=\"5b10f6ab-90f7-444a-b0a2-7fb21330ce17\">scaling_and_additional_preprocessing: ColumnTransformer</label><div class=\"sk-toggleable__content\"><pre>ColumnTransformer(remainder='passthrough',\n",
       "                  transformers=[('drop_id_and_song_name', 'drop',\n",
       "                                 ['id', 'name']),\n",
       "                                ('min_max_scaler', MinMaxScaler(),\n",
       "                                 ['duration_ms', 'acousticness', 'danceability',\n",
       "                                  'energy', 'valence']),\n",
       "                                ('robust_scaler', RobustScaler(),\n",
       "                                 ['instrumentalness', 'liveness', 'loudness',\n",
       "                                  'speechiness', 'tempo']),\n",
       "                                ('key_encoding', OneHotEncoder(), ['key']),\n",
       "                                ('release_year', ReleaseYearTransformer(),\n",
       "                                 ['release_date'])])</pre></div></div></div><div class=\"sk-parallel\"><div class=\"sk-parallel-item\"><div class=\"sk-item\"><div class=\"sk-label-container\"><div class=\"sk-label sk-toggleable\"><input class=\"sk-toggleable__control sk-hidden--visually\" id=\"4acbf0a0-120a-4c45-9c88-4ca1a865a77a\" type=\"checkbox\" ><label class=\"sk-toggleable__label\" for=\"4acbf0a0-120a-4c45-9c88-4ca1a865a77a\">drop_id_and_song_name</label><div class=\"sk-toggleable__content\"><pre>['id', 'name']</pre></div></div></div><div class=\"sk-serial\"><div class=\"sk-item\"><div class=\"sk-estimator sk-toggleable\"><input class=\"sk-toggleable__control sk-hidden--visually\" id=\"4a31dd03-1cc7-442b-b2b3-4fc1b8338abd\" type=\"checkbox\" ><label class=\"sk-toggleable__label\" for=\"4a31dd03-1cc7-442b-b2b3-4fc1b8338abd\">drop</label><div class=\"sk-toggleable__content\"><pre>drop</pre></div></div></div></div></div></div><div class=\"sk-parallel-item\"><div class=\"sk-item\"><div class=\"sk-label-container\"><div class=\"sk-label sk-toggleable\"><input class=\"sk-toggleable__control sk-hidden--visually\" id=\"ccb058d6-586b-4f29-b43d-e0d98a8a62aa\" type=\"checkbox\" ><label class=\"sk-toggleable__label\" for=\"ccb058d6-586b-4f29-b43d-e0d98a8a62aa\">min_max_scaler</label><div class=\"sk-toggleable__content\"><pre>['duration_ms', 'acousticness', 'danceability', 'energy', 'valence']</pre></div></div></div><div class=\"sk-serial\"><div class=\"sk-item\"><div class=\"sk-estimator sk-toggleable\"><input class=\"sk-toggleable__control sk-hidden--visually\" id=\"18b3b6c9-39df-4714-a958-e50ee9bc44c8\" type=\"checkbox\" ><label class=\"sk-toggleable__label\" for=\"18b3b6c9-39df-4714-a958-e50ee9bc44c8\">MinMaxScaler</label><div class=\"sk-toggleable__content\"><pre>MinMaxScaler()</pre></div></div></div></div></div></div><div class=\"sk-parallel-item\"><div class=\"sk-item\"><div class=\"sk-label-container\"><div class=\"sk-label sk-toggleable\"><input class=\"sk-toggleable__control sk-hidden--visually\" id=\"9dc933bc-5e52-4838-86e6-4d933e3731f5\" type=\"checkbox\" ><label class=\"sk-toggleable__label\" for=\"9dc933bc-5e52-4838-86e6-4d933e3731f5\">robust_scaler</label><div class=\"sk-toggleable__content\"><pre>['instrumentalness', 'liveness', 'loudness', 'speechiness', 'tempo']</pre></div></div></div><div class=\"sk-serial\"><div class=\"sk-item\"><div class=\"sk-estimator sk-toggleable\"><input class=\"sk-toggleable__control sk-hidden--visually\" id=\"06385248-aa71-411d-a19b-d35e0b9b5074\" type=\"checkbox\" ><label class=\"sk-toggleable__label\" for=\"06385248-aa71-411d-a19b-d35e0b9b5074\">RobustScaler</label><div class=\"sk-toggleable__content\"><pre>RobustScaler()</pre></div></div></div></div></div></div><div class=\"sk-parallel-item\"><div class=\"sk-item\"><div class=\"sk-label-container\"><div class=\"sk-label sk-toggleable\"><input class=\"sk-toggleable__control sk-hidden--visually\" id=\"ebcf7804-0c15-4c28-a842-2af493464132\" type=\"checkbox\" ><label class=\"sk-toggleable__label\" for=\"ebcf7804-0c15-4c28-a842-2af493464132\">key_encoding</label><div class=\"sk-toggleable__content\"><pre>['key']</pre></div></div></div><div class=\"sk-serial\"><div class=\"sk-item\"><div class=\"sk-estimator sk-toggleable\"><input class=\"sk-toggleable__control sk-hidden--visually\" id=\"5b165d3a-47f7-4ca6-ba26-1671ad5a85b3\" type=\"checkbox\" ><label class=\"sk-toggleable__label\" for=\"5b165d3a-47f7-4ca6-ba26-1671ad5a85b3\">OneHotEncoder</label><div class=\"sk-toggleable__content\"><pre>OneHotEncoder()</pre></div></div></div></div></div></div><div class=\"sk-parallel-item\"><div class=\"sk-item\"><div class=\"sk-label-container\"><div class=\"sk-label sk-toggleable\"><input class=\"sk-toggleable__control sk-hidden--visually\" id=\"7c067d89-38f2-4636-99a3-eec6518702ad\" type=\"checkbox\" ><label class=\"sk-toggleable__label\" for=\"7c067d89-38f2-4636-99a3-eec6518702ad\">release_year</label><div class=\"sk-toggleable__content\"><pre>['release_date']</pre></div></div></div><div class=\"sk-serial\"><div class=\"sk-item\"><div class=\"sk-estimator sk-toggleable\"><input class=\"sk-toggleable__control sk-hidden--visually\" id=\"ab36672c-5eaa-4215-8713-fc3864800c8c\" type=\"checkbox\" ><label class=\"sk-toggleable__label\" for=\"ab36672c-5eaa-4215-8713-fc3864800c8c\">ReleaseYearTransformer</label><div class=\"sk-toggleable__content\"><pre>ReleaseYearTransformer()</pre></div></div></div></div></div></div></div></div><div class=\"sk-item\"><div class=\"sk-estimator sk-toggleable\"><input class=\"sk-toggleable__control sk-hidden--visually\" id=\"3852dab6-3618-4db2-a441-a478c62f0c9f\" type=\"checkbox\" ><label class=\"sk-toggleable__label\" for=\"3852dab6-3618-4db2-a441-a478c62f0c9f\">Lasso</label><div class=\"sk-toggleable__content\"><pre>Lasso()</pre></div></div></div></div></div></div></div></div></div></div></div></div>"
      ],
      "text/plain": [
       "GridSearchCV(cv=5,\n",
       "             estimator=Pipeline(steps=[('artist_popularity',\n",
       "                                        ArtistPopularityTransformer()),\n",
       "                                       ('scaling_and_additional_preprocessing',\n",
       "                                        ColumnTransformer(remainder='passthrough',\n",
       "                                                          transformers=[('drop_id_and_song_name',\n",
       "                                                                         'drop',\n",
       "                                                                         ['id',\n",
       "                                                                          'name']),\n",
       "                                                                        ('min_max_scaler',\n",
       "                                                                         MinMaxScaler(),\n",
       "                                                                         ['duration_ms',\n",
       "                                                                          'acousticness',\n",
       "                                                                          'danceability',\n",
       "                                                                          'energy',\n",
       "                                                                          'valence']),\n",
       "                                                                        ('robust_scaler',\n",
       "                                                                         RobustScaler(),\n",
       "                                                                         ['instrumentalness',\n",
       "                                                                          'liveness',\n",
       "                                                                          'loudness',\n",
       "                                                                          'speechiness',\n",
       "                                                                          'tempo']),\n",
       "                                                                        ('key_encoding',\n",
       "                                                                         OneHotEncoder(),\n",
       "                                                                         ['key']),\n",
       "                                                                        ('release_year',\n",
       "                                                                         ReleaseYearTransformer(),\n",
       "                                                                         ['release_date'])])),\n",
       "                                       ('linear_model', Lasso())]),\n",
       "             n_jobs=-1,\n",
       "             param_grid={'linear_model__alpha': [0.001, 0.005, 0.01, 0.05, 0.1,\n",
       "                                                 0.5, 1, 2]},\n",
       "             scoring='neg_root_mean_squared_error', verbose=1)"
      ]
     },
     "execution_count": 81,
     "metadata": {},
     "output_type": "execute_result"
    }
   ],
   "source": [
    "%%time\n",
    "\n",
    "# We fit the grid search on the train set\n",
    "grid_search.fit(X_train, y_train)"
   ]
  },
  {
   "cell_type": "code",
   "execution_count": 82,
   "metadata": {
    "hidden": true
   },
   "outputs": [
    {
     "data": {
      "text/plain": [
       "{'linear_model__alpha': 0.001}"
      ]
     },
     "execution_count": 82,
     "metadata": {},
     "output_type": "execute_result"
    }
   ],
   "source": [
    "# We can have a look at selected hyperparameters\n",
    "grid_search.best_params_"
   ]
  },
  {
   "cell_type": "code",
   "execution_count": 83,
   "metadata": {
    "hidden": true
   },
   "outputs": [
    {
     "data": {
      "text/plain": [
       "14.676697986625793"
      ]
     },
     "execution_count": 83,
     "metadata": {},
     "output_type": "execute_result"
    }
   ],
   "source": [
    "# At the smallest cross-validated root mean squared error obtained\n",
    "- grid_search.best_score_"
   ]
  },
  {
   "cell_type": "code",
   "execution_count": 84,
   "metadata": {
    "hidden": true
   },
   "outputs": [
    {
     "name": "stdout",
     "output_type": "stream",
     "text": [
      "14.296878872265875\n"
     ]
    }
   ],
   "source": [
    "# We run predictions with the best model re-fit on the whole train set\n",
    "y_pred = grid_search.best_estimator_.predict(X_test)\n",
    "\n",
    "# We store the resulting RMSE\n",
    "rmse_linear_tuned = mean_squared_error(y_test, y_pred, squared=False)\n",
    "\n",
    "print(rmse_linear_not_tuned)"
   ]
  },
  {
   "cell_type": "markdown",
   "metadata": {
    "hidden": true
   },
   "source": [
    "The performance increment provided by the hyperparameter tuning is not really significant."
   ]
  },
  {
   "cell_type": "markdown",
   "metadata": {
    "heading_collapsed": true,
    "hidden": true
   },
   "source": [
    "### Ensemble"
   ]
  },
  {
   "cell_type": "markdown",
   "metadata": {
    "hidden": true
   },
   "source": [
    "**NB:** XGBRegressor is not a Scikit-Learn model as mentioned in the question but the class follows the same syntax as a Scikit-Learn estimator."
   ]
  },
  {
   "cell_type": "code",
   "execution_count": 85,
   "metadata": {
    "hidden": true
   },
   "outputs": [],
   "source": [
    "# We recreate the previous pipeline adding an XGBosst regressor at the last step\n",
    "ensemble_pipeline = Pipeline(\n",
    "    steps=[\n",
    "        ('artist_popularity', ArtistPopularityTransformer()),\n",
    "        ('scaling_and_additional_preprocessing', ct),\n",
    "        ('ensemble_model', XGBRegressor())\n",
    "    ]\n",
    ")"
   ]
  },
  {
   "cell_type": "code",
   "execution_count": 86,
   "metadata": {
    "hidden": true,
    "scrolled": true
   },
   "outputs": [
    {
     "data": {
      "text/html": [
       "<style>div.sk-top-container {color: black;background-color: white;}div.sk-toggleable {background-color: white;}label.sk-toggleable__label {cursor: pointer;display: block;width: 100%;margin-bottom: 0;padding: 0.2em 0.3em;box-sizing: border-box;text-align: center;}div.sk-toggleable__content {max-height: 0;max-width: 0;overflow: hidden;text-align: left;background-color: #f0f8ff;}div.sk-toggleable__content pre {margin: 0.2em;color: black;border-radius: 0.25em;background-color: #f0f8ff;}input.sk-toggleable__control:checked~div.sk-toggleable__content {max-height: 200px;max-width: 100%;overflow: auto;}div.sk-estimator input.sk-toggleable__control:checked~label.sk-toggleable__label {background-color: #d4ebff;}div.sk-label input.sk-toggleable__control:checked~label.sk-toggleable__label {background-color: #d4ebff;}input.sk-hidden--visually {border: 0;clip: rect(1px 1px 1px 1px);clip: rect(1px, 1px, 1px, 1px);height: 1px;margin: -1px;overflow: hidden;padding: 0;position: absolute;width: 1px;}div.sk-estimator {font-family: monospace;background-color: #f0f8ff;margin: 0.25em 0.25em;border: 1px dotted black;border-radius: 0.25em;box-sizing: border-box;}div.sk-estimator:hover {background-color: #d4ebff;}div.sk-parallel-item::after {content: \"\";width: 100%;border-bottom: 1px solid gray;flex-grow: 1;}div.sk-label:hover label.sk-toggleable__label {background-color: #d4ebff;}div.sk-serial::before {content: \"\";position: absolute;border-left: 1px solid gray;box-sizing: border-box;top: 2em;bottom: 0;left: 50%;}div.sk-serial {display: flex;flex-direction: column;align-items: center;background-color: white;}div.sk-item {z-index: 1;}div.sk-parallel {display: flex;align-items: stretch;justify-content: center;background-color: white;}div.sk-parallel-item {display: flex;flex-direction: column;position: relative;background-color: white;}div.sk-parallel-item:first-child::after {align-self: flex-end;width: 50%;}div.sk-parallel-item:last-child::after {align-self: flex-start;width: 50%;}div.sk-parallel-item:only-child::after {width: 0;}div.sk-dashed-wrapped {border: 1px dashed gray;margin: 0.2em;box-sizing: border-box;padding-bottom: 0.1em;background-color: white;position: relative;}div.sk-label label {font-family: monospace;font-weight: bold;background-color: white;display: inline-block;line-height: 1.2em;}div.sk-label-container {position: relative;z-index: 2;text-align: center;}div.sk-container {display: inline-block;position: relative;}</style><div class=\"sk-top-container\"><div class=\"sk-container\"><div class=\"sk-item sk-dashed-wrapped\"><div class=\"sk-label-container\"><div class=\"sk-label sk-toggleable\"><input class=\"sk-toggleable__control sk-hidden--visually\" id=\"d2efddc1-9b37-4f30-bb7f-378b275b86cb\" type=\"checkbox\" ><label class=\"sk-toggleable__label\" for=\"d2efddc1-9b37-4f30-bb7f-378b275b86cb\">Pipeline</label><div class=\"sk-toggleable__content\"><pre>Pipeline(steps=[('artist_popularity', ArtistPopularityTransformer()),\n",
       "                ('scaling_and_additional_preprocessing',\n",
       "                 ColumnTransformer(remainder='passthrough',\n",
       "                                   transformers=[('drop_id_and_song_name',\n",
       "                                                  'drop', ['id', 'name']),\n",
       "                                                 ('min_max_scaler',\n",
       "                                                  MinMaxScaler(),\n",
       "                                                  ['duration_ms',\n",
       "                                                   'acousticness',\n",
       "                                                   'danceability', 'energy',\n",
       "                                                   'valence']),\n",
       "                                                 ('robust_scaler',\n",
       "                                                  RobustScaler(),\n",
       "                                                  ['instru...\n",
       "                              colsample_bytree=1, gamma=0, gpu_id=-1,\n",
       "                              importance_type='gain',\n",
       "                              interaction_constraints='',\n",
       "                              learning_rate=0.300000012, max_delta_step=0,\n",
       "                              max_depth=6, min_child_weight=1, missing=nan,\n",
       "                              monotone_constraints='()', n_estimators=100,\n",
       "                              n_jobs=0, num_parallel_tree=1, random_state=0,\n",
       "                              reg_alpha=0, reg_lambda=1, scale_pos_weight=1,\n",
       "                              subsample=1, tree_method='exact',\n",
       "                              validate_parameters=1, verbosity=None))])</pre></div></div></div><div class=\"sk-serial\"><div class=\"sk-item\"><div class=\"sk-estimator sk-toggleable\"><input class=\"sk-toggleable__control sk-hidden--visually\" id=\"6b53d822-0f35-457e-90bd-47ba0a8b947e\" type=\"checkbox\" ><label class=\"sk-toggleable__label\" for=\"6b53d822-0f35-457e-90bd-47ba0a8b947e\">ArtistPopularityTransformer</label><div class=\"sk-toggleable__content\"><pre>ArtistPopularityTransformer()</pre></div></div></div><div class=\"sk-item sk-dashed-wrapped\"><div class=\"sk-label-container\"><div class=\"sk-label sk-toggleable\"><input class=\"sk-toggleable__control sk-hidden--visually\" id=\"bc084795-57b9-408f-9214-edfafeafad85\" type=\"checkbox\" ><label class=\"sk-toggleable__label\" for=\"bc084795-57b9-408f-9214-edfafeafad85\">scaling_and_additional_preprocessing: ColumnTransformer</label><div class=\"sk-toggleable__content\"><pre>ColumnTransformer(remainder='passthrough',\n",
       "                  transformers=[('drop_id_and_song_name', 'drop',\n",
       "                                 ['id', 'name']),\n",
       "                                ('min_max_scaler', MinMaxScaler(),\n",
       "                                 ['duration_ms', 'acousticness', 'danceability',\n",
       "                                  'energy', 'valence']),\n",
       "                                ('robust_scaler', RobustScaler(),\n",
       "                                 ['instrumentalness', 'liveness', 'loudness',\n",
       "                                  'speechiness', 'tempo']),\n",
       "                                ('key_encoding', OneHotEncoder(), ['key']),\n",
       "                                ('release_year', ReleaseYearTransformer(),\n",
       "                                 ['release_date'])])</pre></div></div></div><div class=\"sk-parallel\"><div class=\"sk-parallel-item\"><div class=\"sk-item\"><div class=\"sk-label-container\"><div class=\"sk-label sk-toggleable\"><input class=\"sk-toggleable__control sk-hidden--visually\" id=\"099f48b5-2c31-4239-b960-690a53d9671a\" type=\"checkbox\" ><label class=\"sk-toggleable__label\" for=\"099f48b5-2c31-4239-b960-690a53d9671a\">drop_id_and_song_name</label><div class=\"sk-toggleable__content\"><pre>['id', 'name']</pre></div></div></div><div class=\"sk-serial\"><div class=\"sk-item\"><div class=\"sk-estimator sk-toggleable\"><input class=\"sk-toggleable__control sk-hidden--visually\" id=\"6dad1480-2c59-4550-91c4-7f05372cef6c\" type=\"checkbox\" ><label class=\"sk-toggleable__label\" for=\"6dad1480-2c59-4550-91c4-7f05372cef6c\">drop</label><div class=\"sk-toggleable__content\"><pre>drop</pre></div></div></div></div></div></div><div class=\"sk-parallel-item\"><div class=\"sk-item\"><div class=\"sk-label-container\"><div class=\"sk-label sk-toggleable\"><input class=\"sk-toggleable__control sk-hidden--visually\" id=\"003fc80a-4e8a-4715-af76-8d0c720ffb85\" type=\"checkbox\" ><label class=\"sk-toggleable__label\" for=\"003fc80a-4e8a-4715-af76-8d0c720ffb85\">min_max_scaler</label><div class=\"sk-toggleable__content\"><pre>['duration_ms', 'acousticness', 'danceability', 'energy', 'valence']</pre></div></div></div><div class=\"sk-serial\"><div class=\"sk-item\"><div class=\"sk-estimator sk-toggleable\"><input class=\"sk-toggleable__control sk-hidden--visually\" id=\"4dca3072-e942-45b0-8c5f-bb7c01df3c3a\" type=\"checkbox\" ><label class=\"sk-toggleable__label\" for=\"4dca3072-e942-45b0-8c5f-bb7c01df3c3a\">MinMaxScaler</label><div class=\"sk-toggleable__content\"><pre>MinMaxScaler()</pre></div></div></div></div></div></div><div class=\"sk-parallel-item\"><div class=\"sk-item\"><div class=\"sk-label-container\"><div class=\"sk-label sk-toggleable\"><input class=\"sk-toggleable__control sk-hidden--visually\" id=\"fa88d20d-a799-482a-92cb-b36c3be15473\" type=\"checkbox\" ><label class=\"sk-toggleable__label\" for=\"fa88d20d-a799-482a-92cb-b36c3be15473\">robust_scaler</label><div class=\"sk-toggleable__content\"><pre>['instrumentalness', 'liveness', 'loudness', 'speechiness', 'tempo']</pre></div></div></div><div class=\"sk-serial\"><div class=\"sk-item\"><div class=\"sk-estimator sk-toggleable\"><input class=\"sk-toggleable__control sk-hidden--visually\" id=\"4afd076e-5d1f-4e83-89b4-5b76fd876f4b\" type=\"checkbox\" ><label class=\"sk-toggleable__label\" for=\"4afd076e-5d1f-4e83-89b4-5b76fd876f4b\">RobustScaler</label><div class=\"sk-toggleable__content\"><pre>RobustScaler()</pre></div></div></div></div></div></div><div class=\"sk-parallel-item\"><div class=\"sk-item\"><div class=\"sk-label-container\"><div class=\"sk-label sk-toggleable\"><input class=\"sk-toggleable__control sk-hidden--visually\" id=\"5e4dc272-db09-4398-968d-ca55ef1ded29\" type=\"checkbox\" ><label class=\"sk-toggleable__label\" for=\"5e4dc272-db09-4398-968d-ca55ef1ded29\">key_encoding</label><div class=\"sk-toggleable__content\"><pre>['key']</pre></div></div></div><div class=\"sk-serial\"><div class=\"sk-item\"><div class=\"sk-estimator sk-toggleable\"><input class=\"sk-toggleable__control sk-hidden--visually\" id=\"44f8d7c5-ab69-4d3d-b1af-0dc2f49d46f5\" type=\"checkbox\" ><label class=\"sk-toggleable__label\" for=\"44f8d7c5-ab69-4d3d-b1af-0dc2f49d46f5\">OneHotEncoder</label><div class=\"sk-toggleable__content\"><pre>OneHotEncoder()</pre></div></div></div></div></div></div><div class=\"sk-parallel-item\"><div class=\"sk-item\"><div class=\"sk-label-container\"><div class=\"sk-label sk-toggleable\"><input class=\"sk-toggleable__control sk-hidden--visually\" id=\"43b23ae1-0e87-49d8-ad3e-87eb760a15c8\" type=\"checkbox\" ><label class=\"sk-toggleable__label\" for=\"43b23ae1-0e87-49d8-ad3e-87eb760a15c8\">release_year</label><div class=\"sk-toggleable__content\"><pre>['release_date']</pre></div></div></div><div class=\"sk-serial\"><div class=\"sk-item\"><div class=\"sk-estimator sk-toggleable\"><input class=\"sk-toggleable__control sk-hidden--visually\" id=\"f333cce4-e73e-44aa-a563-600a40883f85\" type=\"checkbox\" ><label class=\"sk-toggleable__label\" for=\"f333cce4-e73e-44aa-a563-600a40883f85\">ReleaseYearTransformer</label><div class=\"sk-toggleable__content\"><pre>ReleaseYearTransformer()</pre></div></div></div></div></div></div></div></div><div class=\"sk-item\"><div class=\"sk-estimator sk-toggleable\"><input class=\"sk-toggleable__control sk-hidden--visually\" id=\"eca620ab-5546-440c-accf-29e8b1282ed9\" type=\"checkbox\" ><label class=\"sk-toggleable__label\" for=\"eca620ab-5546-440c-accf-29e8b1282ed9\">XGBRegressor</label><div class=\"sk-toggleable__content\"><pre>XGBRegressor(base_score=0.5, booster='gbtree', colsample_bylevel=1,\n",
       "             colsample_bynode=1, colsample_bytree=1, gamma=0, gpu_id=-1,\n",
       "             importance_type='gain', interaction_constraints='',\n",
       "             learning_rate=0.300000012, max_delta_step=0, max_depth=6,\n",
       "             min_child_weight=1, missing=nan, monotone_constraints='()',\n",
       "             n_estimators=100, n_jobs=0, num_parallel_tree=1, random_state=0,\n",
       "             reg_alpha=0, reg_lambda=1, scale_pos_weight=1, subsample=1,\n",
       "             tree_method='exact', validate_parameters=1, verbosity=None)</pre></div></div></div></div></div></div></div>"
      ],
      "text/plain": [
       "Pipeline(steps=[('artist_popularity', ArtistPopularityTransformer()),\n",
       "                ('scaling_and_additional_preprocessing',\n",
       "                 ColumnTransformer(remainder='passthrough',\n",
       "                                   transformers=[('drop_id_and_song_name',\n",
       "                                                  'drop', ['id', 'name']),\n",
       "                                                 ('min_max_scaler',\n",
       "                                                  MinMaxScaler(),\n",
       "                                                  ['duration_ms',\n",
       "                                                   'acousticness',\n",
       "                                                   'danceability', 'energy',\n",
       "                                                   'valence']),\n",
       "                                                 ('robust_scaler',\n",
       "                                                  RobustScaler(),\n",
       "                                                  ['instru...\n",
       "                              colsample_bytree=1, gamma=0, gpu_id=-1,\n",
       "                              importance_type='gain',\n",
       "                              interaction_constraints='',\n",
       "                              learning_rate=0.300000012, max_delta_step=0,\n",
       "                              max_depth=6, min_child_weight=1, missing=nan,\n",
       "                              monotone_constraints='()', n_estimators=100,\n",
       "                              n_jobs=0, num_parallel_tree=1, random_state=0,\n",
       "                              reg_alpha=0, reg_lambda=1, scale_pos_weight=1,\n",
       "                              subsample=1, tree_method='exact',\n",
       "                              validate_parameters=1, verbosity=None))])"
      ]
     },
     "execution_count": 86,
     "metadata": {},
     "output_type": "execute_result"
    }
   ],
   "source": [
    "# We fit a first, non-tuned pipeline on the train set\n",
    "ensemble_pipeline.fit(X_train, y_train)"
   ]
  },
  {
   "cell_type": "code",
   "execution_count": 87,
   "metadata": {
    "hidden": true
   },
   "outputs": [
    {
     "name": "stdout",
     "output_type": "stream",
     "text": [
      "12.790340610471395\n"
     ]
    }
   ],
   "source": [
    "# We run predictions on the test set\n",
    "y_pred = ensemble_pipeline.predict(X_test)\n",
    "\n",
    "# And we store the resulting RMSE\n",
    "rmse_ensemble_not_tuned = mean_squared_error(y_test, y_pred, squared=False)\n",
    "\n",
    "print(rmse_ensemble_not_tuned)"
   ]
  },
  {
   "cell_type": "markdown",
   "metadata": {
    "hidden": true
   },
   "source": [
    "The performance increment from the lasso model seems significant although we do not consider a cross-validated score here!"
   ]
  },
  {
   "cell_type": "code",
   "execution_count": 88,
   "metadata": {
    "hidden": true
   },
   "outputs": [],
   "source": [
    "# Hyperparameters to test in the randomized search\n",
    "param_distributions = {\n",
    "    'ensemble_model__n_estimators': randint(50, 150),\n",
    "    'ensemble_model__max_depth': randint(5, 25),\n",
    "    'ensemble_model__learning_rate': uniform(0.05, 0.3),\n",
    "    'ensemble_model__min_child_weight': randint(1, 7),\n",
    "    'ensemble_model__gamma': uniform(0, 0.5),\n",
    "    'ensemble_model__reg_alpha': [1e-5, 1e-2, 0.1, 1, 100],\n",
    "    'ensemble_model__booster': ['gbtree', 'gblinear', 'dart']\n",
    "}"
   ]
  },
  {
   "cell_type": "code",
   "execution_count": 138,
   "metadata": {
    "hidden": true
   },
   "outputs": [],
   "source": [
    "# Re-instantiating a clean pipeline\n",
    "ensemble_pipeline = Pipeline(\n",
    "    steps=[\n",
    "        ('artist_popularity', ArtistPopularityTransformer()),\n",
    "        ('scaling_and_additional_preprocessing', ct),\n",
    "        ('ensemble_model', XGBRegressor())\n",
    "    ]\n",
    ")\n",
    "\n",
    "# Instantiating the randomized search\n",
    "random_search = RandomizedSearchCV(\n",
    "    ensemble_pipeline, \n",
    "    param_distributions=param_distributions,\n",
    "    n_iter=30,\n",
    "    scoring='neg_root_mean_squared_error',\n",
    "    cv=5, \n",
    "    verbose=1,\n",
    "    refit=True , \n",
    "    n_jobs=-1\n",
    ")"
   ]
  },
  {
   "cell_type": "markdown",
   "metadata": {
    "hidden": true
   },
   "source": [
    "**NB:** As expected (and as can be seen) the following cell was taking a bit of time, so I did not rerun a second time. The same goes for the following cells. So, these results were not obtained with the same train-test split as those above. "
   ]
  },
  {
   "cell_type": "code",
   "execution_count": 139,
   "metadata": {
    "hidden": true,
    "scrolled": true
   },
   "outputs": [
    {
     "name": "stdout",
     "output_type": "stream",
     "text": [
      "Fitting 5 folds for each of 30 candidates, totalling 150 fits\n"
     ]
    },
    {
     "name": "stderr",
     "output_type": "stream",
     "text": [
      "[Parallel(n_jobs=-1)]: Using backend LokyBackend with 4 concurrent workers.\n",
      "[Parallel(n_jobs=-1)]: Done  42 tasks      | elapsed:  8.5min\n",
      "[Parallel(n_jobs=-1)]: Done 150 out of 150 | elapsed: 19.5min finished\n"
     ]
    },
    {
     "name": "stdout",
     "output_type": "stream",
     "text": [
      "CPU times: user 37.2 s, sys: 1.14 s, total: 38.3 s\n",
      "Wall time: 19min 38s\n"
     ]
    },
    {
     "data": {
      "text/html": [
       "<style>div.sk-top-container {color: black;background-color: white;}div.sk-toggleable {background-color: white;}label.sk-toggleable__label {cursor: pointer;display: block;width: 100%;margin-bottom: 0;padding: 0.2em 0.3em;box-sizing: border-box;text-align: center;}div.sk-toggleable__content {max-height: 0;max-width: 0;overflow: hidden;text-align: left;background-color: #f0f8ff;}div.sk-toggleable__content pre {margin: 0.2em;color: black;border-radius: 0.25em;background-color: #f0f8ff;}input.sk-toggleable__control:checked~div.sk-toggleable__content {max-height: 200px;max-width: 100%;overflow: auto;}div.sk-estimator input.sk-toggleable__control:checked~label.sk-toggleable__label {background-color: #d4ebff;}div.sk-label input.sk-toggleable__control:checked~label.sk-toggleable__label {background-color: #d4ebff;}input.sk-hidden--visually {border: 0;clip: rect(1px 1px 1px 1px);clip: rect(1px, 1px, 1px, 1px);height: 1px;margin: -1px;overflow: hidden;padding: 0;position: absolute;width: 1px;}div.sk-estimator {font-family: monospace;background-color: #f0f8ff;margin: 0.25em 0.25em;border: 1px dotted black;border-radius: 0.25em;box-sizing: border-box;}div.sk-estimator:hover {background-color: #d4ebff;}div.sk-parallel-item::after {content: \"\";width: 100%;border-bottom: 1px solid gray;flex-grow: 1;}div.sk-label:hover label.sk-toggleable__label {background-color: #d4ebff;}div.sk-serial::before {content: \"\";position: absolute;border-left: 1px solid gray;box-sizing: border-box;top: 2em;bottom: 0;left: 50%;}div.sk-serial {display: flex;flex-direction: column;align-items: center;background-color: white;}div.sk-item {z-index: 1;}div.sk-parallel {display: flex;align-items: stretch;justify-content: center;background-color: white;}div.sk-parallel-item {display: flex;flex-direction: column;position: relative;background-color: white;}div.sk-parallel-item:first-child::after {align-self: flex-end;width: 50%;}div.sk-parallel-item:last-child::after {align-self: flex-start;width: 50%;}div.sk-parallel-item:only-child::after {width: 0;}div.sk-dashed-wrapped {border: 1px dashed gray;margin: 0.2em;box-sizing: border-box;padding-bottom: 0.1em;background-color: white;position: relative;}div.sk-label label {font-family: monospace;font-weight: bold;background-color: white;display: inline-block;line-height: 1.2em;}div.sk-label-container {position: relative;z-index: 2;text-align: center;}div.sk-container {display: inline-block;position: relative;}</style><div class=\"sk-top-container\"><div class=\"sk-container\"><div class=\"sk-item sk-dashed-wrapped\"><div class=\"sk-label-container\"><div class=\"sk-label sk-toggleable\"><input class=\"sk-toggleable__control sk-hidden--visually\" id=\"c10b6da7-3bc7-446a-bac1-ae6a2dc2cfef\" type=\"checkbox\" ><label class=\"sk-toggleable__label\" for=\"c10b6da7-3bc7-446a-bac1-ae6a2dc2cfef\">RandomizedSearchCV</label><div class=\"sk-toggleable__content\"><pre>RandomizedSearchCV(cv=5,\n",
       "                   estimator=Pipeline(steps=[('artist_popularity',\n",
       "                                              ArtistPopularityTransformer()),\n",
       "                                             ('scaling_and_additional_preprocessing',\n",
       "                                              ColumnTransformer(remainder='passthrough',\n",
       "                                                                transformers=[('drop_id_and_song_name',\n",
       "                                                                               'drop',\n",
       "                                                                               ['id',\n",
       "                                                                                'name']),\n",
       "                                                                              ('min_max_scaler',\n",
       "                                                                               MinMaxScaler(),\n",
       "                                                                               ['duration_ms',\n",
       "                                                                                'acousticness',\n",
       "                                                                                'danceability',\n",
       "                                                                                'energy',\n",
       "                                                                                'valence']),\n",
       "                                                                              ('robu...\n",
       "                                        'ensemble_model__max_depth': <scipy.stats._distn_infrastructure.rv_frozen object at 0x131f44d10>,\n",
       "                                        'ensemble_model__min_child_weight': <scipy.stats._distn_infrastructure.rv_frozen object at 0x131f46210>,\n",
       "                                        'ensemble_model__n_estimators': <scipy.stats._distn_infrastructure.rv_frozen object at 0x131f44c50>,\n",
       "                                        'ensemble_model__reg_alpha': [1e-05,\n",
       "                                                                      0.01, 0.1,\n",
       "                                                                      1, 100]},\n",
       "                   scoring='neg_root_mean_squared_error', verbose=1)</pre></div></div></div><div class=\"sk-parallel\"><div class=\"sk-parallel-item\"><div class=\"sk-item\"><div class=\"sk-serial\"><div class=\"sk-item\"><div class=\"sk-serial\"><div class=\"sk-item\"><div class=\"sk-estimator sk-toggleable\"><input class=\"sk-toggleable__control sk-hidden--visually\" id=\"cb47fde8-82bf-4be4-925a-6f57be856ff1\" type=\"checkbox\" ><label class=\"sk-toggleable__label\" for=\"cb47fde8-82bf-4be4-925a-6f57be856ff1\">ArtistPopularityTransformer</label><div class=\"sk-toggleable__content\"><pre>ArtistPopularityTransformer()</pre></div></div></div><div class=\"sk-item sk-dashed-wrapped\"><div class=\"sk-label-container\"><div class=\"sk-label sk-toggleable\"><input class=\"sk-toggleable__control sk-hidden--visually\" id=\"17d85c87-6e89-4495-a163-3abbbbeb0888\" type=\"checkbox\" ><label class=\"sk-toggleable__label\" for=\"17d85c87-6e89-4495-a163-3abbbbeb0888\">scaling_and_additional_preprocessing: ColumnTransformer</label><div class=\"sk-toggleable__content\"><pre>ColumnTransformer(remainder='passthrough',\n",
       "                  transformers=[('drop_id_and_song_name', 'drop',\n",
       "                                 ['id', 'name']),\n",
       "                                ('min_max_scaler', MinMaxScaler(),\n",
       "                                 ['duration_ms', 'acousticness', 'danceability',\n",
       "                                  'energy', 'valence']),\n",
       "                                ('robust_scaler', RobustScaler(),\n",
       "                                 ['instrumentalness', 'liveness', 'loudness',\n",
       "                                  'speechiness', 'tempo']),\n",
       "                                ('key_encoding', OneHotEncoder(), ['key']),\n",
       "                                ('release_year', ReleaseYearTransformer(),\n",
       "                                 ['release_date'])])</pre></div></div></div><div class=\"sk-parallel\"><div class=\"sk-parallel-item\"><div class=\"sk-item\"><div class=\"sk-label-container\"><div class=\"sk-label sk-toggleable\"><input class=\"sk-toggleable__control sk-hidden--visually\" id=\"2b6957dc-aff8-401b-95f6-6a281b7c53da\" type=\"checkbox\" ><label class=\"sk-toggleable__label\" for=\"2b6957dc-aff8-401b-95f6-6a281b7c53da\">drop_id_and_song_name</label><div class=\"sk-toggleable__content\"><pre>['id', 'name']</pre></div></div></div><div class=\"sk-serial\"><div class=\"sk-item\"><div class=\"sk-estimator sk-toggleable\"><input class=\"sk-toggleable__control sk-hidden--visually\" id=\"4ffdca82-3453-48c2-9a71-bb94be423bb9\" type=\"checkbox\" ><label class=\"sk-toggleable__label\" for=\"4ffdca82-3453-48c2-9a71-bb94be423bb9\">drop</label><div class=\"sk-toggleable__content\"><pre>drop</pre></div></div></div></div></div></div><div class=\"sk-parallel-item\"><div class=\"sk-item\"><div class=\"sk-label-container\"><div class=\"sk-label sk-toggleable\"><input class=\"sk-toggleable__control sk-hidden--visually\" id=\"4fe4c9a8-032b-4bc9-8678-20d767108911\" type=\"checkbox\" ><label class=\"sk-toggleable__label\" for=\"4fe4c9a8-032b-4bc9-8678-20d767108911\">min_max_scaler</label><div class=\"sk-toggleable__content\"><pre>['duration_ms', 'acousticness', 'danceability', 'energy', 'valence']</pre></div></div></div><div class=\"sk-serial\"><div class=\"sk-item\"><div class=\"sk-estimator sk-toggleable\"><input class=\"sk-toggleable__control sk-hidden--visually\" id=\"f174a28e-accc-40e5-849b-16ca43bae289\" type=\"checkbox\" ><label class=\"sk-toggleable__label\" for=\"f174a28e-accc-40e5-849b-16ca43bae289\">MinMaxScaler</label><div class=\"sk-toggleable__content\"><pre>MinMaxScaler()</pre></div></div></div></div></div></div><div class=\"sk-parallel-item\"><div class=\"sk-item\"><div class=\"sk-label-container\"><div class=\"sk-label sk-toggleable\"><input class=\"sk-toggleable__control sk-hidden--visually\" id=\"82aaa482-90a2-4df5-a49c-1b836c7c1838\" type=\"checkbox\" ><label class=\"sk-toggleable__label\" for=\"82aaa482-90a2-4df5-a49c-1b836c7c1838\">robust_scaler</label><div class=\"sk-toggleable__content\"><pre>['instrumentalness', 'liveness', 'loudness', 'speechiness', 'tempo']</pre></div></div></div><div class=\"sk-serial\"><div class=\"sk-item\"><div class=\"sk-estimator sk-toggleable\"><input class=\"sk-toggleable__control sk-hidden--visually\" id=\"f59fa769-2c6e-41db-b421-24df4aa85194\" type=\"checkbox\" ><label class=\"sk-toggleable__label\" for=\"f59fa769-2c6e-41db-b421-24df4aa85194\">RobustScaler</label><div class=\"sk-toggleable__content\"><pre>RobustScaler()</pre></div></div></div></div></div></div><div class=\"sk-parallel-item\"><div class=\"sk-item\"><div class=\"sk-label-container\"><div class=\"sk-label sk-toggleable\"><input class=\"sk-toggleable__control sk-hidden--visually\" id=\"011f5023-50f1-403c-a2d9-b2da49fc49f1\" type=\"checkbox\" ><label class=\"sk-toggleable__label\" for=\"011f5023-50f1-403c-a2d9-b2da49fc49f1\">key_encoding</label><div class=\"sk-toggleable__content\"><pre>['key']</pre></div></div></div><div class=\"sk-serial\"><div class=\"sk-item\"><div class=\"sk-estimator sk-toggleable\"><input class=\"sk-toggleable__control sk-hidden--visually\" id=\"2a0a6d09-0e5c-46e5-beae-cb55c595530f\" type=\"checkbox\" ><label class=\"sk-toggleable__label\" for=\"2a0a6d09-0e5c-46e5-beae-cb55c595530f\">OneHotEncoder</label><div class=\"sk-toggleable__content\"><pre>OneHotEncoder()</pre></div></div></div></div></div></div><div class=\"sk-parallel-item\"><div class=\"sk-item\"><div class=\"sk-label-container\"><div class=\"sk-label sk-toggleable\"><input class=\"sk-toggleable__control sk-hidden--visually\" id=\"7469303d-1f86-4b78-888c-d481275aa0b8\" type=\"checkbox\" ><label class=\"sk-toggleable__label\" for=\"7469303d-1f86-4b78-888c-d481275aa0b8\">release_year</label><div class=\"sk-toggleable__content\"><pre>['release_date']</pre></div></div></div><div class=\"sk-serial\"><div class=\"sk-item\"><div class=\"sk-estimator sk-toggleable\"><input class=\"sk-toggleable__control sk-hidden--visually\" id=\"6a66c9ef-4ecf-4462-8f1c-6a371bfa22a7\" type=\"checkbox\" ><label class=\"sk-toggleable__label\" for=\"6a66c9ef-4ecf-4462-8f1c-6a371bfa22a7\">ReleaseYearTransformer</label><div class=\"sk-toggleable__content\"><pre>ReleaseYearTransformer()</pre></div></div></div></div></div></div></div></div><div class=\"sk-item\"><div class=\"sk-estimator sk-toggleable\"><input class=\"sk-toggleable__control sk-hidden--visually\" id=\"f3eaaf24-9c3f-416c-81f8-cd4e496eceb7\" type=\"checkbox\" ><label class=\"sk-toggleable__label\" for=\"f3eaaf24-9c3f-416c-81f8-cd4e496eceb7\">XGBRegressor</label><div class=\"sk-toggleable__content\"><pre>XGBRegressor(base_score=None, booster=None, colsample_bylevel=None,\n",
       "             colsample_bynode=None, colsample_bytree=None, gamma=None,\n",
       "             gpu_id=None, importance_type='gain', interaction_constraints=None,\n",
       "             learning_rate=None, max_delta_step=None, max_depth=None,\n",
       "             min_child_weight=None, missing=nan, monotone_constraints=None,\n",
       "             n_estimators=100, n_jobs=None, num_parallel_tree=None,\n",
       "             random_state=None, reg_alpha=None, reg_lambda=None,\n",
       "             scale_pos_weight=None, subsample=None, tree_method=None,\n",
       "             validate_parameters=None, verbosity=None)</pre></div></div></div></div></div></div></div></div></div></div></div></div>"
      ],
      "text/plain": [
       "RandomizedSearchCV(cv=5,\n",
       "                   estimator=Pipeline(steps=[('artist_popularity',\n",
       "                                              ArtistPopularityTransformer()),\n",
       "                                             ('scaling_and_additional_preprocessing',\n",
       "                                              ColumnTransformer(remainder='passthrough',\n",
       "                                                                transformers=[('drop_id_and_song_name',\n",
       "                                                                               'drop',\n",
       "                                                                               ['id',\n",
       "                                                                                'name']),\n",
       "                                                                              ('min_max_scaler',\n",
       "                                                                               MinMaxScaler(),\n",
       "                                                                               ['duration_ms',\n",
       "                                                                                'acousticness',\n",
       "                                                                                'danceability',\n",
       "                                                                                'energy',\n",
       "                                                                                'valence']),\n",
       "                                                                              ('robu...\n",
       "                                        'ensemble_model__max_depth': <scipy.stats._distn_infrastructure.rv_frozen object at 0x131f44d10>,\n",
       "                                        'ensemble_model__min_child_weight': <scipy.stats._distn_infrastructure.rv_frozen object at 0x131f46210>,\n",
       "                                        'ensemble_model__n_estimators': <scipy.stats._distn_infrastructure.rv_frozen object at 0x131f44c50>,\n",
       "                                        'ensemble_model__reg_alpha': [1e-05,\n",
       "                                                                      0.01, 0.1,\n",
       "                                                                      1, 100]},\n",
       "                   scoring='neg_root_mean_squared_error', verbose=1)"
      ]
     },
     "execution_count": 139,
     "metadata": {},
     "output_type": "execute_result"
    }
   ],
   "source": [
    "%%time\n",
    "\n",
    "# We fit the randomized search on the train set\n",
    "random_search.fit(X_train, y_train)"
   ]
  },
  {
   "cell_type": "code",
   "execution_count": 143,
   "metadata": {
    "hidden": true
   },
   "outputs": [
    {
     "data": {
      "text/plain": [
       "{'ensemble_model__booster': 'gbtree',\n",
       " 'ensemble_model__gamma': 0.3364093010602823,\n",
       " 'ensemble_model__learning_rate': 0.12423312668551885,\n",
       " 'ensemble_model__max_depth': 14,\n",
       " 'ensemble_model__min_child_weight': 6,\n",
       " 'ensemble_model__n_estimators': 110,\n",
       " 'ensemble_model__reg_alpha': 100}"
      ]
     },
     "execution_count": 143,
     "metadata": {},
     "output_type": "execute_result"
    }
   ],
   "source": [
    "# We can check the best-performing combination of hyperparameters\n",
    "random_search.best_params_"
   ]
  },
  {
   "cell_type": "code",
   "execution_count": 144,
   "metadata": {
    "hidden": true
   },
   "outputs": [
    {
     "data": {
      "text/plain": [
       "13.202002312127174"
      ]
     },
     "execution_count": 144,
     "metadata": {},
     "output_type": "execute_result"
    }
   ],
   "source": [
    "# We can also look at the best cross-validated RMSE\n",
    "- random_search.best_score_"
   ]
  },
  {
   "cell_type": "code",
   "execution_count": 145,
   "metadata": {
    "hidden": true
   },
   "outputs": [
    {
     "name": "stdout",
     "output_type": "stream",
     "text": [
      "12.682370740213036\n"
     ]
    }
   ],
   "source": [
    "# Running predictions on the test set\n",
    "y_pred = random_search.best_estimator_.predict(X_test)\n",
    "\n",
    "# Storing the resulting RMSE\n",
    "rmse_ensemble_tuned = mean_squared_error(y_test, y_pred, squared=False)\n",
    "\n",
    "print(rmse_ensemble_tuned)"
   ]
  },
  {
   "cell_type": "markdown",
   "metadata": {
    "heading_collapsed": true,
    "hidden": true
   },
   "source": [
    "### Save your results\n",
    "\n",
    "Run the following cell to save your results."
   ]
  },
  {
   "cell_type": "code",
   "execution_count": 146,
   "metadata": {
    "hidden": true
   },
   "outputs": [],
   "source": [
    "# We store the best-performing pipelines\n",
    "pipe_linear = grid_search.best_estimator_\n",
    "pipe_ensemble = random_search.best_estimator_"
   ]
  },
  {
   "cell_type": "code",
   "execution_count": 147,
   "metadata": {
    "hidden": true
   },
   "outputs": [],
   "source": [
    "# We rename the variables storing our test set results\n",
    "score_linear = rmse_linear_tuned\n",
    "score_ensemble = rmse_ensemble_tuned"
   ]
  },
  {
   "cell_type": "code",
   "execution_count": 148,
   "metadata": {
    "hidden": true
   },
   "outputs": [
    {
     "data": {
      "text/html": [
       "<style>div.sk-top-container {color: black;background-color: white;}div.sk-toggleable {background-color: white;}label.sk-toggleable__label {cursor: pointer;display: block;width: 100%;margin-bottom: 0;padding: 0.2em 0.3em;box-sizing: border-box;text-align: center;}div.sk-toggleable__content {max-height: 0;max-width: 0;overflow: hidden;text-align: left;background-color: #f0f8ff;}div.sk-toggleable__content pre {margin: 0.2em;color: black;border-radius: 0.25em;background-color: #f0f8ff;}input.sk-toggleable__control:checked~div.sk-toggleable__content {max-height: 200px;max-width: 100%;overflow: auto;}div.sk-estimator input.sk-toggleable__control:checked~label.sk-toggleable__label {background-color: #d4ebff;}div.sk-label input.sk-toggleable__control:checked~label.sk-toggleable__label {background-color: #d4ebff;}input.sk-hidden--visually {border: 0;clip: rect(1px 1px 1px 1px);clip: rect(1px, 1px, 1px, 1px);height: 1px;margin: -1px;overflow: hidden;padding: 0;position: absolute;width: 1px;}div.sk-estimator {font-family: monospace;background-color: #f0f8ff;margin: 0.25em 0.25em;border: 1px dotted black;border-radius: 0.25em;box-sizing: border-box;}div.sk-estimator:hover {background-color: #d4ebff;}div.sk-parallel-item::after {content: \"\";width: 100%;border-bottom: 1px solid gray;flex-grow: 1;}div.sk-label:hover label.sk-toggleable__label {background-color: #d4ebff;}div.sk-serial::before {content: \"\";position: absolute;border-left: 1px solid gray;box-sizing: border-box;top: 2em;bottom: 0;left: 50%;}div.sk-serial {display: flex;flex-direction: column;align-items: center;background-color: white;}div.sk-item {z-index: 1;}div.sk-parallel {display: flex;align-items: stretch;justify-content: center;background-color: white;}div.sk-parallel-item {display: flex;flex-direction: column;position: relative;background-color: white;}div.sk-parallel-item:first-child::after {align-self: flex-end;width: 50%;}div.sk-parallel-item:last-child::after {align-self: flex-start;width: 50%;}div.sk-parallel-item:only-child::after {width: 0;}div.sk-dashed-wrapped {border: 1px dashed gray;margin: 0.2em;box-sizing: border-box;padding-bottom: 0.1em;background-color: white;position: relative;}div.sk-label label {font-family: monospace;font-weight: bold;background-color: white;display: inline-block;line-height: 1.2em;}div.sk-label-container {position: relative;z-index: 2;text-align: center;}div.sk-container {display: inline-block;position: relative;}</style><div class=\"sk-top-container\"><div class=\"sk-container\"><div class=\"sk-item sk-dashed-wrapped\"><div class=\"sk-label-container\"><div class=\"sk-label sk-toggleable\"><input class=\"sk-toggleable__control sk-hidden--visually\" id=\"b6c2a3ca-19e1-4f39-a2b1-c9338db8d896\" type=\"checkbox\" ><label class=\"sk-toggleable__label\" for=\"b6c2a3ca-19e1-4f39-a2b1-c9338db8d896\">Pipeline</label><div class=\"sk-toggleable__content\"><pre>Pipeline(steps=[('artist_popularity', ArtistPopularityTransformer()),\n",
       "                ('scaling_and_additional_preprocessing',\n",
       "                 ColumnTransformer(remainder='passthrough',\n",
       "                                   transformers=[('drop_id_and_song_name',\n",
       "                                                  'drop', ['id', 'name']),\n",
       "                                                 ('min_max_scaler',\n",
       "                                                  MinMaxScaler(),\n",
       "                                                  ['duration_ms',\n",
       "                                                   'acousticness',\n",
       "                                                   'danceability', 'energy',\n",
       "                                                   'valence']),\n",
       "                                                 ('robust_scaler',\n",
       "                                                  RobustScaler(),\n",
       "                                                  ['instrumentalness',\n",
       "                                                   'liveness', 'loudness',\n",
       "                                                   'speechiness', 'tempo']),\n",
       "                                                 ('key_encoding',\n",
       "                                                  OneHotEncoder(), ['key']),\n",
       "                                                 ('release_year',\n",
       "                                                  ReleaseYearTransformer(),\n",
       "                                                  ['release_date'])])),\n",
       "                ('linear_model', Lasso(alpha=0.001))])</pre></div></div></div><div class=\"sk-serial\"><div class=\"sk-item\"><div class=\"sk-estimator sk-toggleable\"><input class=\"sk-toggleable__control sk-hidden--visually\" id=\"2ed12d74-885c-4460-a1f7-0a3794b4728d\" type=\"checkbox\" ><label class=\"sk-toggleable__label\" for=\"2ed12d74-885c-4460-a1f7-0a3794b4728d\">ArtistPopularityTransformer</label><div class=\"sk-toggleable__content\"><pre>ArtistPopularityTransformer()</pre></div></div></div><div class=\"sk-item sk-dashed-wrapped\"><div class=\"sk-label-container\"><div class=\"sk-label sk-toggleable\"><input class=\"sk-toggleable__control sk-hidden--visually\" id=\"d4685745-7979-4ee8-9c04-38681c909656\" type=\"checkbox\" ><label class=\"sk-toggleable__label\" for=\"d4685745-7979-4ee8-9c04-38681c909656\">scaling_and_additional_preprocessing: ColumnTransformer</label><div class=\"sk-toggleable__content\"><pre>ColumnTransformer(remainder='passthrough',\n",
       "                  transformers=[('drop_id_and_song_name', 'drop',\n",
       "                                 ['id', 'name']),\n",
       "                                ('min_max_scaler', MinMaxScaler(),\n",
       "                                 ['duration_ms', 'acousticness', 'danceability',\n",
       "                                  'energy', 'valence']),\n",
       "                                ('robust_scaler', RobustScaler(),\n",
       "                                 ['instrumentalness', 'liveness', 'loudness',\n",
       "                                  'speechiness', 'tempo']),\n",
       "                                ('key_encoding', OneHotEncoder(), ['key']),\n",
       "                                ('release_year', ReleaseYearTransformer(),\n",
       "                                 ['release_date'])])</pre></div></div></div><div class=\"sk-parallel\"><div class=\"sk-parallel-item\"><div class=\"sk-item\"><div class=\"sk-label-container\"><div class=\"sk-label sk-toggleable\"><input class=\"sk-toggleable__control sk-hidden--visually\" id=\"1e283ce9-a8e2-4f1c-b1e8-d20f8666c1c5\" type=\"checkbox\" ><label class=\"sk-toggleable__label\" for=\"1e283ce9-a8e2-4f1c-b1e8-d20f8666c1c5\">drop_id_and_song_name</label><div class=\"sk-toggleable__content\"><pre>['id', 'name']</pre></div></div></div><div class=\"sk-serial\"><div class=\"sk-item\"><div class=\"sk-estimator sk-toggleable\"><input class=\"sk-toggleable__control sk-hidden--visually\" id=\"51b18df0-90eb-4dc9-a24e-8c3195e59d92\" type=\"checkbox\" ><label class=\"sk-toggleable__label\" for=\"51b18df0-90eb-4dc9-a24e-8c3195e59d92\">drop</label><div class=\"sk-toggleable__content\"><pre>drop</pre></div></div></div></div></div></div><div class=\"sk-parallel-item\"><div class=\"sk-item\"><div class=\"sk-label-container\"><div class=\"sk-label sk-toggleable\"><input class=\"sk-toggleable__control sk-hidden--visually\" id=\"abd7b5db-8f5c-4f85-94df-79ec7d9daf8b\" type=\"checkbox\" ><label class=\"sk-toggleable__label\" for=\"abd7b5db-8f5c-4f85-94df-79ec7d9daf8b\">min_max_scaler</label><div class=\"sk-toggleable__content\"><pre>['duration_ms', 'acousticness', 'danceability', 'energy', 'valence']</pre></div></div></div><div class=\"sk-serial\"><div class=\"sk-item\"><div class=\"sk-estimator sk-toggleable\"><input class=\"sk-toggleable__control sk-hidden--visually\" id=\"0dfb3dc3-90cd-4146-a64f-ae9d3bb50a30\" type=\"checkbox\" ><label class=\"sk-toggleable__label\" for=\"0dfb3dc3-90cd-4146-a64f-ae9d3bb50a30\">MinMaxScaler</label><div class=\"sk-toggleable__content\"><pre>MinMaxScaler()</pre></div></div></div></div></div></div><div class=\"sk-parallel-item\"><div class=\"sk-item\"><div class=\"sk-label-container\"><div class=\"sk-label sk-toggleable\"><input class=\"sk-toggleable__control sk-hidden--visually\" id=\"612d625b-24b9-410c-b15e-e4a0e82d6737\" type=\"checkbox\" ><label class=\"sk-toggleable__label\" for=\"612d625b-24b9-410c-b15e-e4a0e82d6737\">robust_scaler</label><div class=\"sk-toggleable__content\"><pre>['instrumentalness', 'liveness', 'loudness', 'speechiness', 'tempo']</pre></div></div></div><div class=\"sk-serial\"><div class=\"sk-item\"><div class=\"sk-estimator sk-toggleable\"><input class=\"sk-toggleable__control sk-hidden--visually\" id=\"2052b94e-b21b-4bf9-9e17-5443cbcade92\" type=\"checkbox\" ><label class=\"sk-toggleable__label\" for=\"2052b94e-b21b-4bf9-9e17-5443cbcade92\">RobustScaler</label><div class=\"sk-toggleable__content\"><pre>RobustScaler()</pre></div></div></div></div></div></div><div class=\"sk-parallel-item\"><div class=\"sk-item\"><div class=\"sk-label-container\"><div class=\"sk-label sk-toggleable\"><input class=\"sk-toggleable__control sk-hidden--visually\" id=\"4ff91152-b379-492b-9392-82fef3a8a3d2\" type=\"checkbox\" ><label class=\"sk-toggleable__label\" for=\"4ff91152-b379-492b-9392-82fef3a8a3d2\">key_encoding</label><div class=\"sk-toggleable__content\"><pre>['key']</pre></div></div></div><div class=\"sk-serial\"><div class=\"sk-item\"><div class=\"sk-estimator sk-toggleable\"><input class=\"sk-toggleable__control sk-hidden--visually\" id=\"5b35f7a7-2310-4f7b-8534-e8d63c765412\" type=\"checkbox\" ><label class=\"sk-toggleable__label\" for=\"5b35f7a7-2310-4f7b-8534-e8d63c765412\">OneHotEncoder</label><div class=\"sk-toggleable__content\"><pre>OneHotEncoder()</pre></div></div></div></div></div></div><div class=\"sk-parallel-item\"><div class=\"sk-item\"><div class=\"sk-label-container\"><div class=\"sk-label sk-toggleable\"><input class=\"sk-toggleable__control sk-hidden--visually\" id=\"389043a4-fac4-485c-986a-931ee1e667a3\" type=\"checkbox\" ><label class=\"sk-toggleable__label\" for=\"389043a4-fac4-485c-986a-931ee1e667a3\">release_year</label><div class=\"sk-toggleable__content\"><pre>['release_date']</pre></div></div></div><div class=\"sk-serial\"><div class=\"sk-item\"><div class=\"sk-estimator sk-toggleable\"><input class=\"sk-toggleable__control sk-hidden--visually\" id=\"83d2dfc2-ea32-4985-8c30-45e7e381b3a9\" type=\"checkbox\" ><label class=\"sk-toggleable__label\" for=\"83d2dfc2-ea32-4985-8c30-45e7e381b3a9\">ReleaseYearTransformer</label><div class=\"sk-toggleable__content\"><pre>ReleaseYearTransformer()</pre></div></div></div></div></div></div></div></div><div class=\"sk-item\"><div class=\"sk-estimator sk-toggleable\"><input class=\"sk-toggleable__control sk-hidden--visually\" id=\"02d491e7-fe36-4200-920b-d96e64695539\" type=\"checkbox\" ><label class=\"sk-toggleable__label\" for=\"02d491e7-fe36-4200-920b-d96e64695539\">Lasso</label><div class=\"sk-toggleable__content\"><pre>Lasso(alpha=0.001)</pre></div></div></div></div></div></div></div>"
      ],
      "text/plain": [
       "Pipeline(steps=[('artist_popularity', ArtistPopularityTransformer()),\n",
       "                ('scaling_and_additional_preprocessing',\n",
       "                 ColumnTransformer(remainder='passthrough',\n",
       "                                   transformers=[('drop_id_and_song_name',\n",
       "                                                  'drop', ['id', 'name']),\n",
       "                                                 ('min_max_scaler',\n",
       "                                                  MinMaxScaler(),\n",
       "                                                  ['duration_ms',\n",
       "                                                   'acousticness',\n",
       "                                                   'danceability', 'energy',\n",
       "                                                   'valence']),\n",
       "                                                 ('robust_scaler',\n",
       "                                                  RobustScaler(),\n",
       "                                                  ['instrumentalness',\n",
       "                                                   'liveness', 'loudness',\n",
       "                                                   'speechiness', 'tempo']),\n",
       "                                                 ('key_encoding',\n",
       "                                                  OneHotEncoder(), ['key']),\n",
       "                                                 ('release_year',\n",
       "                                                  ReleaseYearTransformer(),\n",
       "                                                  ['release_date'])])),\n",
       "                ('linear_model', Lasso(alpha=0.001))])"
      ]
     },
     "execution_count": 148,
     "metadata": {},
     "output_type": "execute_result"
    }
   ],
   "source": [
    "# Print below your best pipe for correction purpose\n",
    "from sklearn import set_config; set_config(display='diagram')\n",
    "pipe_linear"
   ]
  },
  {
   "cell_type": "code",
   "execution_count": 149,
   "metadata": {
    "hidden": true
   },
   "outputs": [
    {
     "data": {
      "text/html": [
       "<style>div.sk-top-container {color: black;background-color: white;}div.sk-toggleable {background-color: white;}label.sk-toggleable__label {cursor: pointer;display: block;width: 100%;margin-bottom: 0;padding: 0.2em 0.3em;box-sizing: border-box;text-align: center;}div.sk-toggleable__content {max-height: 0;max-width: 0;overflow: hidden;text-align: left;background-color: #f0f8ff;}div.sk-toggleable__content pre {margin: 0.2em;color: black;border-radius: 0.25em;background-color: #f0f8ff;}input.sk-toggleable__control:checked~div.sk-toggleable__content {max-height: 200px;max-width: 100%;overflow: auto;}div.sk-estimator input.sk-toggleable__control:checked~label.sk-toggleable__label {background-color: #d4ebff;}div.sk-label input.sk-toggleable__control:checked~label.sk-toggleable__label {background-color: #d4ebff;}input.sk-hidden--visually {border: 0;clip: rect(1px 1px 1px 1px);clip: rect(1px, 1px, 1px, 1px);height: 1px;margin: -1px;overflow: hidden;padding: 0;position: absolute;width: 1px;}div.sk-estimator {font-family: monospace;background-color: #f0f8ff;margin: 0.25em 0.25em;border: 1px dotted black;border-radius: 0.25em;box-sizing: border-box;}div.sk-estimator:hover {background-color: #d4ebff;}div.sk-parallel-item::after {content: \"\";width: 100%;border-bottom: 1px solid gray;flex-grow: 1;}div.sk-label:hover label.sk-toggleable__label {background-color: #d4ebff;}div.sk-serial::before {content: \"\";position: absolute;border-left: 1px solid gray;box-sizing: border-box;top: 2em;bottom: 0;left: 50%;}div.sk-serial {display: flex;flex-direction: column;align-items: center;background-color: white;}div.sk-item {z-index: 1;}div.sk-parallel {display: flex;align-items: stretch;justify-content: center;background-color: white;}div.sk-parallel-item {display: flex;flex-direction: column;position: relative;background-color: white;}div.sk-parallel-item:first-child::after {align-self: flex-end;width: 50%;}div.sk-parallel-item:last-child::after {align-self: flex-start;width: 50%;}div.sk-parallel-item:only-child::after {width: 0;}div.sk-dashed-wrapped {border: 1px dashed gray;margin: 0.2em;box-sizing: border-box;padding-bottom: 0.1em;background-color: white;position: relative;}div.sk-label label {font-family: monospace;font-weight: bold;background-color: white;display: inline-block;line-height: 1.2em;}div.sk-label-container {position: relative;z-index: 2;text-align: center;}div.sk-container {display: inline-block;position: relative;}</style><div class=\"sk-top-container\"><div class=\"sk-container\"><div class=\"sk-item sk-dashed-wrapped\"><div class=\"sk-label-container\"><div class=\"sk-label sk-toggleable\"><input class=\"sk-toggleable__control sk-hidden--visually\" id=\"93df40c6-fc16-4a66-babb-a1b4bf3e15d3\" type=\"checkbox\" ><label class=\"sk-toggleable__label\" for=\"93df40c6-fc16-4a66-babb-a1b4bf3e15d3\">Pipeline</label><div class=\"sk-toggleable__content\"><pre>Pipeline(steps=[('artist_popularity', ArtistPopularityTransformer()),\n",
       "                ('scaling_and_additional_preprocessing',\n",
       "                 ColumnTransformer(remainder='passthrough',\n",
       "                                   transformers=[('drop_id_and_song_name',\n",
       "                                                  'drop', ['id', 'name']),\n",
       "                                                 ('min_max_scaler',\n",
       "                                                  MinMaxScaler(),\n",
       "                                                  ['duration_ms',\n",
       "                                                   'acousticness',\n",
       "                                                   'danceability', 'energy',\n",
       "                                                   'valence']),\n",
       "                                                 ('robust_scaler',\n",
       "                                                  RobustScaler(),\n",
       "                                                  ['instru...\n",
       "                              gpu_id=-1, importance_type='gain',\n",
       "                              interaction_constraints='',\n",
       "                              learning_rate=0.12423312668551885,\n",
       "                              max_delta_step=0, max_depth=14,\n",
       "                              min_child_weight=6, missing=nan,\n",
       "                              monotone_constraints='()', n_estimators=110,\n",
       "                              n_jobs=0, num_parallel_tree=1, random_state=0,\n",
       "                              reg_alpha=100, reg_lambda=1, scale_pos_weight=1,\n",
       "                              subsample=1, tree_method='exact',\n",
       "                              validate_parameters=1, verbosity=None))])</pre></div></div></div><div class=\"sk-serial\"><div class=\"sk-item\"><div class=\"sk-estimator sk-toggleable\"><input class=\"sk-toggleable__control sk-hidden--visually\" id=\"7afd99e8-d646-4d31-8c39-7660115a46bd\" type=\"checkbox\" ><label class=\"sk-toggleable__label\" for=\"7afd99e8-d646-4d31-8c39-7660115a46bd\">ArtistPopularityTransformer</label><div class=\"sk-toggleable__content\"><pre>ArtistPopularityTransformer()</pre></div></div></div><div class=\"sk-item sk-dashed-wrapped\"><div class=\"sk-label-container\"><div class=\"sk-label sk-toggleable\"><input class=\"sk-toggleable__control sk-hidden--visually\" id=\"c425edf2-4128-4f11-88c4-7b75cda3a627\" type=\"checkbox\" ><label class=\"sk-toggleable__label\" for=\"c425edf2-4128-4f11-88c4-7b75cda3a627\">scaling_and_additional_preprocessing: ColumnTransformer</label><div class=\"sk-toggleable__content\"><pre>ColumnTransformer(remainder='passthrough',\n",
       "                  transformers=[('drop_id_and_song_name', 'drop',\n",
       "                                 ['id', 'name']),\n",
       "                                ('min_max_scaler', MinMaxScaler(),\n",
       "                                 ['duration_ms', 'acousticness', 'danceability',\n",
       "                                  'energy', 'valence']),\n",
       "                                ('robust_scaler', RobustScaler(),\n",
       "                                 ['instrumentalness', 'liveness', 'loudness',\n",
       "                                  'speechiness', 'tempo']),\n",
       "                                ('key_encoding', OneHotEncoder(), ['key']),\n",
       "                                ('release_year', ReleaseYearTransformer(),\n",
       "                                 ['release_date'])])</pre></div></div></div><div class=\"sk-parallel\"><div class=\"sk-parallel-item\"><div class=\"sk-item\"><div class=\"sk-label-container\"><div class=\"sk-label sk-toggleable\"><input class=\"sk-toggleable__control sk-hidden--visually\" id=\"9818b5f2-63f7-4a80-9f3b-aa64cbf16f8a\" type=\"checkbox\" ><label class=\"sk-toggleable__label\" for=\"9818b5f2-63f7-4a80-9f3b-aa64cbf16f8a\">drop_id_and_song_name</label><div class=\"sk-toggleable__content\"><pre>['id', 'name']</pre></div></div></div><div class=\"sk-serial\"><div class=\"sk-item\"><div class=\"sk-estimator sk-toggleable\"><input class=\"sk-toggleable__control sk-hidden--visually\" id=\"eae41c17-7ba7-40fb-af6a-f660a27c5bb3\" type=\"checkbox\" ><label class=\"sk-toggleable__label\" for=\"eae41c17-7ba7-40fb-af6a-f660a27c5bb3\">drop</label><div class=\"sk-toggleable__content\"><pre>drop</pre></div></div></div></div></div></div><div class=\"sk-parallel-item\"><div class=\"sk-item\"><div class=\"sk-label-container\"><div class=\"sk-label sk-toggleable\"><input class=\"sk-toggleable__control sk-hidden--visually\" id=\"aae81ab2-2e7a-4878-90a3-c56e0f8d4995\" type=\"checkbox\" ><label class=\"sk-toggleable__label\" for=\"aae81ab2-2e7a-4878-90a3-c56e0f8d4995\">min_max_scaler</label><div class=\"sk-toggleable__content\"><pre>['duration_ms', 'acousticness', 'danceability', 'energy', 'valence']</pre></div></div></div><div class=\"sk-serial\"><div class=\"sk-item\"><div class=\"sk-estimator sk-toggleable\"><input class=\"sk-toggleable__control sk-hidden--visually\" id=\"1d17ce18-50fa-4b1a-b875-2f727d76a408\" type=\"checkbox\" ><label class=\"sk-toggleable__label\" for=\"1d17ce18-50fa-4b1a-b875-2f727d76a408\">MinMaxScaler</label><div class=\"sk-toggleable__content\"><pre>MinMaxScaler()</pre></div></div></div></div></div></div><div class=\"sk-parallel-item\"><div class=\"sk-item\"><div class=\"sk-label-container\"><div class=\"sk-label sk-toggleable\"><input class=\"sk-toggleable__control sk-hidden--visually\" id=\"12b24548-54e1-43bb-9742-c6a23dc878aa\" type=\"checkbox\" ><label class=\"sk-toggleable__label\" for=\"12b24548-54e1-43bb-9742-c6a23dc878aa\">robust_scaler</label><div class=\"sk-toggleable__content\"><pre>['instrumentalness', 'liveness', 'loudness', 'speechiness', 'tempo']</pre></div></div></div><div class=\"sk-serial\"><div class=\"sk-item\"><div class=\"sk-estimator sk-toggleable\"><input class=\"sk-toggleable__control sk-hidden--visually\" id=\"f00f4741-6045-4e03-88a7-b9d69554b98d\" type=\"checkbox\" ><label class=\"sk-toggleable__label\" for=\"f00f4741-6045-4e03-88a7-b9d69554b98d\">RobustScaler</label><div class=\"sk-toggleable__content\"><pre>RobustScaler()</pre></div></div></div></div></div></div><div class=\"sk-parallel-item\"><div class=\"sk-item\"><div class=\"sk-label-container\"><div class=\"sk-label sk-toggleable\"><input class=\"sk-toggleable__control sk-hidden--visually\" id=\"245f516e-81ab-4d38-b60a-1ff91dff3e2b\" type=\"checkbox\" ><label class=\"sk-toggleable__label\" for=\"245f516e-81ab-4d38-b60a-1ff91dff3e2b\">key_encoding</label><div class=\"sk-toggleable__content\"><pre>['key']</pre></div></div></div><div class=\"sk-serial\"><div class=\"sk-item\"><div class=\"sk-estimator sk-toggleable\"><input class=\"sk-toggleable__control sk-hidden--visually\" id=\"7bda1cd4-2622-41d6-9173-7b841e9ffe77\" type=\"checkbox\" ><label class=\"sk-toggleable__label\" for=\"7bda1cd4-2622-41d6-9173-7b841e9ffe77\">OneHotEncoder</label><div class=\"sk-toggleable__content\"><pre>OneHotEncoder()</pre></div></div></div></div></div></div><div class=\"sk-parallel-item\"><div class=\"sk-item\"><div class=\"sk-label-container\"><div class=\"sk-label sk-toggleable\"><input class=\"sk-toggleable__control sk-hidden--visually\" id=\"5936ef59-44a5-416a-aca1-240e8a107ac6\" type=\"checkbox\" ><label class=\"sk-toggleable__label\" for=\"5936ef59-44a5-416a-aca1-240e8a107ac6\">release_year</label><div class=\"sk-toggleable__content\"><pre>['release_date']</pre></div></div></div><div class=\"sk-serial\"><div class=\"sk-item\"><div class=\"sk-estimator sk-toggleable\"><input class=\"sk-toggleable__control sk-hidden--visually\" id=\"cd95e9fa-0dd2-430a-bac0-ba4792934d46\" type=\"checkbox\" ><label class=\"sk-toggleable__label\" for=\"cd95e9fa-0dd2-430a-bac0-ba4792934d46\">ReleaseYearTransformer</label><div class=\"sk-toggleable__content\"><pre>ReleaseYearTransformer()</pre></div></div></div></div></div></div></div></div><div class=\"sk-item\"><div class=\"sk-estimator sk-toggleable\"><input class=\"sk-toggleable__control sk-hidden--visually\" id=\"95637645-7393-4748-8149-aba8037b11c7\" type=\"checkbox\" ><label class=\"sk-toggleable__label\" for=\"95637645-7393-4748-8149-aba8037b11c7\">XGBRegressor</label><div class=\"sk-toggleable__content\"><pre>XGBRegressor(base_score=0.5, booster='gbtree', colsample_bylevel=1,\n",
       "             colsample_bynode=1, colsample_bytree=1, gamma=0.3364093010602823,\n",
       "             gpu_id=-1, importance_type='gain', interaction_constraints='',\n",
       "             learning_rate=0.12423312668551885, max_delta_step=0, max_depth=14,\n",
       "             min_child_weight=6, missing=nan, monotone_constraints='()',\n",
       "             n_estimators=110, n_jobs=0, num_parallel_tree=1, random_state=0,\n",
       "             reg_alpha=100, reg_lambda=1, scale_pos_weight=1, subsample=1,\n",
       "             tree_method='exact', validate_parameters=1, verbosity=None)</pre></div></div></div></div></div></div></div>"
      ],
      "text/plain": [
       "Pipeline(steps=[('artist_popularity', ArtistPopularityTransformer()),\n",
       "                ('scaling_and_additional_preprocessing',\n",
       "                 ColumnTransformer(remainder='passthrough',\n",
       "                                   transformers=[('drop_id_and_song_name',\n",
       "                                                  'drop', ['id', 'name']),\n",
       "                                                 ('min_max_scaler',\n",
       "                                                  MinMaxScaler(),\n",
       "                                                  ['duration_ms',\n",
       "                                                   'acousticness',\n",
       "                                                   'danceability', 'energy',\n",
       "                                                   'valence']),\n",
       "                                                 ('robust_scaler',\n",
       "                                                  RobustScaler(),\n",
       "                                                  ['instru...\n",
       "                              gpu_id=-1, importance_type='gain',\n",
       "                              interaction_constraints='',\n",
       "                              learning_rate=0.12423312668551885,\n",
       "                              max_delta_step=0, max_depth=14,\n",
       "                              min_child_weight=6, missing=nan,\n",
       "                              monotone_constraints='()', n_estimators=110,\n",
       "                              n_jobs=0, num_parallel_tree=1, random_state=0,\n",
       "                              reg_alpha=100, reg_lambda=1, scale_pos_weight=1,\n",
       "                              subsample=1, tree_method='exact',\n",
       "                              validate_parameters=1, verbosity=None))])"
      ]
     },
     "execution_count": 149,
     "metadata": {},
     "output_type": "execute_result"
    }
   ],
   "source": [
    "# Print below your best pipe for correction purpose\n",
    "pipe_ensemble"
   ]
  },
  {
   "cell_type": "code",
   "execution_count": 150,
   "metadata": {
    "hidden": true
   },
   "outputs": [],
   "source": [
    "from nbresult import ChallengeResult\n",
    "\n",
    "ChallengeResult(\"c8_c9_c11_c13_model_tuning\",\n",
    "    scoring = scoring,\n",
    "    score_linear=score_linear,\n",
    "    score_ensemble=score_ensemble).write()"
   ]
  },
  {
   "cell_type": "markdown",
   "metadata": {},
   "source": [
    "## API \n",
    "\n",
    "Time to put a pipeline in production!\n",
    "\n",
    "👉 Go to https://github.com/lewagon/data-certification-api and follow instructions\n",
    "\n",
    "**This final part is independent from the above notebook**"
   ]
  }
 ],
 "metadata": {
  "kernelspec": {
   "display_name": "Python 3",
   "language": "python",
   "name": "python3"
  },
  "language_info": {
   "codemirror_mode": {
    "name": "ipython",
    "version": 3
   },
   "file_extension": ".py",
   "mimetype": "text/x-python",
   "name": "python",
   "nbconvert_exporter": "python",
   "pygments_lexer": "ipython3",
   "version": "3.7.7"
  },
  "toc": {
   "base_numbering": 1,
   "nav_menu": {},
   "number_sections": true,
   "sideBar": true,
   "skip_h1_title": true,
   "title_cell": "Table of Contents",
   "title_sidebar": "Contents",
   "toc_cell": false,
   "toc_position": {
    "height": "calc(100% - 180px)",
    "left": "10px",
    "top": "150px",
    "width": "252.003px"
   },
   "toc_section_display": true,
   "toc_window_display": true
  },
  "varInspector": {
   "cols": {
    "lenName": 16,
    "lenType": 16,
    "lenVar": 40
   },
   "kernels_config": {
    "python": {
     "delete_cmd_postfix": "",
     "delete_cmd_prefix": "del ",
     "library": "var_list.py",
     "varRefreshCmd": "print(var_dic_list())"
    },
    "r": {
     "delete_cmd_postfix": ") ",
     "delete_cmd_prefix": "rm(",
     "library": "var_list.r",
     "varRefreshCmd": "cat(var_dic_list()) "
    }
   },
   "types_to_exclude": [
    "module",
    "function",
    "builtin_function_or_method",
    "instance",
    "_Feature"
   ],
   "window_display": false
  }
 },
 "nbformat": 4,
 "nbformat_minor": 4
}
